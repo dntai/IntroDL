{
  "nbformat": 4,
  "nbformat_minor": 0,
  "metadata": {
    "colab": {
      "name": "MNIST_MLP.ipynb",
      "version": "0.3.2",
      "provenance": [],
      "include_colab_link": true
    },
    "language_info": {
      "codemirror_mode": {
        "name": "ipython",
        "version": 3
      },
      "file_extension": ".py",
      "mimetype": "text/x-python",
      "name": "python",
      "nbconvert_exporter": "python",
      "pygments_lexer": "ipython3",
      "version": "3.7.3"
    },
    "kernelspec": {
      "name": "python3",
      "display_name": "Python 3"
    },
    "accelerator": "GPU"
  },
  "cells": [
    {
      "cell_type": "markdown",
      "metadata": {
        "id": "view-in-github",
        "colab_type": "text"
      },
      "source": [
        "<a href=\"https://colab.research.google.com/github/th2l-aipn/IntroDL/blob/master/examples/1.%20MLP/MNIST_MLP.ipynb\" target=\"_parent\"><img src=\"https://colab.research.google.com/assets/colab-badge.svg\" alt=\"Open In Colab\"/></a>"
      ]
    },
    {
      "cell_type": "markdown",
      "metadata": {
        "id": "K3CZdNrfRRXZ",
        "colab_type": "text"
      },
      "source": [
        "---\n",
        "```\n",
        "> Nguyen Hai Duong\n",
        "> nhduong_3010@live.com\n",
        "> Modified: Huynh Van Thong\n",
        "> hvthong.298@gmail.com\n",
        "> Chonnam National University\n",
        "```\n",
        "---"
      ]
    },
    {
      "cell_type": "markdown",
      "metadata": {
        "id": "hRBcQw_rRRXc",
        "colab_type": "text"
      },
      "source": [
        "# Overview\n",
        "- MNIST dataset\n",
        "  + Goal: recognizing handwritten digits\n",
        "  + Input: a 28x28 image\n",
        "  + Output: class label (0, 1,..., 9)\n",
        "- Defining an MLP for MNIST\n",
        "- Training and evaluating an MLP"
      ]
    },
    {
      "cell_type": "markdown",
      "metadata": {
        "id": "K-JZdkglRRXc",
        "colab_type": "text"
      },
      "source": [
        "# Import libraries"
      ]
    },
    {
      "cell_type": "code",
      "metadata": {
        "id": "6UItEjwORRXe",
        "colab_type": "code",
        "colab": {
          "base_uri": "https://localhost:8080/",
          "height": 34
        },
        "outputId": "97108814-4238-4ba1-d418-377b70317651"
      },
      "source": [
        "import keras\n",
        "from keras.datasets import mnist\n",
        "from keras.models import Model\n",
        "from keras.layers import Input, Flatten, Dense, Dropout\n",
        "from keras.optimizers import SGD\n",
        "\n",
        "from IPython.display import SVG\n",
        "from keras.utils.vis_utils import model_to_dot\n",
        "\n",
        "import time\n",
        "import numpy as np\n",
        "import matplotlib.pyplot as plt"
      ],
      "execution_count": 1,
      "outputs": [
        {
          "output_type": "stream",
          "text": [
            "Using TensorFlow backend.\n"
          ],
          "name": "stderr"
        }
      ]
    },
    {
      "cell_type": "code",
      "metadata": {
        "id": "eVxD_ksQRRXj",
        "colab_type": "code",
        "colab": {}
      },
      "source": [
        "num_classes = 10   # 10 classes: 0, 1,..., 9"
      ],
      "execution_count": 0,
      "outputs": []
    },
    {
      "cell_type": "markdown",
      "metadata": {
        "id": "6KzwHEEpRRXm",
        "colab_type": "text"
      },
      "source": [
        "## 1. Data"
      ]
    },
    {
      "cell_type": "code",
      "metadata": {
        "id": "7D28-LViRRXm",
        "colab_type": "code",
        "colab": {
          "base_uri": "https://localhost:8080/",
          "height": 85
        },
        "outputId": "86fc55b8-89be-4c69-ea76-2d77d64de6bf"
      },
      "source": [
        "# the data, shuffled and split between train and test sets\n",
        "(x_train, y_train), (x_test, y_test) = mnist.load_data()\n",
        "\n",
        "x_train = x_train.reshape(60000, 28, 28)\n",
        "x_test = x_test.reshape(10000, 28, 28)\n",
        "x_train = x_train.astype('float32')\n",
        "x_test = x_test.astype('float32')\n",
        "x_train /= 255\n",
        "x_test /= 255\n",
        "print(x_train.shape[0], 'train samples')\n",
        "print(x_test.shape[0], 'test samples')\n",
        "\n",
        "# convert class vectors to binary class matrices\n",
        "y_train = keras.utils.to_categorical(y_train, num_classes)\n",
        "y_test = keras.utils.to_categorical(y_test, num_classes)"
      ],
      "execution_count": 3,
      "outputs": [
        {
          "output_type": "stream",
          "text": [
            "Downloading data from https://s3.amazonaws.com/img-datasets/mnist.npz\n",
            "11493376/11490434 [==============================] - 2s 0us/step\n",
            "60000 train samples\n",
            "10000 test samples\n"
          ],
          "name": "stdout"
        }
      ]
    },
    {
      "cell_type": "markdown",
      "metadata": {
        "id": "XGQIfK7xRRXq",
        "colab_type": "text"
      },
      "source": [
        "## 2. Declare model"
      ]
    },
    {
      "cell_type": "code",
      "metadata": {
        "id": "h0Dc4HgkRRXq",
        "colab_type": "code",
        "colab": {
          "base_uri": "https://localhost:8080/",
          "height": 496
        },
        "outputId": "f2d21e3a-8684-4e71-f15b-31dc3e46d3ad"
      },
      "source": [
        "# 28x28 MNIST image\n",
        "input_image = Input(shape=(28, 28), name='Input')\n",
        "\n",
        "# matrix ---> vector\n",
        "x = Flatten(name='flatten')(input_image)\n",
        "\n",
        "# FC layers + dropout\n",
        "x = Dense(units=512, activation='relu', name='fc1')(x)\n",
        "x = Dropout(rate=0.2, name='dropout1')(x)\n",
        "\n",
        "x = Dense(units=512, activation='relu', name='fc2')(x)\n",
        "x = Dropout(rate=0.2, name='dropout2')(x)\n",
        "\n",
        "output_label = Dense(units=num_classes, activation='softmax', name='fc3_10ways_softmax')(x)\n",
        "\n",
        "# define model\n",
        "model = Model(inputs=input_image, outputs=output_label, name='mnist_mlp')\n",
        "\n",
        "# print model summary\n",
        "model.summary()"
      ],
      "execution_count": 4,
      "outputs": [
        {
          "output_type": "stream",
          "text": [
            "WARNING:tensorflow:From /usr/local/lib/python3.6/dist-packages/tensorflow/python/framework/op_def_library.py:263: colocate_with (from tensorflow.python.framework.ops) is deprecated and will be removed in a future version.\n",
            "Instructions for updating:\n",
            "Colocations handled automatically by placer.\n",
            "WARNING:tensorflow:From /usr/local/lib/python3.6/dist-packages/keras/backend/tensorflow_backend.py:3445: calling dropout (from tensorflow.python.ops.nn_ops) with keep_prob is deprecated and will be removed in a future version.\n",
            "Instructions for updating:\n",
            "Please use `rate` instead of `keep_prob`. Rate should be set to `rate = 1 - keep_prob`.\n",
            "_________________________________________________________________\n",
            "Layer (type)                 Output Shape              Param #   \n",
            "=================================================================\n",
            "Input (InputLayer)           (None, 28, 28)            0         \n",
            "_________________________________________________________________\n",
            "flatten (Flatten)            (None, 784)               0         \n",
            "_________________________________________________________________\n",
            "fc1 (Dense)                  (None, 512)               401920    \n",
            "_________________________________________________________________\n",
            "dropout1 (Dropout)           (None, 512)               0         \n",
            "_________________________________________________________________\n",
            "fc2 (Dense)                  (None, 512)               262656    \n",
            "_________________________________________________________________\n",
            "dropout2 (Dropout)           (None, 512)               0         \n",
            "_________________________________________________________________\n",
            "fc3_10ways_softmax (Dense)   (None, 10)                5130      \n",
            "=================================================================\n",
            "Total params: 669,706\n",
            "Trainable params: 669,706\n",
            "Non-trainable params: 0\n",
            "_________________________________________________________________\n"
          ],
          "name": "stdout"
        }
      ]
    },
    {
      "cell_type": "code",
      "metadata": {
        "id": "1FGQCGkNRRXt",
        "colab_type": "code",
        "colab": {
          "base_uri": "https://localhost:8080/",
          "height": 758
        },
        "outputId": "c6144041-bab8-41a5-e4de-8e304a2013c7"
      },
      "source": [
        "SVG(model_to_dot(model, show_shapes=True).create(prog='dot', format='svg'))"
      ],
      "execution_count": 5,
      "outputs": [
        {
          "output_type": "execute_result",
          "data": {
            "text/plain": [
              "<IPython.core.display.SVG object>"
            ],
            "image/svg+xml": "<svg height=\"553pt\" viewBox=\"0.00 0.00 335.00 553.00\" width=\"335pt\" xmlns=\"http://www.w3.org/2000/svg\" xmlns:xlink=\"http://www.w3.org/1999/xlink\">\n<g class=\"graph\" id=\"graph0\" transform=\"scale(1 1) rotate(0) translate(4 549)\">\n<title>G</title>\n<polygon fill=\"#ffffff\" points=\"-4,4 -4,-549 331,-549 331,4 -4,4\" stroke=\"transparent\"/>\n<!-- 140100914403256 -->\n<g class=\"node\" id=\"node1\">\n<title>140100914403256</title>\n<polygon fill=\"none\" points=\"24,-498.5 24,-544.5 303,-544.5 303,-498.5 24,-498.5\" stroke=\"#000000\"/>\n<text fill=\"#000000\" font-family=\"Times,serif\" font-size=\"14.00\" text-anchor=\"middle\" x=\"83.5\" y=\"-517.8\">Input: InputLayer</text>\n<polyline fill=\"none\" points=\"143,-498.5 143,-544.5 \" stroke=\"#000000\"/>\n<text fill=\"#000000\" font-family=\"Times,serif\" font-size=\"14.00\" text-anchor=\"middle\" x=\"172\" y=\"-529.3\">input:</text>\n<polyline fill=\"none\" points=\"143,-521.5 201,-521.5 \" stroke=\"#000000\"/>\n<text fill=\"#000000\" font-family=\"Times,serif\" font-size=\"14.00\" text-anchor=\"middle\" x=\"172\" y=\"-506.3\">output:</text>\n<polyline fill=\"none\" points=\"201,-498.5 201,-544.5 \" stroke=\"#000000\"/>\n<text fill=\"#000000\" font-family=\"Times,serif\" font-size=\"14.00\" text-anchor=\"middle\" x=\"252\" y=\"-529.3\">(None, 28, 28)</text>\n<polyline fill=\"none\" points=\"201,-521.5 303,-521.5 \" stroke=\"#000000\"/>\n<text fill=\"#000000\" font-family=\"Times,serif\" font-size=\"14.00\" text-anchor=\"middle\" x=\"252\" y=\"-506.3\">(None, 28, 28)</text>\n</g>\n<!-- 140102087014160 -->\n<g class=\"node\" id=\"node2\">\n<title>140102087014160</title>\n<polygon fill=\"none\" points=\"34.5,-415.5 34.5,-461.5 292.5,-461.5 292.5,-415.5 34.5,-415.5\" stroke=\"#000000\"/>\n<text fill=\"#000000\" font-family=\"Times,serif\" font-size=\"14.00\" text-anchor=\"middle\" x=\"83.5\" y=\"-434.8\">flatten: Flatten</text>\n<polyline fill=\"none\" points=\"132.5,-415.5 132.5,-461.5 \" stroke=\"#000000\"/>\n<text fill=\"#000000\" font-family=\"Times,serif\" font-size=\"14.00\" text-anchor=\"middle\" x=\"161.5\" y=\"-446.3\">input:</text>\n<polyline fill=\"none\" points=\"132.5,-438.5 190.5,-438.5 \" stroke=\"#000000\"/>\n<text fill=\"#000000\" font-family=\"Times,serif\" font-size=\"14.00\" text-anchor=\"middle\" x=\"161.5\" y=\"-423.3\">output:</text>\n<polyline fill=\"none\" points=\"190.5,-415.5 190.5,-461.5 \" stroke=\"#000000\"/>\n<text fill=\"#000000\" font-family=\"Times,serif\" font-size=\"14.00\" text-anchor=\"middle\" x=\"241.5\" y=\"-446.3\">(None, 28, 28)</text>\n<polyline fill=\"none\" points=\"190.5,-438.5 292.5,-438.5 \" stroke=\"#000000\"/>\n<text fill=\"#000000\" font-family=\"Times,serif\" font-size=\"14.00\" text-anchor=\"middle\" x=\"241.5\" y=\"-423.3\">(None, 784)</text>\n</g>\n<!-- 140100914403256&#45;&gt;140102087014160 -->\n<g class=\"edge\" id=\"edge1\">\n<title>140100914403256-&gt;140102087014160</title>\n<path d=\"M163.5,-498.3799C163.5,-490.1745 163.5,-480.7679 163.5,-471.8786\" fill=\"none\" stroke=\"#000000\"/>\n<polygon fill=\"#000000\" points=\"167.0001,-471.784 163.5,-461.784 160.0001,-471.784 167.0001,-471.784\" stroke=\"#000000\"/>\n</g>\n<!-- 140102087014216 -->\n<g class=\"node\" id=\"node3\">\n<title>140102087014216</title>\n<polygon fill=\"none\" points=\"52.5,-332.5 52.5,-378.5 274.5,-378.5 274.5,-332.5 52.5,-332.5\" stroke=\"#000000\"/>\n<text fill=\"#000000\" font-family=\"Times,serif\" font-size=\"14.00\" text-anchor=\"middle\" x=\"91\" y=\"-351.8\">fc1: Dense</text>\n<polyline fill=\"none\" points=\"129.5,-332.5 129.5,-378.5 \" stroke=\"#000000\"/>\n<text fill=\"#000000\" font-family=\"Times,serif\" font-size=\"14.00\" text-anchor=\"middle\" x=\"158.5\" y=\"-363.3\">input:</text>\n<polyline fill=\"none\" points=\"129.5,-355.5 187.5,-355.5 \" stroke=\"#000000\"/>\n<text fill=\"#000000\" font-family=\"Times,serif\" font-size=\"14.00\" text-anchor=\"middle\" x=\"158.5\" y=\"-340.3\">output:</text>\n<polyline fill=\"none\" points=\"187.5,-332.5 187.5,-378.5 \" stroke=\"#000000\"/>\n<text fill=\"#000000\" font-family=\"Times,serif\" font-size=\"14.00\" text-anchor=\"middle\" x=\"231\" y=\"-363.3\">(None, 784)</text>\n<polyline fill=\"none\" points=\"187.5,-355.5 274.5,-355.5 \" stroke=\"#000000\"/>\n<text fill=\"#000000\" font-family=\"Times,serif\" font-size=\"14.00\" text-anchor=\"middle\" x=\"231\" y=\"-340.3\">(None, 512)</text>\n</g>\n<!-- 140102087014160&#45;&gt;140102087014216 -->\n<g class=\"edge\" id=\"edge2\">\n<title>140102087014160-&gt;140102087014216</title>\n<path d=\"M163.5,-415.3799C163.5,-407.1745 163.5,-397.7679 163.5,-388.8786\" fill=\"none\" stroke=\"#000000\"/>\n<polygon fill=\"#000000\" points=\"167.0001,-388.784 163.5,-378.784 160.0001,-388.784 167.0001,-388.784\" stroke=\"#000000\"/>\n</g>\n<!-- 140100914404096 -->\n<g class=\"node\" id=\"node4\">\n<title>140100914404096</title>\n<polygon fill=\"none\" points=\"28,-249.5 28,-295.5 299,-295.5 299,-249.5 28,-249.5\" stroke=\"#000000\"/>\n<text fill=\"#000000\" font-family=\"Times,serif\" font-size=\"14.00\" text-anchor=\"middle\" x=\"91\" y=\"-268.8\">dropout1: Dropout</text>\n<polyline fill=\"none\" points=\"154,-249.5 154,-295.5 \" stroke=\"#000000\"/>\n<text fill=\"#000000\" font-family=\"Times,serif\" font-size=\"14.00\" text-anchor=\"middle\" x=\"183\" y=\"-280.3\">input:</text>\n<polyline fill=\"none\" points=\"154,-272.5 212,-272.5 \" stroke=\"#000000\"/>\n<text fill=\"#000000\" font-family=\"Times,serif\" font-size=\"14.00\" text-anchor=\"middle\" x=\"183\" y=\"-257.3\">output:</text>\n<polyline fill=\"none\" points=\"212,-249.5 212,-295.5 \" stroke=\"#000000\"/>\n<text fill=\"#000000\" font-family=\"Times,serif\" font-size=\"14.00\" text-anchor=\"middle\" x=\"255.5\" y=\"-280.3\">(None, 512)</text>\n<polyline fill=\"none\" points=\"212,-272.5 299,-272.5 \" stroke=\"#000000\"/>\n<text fill=\"#000000\" font-family=\"Times,serif\" font-size=\"14.00\" text-anchor=\"middle\" x=\"255.5\" y=\"-257.3\">(None, 512)</text>\n</g>\n<!-- 140102087014216&#45;&gt;140100914404096 -->\n<g class=\"edge\" id=\"edge3\">\n<title>140102087014216-&gt;140100914404096</title>\n<path d=\"M163.5,-332.3799C163.5,-324.1745 163.5,-314.7679 163.5,-305.8786\" fill=\"none\" stroke=\"#000000\"/>\n<polygon fill=\"#000000\" points=\"167.0001,-305.784 163.5,-295.784 160.0001,-305.784 167.0001,-305.784\" stroke=\"#000000\"/>\n</g>\n<!-- 140100909711768 -->\n<g class=\"node\" id=\"node5\">\n<title>140100909711768</title>\n<polygon fill=\"none\" points=\"52.5,-166.5 52.5,-212.5 274.5,-212.5 274.5,-166.5 52.5,-166.5\" stroke=\"#000000\"/>\n<text fill=\"#000000\" font-family=\"Times,serif\" font-size=\"14.00\" text-anchor=\"middle\" x=\"91\" y=\"-185.8\">fc2: Dense</text>\n<polyline fill=\"none\" points=\"129.5,-166.5 129.5,-212.5 \" stroke=\"#000000\"/>\n<text fill=\"#000000\" font-family=\"Times,serif\" font-size=\"14.00\" text-anchor=\"middle\" x=\"158.5\" y=\"-197.3\">input:</text>\n<polyline fill=\"none\" points=\"129.5,-189.5 187.5,-189.5 \" stroke=\"#000000\"/>\n<text fill=\"#000000\" font-family=\"Times,serif\" font-size=\"14.00\" text-anchor=\"middle\" x=\"158.5\" y=\"-174.3\">output:</text>\n<polyline fill=\"none\" points=\"187.5,-166.5 187.5,-212.5 \" stroke=\"#000000\"/>\n<text fill=\"#000000\" font-family=\"Times,serif\" font-size=\"14.00\" text-anchor=\"middle\" x=\"231\" y=\"-197.3\">(None, 512)</text>\n<polyline fill=\"none\" points=\"187.5,-189.5 274.5,-189.5 \" stroke=\"#000000\"/>\n<text fill=\"#000000\" font-family=\"Times,serif\" font-size=\"14.00\" text-anchor=\"middle\" x=\"231\" y=\"-174.3\">(None, 512)</text>\n</g>\n<!-- 140100914404096&#45;&gt;140100909711768 -->\n<g class=\"edge\" id=\"edge4\">\n<title>140100914404096-&gt;140100909711768</title>\n<path d=\"M163.5,-249.3799C163.5,-241.1745 163.5,-231.7679 163.5,-222.8786\" fill=\"none\" stroke=\"#000000\"/>\n<polygon fill=\"#000000\" points=\"167.0001,-222.784 163.5,-212.784 160.0001,-222.784 167.0001,-222.784\" stroke=\"#000000\"/>\n</g>\n<!-- 140100909712944 -->\n<g class=\"node\" id=\"node6\">\n<title>140100909712944</title>\n<polygon fill=\"none\" points=\"28,-83.5 28,-129.5 299,-129.5 299,-83.5 28,-83.5\" stroke=\"#000000\"/>\n<text fill=\"#000000\" font-family=\"Times,serif\" font-size=\"14.00\" text-anchor=\"middle\" x=\"91\" y=\"-102.8\">dropout2: Dropout</text>\n<polyline fill=\"none\" points=\"154,-83.5 154,-129.5 \" stroke=\"#000000\"/>\n<text fill=\"#000000\" font-family=\"Times,serif\" font-size=\"14.00\" text-anchor=\"middle\" x=\"183\" y=\"-114.3\">input:</text>\n<polyline fill=\"none\" points=\"154,-106.5 212,-106.5 \" stroke=\"#000000\"/>\n<text fill=\"#000000\" font-family=\"Times,serif\" font-size=\"14.00\" text-anchor=\"middle\" x=\"183\" y=\"-91.3\">output:</text>\n<polyline fill=\"none\" points=\"212,-83.5 212,-129.5 \" stroke=\"#000000\"/>\n<text fill=\"#000000\" font-family=\"Times,serif\" font-size=\"14.00\" text-anchor=\"middle\" x=\"255.5\" y=\"-114.3\">(None, 512)</text>\n<polyline fill=\"none\" points=\"212,-106.5 299,-106.5 \" stroke=\"#000000\"/>\n<text fill=\"#000000\" font-family=\"Times,serif\" font-size=\"14.00\" text-anchor=\"middle\" x=\"255.5\" y=\"-91.3\">(None, 512)</text>\n</g>\n<!-- 140100909711768&#45;&gt;140100909712944 -->\n<g class=\"edge\" id=\"edge5\">\n<title>140100909711768-&gt;140100909712944</title>\n<path d=\"M163.5,-166.3799C163.5,-158.1745 163.5,-148.7679 163.5,-139.8786\" fill=\"none\" stroke=\"#000000\"/>\n<polygon fill=\"#000000\" points=\"167.0001,-139.784 163.5,-129.784 160.0001,-139.784 167.0001,-139.784\" stroke=\"#000000\"/>\n</g>\n<!-- 140102539948608 -->\n<g class=\"node\" id=\"node7\">\n<title>140102539948608</title>\n<polygon fill=\"none\" points=\"0,-.5 0,-46.5 327,-46.5 327,-.5 0,-.5\" stroke=\"#000000\"/>\n<text fill=\"#000000\" font-family=\"Times,serif\" font-size=\"14.00\" text-anchor=\"middle\" x=\"91\" y=\"-19.8\">fc3_10ways_softmax: Dense</text>\n<polyline fill=\"none\" points=\"182,-.5 182,-46.5 \" stroke=\"#000000\"/>\n<text fill=\"#000000\" font-family=\"Times,serif\" font-size=\"14.00\" text-anchor=\"middle\" x=\"211\" y=\"-31.3\">input:</text>\n<polyline fill=\"none\" points=\"182,-23.5 240,-23.5 \" stroke=\"#000000\"/>\n<text fill=\"#000000\" font-family=\"Times,serif\" font-size=\"14.00\" text-anchor=\"middle\" x=\"211\" y=\"-8.3\">output:</text>\n<polyline fill=\"none\" points=\"240,-.5 240,-46.5 \" stroke=\"#000000\"/>\n<text fill=\"#000000\" font-family=\"Times,serif\" font-size=\"14.00\" text-anchor=\"middle\" x=\"283.5\" y=\"-31.3\">(None, 512)</text>\n<polyline fill=\"none\" points=\"240,-23.5 327,-23.5 \" stroke=\"#000000\"/>\n<text fill=\"#000000\" font-family=\"Times,serif\" font-size=\"14.00\" text-anchor=\"middle\" x=\"283.5\" y=\"-8.3\">(None, 10)</text>\n</g>\n<!-- 140100909712944&#45;&gt;140102539948608 -->\n<g class=\"edge\" id=\"edge6\">\n<title>140100909712944-&gt;140102539948608</title>\n<path d=\"M163.5,-83.3799C163.5,-75.1745 163.5,-65.7679 163.5,-56.8786\" fill=\"none\" stroke=\"#000000\"/>\n<polygon fill=\"#000000\" points=\"167.0001,-56.784 163.5,-46.784 160.0001,-56.784 167.0001,-56.784\" stroke=\"#000000\"/>\n</g>\n</g>\n</svg>"
          },
          "metadata": {
            "tags": []
          },
          "execution_count": 5
        }
      ]
    },
    {
      "cell_type": "markdown",
      "metadata": {
        "id": "jbdPpJPnRRXy",
        "colab_type": "text"
      },
      "source": [
        "## 3. Train defined model\n",
        "- Note that the training history including loss and accuracy will be save in 'history' variable\n",
        "- In case your system runs out of memory (OOM), try to decrease batch size"
      ]
    },
    {
      "cell_type": "code",
      "metadata": {
        "id": "SWbSatdSRRXy",
        "colab_type": "code",
        "colab": {
          "base_uri": "https://localhost:8080/",
          "height": 1142
        },
        "outputId": "d678d53b-4cc2-4d68-d76e-e2771a51c4bb"
      },
      "source": [
        "# declare learning rate, loss function, and model metric\n",
        "loss = 'categorical_crossentropy'\n",
        "lr = 0.01\n",
        "model.compile(loss=loss, optimizer=SGD(lr=lr), metrics=['accuracy'])\n",
        "\n",
        "# train the model\n",
        "batch_size = 128\n",
        "epochs = 30\n",
        "\n",
        "starting_time = time.time()\n",
        "history = model.fit(x_train, y_train,\n",
        "                    validation_data=(x_test, y_test),\n",
        "                    batch_size=batch_size,\n",
        "                    epochs=epochs)\n",
        "print('> training time is %.4f minutes' % ((time.time() - starting_time)/60))"
      ],
      "execution_count": 6,
      "outputs": [
        {
          "output_type": "stream",
          "text": [
            "WARNING:tensorflow:From /usr/local/lib/python3.6/dist-packages/tensorflow/python/ops/math_ops.py:3066: to_int32 (from tensorflow.python.ops.math_ops) is deprecated and will be removed in a future version.\n",
            "Instructions for updating:\n",
            "Use tf.cast instead.\n",
            "Train on 60000 samples, validate on 10000 samples\n",
            "Epoch 1/30\n",
            "60000/60000 [==============================] - 4s 71us/step - loss: 1.2258 - acc: 0.6777 - val_loss: 0.5523 - val_acc: 0.8672\n",
            "Epoch 2/30\n",
            "60000/60000 [==============================] - 2s 28us/step - loss: 0.5361 - acc: 0.8497 - val_loss: 0.3826 - val_acc: 0.8953\n",
            "Epoch 3/30\n",
            "60000/60000 [==============================] - 2s 27us/step - loss: 0.4303 - acc: 0.8757 - val_loss: 0.3287 - val_acc: 0.9069\n",
            "Epoch 4/30\n",
            "60000/60000 [==============================] - 2s 27us/step - loss: 0.3781 - acc: 0.8903 - val_loss: 0.2976 - val_acc: 0.9154\n",
            "Epoch 5/30\n",
            "60000/60000 [==============================] - 2s 26us/step - loss: 0.3465 - acc: 0.8992 - val_loss: 0.2752 - val_acc: 0.9223\n",
            "Epoch 6/30\n",
            "60000/60000 [==============================] - 2s 27us/step - loss: 0.3217 - acc: 0.9061 - val_loss: 0.2581 - val_acc: 0.9266\n",
            "Epoch 7/30\n",
            "60000/60000 [==============================] - 2s 27us/step - loss: 0.3026 - acc: 0.9128 - val_loss: 0.2432 - val_acc: 0.9308\n",
            "Epoch 8/30\n",
            "60000/60000 [==============================] - 2s 27us/step - loss: 0.2848 - acc: 0.9174 - val_loss: 0.2310 - val_acc: 0.9351\n",
            "Epoch 9/30\n",
            "60000/60000 [==============================] - 2s 27us/step - loss: 0.2715 - acc: 0.9207 - val_loss: 0.2184 - val_acc: 0.9381\n",
            "Epoch 10/30\n",
            "60000/60000 [==============================] - 2s 27us/step - loss: 0.2568 - acc: 0.9257 - val_loss: 0.2096 - val_acc: 0.9389\n",
            "Epoch 11/30\n",
            "60000/60000 [==============================] - 2s 27us/step - loss: 0.2441 - acc: 0.9301 - val_loss: 0.2013 - val_acc: 0.9416\n",
            "Epoch 12/30\n",
            "60000/60000 [==============================] - 2s 27us/step - loss: 0.2342 - acc: 0.9316 - val_loss: 0.1924 - val_acc: 0.9449\n",
            "Epoch 13/30\n",
            "60000/60000 [==============================] - 2s 27us/step - loss: 0.2249 - acc: 0.9352 - val_loss: 0.1843 - val_acc: 0.9464\n",
            "Epoch 14/30\n",
            "60000/60000 [==============================] - 2s 27us/step - loss: 0.2158 - acc: 0.9373 - val_loss: 0.1781 - val_acc: 0.9485\n",
            "Epoch 15/30\n",
            "60000/60000 [==============================] - 2s 27us/step - loss: 0.2079 - acc: 0.9401 - val_loss: 0.1715 - val_acc: 0.9504\n",
            "Epoch 16/30\n",
            "60000/60000 [==============================] - 2s 27us/step - loss: 0.2014 - acc: 0.9411 - val_loss: 0.1661 - val_acc: 0.9502\n",
            "Epoch 17/30\n",
            "60000/60000 [==============================] - 2s 27us/step - loss: 0.1935 - acc: 0.9437 - val_loss: 0.1618 - val_acc: 0.9523\n",
            "Epoch 18/30\n",
            "60000/60000 [==============================] - 2s 27us/step - loss: 0.1884 - acc: 0.9453 - val_loss: 0.1559 - val_acc: 0.9539\n",
            "Epoch 19/30\n",
            "60000/60000 [==============================] - 2s 26us/step - loss: 0.1809 - acc: 0.9478 - val_loss: 0.1511 - val_acc: 0.9538\n",
            "Epoch 20/30\n",
            "60000/60000 [==============================] - 2s 27us/step - loss: 0.1757 - acc: 0.9494 - val_loss: 0.1474 - val_acc: 0.9556\n",
            "Epoch 21/30\n",
            "60000/60000 [==============================] - 2s 27us/step - loss: 0.1703 - acc: 0.9508 - val_loss: 0.1436 - val_acc: 0.9557\n",
            "Epoch 22/30\n",
            "60000/60000 [==============================] - 2s 27us/step - loss: 0.1657 - acc: 0.9520 - val_loss: 0.1396 - val_acc: 0.9574\n",
            "Epoch 23/30\n",
            "60000/60000 [==============================] - 2s 27us/step - loss: 0.1607 - acc: 0.9535 - val_loss: 0.1362 - val_acc: 0.9598\n",
            "Epoch 24/30\n",
            "60000/60000 [==============================] - 2s 27us/step - loss: 0.1572 - acc: 0.9542 - val_loss: 0.1330 - val_acc: 0.9608\n",
            "Epoch 25/30\n",
            "60000/60000 [==============================] - 2s 27us/step - loss: 0.1534 - acc: 0.9550 - val_loss: 0.1302 - val_acc: 0.9611\n",
            "Epoch 26/30\n",
            "60000/60000 [==============================] - 2s 27us/step - loss: 0.1503 - acc: 0.9561 - val_loss: 0.1265 - val_acc: 0.9619\n",
            "Epoch 27/30\n",
            "60000/60000 [==============================] - 2s 27us/step - loss: 0.1454 - acc: 0.9577 - val_loss: 0.1237 - val_acc: 0.9629\n",
            "Epoch 28/30\n",
            "60000/60000 [==============================] - 2s 27us/step - loss: 0.1433 - acc: 0.9588 - val_loss: 0.1214 - val_acc: 0.9633\n",
            "Epoch 29/30\n",
            "60000/60000 [==============================] - 2s 27us/step - loss: 0.1402 - acc: 0.9593 - val_loss: 0.1184 - val_acc: 0.9645\n",
            "Epoch 30/30\n",
            "60000/60000 [==============================] - 2s 27us/step - loss: 0.1352 - acc: 0.9608 - val_loss: 0.1163 - val_acc: 0.9643\n",
            "> training time is 0.8590 minutes\n"
          ],
          "name": "stdout"
        }
      ]
    },
    {
      "cell_type": "code",
      "metadata": {
        "id": "8m6QLaUHSDqH",
        "colab_type": "code",
        "colab": {
          "base_uri": "https://localhost:8080/",
          "height": 289
        },
        "outputId": "81e8b2a5-56c2-4d53-9349-01df1d20205d"
      },
      "source": [
        "!nvidia-smi"
      ],
      "execution_count": 7,
      "outputs": [
        {
          "output_type": "stream",
          "text": [
            "Mon Jun  3 07:44:27 2019       \n",
            "+-----------------------------------------------------------------------------+\n",
            "| NVIDIA-SMI 418.67       Driver Version: 410.79       CUDA Version: 10.0     |\n",
            "|-------------------------------+----------------------+----------------------+\n",
            "| GPU  Name        Persistence-M| Bus-Id        Disp.A | Volatile Uncorr. ECC |\n",
            "| Fan  Temp  Perf  Pwr:Usage/Cap|         Memory-Usage | GPU-Util  Compute M. |\n",
            "|===============================+======================+======================|\n",
            "|   0  Tesla T4            Off  | 00000000:00:04.0 Off |                    0 |\n",
            "| N/A   51C    P0    27W /  70W |    309MiB / 15079MiB |     30%      Default |\n",
            "+-------------------------------+----------------------+----------------------+\n",
            "                                                                               \n",
            "+-----------------------------------------------------------------------------+\n",
            "| Processes:                                                       GPU Memory |\n",
            "|  GPU       PID   Type   Process name                             Usage      |\n",
            "|=============================================================================|\n",
            "+-----------------------------------------------------------------------------+\n"
          ],
          "name": "stdout"
        }
      ]
    },
    {
      "cell_type": "markdown",
      "metadata": {
        "id": "6jmZCkr5RRX2",
        "colab_type": "text"
      },
      "source": [
        "### Training time\n",
        "- Training time with Tesla T4 is about 0.8590 minutes for 30 epochs\n",
        "- Training time with Core i7 is around 3.0493 minutes for 30 epochs"
      ]
    },
    {
      "cell_type": "markdown",
      "metadata": {
        "id": "LLaFKkBZRRX3",
        "colab_type": "text"
      },
      "source": [
        "## 4. Evaluate trained model"
      ]
    },
    {
      "cell_type": "code",
      "metadata": {
        "id": "NFmTgGiiRRX4",
        "colab_type": "code",
        "colab": {
          "base_uri": "https://localhost:8080/",
          "height": 68
        },
        "outputId": "61e8c78e-b301-45b0-f2ef-919783c46104"
      },
      "source": [
        "score = model.evaluate(x_test, y_test)\n",
        "print('Test loss:', score[0])\n",
        "print('Test accuracy:', score[1])"
      ],
      "execution_count": 8,
      "outputs": [
        {
          "output_type": "stream",
          "text": [
            "10000/10000 [==============================] - 0s 41us/step\n",
            "Test loss: 0.11626119359433651\n",
            "Test accuracy: 0.9643\n"
          ],
          "name": "stdout"
        }
      ]
    },
    {
      "cell_type": "code",
      "metadata": {
        "id": "VqMmgP07RRX8",
        "colab_type": "code",
        "colab": {
          "base_uri": "https://localhost:8080/",
          "height": 281
        },
        "outputId": "7027d4ec-95a3-4a76-c143-63368e13d2ec"
      },
      "source": [
        "# select a test image randomly\n",
        "random_test_index = np.random.choice(x_test.shape[0], size=1)[0]\n",
        "test_img = x_test[random_test_index]\n",
        "test_label = np.argmax(y_test[random_test_index])\n",
        "\n",
        "# predict test image with trained model\n",
        "pred_label = model.predict(np.expand_dims(test_img, axis=0))\n",
        "pred_label = np.argmax(pred_label)\n",
        "\n",
        "plt.imshow(test_img, cmap='gray')\n",
        "plt.title('true label = %d, predicted label = %d' % (test_label, pred_label))\n",
        "plt.show()"
      ],
      "execution_count": 9,
      "outputs": [
        {
          "output_type": "display_data",
          "data": {
            "image/png": "[encoded data removed]",
            "text/plain": [
              "<Figure size 432x288 with 1 Axes>"
            ]
          },
          "metadata": {
            "tags": []
          }
        }
      ]
    }
  ]
}