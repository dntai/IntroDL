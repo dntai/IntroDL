{
  "nbformat": 4,
  "nbformat_minor": 0,
  "metadata": {
    "colab": {
      "name": "3_Emotion_Reg_CNN.ipynb",
      "version": "0.3.2",
      "provenance": [],
      "include_colab_link": true
    },
    "language_info": {
      "codemirror_mode": {
        "name": "ipython",
        "version": 3
      },
      "file_extension": ".py",
      "mimetype": "text/x-python",
      "name": "python",
      "nbconvert_exporter": "python",
      "pygments_lexer": "ipython3",
      "version": "3.7.3"
    },
    "kernelspec": {
      "name": "python3",
      "display_name": "Python 3"
    },
    "accelerator": "GPU"
  },
  "cells": [
    {
      "cell_type": "markdown",
      "metadata": {
        "id": "view-in-github",
        "colab_type": "text"
      },
      "source": [
        "<a href=\"https://colab.research.google.com/github/th2l-aipn/IntroDL/blob/master/examples/2.%20CNN%20%2B%20MLP/3_Emotion_Reg_CNN.ipynb\" target=\"_parent\"><img src=\"https://colab.research.google.com/assets/colab-badge.svg\" alt=\"Open In Colab\"/></a>"
      ]
    },
    {
      "cell_type": "markdown",
      "metadata": {
        "id": "lMWfB5hlfHn5",
        "colab_type": "text"
      },
      "source": [
        "---\n",
        "```\n",
        "> Nguyen Hai Duong\n",
        "> nhduong_3010@live.com\n",
        "> Modified: Huynh Van Thong\n",
        "> hvthong.298@gmail.com\n",
        "> Chonnam National University\n",
        "```\n",
        "---"
      ]
    },
    {
      "cell_type": "markdown",
      "metadata": {
        "id": "x7Q5nn3afHn8",
        "colab_type": "text"
      },
      "source": [
        "## Overview\n",
        "- FER2013 dataset (face images + facial expression)\n",
        "  + Goal: classifying facial exprression\n",
        "  + Input: a 48x48 image\n",
        "  + Output: facial expression (angry, disgust, fear, happy, neutral, sad, and surprise)\n",
        "- Defining an CNN+MLP\n",
        "- Training and evaluating an CNN+MLP"
      ]
    },
    {
      "cell_type": "markdown",
      "metadata": {
        "id": "uGohueglfHn9",
        "colab_type": "text"
      },
      "source": [
        "## Import libraries"
      ]
    },
    {
      "cell_type": "code",
      "metadata": {
        "id": "KFSRiSJwfHn-",
        "colab_type": "code",
        "colab": {
          "base_uri": "https://localhost:8080/",
          "height": 34
        },
        "outputId": "82e004c6-c85e-4779-9050-09fa71e92c58"
      },
      "source": [
        "import keras\n",
        "from keras.models import Model\n",
        "from keras.layers import Input, Conv2D, MaxPooling2D, Flatten, Dense, Dropout\n",
        "from keras.optimizers import Adam\n",
        "\n",
        "from IPython.display import SVG\n",
        "from keras.utils.vis_utils import model_to_dot\n",
        "\n",
        "import time\n",
        "import numpy as np\n",
        "import matplotlib.pyplot as plt"
      ],
      "execution_count": 1,
      "outputs": [
        {
          "output_type": "stream",
          "text": [
            "Using TensorFlow backend.\n"
          ],
          "name": "stderr"
        }
      ]
    },
    {
      "cell_type": "code",
      "metadata": {
        "id": "otry6r13fHoE",
        "colab_type": "code",
        "colab": {}
      },
      "source": [
        "num_classes = 7   # angry, disgust, fear, happy, neutral, sad, and surprise"
      ],
      "execution_count": 0,
      "outputs": []
    },
    {
      "cell_type": "markdown",
      "metadata": {
        "id": "GFzpCQjzfHoH",
        "colab_type": "text"
      },
      "source": [
        "## 1. Data"
      ]
    },
    {
      "cell_type": "code",
      "metadata": {
        "id": "S6lmiHSLfLz4",
        "colab_type": "code",
        "colab": {
          "base_uri": "https://localhost:8080/",
          "height": 51
        },
        "outputId": "6e90a475-52f4-45b1-f056-bd6151035f28"
      },
      "source": [
        "# Download dataset\n",
        "import requests\n",
        "url1 = 'https://www.dropbox.com/s/w83gf8celxccdwi/fer2013_publictest_onehot.csv?dl=1'\n",
        "url2 = 'https://www.dropbox.com/s/rmpvvvt22nqrcd8/fer2013_training_onehot.csv?dl=1'\n",
        "url3 = 'https://www.dropbox.com/s/pten8miyvuhxgsu/fer2013_weights.h5?dl=1'\n",
        "url4 = 'https://www.dropbox.com/s/1yw4anh8zm5o4bv/fer2013.h5?dl=1'\n",
        "\n",
        "r1 = requests.get(url1, allow_redirects=True)\n",
        "open('fer2013_publictest_onehot.csv', 'wb').write(r1.content)\n",
        "\n",
        "r2 = requests.get(url2, allow_redirects=True)\n",
        "open('fer2013_training_onehot.csv', 'wb').write(r2.content)\n",
        "\n",
        "r3 = requests.get(url3, allow_redirects=True)\n",
        "open('fer2013_weights.h5', 'wb').write(r3.content)\n",
        "\n",
        "r4 = requests.get(url4, allow_redirects=True)\n",
        "open('fer2013.h5', 'wb').write(r4.content)\n",
        "\n",
        "!ls"
      ],
      "execution_count": 3,
      "outputs": [
        {
          "output_type": "stream",
          "text": [
            "fer2013.h5\t\t       fer2013_training_onehot.csv  sample_data\n",
            "fer2013_publictest_onehot.csv  fer2013_weights.h5\n"
          ],
          "name": "stdout"
        }
      ]
    },
    {
      "cell_type": "code",
      "metadata": {
        "id": "EtWjRKjWfHoJ",
        "colab_type": "code",
        "colab": {
          "base_uri": "https://localhost:8080/",
          "height": 136
        },
        "outputId": "8806e526-fbd9-48d3-b8b1-6904f7aaaca7"
      },
      "source": [
        "trainingset = np.loadtxt('fer2013_training_onehot.csv', delimiter=',')\n",
        "testingset = np.loadtxt('fer2013_publictest_onehot.csv', delimiter=',')\n",
        "\n",
        "trainingset"
      ],
      "execution_count": 4,
      "outputs": [
        {
          "output_type": "execute_result",
          "data": {
            "text/plain": [
              "array([[ 70.,  80.,  82., ...,   0.,   0.,   0.],\n",
              "       [151., 150., 147., ...,   0.,   0.,   0.],\n",
              "       [231., 212., 156., ...,   0.,   0.,   0.],\n",
              "       ...,\n",
              "       [ 74.,  81.,  87., ...,   1.,   0.,   0.],\n",
              "       [222., 227., 203., ...,   0.,   0.,   0.],\n",
              "       [195., 199., 205., ...,   1.,   0.,   0.]])"
            ]
          },
          "metadata": {
            "tags": []
          },
          "execution_count": 4
        }
      ]
    },
    {
      "cell_type": "code",
      "metadata": {
        "id": "wNxqoFiefHoO",
        "colab_type": "code",
        "colab": {
          "base_uri": "https://localhost:8080/",
          "height": 85
        },
        "outputId": "c719a5e1-a3de-4d6e-df02-e9341d728e93"
      },
      "source": [
        "n_inputs = 2304\n",
        "n_classes = 7\n",
        "img_dim = 48\n",
        "\n",
        "x_training = trainingset[:, 0:n_inputs]\n",
        "y_training = trainingset[:, n_inputs:n_inputs + n_classes]\n",
        "\n",
        "x_testing = testingset[:, 0:n_inputs]\n",
        "y_testing = testingset[:, n_inputs:n_inputs + n_classes]\n",
        "\n",
        "x_training = x_training.reshape(x_training.shape[0], 48, 48)\n",
        "x_training = np.expand_dims(x_training, axis=4)\n",
        "\n",
        "x_testing = x_testing.reshape(x_testing.shape[0], 48, 48)\n",
        "x_testing = np.expand_dims(x_testing, axis=4)"
      ],
      "execution_count": 5,
      "outputs": [
        {
          "output_type": "stream",
          "text": [
            "/usr/local/lib/python3.6/dist-packages/ipykernel_launcher.py:12: DeprecationWarning: Both axis > a.ndim and axis < -a.ndim - 1 are deprecated and will raise an AxisError in the future.\n",
            "  if sys.path[0] == '':\n",
            "/usr/local/lib/python3.6/dist-packages/ipykernel_launcher.py:15: DeprecationWarning: Both axis > a.ndim and axis < -a.ndim - 1 are deprecated and will raise an AxisError in the future.\n",
            "  from ipykernel import kernelapp as app\n"
          ],
          "name": "stderr"
        }
      ]
    },
    {
      "cell_type": "markdown",
      "metadata": {
        "id": "b_OdTOoQfHoR",
        "colab_type": "text"
      },
      "source": [
        "## 2. Declare model"
      ]
    },
    {
      "cell_type": "code",
      "metadata": {
        "id": "MVfGK-KvfHoS",
        "colab_type": "code",
        "colab": {
          "base_uri": "https://localhost:8080/",
          "height": 768
        },
        "outputId": "b5c3db0d-ae2c-4f81-b6a2-a025f11e5041"
      },
      "source": [
        "# 64x64 portray image\n",
        "input_image = Input(shape=(48, 48, 1), name='Input')\n",
        "\n",
        "# conv, pooling layers + dropout\n",
        "x = Conv2D(filters=64, kernel_size=(3, 3), padding='same', activation='relu', name='conv1_1')(input_image)\n",
        "x = Conv2D(filters=64, kernel_size=(3, 3), padding='valid', activation='relu', name='conv1_2')(x)\n",
        "x = MaxPooling2D(pool_size=(2, 2), name='pool1')(x)\n",
        "x = Dropout(rate=0.25, name='conv_dropout1')(x)\n",
        "\n",
        "x = Conv2D(filters=128, kernel_size=(3, 3), padding='same', activation='relu', name='conv2_1')(x)\n",
        "x = Conv2D(filters=128, kernel_size=(3, 3), padding='valid', activation='relu', name='conv2_2')(x)\n",
        "x = Conv2D(filters=218, kernel_size=(3, 3), padding='same', activation='relu', name='conv2_3')(x)\n",
        "x = Conv2D(filters=218, kernel_size=(3, 3), padding='valid', activation='relu', name='conv2_4')(x)\n",
        "x = MaxPooling2D(pool_size=(2, 2), name='pool2')(x)\n",
        "x = Dropout(rate=0.25, name='conv_dropout2')(x)\n",
        "\n",
        "# similar to the MLP example!\n",
        "# matrix ---> vector\n",
        "x = Flatten(name='flatten')(x)\n",
        "\n",
        "# FC layers + dropout\n",
        "x = Dense(units=1024, activation='relu', name='fc1')(x)\n",
        "x = Dropout(rate=0.5, name='fc_dropout1')(x)\n",
        "\n",
        "output_label = Dense(units=num_classes, activation='softmax', name='fc3_7ways_softmax')(x)\n",
        "\n",
        "# define model\n",
        "model = Model(inputs=input_image, outputs=output_label, name='emo_cnn')\n",
        "\n",
        "# print model summary\n",
        "model.summary()"
      ],
      "execution_count": 6,
      "outputs": [
        {
          "output_type": "stream",
          "text": [
            "WARNING:tensorflow:From /usr/local/lib/python3.6/dist-packages/tensorflow/python/framework/op_def_library.py:263: colocate_with (from tensorflow.python.framework.ops) is deprecated and will be removed in a future version.\n",
            "Instructions for updating:\n",
            "Colocations handled automatically by placer.\n",
            "WARNING:tensorflow:From /usr/local/lib/python3.6/dist-packages/keras/backend/tensorflow_backend.py:3445: calling dropout (from tensorflow.python.ops.nn_ops) with keep_prob is deprecated and will be removed in a future version.\n",
            "Instructions for updating:\n",
            "Please use `rate` instead of `keep_prob`. Rate should be set to `rate = 1 - keep_prob`.\n",
            "_________________________________________________________________\n",
            "Layer (type)                 Output Shape              Param #   \n",
            "=================================================================\n",
            "Input (InputLayer)           (None, 48, 48, 1)         0         \n",
            "_________________________________________________________________\n",
            "conv1_1 (Conv2D)             (None, 48, 48, 64)        640       \n",
            "_________________________________________________________________\n",
            "conv1_2 (Conv2D)             (None, 46, 46, 64)        36928     \n",
            "_________________________________________________________________\n",
            "pool1 (MaxPooling2D)         (None, 23, 23, 64)        0         \n",
            "_________________________________________________________________\n",
            "conv_dropout1 (Dropout)      (None, 23, 23, 64)        0         \n",
            "_________________________________________________________________\n",
            "conv2_1 (Conv2D)             (None, 23, 23, 128)       73856     \n",
            "_________________________________________________________________\n",
            "conv2_2 (Conv2D)             (None, 21, 21, 128)       147584    \n",
            "_________________________________________________________________\n",
            "conv2_3 (Conv2D)             (None, 21, 21, 218)       251354    \n",
            "_________________________________________________________________\n",
            "conv2_4 (Conv2D)             (None, 19, 19, 218)       427934    \n",
            "_________________________________________________________________\n",
            "pool2 (MaxPooling2D)         (None, 9, 9, 218)         0         \n",
            "_________________________________________________________________\n",
            "conv_dropout2 (Dropout)      (None, 9, 9, 218)         0         \n",
            "_________________________________________________________________\n",
            "flatten (Flatten)            (None, 17658)             0         \n",
            "_________________________________________________________________\n",
            "fc1 (Dense)                  (None, 1024)              18082816  \n",
            "_________________________________________________________________\n",
            "fc_dropout1 (Dropout)        (None, 1024)              0         \n",
            "_________________________________________________________________\n",
            "fc3_7ways_softmax (Dense)    (None, 7)                 7175      \n",
            "=================================================================\n",
            "Total params: 19,028,287\n",
            "Trainable params: 19,028,287\n",
            "Non-trainable params: 0\n",
            "_________________________________________________________________\n"
          ],
          "name": "stdout"
        }
      ]
    },
    {
      "cell_type": "code",
      "metadata": {
        "id": "BH_DPe_ifHoW",
        "colab_type": "code",
        "colab": {
          "base_uri": "https://localhost:8080/",
          "height": 1644
        },
        "outputId": "6f04e686-0e49-4837-dcf2-9b32120d3a28"
      },
      "source": [
        "SVG(model_to_dot(model, show_shapes=True).create(prog='dot', format='svg'))"
      ],
      "execution_count": 7,
      "outputs": [
        {
          "output_type": "execute_result",
          "data": {
            "text/plain": [
              "<IPython.core.display.SVG object>"
            ],
            "image/svg+xml": "<svg height=\"1217pt\" viewBox=\"0.00 0.00 353.00 1217.00\" width=\"353pt\" xmlns=\"http://www.w3.org/2000/svg\" xmlns:xlink=\"http://www.w3.org/1999/xlink\">\n<g class=\"graph\" id=\"graph0\" transform=\"scale(1 1) rotate(0) translate(4 1213)\">\n<title>G</title>\n<polygon fill=\"#ffffff\" points=\"-4,4 -4,-1213 349,-1213 349,4 -4,4\" stroke=\"transparent\"/>\n<!-- 140690959083280 -->\n<g class=\"node\" id=\"node1\">\n<title>140690959083280</title>\n<polygon fill=\"none\" points=\"25.5,-1162.5 25.5,-1208.5 319.5,-1208.5 319.5,-1162.5 25.5,-1162.5\" stroke=\"#000000\"/>\n<text fill=\"#000000\" font-family=\"Times,serif\" font-size=\"14.00\" text-anchor=\"middle\" x=\"85\" y=\"-1181.8\">Input: InputLayer</text>\n<polyline fill=\"none\" points=\"144.5,-1162.5 144.5,-1208.5 \" stroke=\"#000000\"/>\n<text fill=\"#000000\" font-family=\"Times,serif\" font-size=\"14.00\" text-anchor=\"middle\" x=\"173.5\" y=\"-1193.3\">input:</text>\n<polyline fill=\"none\" points=\"144.5,-1185.5 202.5,-1185.5 \" stroke=\"#000000\"/>\n<text fill=\"#000000\" font-family=\"Times,serif\" font-size=\"14.00\" text-anchor=\"middle\" x=\"173.5\" y=\"-1170.3\">output:</text>\n<polyline fill=\"none\" points=\"202.5,-1162.5 202.5,-1208.5 \" stroke=\"#000000\"/>\n<text fill=\"#000000\" font-family=\"Times,serif\" font-size=\"14.00\" text-anchor=\"middle\" x=\"261\" y=\"-1193.3\">(None, 48, 48, 1)</text>\n<polyline fill=\"none\" points=\"202.5,-1185.5 319.5,-1185.5 \" stroke=\"#000000\"/>\n<text fill=\"#000000\" font-family=\"Times,serif\" font-size=\"14.00\" text-anchor=\"middle\" x=\"261\" y=\"-1170.3\">(None, 48, 48, 1)</text>\n</g>\n<!-- 140691215874536 -->\n<g class=\"node\" id=\"node2\">\n<title>140691215874536</title>\n<polygon fill=\"none\" points=\"18.5,-1079.5 18.5,-1125.5 326.5,-1125.5 326.5,-1079.5 18.5,-1079.5\" stroke=\"#000000\"/>\n<text fill=\"#000000\" font-family=\"Times,serif\" font-size=\"14.00\" text-anchor=\"middle\" x=\"81\" y=\"-1098.8\">conv1_1: Conv2D</text>\n<polyline fill=\"none\" points=\"143.5,-1079.5 143.5,-1125.5 \" stroke=\"#000000\"/>\n<text fill=\"#000000\" font-family=\"Times,serif\" font-size=\"14.00\" text-anchor=\"middle\" x=\"172.5\" y=\"-1110.3\">input:</text>\n<polyline fill=\"none\" points=\"143.5,-1102.5 201.5,-1102.5 \" stroke=\"#000000\"/>\n<text fill=\"#000000\" font-family=\"Times,serif\" font-size=\"14.00\" text-anchor=\"middle\" x=\"172.5\" y=\"-1087.3\">output:</text>\n<polyline fill=\"none\" points=\"201.5,-1079.5 201.5,-1125.5 \" stroke=\"#000000\"/>\n<text fill=\"#000000\" font-family=\"Times,serif\" font-size=\"14.00\" text-anchor=\"middle\" x=\"264\" y=\"-1110.3\">(None, 48, 48, 1)</text>\n<polyline fill=\"none\" points=\"201.5,-1102.5 326.5,-1102.5 \" stroke=\"#000000\"/>\n<text fill=\"#000000\" font-family=\"Times,serif\" font-size=\"14.00\" text-anchor=\"middle\" x=\"264\" y=\"-1087.3\">(None, 48, 48, 64)</text>\n</g>\n<!-- 140690959083280&#45;&gt;140691215874536 -->\n<g class=\"edge\" id=\"edge1\">\n<title>140690959083280-&gt;140691215874536</title>\n<path d=\"M172.5,-1162.3799C172.5,-1154.1745 172.5,-1144.7679 172.5,-1135.8786\" fill=\"none\" stroke=\"#000000\"/>\n<polygon fill=\"#000000\" points=\"176.0001,-1135.784 172.5,-1125.784 169.0001,-1135.784 176.0001,-1135.784\" stroke=\"#000000\"/>\n</g>\n<!-- 140688277367440 -->\n<g class=\"node\" id=\"node3\">\n<title>140688277367440</title>\n<polygon fill=\"none\" points=\"18.5,-996.5 18.5,-1042.5 326.5,-1042.5 326.5,-996.5 18.5,-996.5\" stroke=\"#000000\"/>\n<text fill=\"#000000\" font-family=\"Times,serif\" font-size=\"14.00\" text-anchor=\"middle\" x=\"81\" y=\"-1015.8\">conv1_2: Conv2D</text>\n<polyline fill=\"none\" points=\"143.5,-996.5 143.5,-1042.5 \" stroke=\"#000000\"/>\n<text fill=\"#000000\" font-family=\"Times,serif\" font-size=\"14.00\" text-anchor=\"middle\" x=\"172.5\" y=\"-1027.3\">input:</text>\n<polyline fill=\"none\" points=\"143.5,-1019.5 201.5,-1019.5 \" stroke=\"#000000\"/>\n<text fill=\"#000000\" font-family=\"Times,serif\" font-size=\"14.00\" text-anchor=\"middle\" x=\"172.5\" y=\"-1004.3\">output:</text>\n<polyline fill=\"none\" points=\"201.5,-996.5 201.5,-1042.5 \" stroke=\"#000000\"/>\n<text fill=\"#000000\" font-family=\"Times,serif\" font-size=\"14.00\" text-anchor=\"middle\" x=\"264\" y=\"-1027.3\">(None, 48, 48, 64)</text>\n<polyline fill=\"none\" points=\"201.5,-1019.5 326.5,-1019.5 \" stroke=\"#000000\"/>\n<text fill=\"#000000\" font-family=\"Times,serif\" font-size=\"14.00\" text-anchor=\"middle\" x=\"264\" y=\"-1004.3\">(None, 46, 46, 64)</text>\n</g>\n<!-- 140691215874536&#45;&gt;140688277367440 -->\n<g class=\"edge\" id=\"edge2\">\n<title>140691215874536-&gt;140688277367440</title>\n<path d=\"M172.5,-1079.3799C172.5,-1071.1745 172.5,-1061.7679 172.5,-1052.8786\" fill=\"none\" stroke=\"#000000\"/>\n<polygon fill=\"#000000\" points=\"176.0001,-1052.784 172.5,-1042.784 169.0001,-1052.784 176.0001,-1052.784\" stroke=\"#000000\"/>\n</g>\n<!-- 140690959084176 -->\n<g class=\"node\" id=\"node4\">\n<title>140690959084176</title>\n<polygon fill=\"none\" points=\"7,-913.5 7,-959.5 338,-959.5 338,-913.5 7,-913.5\" stroke=\"#000000\"/>\n<text fill=\"#000000\" font-family=\"Times,serif\" font-size=\"14.00\" text-anchor=\"middle\" x=\"81\" y=\"-932.8\">pool1: MaxPooling2D</text>\n<polyline fill=\"none\" points=\"155,-913.5 155,-959.5 \" stroke=\"#000000\"/>\n<text fill=\"#000000\" font-family=\"Times,serif\" font-size=\"14.00\" text-anchor=\"middle\" x=\"184\" y=\"-944.3\">input:</text>\n<polyline fill=\"none\" points=\"155,-936.5 213,-936.5 \" stroke=\"#000000\"/>\n<text fill=\"#000000\" font-family=\"Times,serif\" font-size=\"14.00\" text-anchor=\"middle\" x=\"184\" y=\"-921.3\">output:</text>\n<polyline fill=\"none\" points=\"213,-913.5 213,-959.5 \" stroke=\"#000000\"/>\n<text fill=\"#000000\" font-family=\"Times,serif\" font-size=\"14.00\" text-anchor=\"middle\" x=\"275.5\" y=\"-944.3\">(None, 46, 46, 64)</text>\n<polyline fill=\"none\" points=\"213,-936.5 338,-936.5 \" stroke=\"#000000\"/>\n<text fill=\"#000000\" font-family=\"Times,serif\" font-size=\"14.00\" text-anchor=\"middle\" x=\"275.5\" y=\"-921.3\">(None, 23, 23, 64)</text>\n</g>\n<!-- 140688277367440&#45;&gt;140690959084176 -->\n<g class=\"edge\" id=\"edge3\">\n<title>140688277367440-&gt;140690959084176</title>\n<path d=\"M172.5,-996.3799C172.5,-988.1745 172.5,-978.7679 172.5,-969.8786\" fill=\"none\" stroke=\"#000000\"/>\n<polygon fill=\"#000000\" points=\"176.0001,-969.784 172.5,-959.784 169.0001,-969.784 176.0001,-969.784\" stroke=\"#000000\"/>\n</g>\n<!-- 140689772609888 -->\n<g class=\"node\" id=\"node5\">\n<title>140689772609888</title>\n<polygon fill=\"none\" points=\"0,-830.5 0,-876.5 345,-876.5 345,-830.5 0,-830.5\" stroke=\"#000000\"/>\n<text fill=\"#000000\" font-family=\"Times,serif\" font-size=\"14.00\" text-anchor=\"middle\" x=\"81\" y=\"-849.8\">conv_dropout1: Dropout</text>\n<polyline fill=\"none\" points=\"162,-830.5 162,-876.5 \" stroke=\"#000000\"/>\n<text fill=\"#000000\" font-family=\"Times,serif\" font-size=\"14.00\" text-anchor=\"middle\" x=\"191\" y=\"-861.3\">input:</text>\n<polyline fill=\"none\" points=\"162,-853.5 220,-853.5 \" stroke=\"#000000\"/>\n<text fill=\"#000000\" font-family=\"Times,serif\" font-size=\"14.00\" text-anchor=\"middle\" x=\"191\" y=\"-838.3\">output:</text>\n<polyline fill=\"none\" points=\"220,-830.5 220,-876.5 \" stroke=\"#000000\"/>\n<text fill=\"#000000\" font-family=\"Times,serif\" font-size=\"14.00\" text-anchor=\"middle\" x=\"282.5\" y=\"-861.3\">(None, 23, 23, 64)</text>\n<polyline fill=\"none\" points=\"220,-853.5 345,-853.5 \" stroke=\"#000000\"/>\n<text fill=\"#000000\" font-family=\"Times,serif\" font-size=\"14.00\" text-anchor=\"middle\" x=\"282.5\" y=\"-838.3\">(None, 23, 23, 64)</text>\n</g>\n<!-- 140690959084176&#45;&gt;140689772609888 -->\n<g class=\"edge\" id=\"edge4\">\n<title>140690959084176-&gt;140689772609888</title>\n<path d=\"M172.5,-913.3799C172.5,-905.1745 172.5,-895.7679 172.5,-886.8786\" fill=\"none\" stroke=\"#000000\"/>\n<polygon fill=\"#000000\" points=\"176.0001,-886.784 172.5,-876.784 169.0001,-886.784 176.0001,-886.784\" stroke=\"#000000\"/>\n</g>\n<!-- 140689772610392 -->\n<g class=\"node\" id=\"node6\">\n<title>140689772610392</title>\n<polygon fill=\"none\" points=\"15,-747.5 15,-793.5 330,-793.5 330,-747.5 15,-747.5\" stroke=\"#000000\"/>\n<text fill=\"#000000\" font-family=\"Times,serif\" font-size=\"14.00\" text-anchor=\"middle\" x=\"77.5\" y=\"-766.8\">conv2_1: Conv2D</text>\n<polyline fill=\"none\" points=\"140,-747.5 140,-793.5 \" stroke=\"#000000\"/>\n<text fill=\"#000000\" font-family=\"Times,serif\" font-size=\"14.00\" text-anchor=\"middle\" x=\"169\" y=\"-778.3\">input:</text>\n<polyline fill=\"none\" points=\"140,-770.5 198,-770.5 \" stroke=\"#000000\"/>\n<text fill=\"#000000\" font-family=\"Times,serif\" font-size=\"14.00\" text-anchor=\"middle\" x=\"169\" y=\"-755.3\">output:</text>\n<polyline fill=\"none\" points=\"198,-747.5 198,-793.5 \" stroke=\"#000000\"/>\n<text fill=\"#000000\" font-family=\"Times,serif\" font-size=\"14.00\" text-anchor=\"middle\" x=\"264\" y=\"-778.3\">(None, 23, 23, 64)</text>\n<polyline fill=\"none\" points=\"198,-770.5 330,-770.5 \" stroke=\"#000000\"/>\n<text fill=\"#000000\" font-family=\"Times,serif\" font-size=\"14.00\" text-anchor=\"middle\" x=\"264\" y=\"-755.3\">(None, 23, 23, 128)</text>\n</g>\n<!-- 140689772609888&#45;&gt;140689772610392 -->\n<g class=\"edge\" id=\"edge5\">\n<title>140689772609888-&gt;140689772610392</title>\n<path d=\"M172.5,-830.3799C172.5,-822.1745 172.5,-812.7679 172.5,-803.8786\" fill=\"none\" stroke=\"#000000\"/>\n<polygon fill=\"#000000\" points=\"176.0001,-803.784 172.5,-793.784 169.0001,-803.784 176.0001,-803.784\" stroke=\"#000000\"/>\n</g>\n<!-- 140689777603136 -->\n<g class=\"node\" id=\"node7\">\n<title>140689777603136</title>\n<polygon fill=\"none\" points=\"15,-664.5 15,-710.5 330,-710.5 330,-664.5 15,-664.5\" stroke=\"#000000\"/>\n<text fill=\"#000000\" font-family=\"Times,serif\" font-size=\"14.00\" text-anchor=\"middle\" x=\"77.5\" y=\"-683.8\">conv2_2: Conv2D</text>\n<polyline fill=\"none\" points=\"140,-664.5 140,-710.5 \" stroke=\"#000000\"/>\n<text fill=\"#000000\" font-family=\"Times,serif\" font-size=\"14.00\" text-anchor=\"middle\" x=\"169\" y=\"-695.3\">input:</text>\n<polyline fill=\"none\" points=\"140,-687.5 198,-687.5 \" stroke=\"#000000\"/>\n<text fill=\"#000000\" font-family=\"Times,serif\" font-size=\"14.00\" text-anchor=\"middle\" x=\"169\" y=\"-672.3\">output:</text>\n<polyline fill=\"none\" points=\"198,-664.5 198,-710.5 \" stroke=\"#000000\"/>\n<text fill=\"#000000\" font-family=\"Times,serif\" font-size=\"14.00\" text-anchor=\"middle\" x=\"264\" y=\"-695.3\">(None, 23, 23, 128)</text>\n<polyline fill=\"none\" points=\"198,-687.5 330,-687.5 \" stroke=\"#000000\"/>\n<text fill=\"#000000\" font-family=\"Times,serif\" font-size=\"14.00\" text-anchor=\"middle\" x=\"264\" y=\"-672.3\">(None, 21, 21, 128)</text>\n</g>\n<!-- 140689772610392&#45;&gt;140689777603136 -->\n<g class=\"edge\" id=\"edge6\">\n<title>140689772610392-&gt;140689777603136</title>\n<path d=\"M172.5,-747.3799C172.5,-739.1745 172.5,-729.7679 172.5,-720.8786\" fill=\"none\" stroke=\"#000000\"/>\n<polygon fill=\"#000000\" points=\"176.0001,-720.784 172.5,-710.784 169.0001,-720.784 176.0001,-720.784\" stroke=\"#000000\"/>\n</g>\n<!-- 140691403186752 -->\n<g class=\"node\" id=\"node8\">\n<title>140691403186752</title>\n<polygon fill=\"none\" points=\"15,-581.5 15,-627.5 330,-627.5 330,-581.5 15,-581.5\" stroke=\"#000000\"/>\n<text fill=\"#000000\" font-family=\"Times,serif\" font-size=\"14.00\" text-anchor=\"middle\" x=\"77.5\" y=\"-600.8\">conv2_3: Conv2D</text>\n<polyline fill=\"none\" points=\"140,-581.5 140,-627.5 \" stroke=\"#000000\"/>\n<text fill=\"#000000\" font-family=\"Times,serif\" font-size=\"14.00\" text-anchor=\"middle\" x=\"169\" y=\"-612.3\">input:</text>\n<polyline fill=\"none\" points=\"140,-604.5 198,-604.5 \" stroke=\"#000000\"/>\n<text fill=\"#000000\" font-family=\"Times,serif\" font-size=\"14.00\" text-anchor=\"middle\" x=\"169\" y=\"-589.3\">output:</text>\n<polyline fill=\"none\" points=\"198,-581.5 198,-627.5 \" stroke=\"#000000\"/>\n<text fill=\"#000000\" font-family=\"Times,serif\" font-size=\"14.00\" text-anchor=\"middle\" x=\"264\" y=\"-612.3\">(None, 21, 21, 128)</text>\n<polyline fill=\"none\" points=\"198,-604.5 330,-604.5 \" stroke=\"#000000\"/>\n<text fill=\"#000000\" font-family=\"Times,serif\" font-size=\"14.00\" text-anchor=\"middle\" x=\"264\" y=\"-589.3\">(None, 21, 21, 218)</text>\n</g>\n<!-- 140689777603136&#45;&gt;140691403186752 -->\n<g class=\"edge\" id=\"edge7\">\n<title>140689777603136-&gt;140691403186752</title>\n<path d=\"M172.5,-664.3799C172.5,-656.1745 172.5,-646.7679 172.5,-637.8786\" fill=\"none\" stroke=\"#000000\"/>\n<polygon fill=\"#000000\" points=\"176.0001,-637.784 172.5,-627.784 169.0001,-637.784 176.0001,-637.784\" stroke=\"#000000\"/>\n</g>\n<!-- 140689695474856 -->\n<g class=\"node\" id=\"node9\">\n<title>140689695474856</title>\n<polygon fill=\"none\" points=\"15,-498.5 15,-544.5 330,-544.5 330,-498.5 15,-498.5\" stroke=\"#000000\"/>\n<text fill=\"#000000\" font-family=\"Times,serif\" font-size=\"14.00\" text-anchor=\"middle\" x=\"77.5\" y=\"-517.8\">conv2_4: Conv2D</text>\n<polyline fill=\"none\" points=\"140,-498.5 140,-544.5 \" stroke=\"#000000\"/>\n<text fill=\"#000000\" font-family=\"Times,serif\" font-size=\"14.00\" text-anchor=\"middle\" x=\"169\" y=\"-529.3\">input:</text>\n<polyline fill=\"none\" points=\"140,-521.5 198,-521.5 \" stroke=\"#000000\"/>\n<text fill=\"#000000\" font-family=\"Times,serif\" font-size=\"14.00\" text-anchor=\"middle\" x=\"169\" y=\"-506.3\">output:</text>\n<polyline fill=\"none\" points=\"198,-498.5 198,-544.5 \" stroke=\"#000000\"/>\n<text fill=\"#000000\" font-family=\"Times,serif\" font-size=\"14.00\" text-anchor=\"middle\" x=\"264\" y=\"-529.3\">(None, 21, 21, 218)</text>\n<polyline fill=\"none\" points=\"198,-521.5 330,-521.5 \" stroke=\"#000000\"/>\n<text fill=\"#000000\" font-family=\"Times,serif\" font-size=\"14.00\" text-anchor=\"middle\" x=\"264\" y=\"-506.3\">(None, 19, 19, 218)</text>\n</g>\n<!-- 140691403186752&#45;&gt;140689695474856 -->\n<g class=\"edge\" id=\"edge8\">\n<title>140691403186752-&gt;140689695474856</title>\n<path d=\"M172.5,-581.3799C172.5,-573.1745 172.5,-563.7679 172.5,-554.8786\" fill=\"none\" stroke=\"#000000\"/>\n<polygon fill=\"#000000\" points=\"176.0001,-554.784 172.5,-544.784 169.0001,-554.784 176.0001,-554.784\" stroke=\"#000000\"/>\n</g>\n<!-- 140688277348136 -->\n<g class=\"node\" id=\"node10\">\n<title>140688277348136</title>\n<polygon fill=\"none\" points=\"3.5,-415.5 3.5,-461.5 341.5,-461.5 341.5,-415.5 3.5,-415.5\" stroke=\"#000000\"/>\n<text fill=\"#000000\" font-family=\"Times,serif\" font-size=\"14.00\" text-anchor=\"middle\" x=\"77.5\" y=\"-434.8\">pool2: MaxPooling2D</text>\n<polyline fill=\"none\" points=\"151.5,-415.5 151.5,-461.5 \" stroke=\"#000000\"/>\n<text fill=\"#000000\" font-family=\"Times,serif\" font-size=\"14.00\" text-anchor=\"middle\" x=\"180.5\" y=\"-446.3\">input:</text>\n<polyline fill=\"none\" points=\"151.5,-438.5 209.5,-438.5 \" stroke=\"#000000\"/>\n<text fill=\"#000000\" font-family=\"Times,serif\" font-size=\"14.00\" text-anchor=\"middle\" x=\"180.5\" y=\"-423.3\">output:</text>\n<polyline fill=\"none\" points=\"209.5,-415.5 209.5,-461.5 \" stroke=\"#000000\"/>\n<text fill=\"#000000\" font-family=\"Times,serif\" font-size=\"14.00\" text-anchor=\"middle\" x=\"275.5\" y=\"-446.3\">(None, 19, 19, 218)</text>\n<polyline fill=\"none\" points=\"209.5,-438.5 341.5,-438.5 \" stroke=\"#000000\"/>\n<text fill=\"#000000\" font-family=\"Times,serif\" font-size=\"14.00\" text-anchor=\"middle\" x=\"275.5\" y=\"-423.3\">(None, 9, 9, 218)</text>\n</g>\n<!-- 140689695474856&#45;&gt;140688277348136 -->\n<g class=\"edge\" id=\"edge9\">\n<title>140689695474856-&gt;140688277348136</title>\n<path d=\"M172.5,-498.3799C172.5,-490.1745 172.5,-480.7679 172.5,-471.8786\" fill=\"none\" stroke=\"#000000\"/>\n<polygon fill=\"#000000\" points=\"176.0001,-471.784 172.5,-461.784 169.0001,-471.784 176.0001,-471.784\" stroke=\"#000000\"/>\n</g>\n<!-- 140688277558888 -->\n<g class=\"node\" id=\"node11\">\n<title>140688277558888</title>\n<polygon fill=\"none\" points=\"4,-332.5 4,-378.5 341,-378.5 341,-332.5 4,-332.5\" stroke=\"#000000\"/>\n<text fill=\"#000000\" font-family=\"Times,serif\" font-size=\"14.00\" text-anchor=\"middle\" x=\"85\" y=\"-351.8\">conv_dropout2: Dropout</text>\n<polyline fill=\"none\" points=\"166,-332.5 166,-378.5 \" stroke=\"#000000\"/>\n<text fill=\"#000000\" font-family=\"Times,serif\" font-size=\"14.00\" text-anchor=\"middle\" x=\"195\" y=\"-363.3\">input:</text>\n<polyline fill=\"none\" points=\"166,-355.5 224,-355.5 \" stroke=\"#000000\"/>\n<text fill=\"#000000\" font-family=\"Times,serif\" font-size=\"14.00\" text-anchor=\"middle\" x=\"195\" y=\"-340.3\">output:</text>\n<polyline fill=\"none\" points=\"224,-332.5 224,-378.5 \" stroke=\"#000000\"/>\n<text fill=\"#000000\" font-family=\"Times,serif\" font-size=\"14.00\" text-anchor=\"middle\" x=\"282.5\" y=\"-363.3\">(None, 9, 9, 218)</text>\n<polyline fill=\"none\" points=\"224,-355.5 341,-355.5 \" stroke=\"#000000\"/>\n<text fill=\"#000000\" font-family=\"Times,serif\" font-size=\"14.00\" text-anchor=\"middle\" x=\"282.5\" y=\"-340.3\">(None, 9, 9, 218)</text>\n</g>\n<!-- 140688277348136&#45;&gt;140688277558888 -->\n<g class=\"edge\" id=\"edge10\">\n<title>140688277348136-&gt;140688277558888</title>\n<path d=\"M172.5,-415.3799C172.5,-407.1745 172.5,-397.7679 172.5,-388.8786\" fill=\"none\" stroke=\"#000000\"/>\n<polygon fill=\"#000000\" points=\"176.0001,-388.784 172.5,-378.784 169.0001,-388.784 176.0001,-388.784\" stroke=\"#000000\"/>\n</g>\n<!-- 140689695567488 -->\n<g class=\"node\" id=\"node12\">\n<title>140689695567488</title>\n<polygon fill=\"none\" points=\"36,-249.5 36,-295.5 309,-295.5 309,-249.5 36,-249.5\" stroke=\"#000000\"/>\n<text fill=\"#000000\" font-family=\"Times,serif\" font-size=\"14.00\" text-anchor=\"middle\" x=\"85\" y=\"-268.8\">flatten: Flatten</text>\n<polyline fill=\"none\" points=\"134,-249.5 134,-295.5 \" stroke=\"#000000\"/>\n<text fill=\"#000000\" font-family=\"Times,serif\" font-size=\"14.00\" text-anchor=\"middle\" x=\"163\" y=\"-280.3\">input:</text>\n<polyline fill=\"none\" points=\"134,-272.5 192,-272.5 \" stroke=\"#000000\"/>\n<text fill=\"#000000\" font-family=\"Times,serif\" font-size=\"14.00\" text-anchor=\"middle\" x=\"163\" y=\"-257.3\">output:</text>\n<polyline fill=\"none\" points=\"192,-249.5 192,-295.5 \" stroke=\"#000000\"/>\n<text fill=\"#000000\" font-family=\"Times,serif\" font-size=\"14.00\" text-anchor=\"middle\" x=\"250.5\" y=\"-280.3\">(None, 9, 9, 218)</text>\n<polyline fill=\"none\" points=\"192,-272.5 309,-272.5 \" stroke=\"#000000\"/>\n<text fill=\"#000000\" font-family=\"Times,serif\" font-size=\"14.00\" text-anchor=\"middle\" x=\"250.5\" y=\"-257.3\">(None, 17658)</text>\n</g>\n<!-- 140688277558888&#45;&gt;140689695567488 -->\n<g class=\"edge\" id=\"edge11\">\n<title>140688277558888-&gt;140689695567488</title>\n<path d=\"M172.5,-332.3799C172.5,-324.1745 172.5,-314.7679 172.5,-305.8786\" fill=\"none\" stroke=\"#000000\"/>\n<polygon fill=\"#000000\" points=\"176.0001,-305.784 172.5,-295.784 169.0001,-305.784 176.0001,-305.784\" stroke=\"#000000\"/>\n</g>\n<!-- 140689695565472 -->\n<g class=\"node\" id=\"node13\">\n<title>140689695565472</title>\n<polygon fill=\"none\" points=\"54,-166.5 54,-212.5 291,-212.5 291,-166.5 54,-166.5\" stroke=\"#000000\"/>\n<text fill=\"#000000\" font-family=\"Times,serif\" font-size=\"14.00\" text-anchor=\"middle\" x=\"92.5\" y=\"-185.8\">fc1: Dense</text>\n<polyline fill=\"none\" points=\"131,-166.5 131,-212.5 \" stroke=\"#000000\"/>\n<text fill=\"#000000\" font-family=\"Times,serif\" font-size=\"14.00\" text-anchor=\"middle\" x=\"160\" y=\"-197.3\">input:</text>\n<polyline fill=\"none\" points=\"131,-189.5 189,-189.5 \" stroke=\"#000000\"/>\n<text fill=\"#000000\" font-family=\"Times,serif\" font-size=\"14.00\" text-anchor=\"middle\" x=\"160\" y=\"-174.3\">output:</text>\n<polyline fill=\"none\" points=\"189,-166.5 189,-212.5 \" stroke=\"#000000\"/>\n<text fill=\"#000000\" font-family=\"Times,serif\" font-size=\"14.00\" text-anchor=\"middle\" x=\"240\" y=\"-197.3\">(None, 17658)</text>\n<polyline fill=\"none\" points=\"189,-189.5 291,-189.5 \" stroke=\"#000000\"/>\n<text fill=\"#000000\" font-family=\"Times,serif\" font-size=\"14.00\" text-anchor=\"middle\" x=\"240\" y=\"-174.3\">(None, 1024)</text>\n</g>\n<!-- 140689695567488&#45;&gt;140689695565472 -->\n<g class=\"edge\" id=\"edge12\">\n<title>140689695567488-&gt;140689695565472</title>\n<path d=\"M172.5,-249.3799C172.5,-241.1745 172.5,-231.7679 172.5,-222.8786\" fill=\"none\" stroke=\"#000000\"/>\n<polygon fill=\"#000000\" points=\"176.0001,-222.784 172.5,-212.784 169.0001,-222.784 176.0001,-222.784\" stroke=\"#000000\"/>\n</g>\n<!-- 140689695658112 -->\n<g class=\"node\" id=\"node14\">\n<title>140689695658112</title>\n<polygon fill=\"none\" points=\"24,-83.5 24,-129.5 321,-129.5 321,-83.5 24,-83.5\" stroke=\"#000000\"/>\n<text fill=\"#000000\" font-family=\"Times,serif\" font-size=\"14.00\" text-anchor=\"middle\" x=\"96\" y=\"-102.8\">fc_dropout1: Dropout</text>\n<polyline fill=\"none\" points=\"168,-83.5 168,-129.5 \" stroke=\"#000000\"/>\n<text fill=\"#000000\" font-family=\"Times,serif\" font-size=\"14.00\" text-anchor=\"middle\" x=\"197\" y=\"-114.3\">input:</text>\n<polyline fill=\"none\" points=\"168,-106.5 226,-106.5 \" stroke=\"#000000\"/>\n<text fill=\"#000000\" font-family=\"Times,serif\" font-size=\"14.00\" text-anchor=\"middle\" x=\"197\" y=\"-91.3\">output:</text>\n<polyline fill=\"none\" points=\"226,-83.5 226,-129.5 \" stroke=\"#000000\"/>\n<text fill=\"#000000\" font-family=\"Times,serif\" font-size=\"14.00\" text-anchor=\"middle\" x=\"273.5\" y=\"-114.3\">(None, 1024)</text>\n<polyline fill=\"none\" points=\"226,-106.5 321,-106.5 \" stroke=\"#000000\"/>\n<text fill=\"#000000\" font-family=\"Times,serif\" font-size=\"14.00\" text-anchor=\"middle\" x=\"273.5\" y=\"-91.3\">(None, 1024)</text>\n</g>\n<!-- 140689695565472&#45;&gt;140689695658112 -->\n<g class=\"edge\" id=\"edge13\">\n<title>140689695565472-&gt;140689695658112</title>\n<path d=\"M172.5,-166.3799C172.5,-158.1745 172.5,-148.7679 172.5,-139.8786\" fill=\"none\" stroke=\"#000000\"/>\n<polygon fill=\"#000000\" points=\"176.0001,-139.784 172.5,-129.784 169.0001,-139.784 176.0001,-139.784\" stroke=\"#000000\"/>\n</g>\n<!-- 140689766045736 -->\n<g class=\"node\" id=\"node15\">\n<title>140689766045736</title>\n<polygon fill=\"none\" points=\"8.5,-.5 8.5,-46.5 336.5,-46.5 336.5,-.5 8.5,-.5\" stroke=\"#000000\"/>\n<text fill=\"#000000\" font-family=\"Times,serif\" font-size=\"14.00\" text-anchor=\"middle\" x=\"96\" y=\"-19.8\">fc3_7ways_softmax: Dense</text>\n<polyline fill=\"none\" points=\"183.5,-.5 183.5,-46.5 \" stroke=\"#000000\"/>\n<text fill=\"#000000\" font-family=\"Times,serif\" font-size=\"14.00\" text-anchor=\"middle\" x=\"212.5\" y=\"-31.3\">input:</text>\n<polyline fill=\"none\" points=\"183.5,-23.5 241.5,-23.5 \" stroke=\"#000000\"/>\n<text fill=\"#000000\" font-family=\"Times,serif\" font-size=\"14.00\" text-anchor=\"middle\" x=\"212.5\" y=\"-8.3\">output:</text>\n<polyline fill=\"none\" points=\"241.5,-.5 241.5,-46.5 \" stroke=\"#000000\"/>\n<text fill=\"#000000\" font-family=\"Times,serif\" font-size=\"14.00\" text-anchor=\"middle\" x=\"289\" y=\"-31.3\">(None, 1024)</text>\n<polyline fill=\"none\" points=\"241.5,-23.5 336.5,-23.5 \" stroke=\"#000000\"/>\n<text fill=\"#000000\" font-family=\"Times,serif\" font-size=\"14.00\" text-anchor=\"middle\" x=\"289\" y=\"-8.3\">(None, 7)</text>\n</g>\n<!-- 140689695658112&#45;&gt;140689766045736 -->\n<g class=\"edge\" id=\"edge14\">\n<title>140689695658112-&gt;140689766045736</title>\n<path d=\"M172.5,-83.3799C172.5,-75.1745 172.5,-65.7679 172.5,-56.8786\" fill=\"none\" stroke=\"#000000\"/>\n<polygon fill=\"#000000\" points=\"176.0001,-56.784 172.5,-46.784 169.0001,-56.784 176.0001,-56.784\" stroke=\"#000000\"/>\n</g>\n</g>\n</svg>"
          },
          "metadata": {
            "tags": []
          },
          "execution_count": 7
        }
      ]
    },
    {
      "cell_type": "markdown",
      "metadata": {
        "id": "3X1e4KNufHoa",
        "colab_type": "text"
      },
      "source": [
        "## 3. Train defined model\n",
        "- Note that the training history including loss and accuracy will be save in 'history' variable\n",
        "- In case your system runs out of memory (OOM), try to decrease batch size"
      ]
    },
    {
      "cell_type": "code",
      "metadata": {
        "id": "ahAeW6BWfHoa",
        "colab_type": "code",
        "colab": {
          "base_uri": "https://localhost:8080/",
          "height": 632
        },
        "outputId": "975ce98c-0a6b-466d-ace2-7883102ee5bf"
      },
      "source": [
        "# declare learning rate, loss function, and model metric\n",
        "loss = 'categorical_crossentropy'\n",
        "lr = 0.0001\n",
        "model.compile(loss=loss, optimizer=Adam(lr=lr), metrics=['accuracy'])\n",
        "\n",
        "# train the model\n",
        "batch_size = 128\n",
        "epochs = 15\n",
        "\n",
        "starting_time = time.time()\n",
        "history = model.fit(x_training, y_training,\n",
        "                    validation_data=(x_testing, y_testing),\n",
        "                    batch_size=batch_size,\n",
        "                    epochs=epochs)\n",
        "print('> training time is %.4f minutes' % ((time.time() - starting_time)/60))"
      ],
      "execution_count": 8,
      "outputs": [
        {
          "output_type": "stream",
          "text": [
            "WARNING:tensorflow:From /usr/local/lib/python3.6/dist-packages/tensorflow/python/ops/math_ops.py:3066: to_int32 (from tensorflow.python.ops.math_ops) is deprecated and will be removed in a future version.\n",
            "Instructions for updating:\n",
            "Use tf.cast instead.\n",
            "Train on 28709 samples, validate on 3589 samples\n",
            "Epoch 1/15\n",
            "28709/28709 [==============================] - 28s 958us/step - loss: 2.8359 - acc: 0.2458 - val_loss: 1.7196 - val_acc: 0.3435\n",
            "Epoch 2/15\n",
            "28709/28709 [==============================] - 21s 726us/step - loss: 1.6353 - acc: 0.3646 - val_loss: 1.5248 - val_acc: 0.4082\n",
            "Epoch 3/15\n",
            "28709/28709 [==============================] - 21s 738us/step - loss: 1.5065 - acc: 0.4229 - val_loss: 1.3921 - val_acc: 0.4667\n",
            "Epoch 4/15\n",
            "28709/28709 [==============================] - 21s 747us/step - loss: 1.4080 - acc: 0.4630 - val_loss: 1.3394 - val_acc: 0.4954\n",
            "Epoch 5/15\n",
            "28709/28709 [==============================] - 22s 754us/step - loss: 1.3127 - acc: 0.5003 - val_loss: 1.2682 - val_acc: 0.5222\n",
            "Epoch 6/15\n",
            "28709/28709 [==============================] - 22s 763us/step - loss: 1.2227 - acc: 0.5388 - val_loss: 1.2402 - val_acc: 0.5277\n",
            "Epoch 7/15\n",
            "28709/28709 [==============================] - 22s 770us/step - loss: 1.1433 - acc: 0.5708 - val_loss: 1.2174 - val_acc: 0.5417\n",
            "Epoch 8/15\n",
            "28709/28709 [==============================] - 22s 774us/step - loss: 1.0516 - acc: 0.6105 - val_loss: 1.1764 - val_acc: 0.5581\n",
            "Epoch 9/15\n",
            "28709/28709 [==============================] - 22s 778us/step - loss: 0.9556 - acc: 0.6454 - val_loss: 1.1571 - val_acc: 0.5743\n",
            "Epoch 10/15\n",
            "28709/28709 [==============================] - 22s 776us/step - loss: 0.8482 - acc: 0.6919 - val_loss: 1.1877 - val_acc: 0.5734\n",
            "Epoch 11/15\n",
            "28709/28709 [==============================] - 22s 776us/step - loss: 0.7366 - acc: 0.7338 - val_loss: 1.1849 - val_acc: 0.5865\n",
            "Epoch 12/15\n",
            "28709/28709 [==============================] - 22s 777us/step - loss: 0.6381 - acc: 0.7744 - val_loss: 1.2459 - val_acc: 0.5815\n",
            "Epoch 13/15\n",
            "28709/28709 [==============================] - 22s 778us/step - loss: 0.5470 - acc: 0.8046 - val_loss: 1.2724 - val_acc: 0.5848\n",
            "Epoch 14/15\n",
            "28709/28709 [==============================] - 22s 781us/step - loss: 0.4587 - acc: 0.8387 - val_loss: 1.3039 - val_acc: 0.5938\n",
            "Epoch 15/15\n",
            "28709/28709 [==============================] - 22s 781us/step - loss: 0.3916 - acc: 0.8628 - val_loss: 1.3526 - val_acc: 0.5871\n",
            "> training time is 5.5981 minutes\n"
          ],
          "name": "stdout"
        }
      ]
    },
    {
      "cell_type": "code",
      "metadata": {
        "id": "3ZIQVoJGiwFH",
        "colab_type": "code",
        "colab": {
          "base_uri": "https://localhost:8080/",
          "height": 289
        },
        "outputId": "2bc80bf3-6793-425a-ef23-74e61aeb89bb"
      },
      "source": [
        "!nvidia-smi"
      ],
      "execution_count": 9,
      "outputs": [
        {
          "output_type": "stream",
          "text": [
            "Mon Jun  3 09:07:40 2019       \n",
            "+-----------------------------------------------------------------------------+\n",
            "| NVIDIA-SMI 418.67       Driver Version: 410.79       CUDA Version: 10.0     |\n",
            "|-------------------------------+----------------------+----------------------+\n",
            "| GPU  Name        Persistence-M| Bus-Id        Disp.A | Volatile Uncorr. ECC |\n",
            "| Fan  Temp  Perf  Pwr:Usage/Cap|         Memory-Usage | GPU-Util  Compute M. |\n",
            "|===============================+======================+======================|\n",
            "|   0  Tesla T4            Off  | 00000000:00:04.0 Off |                    0 |\n",
            "| N/A   75C    P0    32W /  70W |   2597MiB / 15079MiB |      0%      Default |\n",
            "+-------------------------------+----------------------+----------------------+\n",
            "                                                                               \n",
            "+-----------------------------------------------------------------------------+\n",
            "| Processes:                                                       GPU Memory |\n",
            "|  GPU       PID   Type   Process name                             Usage      |\n",
            "|=============================================================================|\n",
            "+-----------------------------------------------------------------------------+\n"
          ],
          "name": "stdout"
        }
      ]
    },
    {
      "cell_type": "markdown",
      "metadata": {
        "id": "NvCC9CAffHoe",
        "colab_type": "text"
      },
      "source": [
        "### Training time\n",
        "- Training time with Tesla T4 is about 5.5981 minutes for 15 epochs\n",
        "- Training time with Core i7 is around 302.6 minutes (~5.04 hours) for 15 epochs"
      ]
    },
    {
      "cell_type": "markdown",
      "metadata": {
        "id": "yu3sTpfUfHof",
        "colab_type": "text"
      },
      "source": [
        "## 4. Evaluate trained model"
      ]
    },
    {
      "cell_type": "code",
      "metadata": {
        "id": "sEup5xRLfHog",
        "colab_type": "code",
        "colab": {
          "base_uri": "https://localhost:8080/",
          "height": 68
        },
        "outputId": "4b632c80-4ee3-4e32-9182-a3b9e07c5e02"
      },
      "source": [
        "score = model.evaluate(x_testing, y_testing)\n",
        "print('Test loss:', score[0])\n",
        "print('Test accuracy:', score[1])"
      ],
      "execution_count": 10,
      "outputs": [
        {
          "output_type": "stream",
          "text": [
            "3589/3589 [==============================] - 1s 328us/step\n",
            "Test loss: 1.3526217216700025\n",
            "Test accuracy: 0.5870716077233795\n"
          ],
          "name": "stdout"
        }
      ]
    },
    {
      "cell_type": "code",
      "metadata": {
        "id": "nrLZv3cifHok",
        "colab_type": "code",
        "colab": {}
      },
      "source": [
        "def get_emotion(ohv):\n",
        "    indx = np.argmax(ohv)\n",
        "        \n",
        "    if indx == 0:\n",
        "        return 'angry'\n",
        "    elif indx == 1:\n",
        "        return 'disgust'\n",
        "    elif indx == 2:\n",
        "        return 'fear'\n",
        "    elif indx == 3:\n",
        "        return 'happy'\n",
        "    elif indx == 4:\n",
        "        return 'sad'\n",
        "    elif indx == 5:\n",
        "        return 'surprise'\n",
        "    elif indx == 6:\n",
        "        return 'neutral'"
      ],
      "execution_count": 0,
      "outputs": []
    },
    {
      "cell_type": "code",
      "metadata": {
        "id": "Fi94qzWDfHom",
        "colab_type": "code",
        "colab": {
          "base_uri": "https://localhost:8080/",
          "height": 320
        },
        "outputId": "62aa5327-e9a9-4c38-85f5-b2f3c83d7876"
      },
      "source": [
        "# 2163\n",
        "img_indx = np.uint32(np.random.rand()*(testingset.shape[0] - 1))\n",
        "sample = x_testing[img_indx, :]\n",
        "sample = sample.reshape(48, 48)\n",
        "\n",
        "pred_cls = model.predict(sample.reshape(1, 48, 48, 1))\n",
        "\n",
        "plt.imshow(sample, cmap='gray')\n",
        "plt.show()\n",
        "print('> testing image index: %d\\n> true emotion: %s\\n> predicted emotion: %s' % (img_indx, get_emotion(y_testing[img_indx, :]), get_emotion(pred_cls)))"
      ],
      "execution_count": 12,
      "outputs": [
        {
          "output_type": "display_data",
          "data": {
            "image/png": "[encoded data removed]",
            "text/plain": [
              "<Figure size 432x288 with 1 Axes>"
            ]
          },
          "metadata": {
            "tags": []
          }
        },
        {
          "output_type": "stream",
          "text": [
            "> testing image index: 528\n",
            "> true emotion: sad\n",
            "> predicted emotion: happy\n"
          ],
          "name": "stdout"
        }
      ]
    }
  ]
}