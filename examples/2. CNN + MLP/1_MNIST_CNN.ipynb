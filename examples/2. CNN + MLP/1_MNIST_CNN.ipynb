{
  "nbformat": 4,
  "nbformat_minor": 0,
  "metadata": {
    "colab": {
      "name": "1_MNIST_CNN.ipynb",
      "version": "0.3.2",
      "provenance": [],
      "include_colab_link": true
    },
    "language_info": {
      "codemirror_mode": {
        "name": "ipython",
        "version": 3
      },
      "file_extension": ".py",
      "mimetype": "text/x-python",
      "name": "python",
      "nbconvert_exporter": "python",
      "pygments_lexer": "ipython3",
      "version": "3.7.3"
    },
    "kernelspec": {
      "name": "python3",
      "display_name": "Python 3"
    },
    "accelerator": "GPU"
  },
  "cells": [
    {
      "cell_type": "markdown",
      "metadata": {
        "id": "view-in-github",
        "colab_type": "text"
      },
      "source": [
        "<a href=\"https://colab.research.google.com/github/th2l-aipn/IntroDL/blob/master/examples/2.%20CNN%20%2B%20MLP/1_MNIST_CNN.ipynb\" target=\"_parent\"><img src=\"https://colab.research.google.com/assets/colab-badge.svg\" alt=\"Open In Colab\"/></a>"
      ]
    },
    {
      "cell_type": "markdown",
      "metadata": {
        "id": "zpaFoviuUeGK",
        "colab_type": "text"
      },
      "source": [
        "---\n",
        "```\n",
        "> Nguyen Hai Duong\n",
        "> nhduong_3010@live.com\n",
        "> Modified: Huynh Van Thong\n",
        "> hvthong.298@gmail.com\n",
        "> Chonnam National University\n",
        "```\n",
        "---"
      ]
    },
    {
      "cell_type": "markdown",
      "metadata": {
        "id": "VFXQUBM1UeGO",
        "colab_type": "text"
      },
      "source": [
        "# Overview\n",
        "- MNIST dataset\n",
        "  + Goal: recognizing handwritten digits\n",
        "  + Input: a 28x28 image\n",
        "  + Output: class label (0, 1,..., 9)\n",
        "- Defining an CNN+MLP for MNIST\n",
        "- Training and evaluating an CNN+MLP"
      ]
    },
    {
      "cell_type": "markdown",
      "metadata": {
        "id": "lqP-bMwVUeGP",
        "colab_type": "text"
      },
      "source": [
        "## Import libraries"
      ]
    },
    {
      "cell_type": "code",
      "metadata": {
        "id": "4n1BueUOUeGP",
        "colab_type": "code",
        "colab": {
          "base_uri": "https://localhost:8080/",
          "height": 34
        },
        "outputId": "6f9d759c-dfc0-4d7e-ee3b-f3a384205086"
      },
      "source": [
        "import keras\n",
        "from keras.datasets import mnist\n",
        "from keras.models import Model\n",
        "from keras.layers import Input, Conv2D, MaxPooling2D, Flatten, Dense, Dropout\n",
        "from keras.optimizers import SGD\n",
        "\n",
        "from IPython.display import SVG\n",
        "from keras.utils.vis_utils import model_to_dot\n",
        "\n",
        "import time\n",
        "import numpy as np\n",
        "import matplotlib.pyplot as plt"
      ],
      "execution_count": 1,
      "outputs": [
        {
          "output_type": "stream",
          "text": [
            "Using TensorFlow backend.\n"
          ],
          "name": "stderr"
        }
      ]
    },
    {
      "cell_type": "code",
      "metadata": {
        "id": "KXjTdnfSUeGV",
        "colab_type": "code",
        "colab": {}
      },
      "source": [
        "num_classes = 10   # 10 classes: 0, 1,..., 9"
      ],
      "execution_count": 0,
      "outputs": []
    },
    {
      "cell_type": "markdown",
      "metadata": {
        "id": "YvDEut1EUeGX",
        "colab_type": "text"
      },
      "source": [
        "## 1. Data"
      ]
    },
    {
      "cell_type": "code",
      "metadata": {
        "id": "LzqLrrGeUeGY",
        "colab_type": "code",
        "colab": {
          "base_uri": "https://localhost:8080/",
          "height": 51
        },
        "outputId": "8200fa23-54c3-41fa-91fd-34dbfef13e1a"
      },
      "source": [
        "# the data, shuffled and split between train and test sets\n",
        "(x_train, y_train), (x_test, y_test) = mnist.load_data()\n",
        "\n",
        "x_train = x_train.reshape(60000, 28, 28, 1)\n",
        "x_test = x_test.reshape(10000, 28, 28, 1)\n",
        "x_train = x_train.astype('float32')\n",
        "x_test = x_test.astype('float32')\n",
        "x_train /= 255\n",
        "x_test /= 255\n",
        "print(x_train.shape[0], 'train samples')\n",
        "print(x_test.shape[0], 'test samples')\n",
        "\n",
        "# convert class vectors to binary class matrices\n",
        "y_train = keras.utils.to_categorical(y_train, num_classes)\n",
        "y_test = keras.utils.to_categorical(y_test, num_classes)"
      ],
      "execution_count": 3,
      "outputs": [
        {
          "output_type": "stream",
          "text": [
            "60000 train samples\n",
            "10000 test samples\n"
          ],
          "name": "stdout"
        }
      ]
    },
    {
      "cell_type": "markdown",
      "metadata": {
        "id": "3jJT0wGpUeGc",
        "colab_type": "text"
      },
      "source": [
        "## 2. Declare model"
      ]
    },
    {
      "cell_type": "code",
      "metadata": {
        "id": "-jZiWq1NUeGd",
        "colab_type": "code",
        "colab": {
          "base_uri": "https://localhost:8080/",
          "height": 802
        },
        "outputId": "f09c6b99-db87-49a3-a339-fcad2f984f00"
      },
      "source": [
        "# 28x28 MNIST image\n",
        "input_image = Input(shape=(28, 28, 1), name='Input')\n",
        "\n",
        "# conv, pooling layers + dropout\n",
        "x = Conv2D(filters=64, kernel_size=(3, 3), padding='same', activation='relu', name='conv1')(input_image)\n",
        "x = MaxPooling2D(pool_size=(2, 2), name='pool1')(x)\n",
        "x = Dropout(rate=0.2, name='conv_dropout1')(x)\n",
        "\n",
        "x = Conv2D(filters=128, kernel_size=(3, 3), padding='same', activation='relu', name='conv2')(x)\n",
        "x = MaxPooling2D(pool_size=(2, 2), name='pool2')(x)\n",
        "x = Dropout(rate=0.2, name='conv_dropout2')(x)\n",
        "\n",
        "x = Conv2D(filters=256, kernel_size=(3, 3), padding='same', activation='relu', name='conv3')(x)\n",
        "x = MaxPooling2D(pool_size=(2, 2), name='pool3')(x)\n",
        "x = Dropout(rate=0.2, name='conv_dropout3')(x)\n",
        "\n",
        "# similar to the MLP example!\n",
        "# matrix ---> vector\n",
        "x = Flatten(name='flatten')(x)\n",
        "\n",
        "# FC layers + dropout\n",
        "x = Dense(units=512, activation='relu', name='fc1')(x)\n",
        "x = Dropout(rate=0.2, name='fc_dropout1')(x)\n",
        "\n",
        "x = Dense(units=512, activation='relu', name='fc2')(x)\n",
        "x = Dropout(rate=0.2, name='fc_dropout2')(x)\n",
        "\n",
        "output_label = Dense(units=num_classes, activation='softmax', name='fc3_10ways_softmax')(x)\n",
        "\n",
        "# define model\n",
        "model = Model(inputs=input_image, outputs=output_label, name='mnist_mlp')\n",
        "\n",
        "# print model summary\n",
        "model.summary()"
      ],
      "execution_count": 4,
      "outputs": [
        {
          "output_type": "stream",
          "text": [
            "WARNING:tensorflow:From /usr/local/lib/python3.6/dist-packages/tensorflow/python/framework/op_def_library.py:263: colocate_with (from tensorflow.python.framework.ops) is deprecated and will be removed in a future version.\n",
            "Instructions for updating:\n",
            "Colocations handled automatically by placer.\n",
            "WARNING:tensorflow:From /usr/local/lib/python3.6/dist-packages/keras/backend/tensorflow_backend.py:3445: calling dropout (from tensorflow.python.ops.nn_ops) with keep_prob is deprecated and will be removed in a future version.\n",
            "Instructions for updating:\n",
            "Please use `rate` instead of `keep_prob`. Rate should be set to `rate = 1 - keep_prob`.\n",
            "_________________________________________________________________\n",
            "Layer (type)                 Output Shape              Param #   \n",
            "=================================================================\n",
            "Input (InputLayer)           (None, 28, 28, 1)         0         \n",
            "_________________________________________________________________\n",
            "conv1 (Conv2D)               (None, 28, 28, 64)        640       \n",
            "_________________________________________________________________\n",
            "pool1 (MaxPooling2D)         (None, 14, 14, 64)        0         \n",
            "_________________________________________________________________\n",
            "conv_dropout1 (Dropout)      (None, 14, 14, 64)        0         \n",
            "_________________________________________________________________\n",
            "conv2 (Conv2D)               (None, 14, 14, 128)       73856     \n",
            "_________________________________________________________________\n",
            "pool2 (MaxPooling2D)         (None, 7, 7, 128)         0         \n",
            "_________________________________________________________________\n",
            "conv_dropout2 (Dropout)      (None, 7, 7, 128)         0         \n",
            "_________________________________________________________________\n",
            "conv3 (Conv2D)               (None, 7, 7, 256)         295168    \n",
            "_________________________________________________________________\n",
            "pool3 (MaxPooling2D)         (None, 3, 3, 256)         0         \n",
            "_________________________________________________________________\n",
            "conv_dropout3 (Dropout)      (None, 3, 3, 256)         0         \n",
            "_________________________________________________________________\n",
            "flatten (Flatten)            (None, 2304)              0         \n",
            "_________________________________________________________________\n",
            "fc1 (Dense)                  (None, 512)               1180160   \n",
            "_________________________________________________________________\n",
            "fc_dropout1 (Dropout)        (None, 512)               0         \n",
            "_________________________________________________________________\n",
            "fc2 (Dense)                  (None, 512)               262656    \n",
            "_________________________________________________________________\n",
            "fc_dropout2 (Dropout)        (None, 512)               0         \n",
            "_________________________________________________________________\n",
            "fc3_10ways_softmax (Dense)   (None, 10)                5130      \n",
            "=================================================================\n",
            "Total params: 1,817,610\n",
            "Trainable params: 1,817,610\n",
            "Non-trainable params: 0\n",
            "_________________________________________________________________\n"
          ],
          "name": "stdout"
        }
      ]
    },
    {
      "cell_type": "code",
      "metadata": {
        "id": "6iL0ZiCqUeGg",
        "colab_type": "code",
        "colab": {
          "base_uri": "https://localhost:8080/",
          "height": 1754
        },
        "outputId": "b2f55091-fe02-44cb-e244-e0e57d026ba5"
      },
      "source": [
        "SVG(model_to_dot(model, show_shapes=True).create(prog='dot', format='svg'))"
      ],
      "execution_count": 5,
      "outputs": [
        {
          "output_type": "execute_result",
          "data": {
            "text/plain": [
              "<IPython.core.display.SVG object>"
            ],
            "image/svg+xml": "<svg height=\"1300pt\" viewBox=\"0.00 0.00 353.00 1300.00\" width=\"353pt\" xmlns=\"http://www.w3.org/2000/svg\" xmlns:xlink=\"http://www.w3.org/1999/xlink\">\n<g class=\"graph\" id=\"graph0\" transform=\"scale(1 1) rotate(0) translate(4 1296)\">\n<title>G</title>\n<polygon fill=\"#ffffff\" points=\"-4,4 -4,-1296 349,-1296 349,4 -4,4\" stroke=\"transparent\"/>\n<!-- 140526129454944 -->\n<g class=\"node\" id=\"node1\">\n<title>140526129454944</title>\n<polygon fill=\"none\" points=\"25.5,-1245.5 25.5,-1291.5 319.5,-1291.5 319.5,-1245.5 25.5,-1245.5\" stroke=\"#000000\"/>\n<text fill=\"#000000\" font-family=\"Times,serif\" font-size=\"14.00\" text-anchor=\"middle\" x=\"85\" y=\"-1264.8\">Input: InputLayer</text>\n<polyline fill=\"none\" points=\"144.5,-1245.5 144.5,-1291.5 \" stroke=\"#000000\"/>\n<text fill=\"#000000\" font-family=\"Times,serif\" font-size=\"14.00\" text-anchor=\"middle\" x=\"173.5\" y=\"-1276.3\">input:</text>\n<polyline fill=\"none\" points=\"144.5,-1268.5 202.5,-1268.5 \" stroke=\"#000000\"/>\n<text fill=\"#000000\" font-family=\"Times,serif\" font-size=\"14.00\" text-anchor=\"middle\" x=\"173.5\" y=\"-1253.3\">output:</text>\n<polyline fill=\"none\" points=\"202.5,-1245.5 202.5,-1291.5 \" stroke=\"#000000\"/>\n<text fill=\"#000000\" font-family=\"Times,serif\" font-size=\"14.00\" text-anchor=\"middle\" x=\"261\" y=\"-1276.3\">(None, 28, 28, 1)</text>\n<polyline fill=\"none\" points=\"202.5,-1268.5 319.5,-1268.5 \" stroke=\"#000000\"/>\n<text fill=\"#000000\" font-family=\"Times,serif\" font-size=\"14.00\" text-anchor=\"middle\" x=\"261\" y=\"-1253.3\">(None, 28, 28, 1)</text>\n</g>\n<!-- 140526129455000 -->\n<g class=\"node\" id=\"node2\">\n<title>140526129455000</title>\n<polygon fill=\"none\" points=\"26,-1162.5 26,-1208.5 319,-1208.5 319,-1162.5 26,-1162.5\" stroke=\"#000000\"/>\n<text fill=\"#000000\" font-family=\"Times,serif\" font-size=\"14.00\" text-anchor=\"middle\" x=\"81\" y=\"-1181.8\">conv1: Conv2D</text>\n<polyline fill=\"none\" points=\"136,-1162.5 136,-1208.5 \" stroke=\"#000000\"/>\n<text fill=\"#000000\" font-family=\"Times,serif\" font-size=\"14.00\" text-anchor=\"middle\" x=\"165\" y=\"-1193.3\">input:</text>\n<polyline fill=\"none\" points=\"136,-1185.5 194,-1185.5 \" stroke=\"#000000\"/>\n<text fill=\"#000000\" font-family=\"Times,serif\" font-size=\"14.00\" text-anchor=\"middle\" x=\"165\" y=\"-1170.3\">output:</text>\n<polyline fill=\"none\" points=\"194,-1162.5 194,-1208.5 \" stroke=\"#000000\"/>\n<text fill=\"#000000\" font-family=\"Times,serif\" font-size=\"14.00\" text-anchor=\"middle\" x=\"256.5\" y=\"-1193.3\">(None, 28, 28, 1)</text>\n<polyline fill=\"none\" points=\"194,-1185.5 319,-1185.5 \" stroke=\"#000000\"/>\n<text fill=\"#000000\" font-family=\"Times,serif\" font-size=\"14.00\" text-anchor=\"middle\" x=\"256.5\" y=\"-1170.3\">(None, 28, 28, 64)</text>\n</g>\n<!-- 140526129454944&#45;&gt;140526129455000 -->\n<g class=\"edge\" id=\"edge1\">\n<title>140526129454944-&gt;140526129455000</title>\n<path d=\"M172.5,-1245.3799C172.5,-1237.1745 172.5,-1227.7679 172.5,-1218.8786\" fill=\"none\" stroke=\"#000000\"/>\n<polygon fill=\"#000000\" points=\"176.0001,-1218.784 172.5,-1208.784 169.0001,-1218.784 176.0001,-1218.784\" stroke=\"#000000\"/>\n</g>\n<!-- 140526129599768 -->\n<g class=\"node\" id=\"node3\">\n<title>140526129599768</title>\n<polygon fill=\"none\" points=\"7,-1079.5 7,-1125.5 338,-1125.5 338,-1079.5 7,-1079.5\" stroke=\"#000000\"/>\n<text fill=\"#000000\" font-family=\"Times,serif\" font-size=\"14.00\" text-anchor=\"middle\" x=\"81\" y=\"-1098.8\">pool1: MaxPooling2D</text>\n<polyline fill=\"none\" points=\"155,-1079.5 155,-1125.5 \" stroke=\"#000000\"/>\n<text fill=\"#000000\" font-family=\"Times,serif\" font-size=\"14.00\" text-anchor=\"middle\" x=\"184\" y=\"-1110.3\">input:</text>\n<polyline fill=\"none\" points=\"155,-1102.5 213,-1102.5 \" stroke=\"#000000\"/>\n<text fill=\"#000000\" font-family=\"Times,serif\" font-size=\"14.00\" text-anchor=\"middle\" x=\"184\" y=\"-1087.3\">output:</text>\n<polyline fill=\"none\" points=\"213,-1079.5 213,-1125.5 \" stroke=\"#000000\"/>\n<text fill=\"#000000\" font-family=\"Times,serif\" font-size=\"14.00\" text-anchor=\"middle\" x=\"275.5\" y=\"-1110.3\">(None, 28, 28, 64)</text>\n<polyline fill=\"none\" points=\"213,-1102.5 338,-1102.5 \" stroke=\"#000000\"/>\n<text fill=\"#000000\" font-family=\"Times,serif\" font-size=\"14.00\" text-anchor=\"middle\" x=\"275.5\" y=\"-1087.3\">(None, 14, 14, 64)</text>\n</g>\n<!-- 140526129455000&#45;&gt;140526129599768 -->\n<g class=\"edge\" id=\"edge2\">\n<title>140526129455000-&gt;140526129599768</title>\n<path d=\"M172.5,-1162.3799C172.5,-1154.1745 172.5,-1144.7679 172.5,-1135.8786\" fill=\"none\" stroke=\"#000000\"/>\n<polygon fill=\"#000000\" points=\"176.0001,-1135.784 172.5,-1125.784 169.0001,-1135.784 176.0001,-1135.784\" stroke=\"#000000\"/>\n</g>\n<!-- 140526129599656 -->\n<g class=\"node\" id=\"node4\">\n<title>140526129599656</title>\n<polygon fill=\"none\" points=\"0,-996.5 0,-1042.5 345,-1042.5 345,-996.5 0,-996.5\" stroke=\"#000000\"/>\n<text fill=\"#000000\" font-family=\"Times,serif\" font-size=\"14.00\" text-anchor=\"middle\" x=\"81\" y=\"-1015.8\">conv_dropout1: Dropout</text>\n<polyline fill=\"none\" points=\"162,-996.5 162,-1042.5 \" stroke=\"#000000\"/>\n<text fill=\"#000000\" font-family=\"Times,serif\" font-size=\"14.00\" text-anchor=\"middle\" x=\"191\" y=\"-1027.3\">input:</text>\n<polyline fill=\"none\" points=\"162,-1019.5 220,-1019.5 \" stroke=\"#000000\"/>\n<text fill=\"#000000\" font-family=\"Times,serif\" font-size=\"14.00\" text-anchor=\"middle\" x=\"191\" y=\"-1004.3\">output:</text>\n<polyline fill=\"none\" points=\"220,-996.5 220,-1042.5 \" stroke=\"#000000\"/>\n<text fill=\"#000000\" font-family=\"Times,serif\" font-size=\"14.00\" text-anchor=\"middle\" x=\"282.5\" y=\"-1027.3\">(None, 14, 14, 64)</text>\n<polyline fill=\"none\" points=\"220,-1019.5 345,-1019.5 \" stroke=\"#000000\"/>\n<text fill=\"#000000\" font-family=\"Times,serif\" font-size=\"14.00\" text-anchor=\"middle\" x=\"282.5\" y=\"-1004.3\">(None, 14, 14, 64)</text>\n</g>\n<!-- 140526129599768&#45;&gt;140526129599656 -->\n<g class=\"edge\" id=\"edge3\">\n<title>140526129599768-&gt;140526129599656</title>\n<path d=\"M172.5,-1079.3799C172.5,-1071.1745 172.5,-1061.7679 172.5,-1052.8786\" fill=\"none\" stroke=\"#000000\"/>\n<polygon fill=\"#000000\" points=\"176.0001,-1052.784 172.5,-1042.784 169.0001,-1052.784 176.0001,-1052.784\" stroke=\"#000000\"/>\n</g>\n<!-- 140526129599712 -->\n<g class=\"node\" id=\"node5\">\n<title>140526129599712</title>\n<polygon fill=\"none\" points=\"22.5,-913.5 22.5,-959.5 322.5,-959.5 322.5,-913.5 22.5,-913.5\" stroke=\"#000000\"/>\n<text fill=\"#000000\" font-family=\"Times,serif\" font-size=\"14.00\" text-anchor=\"middle\" x=\"77.5\" y=\"-932.8\">conv2: Conv2D</text>\n<polyline fill=\"none\" points=\"132.5,-913.5 132.5,-959.5 \" stroke=\"#000000\"/>\n<text fill=\"#000000\" font-family=\"Times,serif\" font-size=\"14.00\" text-anchor=\"middle\" x=\"161.5\" y=\"-944.3\">input:</text>\n<polyline fill=\"none\" points=\"132.5,-936.5 190.5,-936.5 \" stroke=\"#000000\"/>\n<text fill=\"#000000\" font-family=\"Times,serif\" font-size=\"14.00\" text-anchor=\"middle\" x=\"161.5\" y=\"-921.3\">output:</text>\n<polyline fill=\"none\" points=\"190.5,-913.5 190.5,-959.5 \" stroke=\"#000000\"/>\n<text fill=\"#000000\" font-family=\"Times,serif\" font-size=\"14.00\" text-anchor=\"middle\" x=\"256.5\" y=\"-944.3\">(None, 14, 14, 64)</text>\n<polyline fill=\"none\" points=\"190.5,-936.5 322.5,-936.5 \" stroke=\"#000000\"/>\n<text fill=\"#000000\" font-family=\"Times,serif\" font-size=\"14.00\" text-anchor=\"middle\" x=\"256.5\" y=\"-921.3\">(None, 14, 14, 128)</text>\n</g>\n<!-- 140526129599656&#45;&gt;140526129599712 -->\n<g class=\"edge\" id=\"edge4\">\n<title>140526129599656-&gt;140526129599712</title>\n<path d=\"M172.5,-996.3799C172.5,-988.1745 172.5,-978.7679 172.5,-969.8786\" fill=\"none\" stroke=\"#000000\"/>\n<polygon fill=\"#000000\" points=\"176.0001,-969.784 172.5,-959.784 169.0001,-969.784 176.0001,-969.784\" stroke=\"#000000\"/>\n</g>\n<!-- 140526129599264 -->\n<g class=\"node\" id=\"node6\">\n<title>140526129599264</title>\n<polygon fill=\"none\" points=\"3.5,-830.5 3.5,-876.5 341.5,-876.5 341.5,-830.5 3.5,-830.5\" stroke=\"#000000\"/>\n<text fill=\"#000000\" font-family=\"Times,serif\" font-size=\"14.00\" text-anchor=\"middle\" x=\"77.5\" y=\"-849.8\">pool2: MaxPooling2D</text>\n<polyline fill=\"none\" points=\"151.5,-830.5 151.5,-876.5 \" stroke=\"#000000\"/>\n<text fill=\"#000000\" font-family=\"Times,serif\" font-size=\"14.00\" text-anchor=\"middle\" x=\"180.5\" y=\"-861.3\">input:</text>\n<polyline fill=\"none\" points=\"151.5,-853.5 209.5,-853.5 \" stroke=\"#000000\"/>\n<text fill=\"#000000\" font-family=\"Times,serif\" font-size=\"14.00\" text-anchor=\"middle\" x=\"180.5\" y=\"-838.3\">output:</text>\n<polyline fill=\"none\" points=\"209.5,-830.5 209.5,-876.5 \" stroke=\"#000000\"/>\n<text fill=\"#000000\" font-family=\"Times,serif\" font-size=\"14.00\" text-anchor=\"middle\" x=\"275.5\" y=\"-861.3\">(None, 14, 14, 128)</text>\n<polyline fill=\"none\" points=\"209.5,-853.5 341.5,-853.5 \" stroke=\"#000000\"/>\n<text fill=\"#000000\" font-family=\"Times,serif\" font-size=\"14.00\" text-anchor=\"middle\" x=\"275.5\" y=\"-838.3\">(None, 7, 7, 128)</text>\n</g>\n<!-- 140526129599712&#45;&gt;140526129599264 -->\n<g class=\"edge\" id=\"edge5\">\n<title>140526129599712-&gt;140526129599264</title>\n<path d=\"M172.5,-913.3799C172.5,-905.1745 172.5,-895.7679 172.5,-886.8786\" fill=\"none\" stroke=\"#000000\"/>\n<polygon fill=\"#000000\" points=\"176.0001,-886.784 172.5,-876.784 169.0001,-886.784 176.0001,-886.784\" stroke=\"#000000\"/>\n</g>\n<!-- 140527659395056 -->\n<g class=\"node\" id=\"node7\">\n<title>140527659395056</title>\n<polygon fill=\"none\" points=\"4,-747.5 4,-793.5 341,-793.5 341,-747.5 4,-747.5\" stroke=\"#000000\"/>\n<text fill=\"#000000\" font-family=\"Times,serif\" font-size=\"14.00\" text-anchor=\"middle\" x=\"85\" y=\"-766.8\">conv_dropout2: Dropout</text>\n<polyline fill=\"none\" points=\"166,-747.5 166,-793.5 \" stroke=\"#000000\"/>\n<text fill=\"#000000\" font-family=\"Times,serif\" font-size=\"14.00\" text-anchor=\"middle\" x=\"195\" y=\"-778.3\">input:</text>\n<polyline fill=\"none\" points=\"166,-770.5 224,-770.5 \" stroke=\"#000000\"/>\n<text fill=\"#000000\" font-family=\"Times,serif\" font-size=\"14.00\" text-anchor=\"middle\" x=\"195\" y=\"-755.3\">output:</text>\n<polyline fill=\"none\" points=\"224,-747.5 224,-793.5 \" stroke=\"#000000\"/>\n<text fill=\"#000000\" font-family=\"Times,serif\" font-size=\"14.00\" text-anchor=\"middle\" x=\"282.5\" y=\"-778.3\">(None, 7, 7, 128)</text>\n<polyline fill=\"none\" points=\"224,-770.5 341,-770.5 \" stroke=\"#000000\"/>\n<text fill=\"#000000\" font-family=\"Times,serif\" font-size=\"14.00\" text-anchor=\"middle\" x=\"282.5\" y=\"-755.3\">(None, 7, 7, 128)</text>\n</g>\n<!-- 140526129599264&#45;&gt;140527659395056 -->\n<g class=\"edge\" id=\"edge6\">\n<title>140526129599264-&gt;140527659395056</title>\n<path d=\"M172.5,-830.3799C172.5,-822.1745 172.5,-812.7679 172.5,-803.8786\" fill=\"none\" stroke=\"#000000\"/>\n<polygon fill=\"#000000\" points=\"176.0001,-803.784 172.5,-793.784 169.0001,-803.784 176.0001,-803.784\" stroke=\"#000000\"/>\n</g>\n<!-- 140526120858344 -->\n<g class=\"node\" id=\"node8\">\n<title>140526120858344</title>\n<polygon fill=\"none\" points=\"30,-664.5 30,-710.5 315,-710.5 315,-664.5 30,-664.5\" stroke=\"#000000\"/>\n<text fill=\"#000000\" font-family=\"Times,serif\" font-size=\"14.00\" text-anchor=\"middle\" x=\"85\" y=\"-683.8\">conv3: Conv2D</text>\n<polyline fill=\"none\" points=\"140,-664.5 140,-710.5 \" stroke=\"#000000\"/>\n<text fill=\"#000000\" font-family=\"Times,serif\" font-size=\"14.00\" text-anchor=\"middle\" x=\"169\" y=\"-695.3\">input:</text>\n<polyline fill=\"none\" points=\"140,-687.5 198,-687.5 \" stroke=\"#000000\"/>\n<text fill=\"#000000\" font-family=\"Times,serif\" font-size=\"14.00\" text-anchor=\"middle\" x=\"169\" y=\"-672.3\">output:</text>\n<polyline fill=\"none\" points=\"198,-664.5 198,-710.5 \" stroke=\"#000000\"/>\n<text fill=\"#000000\" font-family=\"Times,serif\" font-size=\"14.00\" text-anchor=\"middle\" x=\"256.5\" y=\"-695.3\">(None, 7, 7, 128)</text>\n<polyline fill=\"none\" points=\"198,-687.5 315,-687.5 \" stroke=\"#000000\"/>\n<text fill=\"#000000\" font-family=\"Times,serif\" font-size=\"14.00\" text-anchor=\"middle\" x=\"256.5\" y=\"-672.3\">(None, 7, 7, 256)</text>\n</g>\n<!-- 140527659395056&#45;&gt;140526120858344 -->\n<g class=\"edge\" id=\"edge7\">\n<title>140527659395056-&gt;140526120858344</title>\n<path d=\"M172.5,-747.3799C172.5,-739.1745 172.5,-729.7679 172.5,-720.8786\" fill=\"none\" stroke=\"#000000\"/>\n<polygon fill=\"#000000\" points=\"176.0001,-720.784 172.5,-710.784 169.0001,-720.784 176.0001,-720.784\" stroke=\"#000000\"/>\n</g>\n<!-- 140527755288080 -->\n<g class=\"node\" id=\"node9\">\n<title>140527755288080</title>\n<polygon fill=\"none\" points=\"11,-581.5 11,-627.5 334,-627.5 334,-581.5 11,-581.5\" stroke=\"#000000\"/>\n<text fill=\"#000000\" font-family=\"Times,serif\" font-size=\"14.00\" text-anchor=\"middle\" x=\"85\" y=\"-600.8\">pool3: MaxPooling2D</text>\n<polyline fill=\"none\" points=\"159,-581.5 159,-627.5 \" stroke=\"#000000\"/>\n<text fill=\"#000000\" font-family=\"Times,serif\" font-size=\"14.00\" text-anchor=\"middle\" x=\"188\" y=\"-612.3\">input:</text>\n<polyline fill=\"none\" points=\"159,-604.5 217,-604.5 \" stroke=\"#000000\"/>\n<text fill=\"#000000\" font-family=\"Times,serif\" font-size=\"14.00\" text-anchor=\"middle\" x=\"188\" y=\"-589.3\">output:</text>\n<polyline fill=\"none\" points=\"217,-581.5 217,-627.5 \" stroke=\"#000000\"/>\n<text fill=\"#000000\" font-family=\"Times,serif\" font-size=\"14.00\" text-anchor=\"middle\" x=\"275.5\" y=\"-612.3\">(None, 7, 7, 256)</text>\n<polyline fill=\"none\" points=\"217,-604.5 334,-604.5 \" stroke=\"#000000\"/>\n<text fill=\"#000000\" font-family=\"Times,serif\" font-size=\"14.00\" text-anchor=\"middle\" x=\"275.5\" y=\"-589.3\">(None, 3, 3, 256)</text>\n</g>\n<!-- 140526120858344&#45;&gt;140527755288080 -->\n<g class=\"edge\" id=\"edge8\">\n<title>140526120858344-&gt;140527755288080</title>\n<path d=\"M172.5,-664.3799C172.5,-656.1745 172.5,-646.7679 172.5,-637.8786\" fill=\"none\" stroke=\"#000000\"/>\n<polygon fill=\"#000000\" points=\"176.0001,-637.784 172.5,-627.784 169.0001,-637.784 176.0001,-637.784\" stroke=\"#000000\"/>\n</g>\n<!-- 140526120667624 -->\n<g class=\"node\" id=\"node10\">\n<title>140526120667624</title>\n<polygon fill=\"none\" points=\"4,-498.5 4,-544.5 341,-544.5 341,-498.5 4,-498.5\" stroke=\"#000000\"/>\n<text fill=\"#000000\" font-family=\"Times,serif\" font-size=\"14.00\" text-anchor=\"middle\" x=\"85\" y=\"-517.8\">conv_dropout3: Dropout</text>\n<polyline fill=\"none\" points=\"166,-498.5 166,-544.5 \" stroke=\"#000000\"/>\n<text fill=\"#000000\" font-family=\"Times,serif\" font-size=\"14.00\" text-anchor=\"middle\" x=\"195\" y=\"-529.3\">input:</text>\n<polyline fill=\"none\" points=\"166,-521.5 224,-521.5 \" stroke=\"#000000\"/>\n<text fill=\"#000000\" font-family=\"Times,serif\" font-size=\"14.00\" text-anchor=\"middle\" x=\"195\" y=\"-506.3\">output:</text>\n<polyline fill=\"none\" points=\"224,-498.5 224,-544.5 \" stroke=\"#000000\"/>\n<text fill=\"#000000\" font-family=\"Times,serif\" font-size=\"14.00\" text-anchor=\"middle\" x=\"282.5\" y=\"-529.3\">(None, 3, 3, 256)</text>\n<polyline fill=\"none\" points=\"224,-521.5 341,-521.5 \" stroke=\"#000000\"/>\n<text fill=\"#000000\" font-family=\"Times,serif\" font-size=\"14.00\" text-anchor=\"middle\" x=\"282.5\" y=\"-506.3\">(None, 3, 3, 256)</text>\n</g>\n<!-- 140527755288080&#45;&gt;140526120667624 -->\n<g class=\"edge\" id=\"edge9\">\n<title>140527755288080-&gt;140526120667624</title>\n<path d=\"M172.5,-581.3799C172.5,-573.1745 172.5,-563.7679 172.5,-554.8786\" fill=\"none\" stroke=\"#000000\"/>\n<polygon fill=\"#000000\" points=\"176.0001,-554.784 172.5,-544.784 169.0001,-554.784 176.0001,-554.784\" stroke=\"#000000\"/>\n</g>\n<!-- 140526120668464 -->\n<g class=\"node\" id=\"node11\">\n<title>140526120668464</title>\n<polygon fill=\"none\" points=\"36,-415.5 36,-461.5 309,-461.5 309,-415.5 36,-415.5\" stroke=\"#000000\"/>\n<text fill=\"#000000\" font-family=\"Times,serif\" font-size=\"14.00\" text-anchor=\"middle\" x=\"85\" y=\"-434.8\">flatten: Flatten</text>\n<polyline fill=\"none\" points=\"134,-415.5 134,-461.5 \" stroke=\"#000000\"/>\n<text fill=\"#000000\" font-family=\"Times,serif\" font-size=\"14.00\" text-anchor=\"middle\" x=\"163\" y=\"-446.3\">input:</text>\n<polyline fill=\"none\" points=\"134,-438.5 192,-438.5 \" stroke=\"#000000\"/>\n<text fill=\"#000000\" font-family=\"Times,serif\" font-size=\"14.00\" text-anchor=\"middle\" x=\"163\" y=\"-423.3\">output:</text>\n<polyline fill=\"none\" points=\"192,-415.5 192,-461.5 \" stroke=\"#000000\"/>\n<text fill=\"#000000\" font-family=\"Times,serif\" font-size=\"14.00\" text-anchor=\"middle\" x=\"250.5\" y=\"-446.3\">(None, 3, 3, 256)</text>\n<polyline fill=\"none\" points=\"192,-438.5 309,-438.5 \" stroke=\"#000000\"/>\n<text fill=\"#000000\" font-family=\"Times,serif\" font-size=\"14.00\" text-anchor=\"middle\" x=\"250.5\" y=\"-423.3\">(None, 2304)</text>\n</g>\n<!-- 140526120667624&#45;&gt;140526120668464 -->\n<g class=\"edge\" id=\"edge10\">\n<title>140526120667624-&gt;140526120668464</title>\n<path d=\"M172.5,-498.3799C172.5,-490.1745 172.5,-480.7679 172.5,-471.8786\" fill=\"none\" stroke=\"#000000\"/>\n<polygon fill=\"#000000\" points=\"176.0001,-471.784 172.5,-461.784 169.0001,-471.784 176.0001,-471.784\" stroke=\"#000000\"/>\n</g>\n<!-- 140526120665944 -->\n<g class=\"node\" id=\"node12\">\n<title>140526120665944</title>\n<polygon fill=\"none\" points=\"57.5,-332.5 57.5,-378.5 287.5,-378.5 287.5,-332.5 57.5,-332.5\" stroke=\"#000000\"/>\n<text fill=\"#000000\" font-family=\"Times,serif\" font-size=\"14.00\" text-anchor=\"middle\" x=\"96\" y=\"-351.8\">fc1: Dense</text>\n<polyline fill=\"none\" points=\"134.5,-332.5 134.5,-378.5 \" stroke=\"#000000\"/>\n<text fill=\"#000000\" font-family=\"Times,serif\" font-size=\"14.00\" text-anchor=\"middle\" x=\"163.5\" y=\"-363.3\">input:</text>\n<polyline fill=\"none\" points=\"134.5,-355.5 192.5,-355.5 \" stroke=\"#000000\"/>\n<text fill=\"#000000\" font-family=\"Times,serif\" font-size=\"14.00\" text-anchor=\"middle\" x=\"163.5\" y=\"-340.3\">output:</text>\n<polyline fill=\"none\" points=\"192.5,-332.5 192.5,-378.5 \" stroke=\"#000000\"/>\n<text fill=\"#000000\" font-family=\"Times,serif\" font-size=\"14.00\" text-anchor=\"middle\" x=\"240\" y=\"-363.3\">(None, 2304)</text>\n<polyline fill=\"none\" points=\"192.5,-355.5 287.5,-355.5 \" stroke=\"#000000\"/>\n<text fill=\"#000000\" font-family=\"Times,serif\" font-size=\"14.00\" text-anchor=\"middle\" x=\"240\" y=\"-340.3\">(None, 512)</text>\n</g>\n<!-- 140526120668464&#45;&gt;140526120665944 -->\n<g class=\"edge\" id=\"edge11\">\n<title>140526120668464-&gt;140526120665944</title>\n<path d=\"M172.5,-415.3799C172.5,-407.1745 172.5,-397.7679 172.5,-388.8786\" fill=\"none\" stroke=\"#000000\"/>\n<polygon fill=\"#000000\" points=\"176.0001,-388.784 172.5,-378.784 169.0001,-388.784 176.0001,-388.784\" stroke=\"#000000\"/>\n</g>\n<!-- 140526120481008 -->\n<g class=\"node\" id=\"node13\">\n<title>140526120481008</title>\n<polygon fill=\"none\" points=\"28,-249.5 28,-295.5 317,-295.5 317,-249.5 28,-249.5\" stroke=\"#000000\"/>\n<text fill=\"#000000\" font-family=\"Times,serif\" font-size=\"14.00\" text-anchor=\"middle\" x=\"100\" y=\"-268.8\">fc_dropout1: Dropout</text>\n<polyline fill=\"none\" points=\"172,-249.5 172,-295.5 \" stroke=\"#000000\"/>\n<text fill=\"#000000\" font-family=\"Times,serif\" font-size=\"14.00\" text-anchor=\"middle\" x=\"201\" y=\"-280.3\">input:</text>\n<polyline fill=\"none\" points=\"172,-272.5 230,-272.5 \" stroke=\"#000000\"/>\n<text fill=\"#000000\" font-family=\"Times,serif\" font-size=\"14.00\" text-anchor=\"middle\" x=\"201\" y=\"-257.3\">output:</text>\n<polyline fill=\"none\" points=\"230,-249.5 230,-295.5 \" stroke=\"#000000\"/>\n<text fill=\"#000000\" font-family=\"Times,serif\" font-size=\"14.00\" text-anchor=\"middle\" x=\"273.5\" y=\"-280.3\">(None, 512)</text>\n<polyline fill=\"none\" points=\"230,-272.5 317,-272.5 \" stroke=\"#000000\"/>\n<text fill=\"#000000\" font-family=\"Times,serif\" font-size=\"14.00\" text-anchor=\"middle\" x=\"273.5\" y=\"-257.3\">(None, 512)</text>\n</g>\n<!-- 140526120665944&#45;&gt;140526120481008 -->\n<g class=\"edge\" id=\"edge12\">\n<title>140526120665944-&gt;140526120481008</title>\n<path d=\"M172.5,-332.3799C172.5,-324.1745 172.5,-314.7679 172.5,-305.8786\" fill=\"none\" stroke=\"#000000\"/>\n<polygon fill=\"#000000\" points=\"176.0001,-305.784 172.5,-295.784 169.0001,-305.784 176.0001,-305.784\" stroke=\"#000000\"/>\n</g>\n<!-- 140526120184744 -->\n<g class=\"node\" id=\"node14\">\n<title>140526120184744</title>\n<polygon fill=\"none\" points=\"61.5,-166.5 61.5,-212.5 283.5,-212.5 283.5,-166.5 61.5,-166.5\" stroke=\"#000000\"/>\n<text fill=\"#000000\" font-family=\"Times,serif\" font-size=\"14.00\" text-anchor=\"middle\" x=\"100\" y=\"-185.8\">fc2: Dense</text>\n<polyline fill=\"none\" points=\"138.5,-166.5 138.5,-212.5 \" stroke=\"#000000\"/>\n<text fill=\"#000000\" font-family=\"Times,serif\" font-size=\"14.00\" text-anchor=\"middle\" x=\"167.5\" y=\"-197.3\">input:</text>\n<polyline fill=\"none\" points=\"138.5,-189.5 196.5,-189.5 \" stroke=\"#000000\"/>\n<text fill=\"#000000\" font-family=\"Times,serif\" font-size=\"14.00\" text-anchor=\"middle\" x=\"167.5\" y=\"-174.3\">output:</text>\n<polyline fill=\"none\" points=\"196.5,-166.5 196.5,-212.5 \" stroke=\"#000000\"/>\n<text fill=\"#000000\" font-family=\"Times,serif\" font-size=\"14.00\" text-anchor=\"middle\" x=\"240\" y=\"-197.3\">(None, 512)</text>\n<polyline fill=\"none\" points=\"196.5,-189.5 283.5,-189.5 \" stroke=\"#000000\"/>\n<text fill=\"#000000\" font-family=\"Times,serif\" font-size=\"14.00\" text-anchor=\"middle\" x=\"240\" y=\"-174.3\">(None, 512)</text>\n</g>\n<!-- 140526120481008&#45;&gt;140526120184744 -->\n<g class=\"edge\" id=\"edge13\">\n<title>140526120481008-&gt;140526120184744</title>\n<path d=\"M172.5,-249.3799C172.5,-241.1745 172.5,-231.7679 172.5,-222.8786\" fill=\"none\" stroke=\"#000000\"/>\n<polygon fill=\"#000000\" points=\"176.0001,-222.784 172.5,-212.784 169.0001,-222.784 176.0001,-222.784\" stroke=\"#000000\"/>\n</g>\n<!-- 140526120184352 -->\n<g class=\"node\" id=\"node15\">\n<title>140526120184352</title>\n<polygon fill=\"none\" points=\"28,-83.5 28,-129.5 317,-129.5 317,-83.5 28,-83.5\" stroke=\"#000000\"/>\n<text fill=\"#000000\" font-family=\"Times,serif\" font-size=\"14.00\" text-anchor=\"middle\" x=\"100\" y=\"-102.8\">fc_dropout2: Dropout</text>\n<polyline fill=\"none\" points=\"172,-83.5 172,-129.5 \" stroke=\"#000000\"/>\n<text fill=\"#000000\" font-family=\"Times,serif\" font-size=\"14.00\" text-anchor=\"middle\" x=\"201\" y=\"-114.3\">input:</text>\n<polyline fill=\"none\" points=\"172,-106.5 230,-106.5 \" stroke=\"#000000\"/>\n<text fill=\"#000000\" font-family=\"Times,serif\" font-size=\"14.00\" text-anchor=\"middle\" x=\"201\" y=\"-91.3\">output:</text>\n<polyline fill=\"none\" points=\"230,-83.5 230,-129.5 \" stroke=\"#000000\"/>\n<text fill=\"#000000\" font-family=\"Times,serif\" font-size=\"14.00\" text-anchor=\"middle\" x=\"273.5\" y=\"-114.3\">(None, 512)</text>\n<polyline fill=\"none\" points=\"230,-106.5 317,-106.5 \" stroke=\"#000000\"/>\n<text fill=\"#000000\" font-family=\"Times,serif\" font-size=\"14.00\" text-anchor=\"middle\" x=\"273.5\" y=\"-91.3\">(None, 512)</text>\n</g>\n<!-- 140526120184744&#45;&gt;140526120184352 -->\n<g class=\"edge\" id=\"edge14\">\n<title>140526120184744-&gt;140526120184352</title>\n<path d=\"M172.5,-166.3799C172.5,-158.1745 172.5,-148.7679 172.5,-139.8786\" fill=\"none\" stroke=\"#000000\"/>\n<polygon fill=\"#000000\" points=\"176.0001,-139.784 172.5,-129.784 169.0001,-139.784 176.0001,-139.784\" stroke=\"#000000\"/>\n</g>\n<!-- 140526119783560 -->\n<g class=\"node\" id=\"node16\">\n<title>140526119783560</title>\n<polygon fill=\"none\" points=\"9,-.5 9,-46.5 336,-46.5 336,-.5 9,-.5\" stroke=\"#000000\"/>\n<text fill=\"#000000\" font-family=\"Times,serif\" font-size=\"14.00\" text-anchor=\"middle\" x=\"100\" y=\"-19.8\">fc3_10ways_softmax: Dense</text>\n<polyline fill=\"none\" points=\"191,-.5 191,-46.5 \" stroke=\"#000000\"/>\n<text fill=\"#000000\" font-family=\"Times,serif\" font-size=\"14.00\" text-anchor=\"middle\" x=\"220\" y=\"-31.3\">input:</text>\n<polyline fill=\"none\" points=\"191,-23.5 249,-23.5 \" stroke=\"#000000\"/>\n<text fill=\"#000000\" font-family=\"Times,serif\" font-size=\"14.00\" text-anchor=\"middle\" x=\"220\" y=\"-8.3\">output:</text>\n<polyline fill=\"none\" points=\"249,-.5 249,-46.5 \" stroke=\"#000000\"/>\n<text fill=\"#000000\" font-family=\"Times,serif\" font-size=\"14.00\" text-anchor=\"middle\" x=\"292.5\" y=\"-31.3\">(None, 512)</text>\n<polyline fill=\"none\" points=\"249,-23.5 336,-23.5 \" stroke=\"#000000\"/>\n<text fill=\"#000000\" font-family=\"Times,serif\" font-size=\"14.00\" text-anchor=\"middle\" x=\"292.5\" y=\"-8.3\">(None, 10)</text>\n</g>\n<!-- 140526120184352&#45;&gt;140526119783560 -->\n<g class=\"edge\" id=\"edge15\">\n<title>140526120184352-&gt;140526119783560</title>\n<path d=\"M172.5,-83.3799C172.5,-75.1745 172.5,-65.7679 172.5,-56.8786\" fill=\"none\" stroke=\"#000000\"/>\n<polygon fill=\"#000000\" points=\"176.0001,-56.784 172.5,-46.784 169.0001,-56.784 176.0001,-56.784\" stroke=\"#000000\"/>\n</g>\n</g>\n</svg>"
          },
          "metadata": {
            "tags": []
          },
          "execution_count": 5
        }
      ]
    },
    {
      "cell_type": "markdown",
      "metadata": {
        "id": "Dmmnaz8XUeGk",
        "colab_type": "text"
      },
      "source": [
        "## 3. Train defined model\n",
        "- Note that the training history including loss and accuracy will be save in 'history' variable\n",
        "- In case your system runs out of memory (OOM), try to decrease batch size"
      ]
    },
    {
      "cell_type": "code",
      "metadata": {
        "id": "xP0zgS69UeGk",
        "colab_type": "code",
        "colab": {
          "base_uri": "https://localhost:8080/",
          "height": 1142
        },
        "outputId": "2f63b588-82d5-4ac7-abd5-dc045e89fbe2"
      },
      "source": [
        "# declare learning rate, loss function, and model metric\n",
        "loss = 'categorical_crossentropy'\n",
        "lr = 0.01\n",
        "model.compile(loss=loss, optimizer=SGD(lr=lr), metrics=['accuracy'])\n",
        "\n",
        "# train the model\n",
        "batch_size = 128\n",
        "epochs = 30\n",
        "\n",
        "starting_time = time.time()\n",
        "history = model.fit(x_train, y_train,\n",
        "                    validation_data=(x_test, y_test),\n",
        "                    batch_size=batch_size,\n",
        "                    epochs=epochs)\n",
        "print('> training time is %.4f minutes' % ((time.time() - starting_time)/60))"
      ],
      "execution_count": 6,
      "outputs": [
        {
          "output_type": "stream",
          "text": [
            "WARNING:tensorflow:From /usr/local/lib/python3.6/dist-packages/tensorflow/python/ops/math_ops.py:3066: to_int32 (from tensorflow.python.ops.math_ops) is deprecated and will be removed in a future version.\n",
            "Instructions for updating:\n",
            "Use tf.cast instead.\n",
            "Train on 60000 samples, validate on 10000 samples\n",
            "Epoch 1/30\n",
            "60000/60000 [==============================] - 9s 151us/step - loss: 2.1968 - acc: 0.2520 - val_loss: 1.5357 - val_acc: 0.6374\n",
            "Epoch 2/30\n",
            "60000/60000 [==============================] - 6s 100us/step - loss: 0.8806 - acc: 0.7067 - val_loss: 0.3249 - val_acc: 0.9047\n",
            "Epoch 3/30\n",
            "60000/60000 [==============================] - 6s 103us/step - loss: 0.3994 - acc: 0.8741 - val_loss: 0.1840 - val_acc: 0.9440\n",
            "Epoch 4/30\n",
            "60000/60000 [==============================] - 6s 103us/step - loss: 0.2737 - acc: 0.9141 - val_loss: 0.1365 - val_acc: 0.9579\n",
            "Epoch 5/30\n",
            "60000/60000 [==============================] - 6s 101us/step - loss: 0.2187 - acc: 0.9311 - val_loss: 0.1131 - val_acc: 0.9618\n",
            "Epoch 6/30\n",
            "60000/60000 [==============================] - 6s 103us/step - loss: 0.1932 - acc: 0.9394 - val_loss: 0.1008 - val_acc: 0.9677\n",
            "Epoch 7/30\n",
            "60000/60000 [==============================] - 6s 104us/step - loss: 0.1682 - acc: 0.9468 - val_loss: 0.0875 - val_acc: 0.9702\n",
            "Epoch 8/30\n",
            "60000/60000 [==============================] - 6s 103us/step - loss: 0.1515 - acc: 0.9521 - val_loss: 0.0786 - val_acc: 0.9731\n",
            "Epoch 9/30\n",
            "60000/60000 [==============================] - 6s 102us/step - loss: 0.1419 - acc: 0.9555 - val_loss: 0.0727 - val_acc: 0.9760\n",
            "Epoch 10/30\n",
            "60000/60000 [==============================] - 6s 102us/step - loss: 0.1319 - acc: 0.9589 - val_loss: 0.0669 - val_acc: 0.9774\n",
            "Epoch 11/30\n",
            "60000/60000 [==============================] - 6s 101us/step - loss: 0.1223 - acc: 0.9619 - val_loss: 0.0615 - val_acc: 0.9789\n",
            "Epoch 12/30\n",
            "60000/60000 [==============================] - 6s 100us/step - loss: 0.1163 - acc: 0.9634 - val_loss: 0.0612 - val_acc: 0.9786\n",
            "Epoch 13/30\n",
            "60000/60000 [==============================] - 6s 100us/step - loss: 0.1088 - acc: 0.9655 - val_loss: 0.0561 - val_acc: 0.9813\n",
            "Epoch 14/30\n",
            "60000/60000 [==============================] - 6s 102us/step - loss: 0.1053 - acc: 0.9664 - val_loss: 0.0536 - val_acc: 0.9815\n",
            "Epoch 15/30\n",
            "60000/60000 [==============================] - 6s 101us/step - loss: 0.0983 - acc: 0.9691 - val_loss: 0.0495 - val_acc: 0.9833\n",
            "Epoch 16/30\n",
            "60000/60000 [==============================] - 6s 100us/step - loss: 0.0965 - acc: 0.9692 - val_loss: 0.0477 - val_acc: 0.9842\n",
            "Epoch 17/30\n",
            "60000/60000 [==============================] - 6s 100us/step - loss: 0.0932 - acc: 0.9712 - val_loss: 0.0475 - val_acc: 0.9838\n",
            "Epoch 18/30\n",
            "60000/60000 [==============================] - 6s 101us/step - loss: 0.0882 - acc: 0.9725 - val_loss: 0.0444 - val_acc: 0.9847\n",
            "Epoch 19/30\n",
            "60000/60000 [==============================] - 6s 101us/step - loss: 0.0873 - acc: 0.9728 - val_loss: 0.0430 - val_acc: 0.9858\n",
            "Epoch 20/30\n",
            "60000/60000 [==============================] - 6s 101us/step - loss: 0.0821 - acc: 0.9736 - val_loss: 0.0402 - val_acc: 0.9855\n",
            "Epoch 21/30\n",
            "60000/60000 [==============================] - 6s 101us/step - loss: 0.0783 - acc: 0.9757 - val_loss: 0.0405 - val_acc: 0.9861\n",
            "Epoch 22/30\n",
            "60000/60000 [==============================] - 6s 101us/step - loss: 0.0780 - acc: 0.9758 - val_loss: 0.0387 - val_acc: 0.9867\n",
            "Epoch 23/30\n",
            "60000/60000 [==============================] - 6s 101us/step - loss: 0.0756 - acc: 0.9758 - val_loss: 0.0379 - val_acc: 0.9859\n",
            "Epoch 24/30\n",
            "60000/60000 [==============================] - 6s 100us/step - loss: 0.0712 - acc: 0.9772 - val_loss: 0.0366 - val_acc: 0.9864\n",
            "Epoch 25/30\n",
            "60000/60000 [==============================] - 6s 100us/step - loss: 0.0700 - acc: 0.9776 - val_loss: 0.0343 - val_acc: 0.9869\n",
            "Epoch 26/30\n",
            "60000/60000 [==============================] - 6s 100us/step - loss: 0.0709 - acc: 0.9780 - val_loss: 0.0334 - val_acc: 0.9880\n",
            "Epoch 27/30\n",
            "60000/60000 [==============================] - 6s 100us/step - loss: 0.0675 - acc: 0.9781 - val_loss: 0.0329 - val_acc: 0.9878\n",
            "Epoch 28/30\n",
            "60000/60000 [==============================] - 6s 100us/step - loss: 0.0653 - acc: 0.9795 - val_loss: 0.0325 - val_acc: 0.9875\n",
            "Epoch 29/30\n",
            "60000/60000 [==============================] - 6s 100us/step - loss: 0.0639 - acc: 0.9798 - val_loss: 0.0322 - val_acc: 0.9885\n",
            "Epoch 30/30\n",
            "60000/60000 [==============================] - 6s 100us/step - loss: 0.0636 - acc: 0.9797 - val_loss: 0.0307 - val_acc: 0.9890\n",
            "> training time is 3.0919 minutes\n"
          ],
          "name": "stdout"
        }
      ]
    },
    {
      "cell_type": "code",
      "metadata": {
        "id": "YyRBak19V2Va",
        "colab_type": "code",
        "colab": {
          "base_uri": "https://localhost:8080/",
          "height": 289
        },
        "outputId": "745ee2ab-5bd9-4385-f989-3a28efd3c1a7"
      },
      "source": [
        "!nvidia-smi"
      ],
      "execution_count": 7,
      "outputs": [
        {
          "output_type": "stream",
          "text": [
            "Mon Jun  3 08:00:25 2019       \n",
            "+-----------------------------------------------------------------------------+\n",
            "| NVIDIA-SMI 418.67       Driver Version: 410.79       CUDA Version: 10.0     |\n",
            "|-------------------------------+----------------------+----------------------+\n",
            "| GPU  Name        Persistence-M| Bus-Id        Disp.A | Volatile Uncorr. ECC |\n",
            "| Fan  Temp  Perf  Pwr:Usage/Cap|         Memory-Usage | GPU-Util  Compute M. |\n",
            "|===============================+======================+======================|\n",
            "|   0  Tesla T4            Off  | 00000000:00:04.0 Off |                    0 |\n",
            "| N/A   75C    P0    47W /  70W |   1573MiB / 15079MiB |      0%      Default |\n",
            "+-------------------------------+----------------------+----------------------+\n",
            "                                                                               \n",
            "+-----------------------------------------------------------------------------+\n",
            "| Processes:                                                       GPU Memory |\n",
            "|  GPU       PID   Type   Process name                             Usage      |\n",
            "|=============================================================================|\n",
            "+-----------------------------------------------------------------------------+\n"
          ],
          "name": "stdout"
        }
      ]
    },
    {
      "cell_type": "markdown",
      "metadata": {
        "id": "870bNRe_UeGo",
        "colab_type": "text"
      },
      "source": [
        "### Training time\n",
        "- Training time with Tesla T4 is about 3.0919 minutes for 30 epochs\n",
        "- Training time with Core i7 is around 105.5 minutes for 30 epochs"
      ]
    },
    {
      "cell_type": "markdown",
      "metadata": {
        "id": "okauSEpTUeGp",
        "colab_type": "text"
      },
      "source": [
        "## 4. Evaluate trained model"
      ]
    },
    {
      "cell_type": "code",
      "metadata": {
        "id": "5Vu2hlc6UeGq",
        "colab_type": "code",
        "colab": {
          "base_uri": "https://localhost:8080/",
          "height": 68
        },
        "outputId": "ccc42f06-54e8-4431-c0d4-874208853458"
      },
      "source": [
        "score = model.evaluate(x_test, y_test)\n",
        "print('Test loss:', score[0])\n",
        "print('Test accuracy:', score[1])"
      ],
      "execution_count": 8,
      "outputs": [
        {
          "output_type": "stream",
          "text": [
            "10000/10000 [==============================] - 1s 73us/step\n",
            "Test loss: 0.030712910957168788\n",
            "Test accuracy: 0.989\n"
          ],
          "name": "stdout"
        }
      ]
    },
    {
      "cell_type": "code",
      "metadata": {
        "id": "SfwgZWRUUeGt",
        "colab_type": "code",
        "colab": {
          "base_uri": "https://localhost:8080/",
          "height": 281
        },
        "outputId": "e935655b-3250-4f64-cb89-3b2b8828aeb9"
      },
      "source": [
        "# select a test image randomly\n",
        "random_test_index = np.random.choice(x_test.shape[0], size=1)[0]\n",
        "test_img = x_test[random_test_index]\n",
        "test_label = np.argmax(y_test[random_test_index])\n",
        "\n",
        "# predict test image with trained model\n",
        "pred_label = model.predict(np.expand_dims(test_img, axis=0))\n",
        "pred_label = np.argmax(pred_label)\n",
        "\n",
        "plt.imshow(test_img[:, :, 0], cmap='gray')\n",
        "plt.title('true label = %d, predicted label = %d' % (test_label, pred_label))\n",
        "plt.show()"
      ],
      "execution_count": 9,
      "outputs": [
        {
          "output_type": "display_data",
          "data": {
            "image/png": "[encoded data removed]",
            "text/plain": [
              "<Figure size 432x288 with 1 Axes>"
            ]
          },
          "metadata": {
            "tags": []
          }
        }
      ]
    }
  ]
}