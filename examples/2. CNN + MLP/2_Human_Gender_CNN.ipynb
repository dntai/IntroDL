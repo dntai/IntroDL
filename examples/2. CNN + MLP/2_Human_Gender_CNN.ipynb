{
  "nbformat": 4,
  "nbformat_minor": 0,
  "metadata": {
    "colab": {
      "name": "2_Human_Gender_CNN.ipynb",
      "version": "0.3.2",
      "provenance": [],
      "include_colab_link": true
    },
    "language_info": {
      "codemirror_mode": {
        "name": "ipython",
        "version": 3
      },
      "file_extension": ".py",
      "mimetype": "text/x-python",
      "name": "python",
      "nbconvert_exporter": "python",
      "pygments_lexer": "ipython3",
      "version": "3.7.3"
    },
    "kernelspec": {
      "name": "python3",
      "display_name": "Python 3"
    },
    "accelerator": "GPU"
  },
  "cells": [
    {
      "cell_type": "markdown",
      "metadata": {
        "id": "view-in-github",
        "colab_type": "text"
      },
      "source": [
        "<a href=\"https://colab.research.google.com/github/th2l-aipn/IntroDL/blob/master/examples/2.%20CNN%20%2B%20MLP/2_Human_Gender_CNN.ipynb\" target=\"_parent\"><img src=\"https://colab.research.google.com/assets/colab-badge.svg\" alt=\"Open In Colab\"/></a>"
      ]
    },
    {
      "cell_type": "markdown",
      "metadata": {
        "id": "lTE_kW4gXNVh",
        "colab_type": "text"
      },
      "source": [
        "---\n",
        "```\n",
        "> Nguyen Hai Duong\n",
        "> nhduong_3010@live.com\n",
        "> Modified: Huynh Van Thong\n",
        "> hvthong.298@gmail.com\n",
        "> Chonnam National University\n",
        "```\n",
        "---"
      ]
    },
    {
      "cell_type": "markdown",
      "metadata": {
        "id": "NkyGrERoXNVk",
        "colab_type": "text"
      },
      "source": [
        "# Overview\n",
        "- WIKI dataset (face images + gender + age + ...)\n",
        "  + Goal: classifying human gender\n",
        "  + Input: a 64x64 image\n",
        "  + Output: gender (female or male)\n",
        "- Defining an CNN+MLP for WIKI dataset\n",
        "- Training and evaluating an CNN+MLP"
      ]
    },
    {
      "cell_type": "markdown",
      "metadata": {
        "id": "-id5CbS9XNVl",
        "colab_type": "text"
      },
      "source": [
        "# Import libraries"
      ]
    },
    {
      "cell_type": "code",
      "metadata": {
        "id": "p8EMaV3AXNVm",
        "colab_type": "code",
        "colab": {
          "base_uri": "https://localhost:8080/",
          "height": 34
        },
        "outputId": "3cdcd43b-d344-4b98-fca1-4f27a07cbdf9"
      },
      "source": [
        "import keras\n",
        "from keras.models import Model\n",
        "from keras.layers import Input, Conv2D, MaxPooling2D, Flatten, Dense, Dropout\n",
        "from keras.optimizers import Adam\n",
        "\n",
        "from IPython.display import SVG\n",
        "from keras.utils.vis_utils import model_to_dot\n",
        "\n",
        "import time\n",
        "import numpy as np\n",
        "import matplotlib.pyplot as plt"
      ],
      "execution_count": 1,
      "outputs": [
        {
          "output_type": "stream",
          "text": [
            "Using TensorFlow backend.\n"
          ],
          "name": "stderr"
        }
      ]
    },
    {
      "cell_type": "code",
      "metadata": {
        "id": "DeJgf1nOXNVr",
        "colab_type": "code",
        "colab": {}
      },
      "source": [
        "num_classes = 2   # male vs. female"
      ],
      "execution_count": 0,
      "outputs": []
    },
    {
      "cell_type": "markdown",
      "metadata": {
        "id": "QDCR4NDMXNVu",
        "colab_type": "text"
      },
      "source": [
        "## 1. Data"
      ]
    },
    {
      "cell_type": "markdown",
      "metadata": {
        "id": "PU250GHnXNVv",
        "colab_type": "text"
      },
      "source": [
        "### Download data at https://drive.google.com/open?id=0BxINLo5jshCRYW8xODhNSlkyLTQ\n",
        "This source code and npy files MUST be in the same location"
      ]
    },
    {
      "cell_type": "code",
      "metadata": {
        "id": "u5BYYYXhYtg4",
        "colab_type": "code",
        "colab": {
          "base_uri": "https://localhost:8080/",
          "height": 68
        },
        "outputId": "83333ff2-f3a6-41e5-eb05-917bb11e4de2"
      },
      "source": [
        "# Download dataset\n",
        "import requests\n",
        "url1 = 'https://www.dropbox.com/s/t7lddenrmwv7u1o/64_64_5968_4098_val_x_onehot.npy?dl=1'\n",
        "url2 = 'https://www.dropbox.com/s/qkqiuvbn8mwa4ej/64_64_5968_4098_val_y_onehot.npy?dl=1'\n",
        "url3 = 'https://www.dropbox.com/s/4yijlzpdikwq9fy/64_64_11938_4098_train_x_onehot.npy?dl=1'\n",
        "url4 = 'https://www.dropbox.com/s/cqwhr6nnzwsq31x/64_64_11938_4098_train_y_onehot.npy?dl=1'\n",
        "\n",
        "r1 = requests.get(url1, allow_redirects=True)\n",
        "open('64_64_5968_4098_val_x_onehot.npy', 'wb').write(r1.content)\n",
        "\n",
        "r2 = requests.get(url2, allow_redirects=True)\n",
        "open('64_64_5968_4098_val_y_onehot.npy', 'wb').write(r2.content)\n",
        "\n",
        "r3 = requests.get(url3, allow_redirects=True)\n",
        "open('64_64_11938_4098_train_x_onehot.npy', 'wb').write(r3.content)\n",
        "\n",
        "r4 = requests.get(url4, allow_redirects=True)\n",
        "open('64_64_11938_4098_train_y_onehot.npy', 'wb').write(r4.content)\n",
        "\n",
        "!ls"
      ],
      "execution_count": 3,
      "outputs": [
        {
          "output_type": "stream",
          "text": [
            "64_64_11938_4098_train_x_onehot.npy  64_64_5968_4098_val_y_onehot.npy\n",
            "64_64_11938_4098_train_y_onehot.npy  sample_data\n",
            "64_64_5968_4098_val_x_onehot.npy\n"
          ],
          "name": "stdout"
        }
      ]
    },
    {
      "cell_type": "code",
      "metadata": {
        "id": "WzaLuNabXNVv",
        "colab_type": "code",
        "colab": {}
      },
      "source": [
        "x_train = np.load('64_64_11938_4098_train_x_onehot.npy')\n",
        "y_train = np.load('64_64_11938_4098_train_y_onehot.npy')\n",
        "x_train = np.rot90(x_train, k=3, axes=(1, 2))\n",
        "\n",
        "x_test = np.load('64_64_5968_4098_val_x_onehot.npy')\n",
        "y_test = np.load('64_64_5968_4098_val_y_onehot.npy')\n",
        "x_test = np.rot90(x_test, k=3, axes=(1, 2))"
      ],
      "execution_count": 0,
      "outputs": []
    },
    {
      "cell_type": "markdown",
      "metadata": {
        "id": "VgqLBVgoXNVy",
        "colab_type": "text"
      },
      "source": [
        "## 2. Declare model"
      ]
    },
    {
      "cell_type": "code",
      "metadata": {
        "id": "co1DsxJGXNVy",
        "colab_type": "code",
        "colab": {
          "base_uri": "https://localhost:8080/",
          "height": 1312
        },
        "outputId": "5c6b2035-85f6-455b-d628-3dfa297326d4"
      },
      "source": [
        "# 64x64 portray image\n",
        "input_image = Input(shape=(64, 64, 1), name='Input')\n",
        "\n",
        "# conv, pooling layers + dropout\n",
        "x = Conv2D(filters=16, kernel_size=(3, 3), padding='same', activation='relu', name='conv1_1')(input_image)\n",
        "x = Conv2D(filters=16, kernel_size=(3, 3), padding='same', activation='relu', name='conv1_2')(x)\n",
        "x = MaxPooling2D(pool_size=(2, 2), name='pool1')(x)\n",
        "x = Dropout(rate=0.2, name='conv_dropout1')(x)\n",
        "\n",
        "x = Conv2D(filters=32, kernel_size=(3, 3), padding='same', activation='relu', name='conv2_1')(x)\n",
        "x = Conv2D(filters=32, kernel_size=(3, 3), padding='same', activation='relu', name='conv2_2')(x)\n",
        "x = Conv2D(filters=32, kernel_size=(3, 3), padding='same', activation='relu', name='conv2_3')(x)\n",
        "x = MaxPooling2D(pool_size=(2, 2), name='pool2')(x)\n",
        "x = Dropout(rate=0.2, name='conv_dropout2')(x)\n",
        "\n",
        "x = Conv2D(filters=64, kernel_size=(3, 3), padding='same', activation='relu', name='conv3_1')(x)\n",
        "x = Conv2D(filters=64, kernel_size=(3, 3), padding='same', activation='relu', name='conv3_2')(x)\n",
        "x = Conv2D(filters=64, kernel_size=(3, 3), padding='same', activation='relu', name='conv3_3')(x)\n",
        "x = MaxPooling2D(pool_size=(2, 2), name='pool3')(x)\n",
        "x = Dropout(rate=0.2, name='conv_dropout3')(x)\n",
        "\n",
        "x = Conv2D(filters=128, kernel_size=(3, 3), padding='same', activation='relu', name='conv4_1')(x)\n",
        "x = Conv2D(filters=128, kernel_size=(3, 3), padding='same', activation='relu', name='conv4_2')(x)\n",
        "x = Conv2D(filters=128, kernel_size=(3, 3), padding='same', activation='relu', name='conv4_3')(x)\n",
        "x = MaxPooling2D(pool_size=(2, 2), name='pool4')(x)\n",
        "x = Dropout(rate=0.2, name='conv_dropout4')(x)\n",
        "\n",
        "x = Conv2D(filters=256, kernel_size=(3, 3), padding='same', activation='relu', name='conv5_1')(x)\n",
        "x = Conv2D(filters=256, kernel_size=(3, 3), padding='same', activation='relu', name='conv5_2')(x)\n",
        "x = Conv2D(filters=256, kernel_size=(3, 3), padding='same', activation='relu', name='conv5_3')(x)\n",
        "x = MaxPooling2D(pool_size=(2, 2), name='pool5')(x)\n",
        "x = Dropout(rate=0.2, name='conv_dropout5')(x)\n",
        "\n",
        "# similar to the MLP example!\n",
        "# matrix ---> vector\n",
        "x = Flatten(name='flatten')(x)\n",
        "\n",
        "# FC layers + dropout\n",
        "x = Dense(units=1024, activation='relu', name='fc1')(x)\n",
        "x = Dropout(rate=0.2, name='fc_dropout1')(x)\n",
        "\n",
        "x = Dense(units=1024, activation='relu', name='fc2')(x)\n",
        "x = Dropout(rate=0.2, name='fc_dropout2')(x)\n",
        "\n",
        "output_label = Dense(units=num_classes, activation='softmax', name='fc3_10ways_softmax')(x)\n",
        "\n",
        "# define model\n",
        "model = Model(inputs=input_image, outputs=output_label, name='mnist_mlp')\n",
        "\n",
        "# print model summary\n",
        "model.summary()"
      ],
      "execution_count": 5,
      "outputs": [
        {
          "output_type": "stream",
          "text": [
            "WARNING:tensorflow:From /usr/local/lib/python3.6/dist-packages/tensorflow/python/framework/op_def_library.py:263: colocate_with (from tensorflow.python.framework.ops) is deprecated and will be removed in a future version.\n",
            "Instructions for updating:\n",
            "Colocations handled automatically by placer.\n",
            "WARNING:tensorflow:From /usr/local/lib/python3.6/dist-packages/keras/backend/tensorflow_backend.py:3445: calling dropout (from tensorflow.python.ops.nn_ops) with keep_prob is deprecated and will be removed in a future version.\n",
            "Instructions for updating:\n",
            "Please use `rate` instead of `keep_prob`. Rate should be set to `rate = 1 - keep_prob`.\n",
            "_________________________________________________________________\n",
            "Layer (type)                 Output Shape              Param #   \n",
            "=================================================================\n",
            "Input (InputLayer)           (None, 64, 64, 1)         0         \n",
            "_________________________________________________________________\n",
            "conv1_1 (Conv2D)             (None, 64, 64, 16)        160       \n",
            "_________________________________________________________________\n",
            "conv1_2 (Conv2D)             (None, 64, 64, 16)        2320      \n",
            "_________________________________________________________________\n",
            "pool1 (MaxPooling2D)         (None, 32, 32, 16)        0         \n",
            "_________________________________________________________________\n",
            "conv_dropout1 (Dropout)      (None, 32, 32, 16)        0         \n",
            "_________________________________________________________________\n",
            "conv2_1 (Conv2D)             (None, 32, 32, 32)        4640      \n",
            "_________________________________________________________________\n",
            "conv2_2 (Conv2D)             (None, 32, 32, 32)        9248      \n",
            "_________________________________________________________________\n",
            "conv2_3 (Conv2D)             (None, 32, 32, 32)        9248      \n",
            "_________________________________________________________________\n",
            "pool2 (MaxPooling2D)         (None, 16, 16, 32)        0         \n",
            "_________________________________________________________________\n",
            "conv_dropout2 (Dropout)      (None, 16, 16, 32)        0         \n",
            "_________________________________________________________________\n",
            "conv3_1 (Conv2D)             (None, 16, 16, 64)        18496     \n",
            "_________________________________________________________________\n",
            "conv3_2 (Conv2D)             (None, 16, 16, 64)        36928     \n",
            "_________________________________________________________________\n",
            "conv3_3 (Conv2D)             (None, 16, 16, 64)        36928     \n",
            "_________________________________________________________________\n",
            "pool3 (MaxPooling2D)         (None, 8, 8, 64)          0         \n",
            "_________________________________________________________________\n",
            "conv_dropout3 (Dropout)      (None, 8, 8, 64)          0         \n",
            "_________________________________________________________________\n",
            "conv4_1 (Conv2D)             (None, 8, 8, 128)         73856     \n",
            "_________________________________________________________________\n",
            "conv4_2 (Conv2D)             (None, 8, 8, 128)         147584    \n",
            "_________________________________________________________________\n",
            "conv4_3 (Conv2D)             (None, 8, 8, 128)         147584    \n",
            "_________________________________________________________________\n",
            "pool4 (MaxPooling2D)         (None, 4, 4, 128)         0         \n",
            "_________________________________________________________________\n",
            "conv_dropout4 (Dropout)      (None, 4, 4, 128)         0         \n",
            "_________________________________________________________________\n",
            "conv5_1 (Conv2D)             (None, 4, 4, 256)         295168    \n",
            "_________________________________________________________________\n",
            "conv5_2 (Conv2D)             (None, 4, 4, 256)         590080    \n",
            "_________________________________________________________________\n",
            "conv5_3 (Conv2D)             (None, 4, 4, 256)         590080    \n",
            "_________________________________________________________________\n",
            "pool5 (MaxPooling2D)         (None, 2, 2, 256)         0         \n",
            "_________________________________________________________________\n",
            "conv_dropout5 (Dropout)      (None, 2, 2, 256)         0         \n",
            "_________________________________________________________________\n",
            "flatten (Flatten)            (None, 1024)              0         \n",
            "_________________________________________________________________\n",
            "fc1 (Dense)                  (None, 1024)              1049600   \n",
            "_________________________________________________________________\n",
            "fc_dropout1 (Dropout)        (None, 1024)              0         \n",
            "_________________________________________________________________\n",
            "fc2 (Dense)                  (None, 1024)              1049600   \n",
            "_________________________________________________________________\n",
            "fc_dropout2 (Dropout)        (None, 1024)              0         \n",
            "_________________________________________________________________\n",
            "fc3_10ways_softmax (Dense)   (None, 2)                 2050      \n",
            "=================================================================\n",
            "Total params: 4,063,570\n",
            "Trainable params: 4,063,570\n",
            "Non-trainable params: 0\n",
            "_________________________________________________________________\n"
          ],
          "name": "stdout"
        }
      ]
    },
    {
      "cell_type": "code",
      "metadata": {
        "id": "P_2SD2-jXNV2",
        "colab_type": "code",
        "colab": {
          "base_uri": "https://localhost:8080/",
          "height": 3414
        },
        "outputId": "10c20d7c-075d-4d07-c6d0-9d0c3a89ded0"
      },
      "source": [
        "SVG(model_to_dot(model, show_shapes=True).create(prog='dot', format='svg'))"
      ],
      "execution_count": 6,
      "outputs": [
        {
          "output_type": "execute_result",
          "data": {
            "text/plain": [
              "<IPython.core.display.SVG object>"
            ],
            "image/svg+xml": "<svg height=\"2545pt\" viewBox=\"0.00 0.00 353.00 2545.00\" width=\"353pt\" xmlns=\"http://www.w3.org/2000/svg\" xmlns:xlink=\"http://www.w3.org/1999/xlink\">\n<g class=\"graph\" id=\"graph0\" transform=\"scale(1 1) rotate(0) translate(4 2541)\">\n<title>G</title>\n<polygon fill=\"#ffffff\" points=\"-4,4 -4,-2541 349,-2541 349,4 -4,4\" stroke=\"transparent\"/>\n<!-- 139717504943328 -->\n<g class=\"node\" id=\"node1\">\n<title>139717504943328</title>\n<polygon fill=\"none\" points=\"25.5,-2490.5 25.5,-2536.5 319.5,-2536.5 319.5,-2490.5 25.5,-2490.5\" stroke=\"#000000\"/>\n<text fill=\"#000000\" font-family=\"Times,serif\" font-size=\"14.00\" text-anchor=\"middle\" x=\"85\" y=\"-2509.8\">Input: InputLayer</text>\n<polyline fill=\"none\" points=\"144.5,-2490.5 144.5,-2536.5 \" stroke=\"#000000\"/>\n<text fill=\"#000000\" font-family=\"Times,serif\" font-size=\"14.00\" text-anchor=\"middle\" x=\"173.5\" y=\"-2521.3\">input:</text>\n<polyline fill=\"none\" points=\"144.5,-2513.5 202.5,-2513.5 \" stroke=\"#000000\"/>\n<text fill=\"#000000\" font-family=\"Times,serif\" font-size=\"14.00\" text-anchor=\"middle\" x=\"173.5\" y=\"-2498.3\">output:</text>\n<polyline fill=\"none\" points=\"202.5,-2490.5 202.5,-2536.5 \" stroke=\"#000000\"/>\n<text fill=\"#000000\" font-family=\"Times,serif\" font-size=\"14.00\" text-anchor=\"middle\" x=\"261\" y=\"-2521.3\">(None, 64, 64, 1)</text>\n<polyline fill=\"none\" points=\"202.5,-2513.5 319.5,-2513.5 \" stroke=\"#000000\"/>\n<text fill=\"#000000\" font-family=\"Times,serif\" font-size=\"14.00\" text-anchor=\"middle\" x=\"261\" y=\"-2498.3\">(None, 64, 64, 1)</text>\n</g>\n<!-- 139717504943384 -->\n<g class=\"node\" id=\"node2\">\n<title>139717504943384</title>\n<polygon fill=\"none\" points=\"18.5,-2407.5 18.5,-2453.5 326.5,-2453.5 326.5,-2407.5 18.5,-2407.5\" stroke=\"#000000\"/>\n<text fill=\"#000000\" font-family=\"Times,serif\" font-size=\"14.00\" text-anchor=\"middle\" x=\"81\" y=\"-2426.8\">conv1_1: Conv2D</text>\n<polyline fill=\"none\" points=\"143.5,-2407.5 143.5,-2453.5 \" stroke=\"#000000\"/>\n<text fill=\"#000000\" font-family=\"Times,serif\" font-size=\"14.00\" text-anchor=\"middle\" x=\"172.5\" y=\"-2438.3\">input:</text>\n<polyline fill=\"none\" points=\"143.5,-2430.5 201.5,-2430.5 \" stroke=\"#000000\"/>\n<text fill=\"#000000\" font-family=\"Times,serif\" font-size=\"14.00\" text-anchor=\"middle\" x=\"172.5\" y=\"-2415.3\">output:</text>\n<polyline fill=\"none\" points=\"201.5,-2407.5 201.5,-2453.5 \" stroke=\"#000000\"/>\n<text fill=\"#000000\" font-family=\"Times,serif\" font-size=\"14.00\" text-anchor=\"middle\" x=\"264\" y=\"-2438.3\">(None, 64, 64, 1)</text>\n<polyline fill=\"none\" points=\"201.5,-2430.5 326.5,-2430.5 \" stroke=\"#000000\"/>\n<text fill=\"#000000\" font-family=\"Times,serif\" font-size=\"14.00\" text-anchor=\"middle\" x=\"264\" y=\"-2415.3\">(None, 64, 64, 16)</text>\n</g>\n<!-- 139717504943328&#45;&gt;139717504943384 -->\n<g class=\"edge\" id=\"edge1\">\n<title>139717504943328-&gt;139717504943384</title>\n<path d=\"M172.5,-2490.3799C172.5,-2482.1745 172.5,-2472.7679 172.5,-2463.8786\" fill=\"none\" stroke=\"#000000\"/>\n<polygon fill=\"#000000\" points=\"176.0001,-2463.784 172.5,-2453.784 169.0001,-2463.784 176.0001,-2463.784\" stroke=\"#000000\"/>\n</g>\n<!-- 139717504944672 -->\n<g class=\"node\" id=\"node3\">\n<title>139717504944672</title>\n<polygon fill=\"none\" points=\"18.5,-2324.5 18.5,-2370.5 326.5,-2370.5 326.5,-2324.5 18.5,-2324.5\" stroke=\"#000000\"/>\n<text fill=\"#000000\" font-family=\"Times,serif\" font-size=\"14.00\" text-anchor=\"middle\" x=\"81\" y=\"-2343.8\">conv1_2: Conv2D</text>\n<polyline fill=\"none\" points=\"143.5,-2324.5 143.5,-2370.5 \" stroke=\"#000000\"/>\n<text fill=\"#000000\" font-family=\"Times,serif\" font-size=\"14.00\" text-anchor=\"middle\" x=\"172.5\" y=\"-2355.3\">input:</text>\n<polyline fill=\"none\" points=\"143.5,-2347.5 201.5,-2347.5 \" stroke=\"#000000\"/>\n<text fill=\"#000000\" font-family=\"Times,serif\" font-size=\"14.00\" text-anchor=\"middle\" x=\"172.5\" y=\"-2332.3\">output:</text>\n<polyline fill=\"none\" points=\"201.5,-2324.5 201.5,-2370.5 \" stroke=\"#000000\"/>\n<text fill=\"#000000\" font-family=\"Times,serif\" font-size=\"14.00\" text-anchor=\"middle\" x=\"264\" y=\"-2355.3\">(None, 64, 64, 16)</text>\n<polyline fill=\"none\" points=\"201.5,-2347.5 326.5,-2347.5 \" stroke=\"#000000\"/>\n<text fill=\"#000000\" font-family=\"Times,serif\" font-size=\"14.00\" text-anchor=\"middle\" x=\"264\" y=\"-2332.3\">(None, 64, 64, 16)</text>\n</g>\n<!-- 139717504943384&#45;&gt;139717504944672 -->\n<g class=\"edge\" id=\"edge2\">\n<title>139717504943384-&gt;139717504944672</title>\n<path d=\"M172.5,-2407.3799C172.5,-2399.1745 172.5,-2389.7679 172.5,-2380.8786\" fill=\"none\" stroke=\"#000000\"/>\n<polygon fill=\"#000000\" points=\"176.0001,-2380.784 172.5,-2370.784 169.0001,-2380.784 176.0001,-2380.784\" stroke=\"#000000\"/>\n</g>\n<!-- 139717504944560 -->\n<g class=\"node\" id=\"node4\">\n<title>139717504944560</title>\n<polygon fill=\"none\" points=\"7,-2241.5 7,-2287.5 338,-2287.5 338,-2241.5 7,-2241.5\" stroke=\"#000000\"/>\n<text fill=\"#000000\" font-family=\"Times,serif\" font-size=\"14.00\" text-anchor=\"middle\" x=\"81\" y=\"-2260.8\">pool1: MaxPooling2D</text>\n<polyline fill=\"none\" points=\"155,-2241.5 155,-2287.5 \" stroke=\"#000000\"/>\n<text fill=\"#000000\" font-family=\"Times,serif\" font-size=\"14.00\" text-anchor=\"middle\" x=\"184\" y=\"-2272.3\">input:</text>\n<polyline fill=\"none\" points=\"155,-2264.5 213,-2264.5 \" stroke=\"#000000\"/>\n<text fill=\"#000000\" font-family=\"Times,serif\" font-size=\"14.00\" text-anchor=\"middle\" x=\"184\" y=\"-2249.3\">output:</text>\n<polyline fill=\"none\" points=\"213,-2241.5 213,-2287.5 \" stroke=\"#000000\"/>\n<text fill=\"#000000\" font-family=\"Times,serif\" font-size=\"14.00\" text-anchor=\"middle\" x=\"275.5\" y=\"-2272.3\">(None, 64, 64, 16)</text>\n<polyline fill=\"none\" points=\"213,-2264.5 338,-2264.5 \" stroke=\"#000000\"/>\n<text fill=\"#000000\" font-family=\"Times,serif\" font-size=\"14.00\" text-anchor=\"middle\" x=\"275.5\" y=\"-2249.3\">(None, 32, 32, 16)</text>\n</g>\n<!-- 139717504944672&#45;&gt;139717504944560 -->\n<g class=\"edge\" id=\"edge3\">\n<title>139717504944672-&gt;139717504944560</title>\n<path d=\"M172.5,-2324.3799C172.5,-2316.1745 172.5,-2306.7679 172.5,-2297.8786\" fill=\"none\" stroke=\"#000000\"/>\n<polygon fill=\"#000000\" points=\"176.0001,-2297.784 172.5,-2287.784 169.0001,-2297.784 176.0001,-2297.784\" stroke=\"#000000\"/>\n</g>\n<!-- 139717489670240 -->\n<g class=\"node\" id=\"node5\">\n<title>139717489670240</title>\n<polygon fill=\"none\" points=\"0,-2158.5 0,-2204.5 345,-2204.5 345,-2158.5 0,-2158.5\" stroke=\"#000000\"/>\n<text fill=\"#000000\" font-family=\"Times,serif\" font-size=\"14.00\" text-anchor=\"middle\" x=\"81\" y=\"-2177.8\">conv_dropout1: Dropout</text>\n<polyline fill=\"none\" points=\"162,-2158.5 162,-2204.5 \" stroke=\"#000000\"/>\n<text fill=\"#000000\" font-family=\"Times,serif\" font-size=\"14.00\" text-anchor=\"middle\" x=\"191\" y=\"-2189.3\">input:</text>\n<polyline fill=\"none\" points=\"162,-2181.5 220,-2181.5 \" stroke=\"#000000\"/>\n<text fill=\"#000000\" font-family=\"Times,serif\" font-size=\"14.00\" text-anchor=\"middle\" x=\"191\" y=\"-2166.3\">output:</text>\n<polyline fill=\"none\" points=\"220,-2158.5 220,-2204.5 \" stroke=\"#000000\"/>\n<text fill=\"#000000\" font-family=\"Times,serif\" font-size=\"14.00\" text-anchor=\"middle\" x=\"282.5\" y=\"-2189.3\">(None, 32, 32, 16)</text>\n<polyline fill=\"none\" points=\"220,-2181.5 345,-2181.5 \" stroke=\"#000000\"/>\n<text fill=\"#000000\" font-family=\"Times,serif\" font-size=\"14.00\" text-anchor=\"middle\" x=\"282.5\" y=\"-2166.3\">(None, 32, 32, 16)</text>\n</g>\n<!-- 139717504944560&#45;&gt;139717489670240 -->\n<g class=\"edge\" id=\"edge4\">\n<title>139717504944560-&gt;139717489670240</title>\n<path d=\"M172.5,-2241.3799C172.5,-2233.1745 172.5,-2223.7679 172.5,-2214.8786\" fill=\"none\" stroke=\"#000000\"/>\n<polygon fill=\"#000000\" points=\"176.0001,-2214.784 172.5,-2204.784 169.0001,-2214.784 176.0001,-2214.784\" stroke=\"#000000\"/>\n</g>\n<!-- 139717489671864 -->\n<g class=\"node\" id=\"node6\">\n<title>139717489671864</title>\n<polygon fill=\"none\" points=\"18.5,-2075.5 18.5,-2121.5 326.5,-2121.5 326.5,-2075.5 18.5,-2075.5\" stroke=\"#000000\"/>\n<text fill=\"#000000\" font-family=\"Times,serif\" font-size=\"14.00\" text-anchor=\"middle\" x=\"81\" y=\"-2094.8\">conv2_1: Conv2D</text>\n<polyline fill=\"none\" points=\"143.5,-2075.5 143.5,-2121.5 \" stroke=\"#000000\"/>\n<text fill=\"#000000\" font-family=\"Times,serif\" font-size=\"14.00\" text-anchor=\"middle\" x=\"172.5\" y=\"-2106.3\">input:</text>\n<polyline fill=\"none\" points=\"143.5,-2098.5 201.5,-2098.5 \" stroke=\"#000000\"/>\n<text fill=\"#000000\" font-family=\"Times,serif\" font-size=\"14.00\" text-anchor=\"middle\" x=\"172.5\" y=\"-2083.3\">output:</text>\n<polyline fill=\"none\" points=\"201.5,-2075.5 201.5,-2121.5 \" stroke=\"#000000\"/>\n<text fill=\"#000000\" font-family=\"Times,serif\" font-size=\"14.00\" text-anchor=\"middle\" x=\"264\" y=\"-2106.3\">(None, 32, 32, 16)</text>\n<polyline fill=\"none\" points=\"201.5,-2098.5 326.5,-2098.5 \" stroke=\"#000000\"/>\n<text fill=\"#000000\" font-family=\"Times,serif\" font-size=\"14.00\" text-anchor=\"middle\" x=\"264\" y=\"-2083.3\">(None, 32, 32, 32)</text>\n</g>\n<!-- 139717489670240&#45;&gt;139717489671864 -->\n<g class=\"edge\" id=\"edge5\">\n<title>139717489670240-&gt;139717489671864</title>\n<path d=\"M172.5,-2158.3799C172.5,-2150.1745 172.5,-2140.7679 172.5,-2131.8786\" fill=\"none\" stroke=\"#000000\"/>\n<polygon fill=\"#000000\" points=\"176.0001,-2131.784 172.5,-2121.784 169.0001,-2131.784 176.0001,-2131.784\" stroke=\"#000000\"/>\n</g>\n<!-- 139717489669176 -->\n<g class=\"node\" id=\"node7\">\n<title>139717489669176</title>\n<polygon fill=\"none\" points=\"18.5,-1992.5 18.5,-2038.5 326.5,-2038.5 326.5,-1992.5 18.5,-1992.5\" stroke=\"#000000\"/>\n<text fill=\"#000000\" font-family=\"Times,serif\" font-size=\"14.00\" text-anchor=\"middle\" x=\"81\" y=\"-2011.8\">conv2_2: Conv2D</text>\n<polyline fill=\"none\" points=\"143.5,-1992.5 143.5,-2038.5 \" stroke=\"#000000\"/>\n<text fill=\"#000000\" font-family=\"Times,serif\" font-size=\"14.00\" text-anchor=\"middle\" x=\"172.5\" y=\"-2023.3\">input:</text>\n<polyline fill=\"none\" points=\"143.5,-2015.5 201.5,-2015.5 \" stroke=\"#000000\"/>\n<text fill=\"#000000\" font-family=\"Times,serif\" font-size=\"14.00\" text-anchor=\"middle\" x=\"172.5\" y=\"-2000.3\">output:</text>\n<polyline fill=\"none\" points=\"201.5,-1992.5 201.5,-2038.5 \" stroke=\"#000000\"/>\n<text fill=\"#000000\" font-family=\"Times,serif\" font-size=\"14.00\" text-anchor=\"middle\" x=\"264\" y=\"-2023.3\">(None, 32, 32, 32)</text>\n<polyline fill=\"none\" points=\"201.5,-2015.5 326.5,-2015.5 \" stroke=\"#000000\"/>\n<text fill=\"#000000\" font-family=\"Times,serif\" font-size=\"14.00\" text-anchor=\"middle\" x=\"264\" y=\"-2000.3\">(None, 32, 32, 32)</text>\n</g>\n<!-- 139717489671864&#45;&gt;139717489669176 -->\n<g class=\"edge\" id=\"edge6\">\n<title>139717489671864-&gt;139717489669176</title>\n<path d=\"M172.5,-2075.3799C172.5,-2067.1745 172.5,-2057.7679 172.5,-2048.8786\" fill=\"none\" stroke=\"#000000\"/>\n<polygon fill=\"#000000\" points=\"176.0001,-2048.784 172.5,-2038.784 169.0001,-2048.784 176.0001,-2048.784\" stroke=\"#000000\"/>\n</g>\n<!-- 139719135141392 -->\n<g class=\"node\" id=\"node8\">\n<title>139719135141392</title>\n<polygon fill=\"none\" points=\"18.5,-1909.5 18.5,-1955.5 326.5,-1955.5 326.5,-1909.5 18.5,-1909.5\" stroke=\"#000000\"/>\n<text fill=\"#000000\" font-family=\"Times,serif\" font-size=\"14.00\" text-anchor=\"middle\" x=\"81\" y=\"-1928.8\">conv2_3: Conv2D</text>\n<polyline fill=\"none\" points=\"143.5,-1909.5 143.5,-1955.5 \" stroke=\"#000000\"/>\n<text fill=\"#000000\" font-family=\"Times,serif\" font-size=\"14.00\" text-anchor=\"middle\" x=\"172.5\" y=\"-1940.3\">input:</text>\n<polyline fill=\"none\" points=\"143.5,-1932.5 201.5,-1932.5 \" stroke=\"#000000\"/>\n<text fill=\"#000000\" font-family=\"Times,serif\" font-size=\"14.00\" text-anchor=\"middle\" x=\"172.5\" y=\"-1917.3\">output:</text>\n<polyline fill=\"none\" points=\"201.5,-1909.5 201.5,-1955.5 \" stroke=\"#000000\"/>\n<text fill=\"#000000\" font-family=\"Times,serif\" font-size=\"14.00\" text-anchor=\"middle\" x=\"264\" y=\"-1940.3\">(None, 32, 32, 32)</text>\n<polyline fill=\"none\" points=\"201.5,-1932.5 326.5,-1932.5 \" stroke=\"#000000\"/>\n<text fill=\"#000000\" font-family=\"Times,serif\" font-size=\"14.00\" text-anchor=\"middle\" x=\"264\" y=\"-1917.3\">(None, 32, 32, 32)</text>\n</g>\n<!-- 139717489669176&#45;&gt;139719135141392 -->\n<g class=\"edge\" id=\"edge7\">\n<title>139717489669176-&gt;139719135141392</title>\n<path d=\"M172.5,-1992.3799C172.5,-1984.1745 172.5,-1974.7679 172.5,-1965.8786\" fill=\"none\" stroke=\"#000000\"/>\n<polygon fill=\"#000000\" points=\"176.0001,-1965.784 172.5,-1955.784 169.0001,-1965.784 176.0001,-1965.784\" stroke=\"#000000\"/>\n</g>\n<!-- 139717489161552 -->\n<g class=\"node\" id=\"node9\">\n<title>139717489161552</title>\n<polygon fill=\"none\" points=\"7,-1826.5 7,-1872.5 338,-1872.5 338,-1826.5 7,-1826.5\" stroke=\"#000000\"/>\n<text fill=\"#000000\" font-family=\"Times,serif\" font-size=\"14.00\" text-anchor=\"middle\" x=\"81\" y=\"-1845.8\">pool2: MaxPooling2D</text>\n<polyline fill=\"none\" points=\"155,-1826.5 155,-1872.5 \" stroke=\"#000000\"/>\n<text fill=\"#000000\" font-family=\"Times,serif\" font-size=\"14.00\" text-anchor=\"middle\" x=\"184\" y=\"-1857.3\">input:</text>\n<polyline fill=\"none\" points=\"155,-1849.5 213,-1849.5 \" stroke=\"#000000\"/>\n<text fill=\"#000000\" font-family=\"Times,serif\" font-size=\"14.00\" text-anchor=\"middle\" x=\"184\" y=\"-1834.3\">output:</text>\n<polyline fill=\"none\" points=\"213,-1826.5 213,-1872.5 \" stroke=\"#000000\"/>\n<text fill=\"#000000\" font-family=\"Times,serif\" font-size=\"14.00\" text-anchor=\"middle\" x=\"275.5\" y=\"-1857.3\">(None, 32, 32, 32)</text>\n<polyline fill=\"none\" points=\"213,-1849.5 338,-1849.5 \" stroke=\"#000000\"/>\n<text fill=\"#000000\" font-family=\"Times,serif\" font-size=\"14.00\" text-anchor=\"middle\" x=\"275.5\" y=\"-1834.3\">(None, 16, 16, 32)</text>\n</g>\n<!-- 139719135141392&#45;&gt;139717489161552 -->\n<g class=\"edge\" id=\"edge8\">\n<title>139719135141392-&gt;139717489161552</title>\n<path d=\"M172.5,-1909.3799C172.5,-1901.1745 172.5,-1891.7679 172.5,-1882.8786\" fill=\"none\" stroke=\"#000000\"/>\n<polygon fill=\"#000000\" points=\"176.0001,-1882.784 172.5,-1872.784 169.0001,-1882.784 176.0001,-1882.784\" stroke=\"#000000\"/>\n</g>\n<!-- 139717488847000 -->\n<g class=\"node\" id=\"node10\">\n<title>139717488847000</title>\n<polygon fill=\"none\" points=\"0,-1743.5 0,-1789.5 345,-1789.5 345,-1743.5 0,-1743.5\" stroke=\"#000000\"/>\n<text fill=\"#000000\" font-family=\"Times,serif\" font-size=\"14.00\" text-anchor=\"middle\" x=\"81\" y=\"-1762.8\">conv_dropout2: Dropout</text>\n<polyline fill=\"none\" points=\"162,-1743.5 162,-1789.5 \" stroke=\"#000000\"/>\n<text fill=\"#000000\" font-family=\"Times,serif\" font-size=\"14.00\" text-anchor=\"middle\" x=\"191\" y=\"-1774.3\">input:</text>\n<polyline fill=\"none\" points=\"162,-1766.5 220,-1766.5 \" stroke=\"#000000\"/>\n<text fill=\"#000000\" font-family=\"Times,serif\" font-size=\"14.00\" text-anchor=\"middle\" x=\"191\" y=\"-1751.3\">output:</text>\n<polyline fill=\"none\" points=\"220,-1743.5 220,-1789.5 \" stroke=\"#000000\"/>\n<text fill=\"#000000\" font-family=\"Times,serif\" font-size=\"14.00\" text-anchor=\"middle\" x=\"282.5\" y=\"-1774.3\">(None, 16, 16, 32)</text>\n<polyline fill=\"none\" points=\"220,-1766.5 345,-1766.5 \" stroke=\"#000000\"/>\n<text fill=\"#000000\" font-family=\"Times,serif\" font-size=\"14.00\" text-anchor=\"middle\" x=\"282.5\" y=\"-1751.3\">(None, 16, 16, 32)</text>\n</g>\n<!-- 139717489161552&#45;&gt;139717488847000 -->\n<g class=\"edge\" id=\"edge9\">\n<title>139717489161552-&gt;139717488847000</title>\n<path d=\"M172.5,-1826.3799C172.5,-1818.1745 172.5,-1808.7679 172.5,-1799.8786\" fill=\"none\" stroke=\"#000000\"/>\n<polygon fill=\"#000000\" points=\"176.0001,-1799.784 172.5,-1789.784 169.0001,-1799.784 176.0001,-1799.784\" stroke=\"#000000\"/>\n</g>\n<!-- 139717488847504 -->\n<g class=\"node\" id=\"node11\">\n<title>139717488847504</title>\n<polygon fill=\"none\" points=\"18.5,-1660.5 18.5,-1706.5 326.5,-1706.5 326.5,-1660.5 18.5,-1660.5\" stroke=\"#000000\"/>\n<text fill=\"#000000\" font-family=\"Times,serif\" font-size=\"14.00\" text-anchor=\"middle\" x=\"81\" y=\"-1679.8\">conv3_1: Conv2D</text>\n<polyline fill=\"none\" points=\"143.5,-1660.5 143.5,-1706.5 \" stroke=\"#000000\"/>\n<text fill=\"#000000\" font-family=\"Times,serif\" font-size=\"14.00\" text-anchor=\"middle\" x=\"172.5\" y=\"-1691.3\">input:</text>\n<polyline fill=\"none\" points=\"143.5,-1683.5 201.5,-1683.5 \" stroke=\"#000000\"/>\n<text fill=\"#000000\" font-family=\"Times,serif\" font-size=\"14.00\" text-anchor=\"middle\" x=\"172.5\" y=\"-1668.3\">output:</text>\n<polyline fill=\"none\" points=\"201.5,-1660.5 201.5,-1706.5 \" stroke=\"#000000\"/>\n<text fill=\"#000000\" font-family=\"Times,serif\" font-size=\"14.00\" text-anchor=\"middle\" x=\"264\" y=\"-1691.3\">(None, 16, 16, 32)</text>\n<polyline fill=\"none\" points=\"201.5,-1683.5 326.5,-1683.5 \" stroke=\"#000000\"/>\n<text fill=\"#000000\" font-family=\"Times,serif\" font-size=\"14.00\" text-anchor=\"middle\" x=\"264\" y=\"-1668.3\">(None, 16, 16, 64)</text>\n</g>\n<!-- 139717488847000&#45;&gt;139717488847504 -->\n<g class=\"edge\" id=\"edge10\">\n<title>139717488847000-&gt;139717488847504</title>\n<path d=\"M172.5,-1743.3799C172.5,-1735.1745 172.5,-1725.7679 172.5,-1716.8786\" fill=\"none\" stroke=\"#000000\"/>\n<polygon fill=\"#000000\" points=\"176.0001,-1716.784 172.5,-1706.784 169.0001,-1716.784 176.0001,-1716.784\" stroke=\"#000000\"/>\n</g>\n<!-- 139717488846328 -->\n<g class=\"node\" id=\"node12\">\n<title>139717488846328</title>\n<polygon fill=\"none\" points=\"18.5,-1577.5 18.5,-1623.5 326.5,-1623.5 326.5,-1577.5 18.5,-1577.5\" stroke=\"#000000\"/>\n<text fill=\"#000000\" font-family=\"Times,serif\" font-size=\"14.00\" text-anchor=\"middle\" x=\"81\" y=\"-1596.8\">conv3_2: Conv2D</text>\n<polyline fill=\"none\" points=\"143.5,-1577.5 143.5,-1623.5 \" stroke=\"#000000\"/>\n<text fill=\"#000000\" font-family=\"Times,serif\" font-size=\"14.00\" text-anchor=\"middle\" x=\"172.5\" y=\"-1608.3\">input:</text>\n<polyline fill=\"none\" points=\"143.5,-1600.5 201.5,-1600.5 \" stroke=\"#000000\"/>\n<text fill=\"#000000\" font-family=\"Times,serif\" font-size=\"14.00\" text-anchor=\"middle\" x=\"172.5\" y=\"-1585.3\">output:</text>\n<polyline fill=\"none\" points=\"201.5,-1577.5 201.5,-1623.5 \" stroke=\"#000000\"/>\n<text fill=\"#000000\" font-family=\"Times,serif\" font-size=\"14.00\" text-anchor=\"middle\" x=\"264\" y=\"-1608.3\">(None, 16, 16, 64)</text>\n<polyline fill=\"none\" points=\"201.5,-1600.5 326.5,-1600.5 \" stroke=\"#000000\"/>\n<text fill=\"#000000\" font-family=\"Times,serif\" font-size=\"14.00\" text-anchor=\"middle\" x=\"264\" y=\"-1585.3\">(None, 16, 16, 64)</text>\n</g>\n<!-- 139717488847504&#45;&gt;139717488846328 -->\n<g class=\"edge\" id=\"edge11\">\n<title>139717488847504-&gt;139717488846328</title>\n<path d=\"M172.5,-1660.3799C172.5,-1652.1745 172.5,-1642.7679 172.5,-1633.8786\" fill=\"none\" stroke=\"#000000\"/>\n<polygon fill=\"#000000\" points=\"176.0001,-1633.784 172.5,-1623.784 169.0001,-1633.784 176.0001,-1633.784\" stroke=\"#000000\"/>\n</g>\n<!-- 139717489013312 -->\n<g class=\"node\" id=\"node13\">\n<title>139717489013312</title>\n<polygon fill=\"none\" points=\"18.5,-1494.5 18.5,-1540.5 326.5,-1540.5 326.5,-1494.5 18.5,-1494.5\" stroke=\"#000000\"/>\n<text fill=\"#000000\" font-family=\"Times,serif\" font-size=\"14.00\" text-anchor=\"middle\" x=\"81\" y=\"-1513.8\">conv3_3: Conv2D</text>\n<polyline fill=\"none\" points=\"143.5,-1494.5 143.5,-1540.5 \" stroke=\"#000000\"/>\n<text fill=\"#000000\" font-family=\"Times,serif\" font-size=\"14.00\" text-anchor=\"middle\" x=\"172.5\" y=\"-1525.3\">input:</text>\n<polyline fill=\"none\" points=\"143.5,-1517.5 201.5,-1517.5 \" stroke=\"#000000\"/>\n<text fill=\"#000000\" font-family=\"Times,serif\" font-size=\"14.00\" text-anchor=\"middle\" x=\"172.5\" y=\"-1502.3\">output:</text>\n<polyline fill=\"none\" points=\"201.5,-1494.5 201.5,-1540.5 \" stroke=\"#000000\"/>\n<text fill=\"#000000\" font-family=\"Times,serif\" font-size=\"14.00\" text-anchor=\"middle\" x=\"264\" y=\"-1525.3\">(None, 16, 16, 64)</text>\n<polyline fill=\"none\" points=\"201.5,-1517.5 326.5,-1517.5 \" stroke=\"#000000\"/>\n<text fill=\"#000000\" font-family=\"Times,serif\" font-size=\"14.00\" text-anchor=\"middle\" x=\"264\" y=\"-1502.3\">(None, 16, 16, 64)</text>\n</g>\n<!-- 139717488846328&#45;&gt;139717489013312 -->\n<g class=\"edge\" id=\"edge12\">\n<title>139717488846328-&gt;139717489013312</title>\n<path d=\"M172.5,-1577.3799C172.5,-1569.1745 172.5,-1559.7679 172.5,-1550.8786\" fill=\"none\" stroke=\"#000000\"/>\n<polygon fill=\"#000000\" points=\"176.0001,-1550.784 172.5,-1540.784 169.0001,-1550.784 176.0001,-1550.784\" stroke=\"#000000\"/>\n</g>\n<!-- 139717488512584 -->\n<g class=\"node\" id=\"node14\">\n<title>139717488512584</title>\n<polygon fill=\"none\" points=\"7,-1411.5 7,-1457.5 338,-1457.5 338,-1411.5 7,-1411.5\" stroke=\"#000000\"/>\n<text fill=\"#000000\" font-family=\"Times,serif\" font-size=\"14.00\" text-anchor=\"middle\" x=\"81\" y=\"-1430.8\">pool3: MaxPooling2D</text>\n<polyline fill=\"none\" points=\"155,-1411.5 155,-1457.5 \" stroke=\"#000000\"/>\n<text fill=\"#000000\" font-family=\"Times,serif\" font-size=\"14.00\" text-anchor=\"middle\" x=\"184\" y=\"-1442.3\">input:</text>\n<polyline fill=\"none\" points=\"155,-1434.5 213,-1434.5 \" stroke=\"#000000\"/>\n<text fill=\"#000000\" font-family=\"Times,serif\" font-size=\"14.00\" text-anchor=\"middle\" x=\"184\" y=\"-1419.3\">output:</text>\n<polyline fill=\"none\" points=\"213,-1411.5 213,-1457.5 \" stroke=\"#000000\"/>\n<text fill=\"#000000\" font-family=\"Times,serif\" font-size=\"14.00\" text-anchor=\"middle\" x=\"275.5\" y=\"-1442.3\">(None, 16, 16, 64)</text>\n<polyline fill=\"none\" points=\"213,-1434.5 338,-1434.5 \" stroke=\"#000000\"/>\n<text fill=\"#000000\" font-family=\"Times,serif\" font-size=\"14.00\" text-anchor=\"middle\" x=\"275.5\" y=\"-1419.3\">(None, 8, 8, 64)</text>\n</g>\n<!-- 139717489013312&#45;&gt;139717488512584 -->\n<g class=\"edge\" id=\"edge13\">\n<title>139717489013312-&gt;139717488512584</title>\n<path d=\"M172.5,-1494.3799C172.5,-1486.1745 172.5,-1476.7679 172.5,-1467.8786\" fill=\"none\" stroke=\"#000000\"/>\n<polygon fill=\"#000000\" points=\"176.0001,-1467.784 172.5,-1457.784 169.0001,-1467.784 176.0001,-1467.784\" stroke=\"#000000\"/>\n</g>\n<!-- 139717488309360 -->\n<g class=\"node\" id=\"node15\">\n<title>139717488309360</title>\n<polygon fill=\"none\" points=\"7.5,-1328.5 7.5,-1374.5 337.5,-1374.5 337.5,-1328.5 7.5,-1328.5\" stroke=\"#000000\"/>\n<text fill=\"#000000\" font-family=\"Times,serif\" font-size=\"14.00\" text-anchor=\"middle\" x=\"88.5\" y=\"-1347.8\">conv_dropout3: Dropout</text>\n<polyline fill=\"none\" points=\"169.5,-1328.5 169.5,-1374.5 \" stroke=\"#000000\"/>\n<text fill=\"#000000\" font-family=\"Times,serif\" font-size=\"14.00\" text-anchor=\"middle\" x=\"198.5\" y=\"-1359.3\">input:</text>\n<polyline fill=\"none\" points=\"169.5,-1351.5 227.5,-1351.5 \" stroke=\"#000000\"/>\n<text fill=\"#000000\" font-family=\"Times,serif\" font-size=\"14.00\" text-anchor=\"middle\" x=\"198.5\" y=\"-1336.3\">output:</text>\n<polyline fill=\"none\" points=\"227.5,-1328.5 227.5,-1374.5 \" stroke=\"#000000\"/>\n<text fill=\"#000000\" font-family=\"Times,serif\" font-size=\"14.00\" text-anchor=\"middle\" x=\"282.5\" y=\"-1359.3\">(None, 8, 8, 64)</text>\n<polyline fill=\"none\" points=\"227.5,-1351.5 337.5,-1351.5 \" stroke=\"#000000\"/>\n<text fill=\"#000000\" font-family=\"Times,serif\" font-size=\"14.00\" text-anchor=\"middle\" x=\"282.5\" y=\"-1336.3\">(None, 8, 8, 64)</text>\n</g>\n<!-- 139717488512584&#45;&gt;139717488309360 -->\n<g class=\"edge\" id=\"edge14\">\n<title>139717488512584-&gt;139717488309360</title>\n<path d=\"M172.5,-1411.3799C172.5,-1403.1745 172.5,-1393.7679 172.5,-1384.8786\" fill=\"none\" stroke=\"#000000\"/>\n<polygon fill=\"#000000\" points=\"176.0001,-1384.784 172.5,-1374.784 169.0001,-1384.784 176.0001,-1384.784\" stroke=\"#000000\"/>\n</g>\n<!-- 139717488426624 -->\n<g class=\"node\" id=\"node16\">\n<title>139717488426624</title>\n<polygon fill=\"none\" points=\"22.5,-1245.5 22.5,-1291.5 322.5,-1291.5 322.5,-1245.5 22.5,-1245.5\" stroke=\"#000000\"/>\n<text fill=\"#000000\" font-family=\"Times,serif\" font-size=\"14.00\" text-anchor=\"middle\" x=\"85\" y=\"-1264.8\">conv4_1: Conv2D</text>\n<polyline fill=\"none\" points=\"147.5,-1245.5 147.5,-1291.5 \" stroke=\"#000000\"/>\n<text fill=\"#000000\" font-family=\"Times,serif\" font-size=\"14.00\" text-anchor=\"middle\" x=\"176.5\" y=\"-1276.3\">input:</text>\n<polyline fill=\"none\" points=\"147.5,-1268.5 205.5,-1268.5 \" stroke=\"#000000\"/>\n<text fill=\"#000000\" font-family=\"Times,serif\" font-size=\"14.00\" text-anchor=\"middle\" x=\"176.5\" y=\"-1253.3\">output:</text>\n<polyline fill=\"none\" points=\"205.5,-1245.5 205.5,-1291.5 \" stroke=\"#000000\"/>\n<text fill=\"#000000\" font-family=\"Times,serif\" font-size=\"14.00\" text-anchor=\"middle\" x=\"264\" y=\"-1276.3\">(None, 8, 8, 64)</text>\n<polyline fill=\"none\" points=\"205.5,-1268.5 322.5,-1268.5 \" stroke=\"#000000\"/>\n<text fill=\"#000000\" font-family=\"Times,serif\" font-size=\"14.00\" text-anchor=\"middle\" x=\"264\" y=\"-1253.3\">(None, 8, 8, 128)</text>\n</g>\n<!-- 139717488309360&#45;&gt;139717488426624 -->\n<g class=\"edge\" id=\"edge15\">\n<title>139717488309360-&gt;139717488426624</title>\n<path d=\"M172.5,-1328.3799C172.5,-1320.1745 172.5,-1310.7679 172.5,-1301.8786\" fill=\"none\" stroke=\"#000000\"/>\n<polygon fill=\"#000000\" points=\"176.0001,-1301.784 172.5,-1291.784 169.0001,-1301.784 176.0001,-1301.784\" stroke=\"#000000\"/>\n</g>\n<!-- 139717488425336 -->\n<g class=\"node\" id=\"node17\">\n<title>139717488425336</title>\n<polygon fill=\"none\" points=\"22.5,-1162.5 22.5,-1208.5 322.5,-1208.5 322.5,-1162.5 22.5,-1162.5\" stroke=\"#000000\"/>\n<text fill=\"#000000\" font-family=\"Times,serif\" font-size=\"14.00\" text-anchor=\"middle\" x=\"85\" y=\"-1181.8\">conv4_2: Conv2D</text>\n<polyline fill=\"none\" points=\"147.5,-1162.5 147.5,-1208.5 \" stroke=\"#000000\"/>\n<text fill=\"#000000\" font-family=\"Times,serif\" font-size=\"14.00\" text-anchor=\"middle\" x=\"176.5\" y=\"-1193.3\">input:</text>\n<polyline fill=\"none\" points=\"147.5,-1185.5 205.5,-1185.5 \" stroke=\"#000000\"/>\n<text fill=\"#000000\" font-family=\"Times,serif\" font-size=\"14.00\" text-anchor=\"middle\" x=\"176.5\" y=\"-1170.3\">output:</text>\n<polyline fill=\"none\" points=\"205.5,-1162.5 205.5,-1208.5 \" stroke=\"#000000\"/>\n<text fill=\"#000000\" font-family=\"Times,serif\" font-size=\"14.00\" text-anchor=\"middle\" x=\"264\" y=\"-1193.3\">(None, 8, 8, 128)</text>\n<polyline fill=\"none\" points=\"205.5,-1185.5 322.5,-1185.5 \" stroke=\"#000000\"/>\n<text fill=\"#000000\" font-family=\"Times,serif\" font-size=\"14.00\" text-anchor=\"middle\" x=\"264\" y=\"-1170.3\">(None, 8, 8, 128)</text>\n</g>\n<!-- 139717488426624&#45;&gt;139717488425336 -->\n<g class=\"edge\" id=\"edge16\">\n<title>139717488426624-&gt;139717488425336</title>\n<path d=\"M172.5,-1245.3799C172.5,-1237.1745 172.5,-1227.7679 172.5,-1218.8786\" fill=\"none\" stroke=\"#000000\"/>\n<polygon fill=\"#000000\" points=\"176.0001,-1218.784 172.5,-1208.784 169.0001,-1218.784 176.0001,-1218.784\" stroke=\"#000000\"/>\n</g>\n<!-- 139717488073080 -->\n<g class=\"node\" id=\"node18\">\n<title>139717488073080</title>\n<polygon fill=\"none\" points=\"22.5,-1079.5 22.5,-1125.5 322.5,-1125.5 322.5,-1079.5 22.5,-1079.5\" stroke=\"#000000\"/>\n<text fill=\"#000000\" font-family=\"Times,serif\" font-size=\"14.00\" text-anchor=\"middle\" x=\"85\" y=\"-1098.8\">conv4_3: Conv2D</text>\n<polyline fill=\"none\" points=\"147.5,-1079.5 147.5,-1125.5 \" stroke=\"#000000\"/>\n<text fill=\"#000000\" font-family=\"Times,serif\" font-size=\"14.00\" text-anchor=\"middle\" x=\"176.5\" y=\"-1110.3\">input:</text>\n<polyline fill=\"none\" points=\"147.5,-1102.5 205.5,-1102.5 \" stroke=\"#000000\"/>\n<text fill=\"#000000\" font-family=\"Times,serif\" font-size=\"14.00\" text-anchor=\"middle\" x=\"176.5\" y=\"-1087.3\">output:</text>\n<polyline fill=\"none\" points=\"205.5,-1079.5 205.5,-1125.5 \" stroke=\"#000000\"/>\n<text fill=\"#000000\" font-family=\"Times,serif\" font-size=\"14.00\" text-anchor=\"middle\" x=\"264\" y=\"-1110.3\">(None, 8, 8, 128)</text>\n<polyline fill=\"none\" points=\"205.5,-1102.5 322.5,-1102.5 \" stroke=\"#000000\"/>\n<text fill=\"#000000\" font-family=\"Times,serif\" font-size=\"14.00\" text-anchor=\"middle\" x=\"264\" y=\"-1087.3\">(None, 8, 8, 128)</text>\n</g>\n<!-- 139717488425336&#45;&gt;139717488073080 -->\n<g class=\"edge\" id=\"edge17\">\n<title>139717488425336-&gt;139717488073080</title>\n<path d=\"M172.5,-1162.3799C172.5,-1154.1745 172.5,-1144.7679 172.5,-1135.8786\" fill=\"none\" stroke=\"#000000\"/>\n<polygon fill=\"#000000\" points=\"176.0001,-1135.784 172.5,-1125.784 169.0001,-1135.784 176.0001,-1135.784\" stroke=\"#000000\"/>\n</g>\n<!-- 139717487895776 -->\n<g class=\"node\" id=\"node19\">\n<title>139717487895776</title>\n<polygon fill=\"none\" points=\"11,-996.5 11,-1042.5 334,-1042.5 334,-996.5 11,-996.5\" stroke=\"#000000\"/>\n<text fill=\"#000000\" font-family=\"Times,serif\" font-size=\"14.00\" text-anchor=\"middle\" x=\"85\" y=\"-1015.8\">pool4: MaxPooling2D</text>\n<polyline fill=\"none\" points=\"159,-996.5 159,-1042.5 \" stroke=\"#000000\"/>\n<text fill=\"#000000\" font-family=\"Times,serif\" font-size=\"14.00\" text-anchor=\"middle\" x=\"188\" y=\"-1027.3\">input:</text>\n<polyline fill=\"none\" points=\"159,-1019.5 217,-1019.5 \" stroke=\"#000000\"/>\n<text fill=\"#000000\" font-family=\"Times,serif\" font-size=\"14.00\" text-anchor=\"middle\" x=\"188\" y=\"-1004.3\">output:</text>\n<polyline fill=\"none\" points=\"217,-996.5 217,-1042.5 \" stroke=\"#000000\"/>\n<text fill=\"#000000\" font-family=\"Times,serif\" font-size=\"14.00\" text-anchor=\"middle\" x=\"275.5\" y=\"-1027.3\">(None, 8, 8, 128)</text>\n<polyline fill=\"none\" points=\"217,-1019.5 334,-1019.5 \" stroke=\"#000000\"/>\n<text fill=\"#000000\" font-family=\"Times,serif\" font-size=\"14.00\" text-anchor=\"middle\" x=\"275.5\" y=\"-1004.3\">(None, 4, 4, 128)</text>\n</g>\n<!-- 139717488073080&#45;&gt;139717487895776 -->\n<g class=\"edge\" id=\"edge18\">\n<title>139717488073080-&gt;139717487895776</title>\n<path d=\"M172.5,-1079.3799C172.5,-1071.1745 172.5,-1061.7679 172.5,-1052.8786\" fill=\"none\" stroke=\"#000000\"/>\n<polygon fill=\"#000000\" points=\"176.0001,-1052.784 172.5,-1042.784 169.0001,-1052.784 176.0001,-1052.784\" stroke=\"#000000\"/>\n</g>\n<!-- 139717487466984 -->\n<g class=\"node\" id=\"node20\">\n<title>139717487466984</title>\n<polygon fill=\"none\" points=\"4,-913.5 4,-959.5 341,-959.5 341,-913.5 4,-913.5\" stroke=\"#000000\"/>\n<text fill=\"#000000\" font-family=\"Times,serif\" font-size=\"14.00\" text-anchor=\"middle\" x=\"85\" y=\"-932.8\">conv_dropout4: Dropout</text>\n<polyline fill=\"none\" points=\"166,-913.5 166,-959.5 \" stroke=\"#000000\"/>\n<text fill=\"#000000\" font-family=\"Times,serif\" font-size=\"14.00\" text-anchor=\"middle\" x=\"195\" y=\"-944.3\">input:</text>\n<polyline fill=\"none\" points=\"166,-936.5 224,-936.5 \" stroke=\"#000000\"/>\n<text fill=\"#000000\" font-family=\"Times,serif\" font-size=\"14.00\" text-anchor=\"middle\" x=\"195\" y=\"-921.3\">output:</text>\n<polyline fill=\"none\" points=\"224,-913.5 224,-959.5 \" stroke=\"#000000\"/>\n<text fill=\"#000000\" font-family=\"Times,serif\" font-size=\"14.00\" text-anchor=\"middle\" x=\"282.5\" y=\"-944.3\">(None, 4, 4, 128)</text>\n<polyline fill=\"none\" points=\"224,-936.5 341,-936.5 \" stroke=\"#000000\"/>\n<text fill=\"#000000\" font-family=\"Times,serif\" font-size=\"14.00\" text-anchor=\"middle\" x=\"282.5\" y=\"-921.3\">(None, 4, 4, 128)</text>\n</g>\n<!-- 139717487895776&#45;&gt;139717487466984 -->\n<g class=\"edge\" id=\"edge19\">\n<title>139717487895776-&gt;139717487466984</title>\n<path d=\"M172.5,-996.3799C172.5,-988.1745 172.5,-978.7679 172.5,-969.8786\" fill=\"none\" stroke=\"#000000\"/>\n<polygon fill=\"#000000\" points=\"176.0001,-969.784 172.5,-959.784 169.0001,-969.784 176.0001,-969.784\" stroke=\"#000000\"/>\n</g>\n<!-- 139717487467824 -->\n<g class=\"node\" id=\"node21\">\n<title>139717487467824</title>\n<polygon fill=\"none\" points=\"22.5,-830.5 22.5,-876.5 322.5,-876.5 322.5,-830.5 22.5,-830.5\" stroke=\"#000000\"/>\n<text fill=\"#000000\" font-family=\"Times,serif\" font-size=\"14.00\" text-anchor=\"middle\" x=\"85\" y=\"-849.8\">conv5_1: Conv2D</text>\n<polyline fill=\"none\" points=\"147.5,-830.5 147.5,-876.5 \" stroke=\"#000000\"/>\n<text fill=\"#000000\" font-family=\"Times,serif\" font-size=\"14.00\" text-anchor=\"middle\" x=\"176.5\" y=\"-861.3\">input:</text>\n<polyline fill=\"none\" points=\"147.5,-853.5 205.5,-853.5 \" stroke=\"#000000\"/>\n<text fill=\"#000000\" font-family=\"Times,serif\" font-size=\"14.00\" text-anchor=\"middle\" x=\"176.5\" y=\"-838.3\">output:</text>\n<polyline fill=\"none\" points=\"205.5,-830.5 205.5,-876.5 \" stroke=\"#000000\"/>\n<text fill=\"#000000\" font-family=\"Times,serif\" font-size=\"14.00\" text-anchor=\"middle\" x=\"264\" y=\"-861.3\">(None, 4, 4, 128)</text>\n<polyline fill=\"none\" points=\"205.5,-853.5 322.5,-853.5 \" stroke=\"#000000\"/>\n<text fill=\"#000000\" font-family=\"Times,serif\" font-size=\"14.00\" text-anchor=\"middle\" x=\"264\" y=\"-838.3\">(None, 4, 4, 256)</text>\n</g>\n<!-- 139717487466984&#45;&gt;139717487467824 -->\n<g class=\"edge\" id=\"edge20\">\n<title>139717487466984-&gt;139717487467824</title>\n<path d=\"M172.5,-913.3799C172.5,-905.1745 172.5,-895.7679 172.5,-886.8786\" fill=\"none\" stroke=\"#000000\"/>\n<polygon fill=\"#000000\" points=\"176.0001,-886.784 172.5,-876.784 169.0001,-886.784 176.0001,-886.784\" stroke=\"#000000\"/>\n</g>\n<!-- 139717487465528 -->\n<g class=\"node\" id=\"node22\">\n<title>139717487465528</title>\n<polygon fill=\"none\" points=\"22.5,-747.5 22.5,-793.5 322.5,-793.5 322.5,-747.5 22.5,-747.5\" stroke=\"#000000\"/>\n<text fill=\"#000000\" font-family=\"Times,serif\" font-size=\"14.00\" text-anchor=\"middle\" x=\"85\" y=\"-766.8\">conv5_2: Conv2D</text>\n<polyline fill=\"none\" points=\"147.5,-747.5 147.5,-793.5 \" stroke=\"#000000\"/>\n<text fill=\"#000000\" font-family=\"Times,serif\" font-size=\"14.00\" text-anchor=\"middle\" x=\"176.5\" y=\"-778.3\">input:</text>\n<polyline fill=\"none\" points=\"147.5,-770.5 205.5,-770.5 \" stroke=\"#000000\"/>\n<text fill=\"#000000\" font-family=\"Times,serif\" font-size=\"14.00\" text-anchor=\"middle\" x=\"176.5\" y=\"-755.3\">output:</text>\n<polyline fill=\"none\" points=\"205.5,-747.5 205.5,-793.5 \" stroke=\"#000000\"/>\n<text fill=\"#000000\" font-family=\"Times,serif\" font-size=\"14.00\" text-anchor=\"middle\" x=\"264\" y=\"-778.3\">(None, 4, 4, 256)</text>\n<polyline fill=\"none\" points=\"205.5,-770.5 322.5,-770.5 \" stroke=\"#000000\"/>\n<text fill=\"#000000\" font-family=\"Times,serif\" font-size=\"14.00\" text-anchor=\"middle\" x=\"264\" y=\"-755.3\">(None, 4, 4, 256)</text>\n</g>\n<!-- 139717487467824&#45;&gt;139717487465528 -->\n<g class=\"edge\" id=\"edge21\">\n<title>139717487467824-&gt;139717487465528</title>\n<path d=\"M172.5,-830.3799C172.5,-822.1745 172.5,-812.7679 172.5,-803.8786\" fill=\"none\" stroke=\"#000000\"/>\n<polygon fill=\"#000000\" points=\"176.0001,-803.784 172.5,-793.784 169.0001,-803.784 176.0001,-803.784\" stroke=\"#000000\"/>\n</g>\n<!-- 139717487656184 -->\n<g class=\"node\" id=\"node23\">\n<title>139717487656184</title>\n<polygon fill=\"none\" points=\"22.5,-664.5 22.5,-710.5 322.5,-710.5 322.5,-664.5 22.5,-664.5\" stroke=\"#000000\"/>\n<text fill=\"#000000\" font-family=\"Times,serif\" font-size=\"14.00\" text-anchor=\"middle\" x=\"85\" y=\"-683.8\">conv5_3: Conv2D</text>\n<polyline fill=\"none\" points=\"147.5,-664.5 147.5,-710.5 \" stroke=\"#000000\"/>\n<text fill=\"#000000\" font-family=\"Times,serif\" font-size=\"14.00\" text-anchor=\"middle\" x=\"176.5\" y=\"-695.3\">input:</text>\n<polyline fill=\"none\" points=\"147.5,-687.5 205.5,-687.5 \" stroke=\"#000000\"/>\n<text fill=\"#000000\" font-family=\"Times,serif\" font-size=\"14.00\" text-anchor=\"middle\" x=\"176.5\" y=\"-672.3\">output:</text>\n<polyline fill=\"none\" points=\"205.5,-664.5 205.5,-710.5 \" stroke=\"#000000\"/>\n<text fill=\"#000000\" font-family=\"Times,serif\" font-size=\"14.00\" text-anchor=\"middle\" x=\"264\" y=\"-695.3\">(None, 4, 4, 256)</text>\n<polyline fill=\"none\" points=\"205.5,-687.5 322.5,-687.5 \" stroke=\"#000000\"/>\n<text fill=\"#000000\" font-family=\"Times,serif\" font-size=\"14.00\" text-anchor=\"middle\" x=\"264\" y=\"-672.3\">(None, 4, 4, 256)</text>\n</g>\n<!-- 139717487465528&#45;&gt;139717487656184 -->\n<g class=\"edge\" id=\"edge22\">\n<title>139717487465528-&gt;139717487656184</title>\n<path d=\"M172.5,-747.3799C172.5,-739.1745 172.5,-729.7679 172.5,-720.8786\" fill=\"none\" stroke=\"#000000\"/>\n<polygon fill=\"#000000\" points=\"176.0001,-720.784 172.5,-710.784 169.0001,-720.784 176.0001,-720.784\" stroke=\"#000000\"/>\n</g>\n<!-- 139717486946400 -->\n<g class=\"node\" id=\"node24\">\n<title>139717486946400</title>\n<polygon fill=\"none\" points=\"11,-581.5 11,-627.5 334,-627.5 334,-581.5 11,-581.5\" stroke=\"#000000\"/>\n<text fill=\"#000000\" font-family=\"Times,serif\" font-size=\"14.00\" text-anchor=\"middle\" x=\"85\" y=\"-600.8\">pool5: MaxPooling2D</text>\n<polyline fill=\"none\" points=\"159,-581.5 159,-627.5 \" stroke=\"#000000\"/>\n<text fill=\"#000000\" font-family=\"Times,serif\" font-size=\"14.00\" text-anchor=\"middle\" x=\"188\" y=\"-612.3\">input:</text>\n<polyline fill=\"none\" points=\"159,-604.5 217,-604.5 \" stroke=\"#000000\"/>\n<text fill=\"#000000\" font-family=\"Times,serif\" font-size=\"14.00\" text-anchor=\"middle\" x=\"188\" y=\"-589.3\">output:</text>\n<polyline fill=\"none\" points=\"217,-581.5 217,-627.5 \" stroke=\"#000000\"/>\n<text fill=\"#000000\" font-family=\"Times,serif\" font-size=\"14.00\" text-anchor=\"middle\" x=\"275.5\" y=\"-612.3\">(None, 4, 4, 256)</text>\n<polyline fill=\"none\" points=\"217,-604.5 334,-604.5 \" stroke=\"#000000\"/>\n<text fill=\"#000000\" font-family=\"Times,serif\" font-size=\"14.00\" text-anchor=\"middle\" x=\"275.5\" y=\"-589.3\">(None, 2, 2, 256)</text>\n</g>\n<!-- 139717487656184&#45;&gt;139717486946400 -->\n<g class=\"edge\" id=\"edge23\">\n<title>139717487656184-&gt;139717486946400</title>\n<path d=\"M172.5,-664.3799C172.5,-656.1745 172.5,-646.7679 172.5,-637.8786\" fill=\"none\" stroke=\"#000000\"/>\n<polygon fill=\"#000000\" points=\"176.0001,-637.784 172.5,-627.784 169.0001,-637.784 176.0001,-637.784\" stroke=\"#000000\"/>\n</g>\n<!-- 139717487132968 -->\n<g class=\"node\" id=\"node25\">\n<title>139717487132968</title>\n<polygon fill=\"none\" points=\"4,-498.5 4,-544.5 341,-544.5 341,-498.5 4,-498.5\" stroke=\"#000000\"/>\n<text fill=\"#000000\" font-family=\"Times,serif\" font-size=\"14.00\" text-anchor=\"middle\" x=\"85\" y=\"-517.8\">conv_dropout5: Dropout</text>\n<polyline fill=\"none\" points=\"166,-498.5 166,-544.5 \" stroke=\"#000000\"/>\n<text fill=\"#000000\" font-family=\"Times,serif\" font-size=\"14.00\" text-anchor=\"middle\" x=\"195\" y=\"-529.3\">input:</text>\n<polyline fill=\"none\" points=\"166,-521.5 224,-521.5 \" stroke=\"#000000\"/>\n<text fill=\"#000000\" font-family=\"Times,serif\" font-size=\"14.00\" text-anchor=\"middle\" x=\"195\" y=\"-506.3\">output:</text>\n<polyline fill=\"none\" points=\"224,-498.5 224,-544.5 \" stroke=\"#000000\"/>\n<text fill=\"#000000\" font-family=\"Times,serif\" font-size=\"14.00\" text-anchor=\"middle\" x=\"282.5\" y=\"-529.3\">(None, 2, 2, 256)</text>\n<polyline fill=\"none\" points=\"224,-521.5 341,-521.5 \" stroke=\"#000000\"/>\n<text fill=\"#000000\" font-family=\"Times,serif\" font-size=\"14.00\" text-anchor=\"middle\" x=\"282.5\" y=\"-506.3\">(None, 2, 2, 256)</text>\n</g>\n<!-- 139717486946400&#45;&gt;139717487132968 -->\n<g class=\"edge\" id=\"edge24\">\n<title>139717486946400-&gt;139717487132968</title>\n<path d=\"M172.5,-581.3799C172.5,-573.1745 172.5,-563.7679 172.5,-554.8786\" fill=\"none\" stroke=\"#000000\"/>\n<polygon fill=\"#000000\" points=\"176.0001,-554.784 172.5,-544.784 169.0001,-554.784 176.0001,-554.784\" stroke=\"#000000\"/>\n</g>\n<!-- 139717487133976 -->\n<g class=\"node\" id=\"node26\">\n<title>139717487133976</title>\n<polygon fill=\"none\" points=\"36,-415.5 36,-461.5 309,-461.5 309,-415.5 36,-415.5\" stroke=\"#000000\"/>\n<text fill=\"#000000\" font-family=\"Times,serif\" font-size=\"14.00\" text-anchor=\"middle\" x=\"85\" y=\"-434.8\">flatten: Flatten</text>\n<polyline fill=\"none\" points=\"134,-415.5 134,-461.5 \" stroke=\"#000000\"/>\n<text fill=\"#000000\" font-family=\"Times,serif\" font-size=\"14.00\" text-anchor=\"middle\" x=\"163\" y=\"-446.3\">input:</text>\n<polyline fill=\"none\" points=\"134,-438.5 192,-438.5 \" stroke=\"#000000\"/>\n<text fill=\"#000000\" font-family=\"Times,serif\" font-size=\"14.00\" text-anchor=\"middle\" x=\"163\" y=\"-423.3\">output:</text>\n<polyline fill=\"none\" points=\"192,-415.5 192,-461.5 \" stroke=\"#000000\"/>\n<text fill=\"#000000\" font-family=\"Times,serif\" font-size=\"14.00\" text-anchor=\"middle\" x=\"250.5\" y=\"-446.3\">(None, 2, 2, 256)</text>\n<polyline fill=\"none\" points=\"192,-438.5 309,-438.5 \" stroke=\"#000000\"/>\n<text fill=\"#000000\" font-family=\"Times,serif\" font-size=\"14.00\" text-anchor=\"middle\" x=\"250.5\" y=\"-423.3\">(None, 1024)</text>\n</g>\n<!-- 139717487132968&#45;&gt;139717487133976 -->\n<g class=\"edge\" id=\"edge25\">\n<title>139717487132968-&gt;139717487133976</title>\n<path d=\"M172.5,-498.3799C172.5,-490.1745 172.5,-480.7679 172.5,-471.8786\" fill=\"none\" stroke=\"#000000\"/>\n<polygon fill=\"#000000\" points=\"176.0001,-471.784 172.5,-461.784 169.0001,-471.784 176.0001,-471.784\" stroke=\"#000000\"/>\n</g>\n<!-- 139717487038080 -->\n<g class=\"node\" id=\"node27\">\n<title>139717487038080</title>\n<polygon fill=\"none\" points=\"57.5,-332.5 57.5,-378.5 287.5,-378.5 287.5,-332.5 57.5,-332.5\" stroke=\"#000000\"/>\n<text fill=\"#000000\" font-family=\"Times,serif\" font-size=\"14.00\" text-anchor=\"middle\" x=\"96\" y=\"-351.8\">fc1: Dense</text>\n<polyline fill=\"none\" points=\"134.5,-332.5 134.5,-378.5 \" stroke=\"#000000\"/>\n<text fill=\"#000000\" font-family=\"Times,serif\" font-size=\"14.00\" text-anchor=\"middle\" x=\"163.5\" y=\"-363.3\">input:</text>\n<polyline fill=\"none\" points=\"134.5,-355.5 192.5,-355.5 \" stroke=\"#000000\"/>\n<text fill=\"#000000\" font-family=\"Times,serif\" font-size=\"14.00\" text-anchor=\"middle\" x=\"163.5\" y=\"-340.3\">output:</text>\n<polyline fill=\"none\" points=\"192.5,-332.5 192.5,-378.5 \" stroke=\"#000000\"/>\n<text fill=\"#000000\" font-family=\"Times,serif\" font-size=\"14.00\" text-anchor=\"middle\" x=\"240\" y=\"-363.3\">(None, 1024)</text>\n<polyline fill=\"none\" points=\"192.5,-355.5 287.5,-355.5 \" stroke=\"#000000\"/>\n<text fill=\"#000000\" font-family=\"Times,serif\" font-size=\"14.00\" text-anchor=\"middle\" x=\"240\" y=\"-340.3\">(None, 1024)</text>\n</g>\n<!-- 139717487133976&#45;&gt;139717487038080 -->\n<g class=\"edge\" id=\"edge26\">\n<title>139717487133976-&gt;139717487038080</title>\n<path d=\"M172.5,-415.3799C172.5,-407.1745 172.5,-397.7679 172.5,-388.8786\" fill=\"none\" stroke=\"#000000\"/>\n<polygon fill=\"#000000\" points=\"176.0001,-388.784 172.5,-378.784 169.0001,-388.784 176.0001,-388.784\" stroke=\"#000000\"/>\n</g>\n<!-- 139717486700080 -->\n<g class=\"node\" id=\"node28\">\n<title>139717486700080</title>\n<polygon fill=\"none\" points=\"24,-249.5 24,-295.5 321,-295.5 321,-249.5 24,-249.5\" stroke=\"#000000\"/>\n<text fill=\"#000000\" font-family=\"Times,serif\" font-size=\"14.00\" text-anchor=\"middle\" x=\"96\" y=\"-268.8\">fc_dropout1: Dropout</text>\n<polyline fill=\"none\" points=\"168,-249.5 168,-295.5 \" stroke=\"#000000\"/>\n<text fill=\"#000000\" font-family=\"Times,serif\" font-size=\"14.00\" text-anchor=\"middle\" x=\"197\" y=\"-280.3\">input:</text>\n<polyline fill=\"none\" points=\"168,-272.5 226,-272.5 \" stroke=\"#000000\"/>\n<text fill=\"#000000\" font-family=\"Times,serif\" font-size=\"14.00\" text-anchor=\"middle\" x=\"197\" y=\"-257.3\">output:</text>\n<polyline fill=\"none\" points=\"226,-249.5 226,-295.5 \" stroke=\"#000000\"/>\n<text fill=\"#000000\" font-family=\"Times,serif\" font-size=\"14.00\" text-anchor=\"middle\" x=\"273.5\" y=\"-280.3\">(None, 1024)</text>\n<polyline fill=\"none\" points=\"226,-272.5 321,-272.5 \" stroke=\"#000000\"/>\n<text fill=\"#000000\" font-family=\"Times,serif\" font-size=\"14.00\" text-anchor=\"middle\" x=\"273.5\" y=\"-257.3\">(None, 1024)</text>\n</g>\n<!-- 139717487038080&#45;&gt;139717486700080 -->\n<g class=\"edge\" id=\"edge27\">\n<title>139717487038080-&gt;139717486700080</title>\n<path d=\"M172.5,-332.3799C172.5,-324.1745 172.5,-314.7679 172.5,-305.8786\" fill=\"none\" stroke=\"#000000\"/>\n<polygon fill=\"#000000\" points=\"176.0001,-305.784 172.5,-295.784 169.0001,-305.784 176.0001,-305.784\" stroke=\"#000000\"/>\n</g>\n<!-- 139717486541568 -->\n<g class=\"node\" id=\"node29\">\n<title>139717486541568</title>\n<polygon fill=\"none\" points=\"57.5,-166.5 57.5,-212.5 287.5,-212.5 287.5,-166.5 57.5,-166.5\" stroke=\"#000000\"/>\n<text fill=\"#000000\" font-family=\"Times,serif\" font-size=\"14.00\" text-anchor=\"middle\" x=\"96\" y=\"-185.8\">fc2: Dense</text>\n<polyline fill=\"none\" points=\"134.5,-166.5 134.5,-212.5 \" stroke=\"#000000\"/>\n<text fill=\"#000000\" font-family=\"Times,serif\" font-size=\"14.00\" text-anchor=\"middle\" x=\"163.5\" y=\"-197.3\">input:</text>\n<polyline fill=\"none\" points=\"134.5,-189.5 192.5,-189.5 \" stroke=\"#000000\"/>\n<text fill=\"#000000\" font-family=\"Times,serif\" font-size=\"14.00\" text-anchor=\"middle\" x=\"163.5\" y=\"-174.3\">output:</text>\n<polyline fill=\"none\" points=\"192.5,-166.5 192.5,-212.5 \" stroke=\"#000000\"/>\n<text fill=\"#000000\" font-family=\"Times,serif\" font-size=\"14.00\" text-anchor=\"middle\" x=\"240\" y=\"-197.3\">(None, 1024)</text>\n<polyline fill=\"none\" points=\"192.5,-189.5 287.5,-189.5 \" stroke=\"#000000\"/>\n<text fill=\"#000000\" font-family=\"Times,serif\" font-size=\"14.00\" text-anchor=\"middle\" x=\"240\" y=\"-174.3\">(None, 1024)</text>\n</g>\n<!-- 139717486700080&#45;&gt;139717486541568 -->\n<g class=\"edge\" id=\"edge28\">\n<title>139717486700080-&gt;139717486541568</title>\n<path d=\"M172.5,-249.3799C172.5,-241.1745 172.5,-231.7679 172.5,-222.8786\" fill=\"none\" stroke=\"#000000\"/>\n<polygon fill=\"#000000\" points=\"176.0001,-222.784 172.5,-212.784 169.0001,-222.784 176.0001,-222.784\" stroke=\"#000000\"/>\n</g>\n<!-- 139717486890568 -->\n<g class=\"node\" id=\"node30\">\n<title>139717486890568</title>\n<polygon fill=\"none\" points=\"24,-83.5 24,-129.5 321,-129.5 321,-83.5 24,-83.5\" stroke=\"#000000\"/>\n<text fill=\"#000000\" font-family=\"Times,serif\" font-size=\"14.00\" text-anchor=\"middle\" x=\"96\" y=\"-102.8\">fc_dropout2: Dropout</text>\n<polyline fill=\"none\" points=\"168,-83.5 168,-129.5 \" stroke=\"#000000\"/>\n<text fill=\"#000000\" font-family=\"Times,serif\" font-size=\"14.00\" text-anchor=\"middle\" x=\"197\" y=\"-114.3\">input:</text>\n<polyline fill=\"none\" points=\"168,-106.5 226,-106.5 \" stroke=\"#000000\"/>\n<text fill=\"#000000\" font-family=\"Times,serif\" font-size=\"14.00\" text-anchor=\"middle\" x=\"197\" y=\"-91.3\">output:</text>\n<polyline fill=\"none\" points=\"226,-83.5 226,-129.5 \" stroke=\"#000000\"/>\n<text fill=\"#000000\" font-family=\"Times,serif\" font-size=\"14.00\" text-anchor=\"middle\" x=\"273.5\" y=\"-114.3\">(None, 1024)</text>\n<polyline fill=\"none\" points=\"226,-106.5 321,-106.5 \" stroke=\"#000000\"/>\n<text fill=\"#000000\" font-family=\"Times,serif\" font-size=\"14.00\" text-anchor=\"middle\" x=\"273.5\" y=\"-91.3\">(None, 1024)</text>\n</g>\n<!-- 139717486541568&#45;&gt;139717486890568 -->\n<g class=\"edge\" id=\"edge29\">\n<title>139717486541568-&gt;139717486890568</title>\n<path d=\"M172.5,-166.3799C172.5,-158.1745 172.5,-148.7679 172.5,-139.8786\" fill=\"none\" stroke=\"#000000\"/>\n<polygon fill=\"#000000\" points=\"176.0001,-139.784 172.5,-129.784 169.0001,-139.784 176.0001,-139.784\" stroke=\"#000000\"/>\n</g>\n<!-- 139717486622816 -->\n<g class=\"node\" id=\"node31\">\n<title>139717486622816</title>\n<polygon fill=\"none\" points=\"5,-.5 5,-46.5 340,-46.5 340,-.5 5,-.5\" stroke=\"#000000\"/>\n<text fill=\"#000000\" font-family=\"Times,serif\" font-size=\"14.00\" text-anchor=\"middle\" x=\"96\" y=\"-19.8\">fc3_10ways_softmax: Dense</text>\n<polyline fill=\"none\" points=\"187,-.5 187,-46.5 \" stroke=\"#000000\"/>\n<text fill=\"#000000\" font-family=\"Times,serif\" font-size=\"14.00\" text-anchor=\"middle\" x=\"216\" y=\"-31.3\">input:</text>\n<polyline fill=\"none\" points=\"187,-23.5 245,-23.5 \" stroke=\"#000000\"/>\n<text fill=\"#000000\" font-family=\"Times,serif\" font-size=\"14.00\" text-anchor=\"middle\" x=\"216\" y=\"-8.3\">output:</text>\n<polyline fill=\"none\" points=\"245,-.5 245,-46.5 \" stroke=\"#000000\"/>\n<text fill=\"#000000\" font-family=\"Times,serif\" font-size=\"14.00\" text-anchor=\"middle\" x=\"292.5\" y=\"-31.3\">(None, 1024)</text>\n<polyline fill=\"none\" points=\"245,-23.5 340,-23.5 \" stroke=\"#000000\"/>\n<text fill=\"#000000\" font-family=\"Times,serif\" font-size=\"14.00\" text-anchor=\"middle\" x=\"292.5\" y=\"-8.3\">(None, 2)</text>\n</g>\n<!-- 139717486890568&#45;&gt;139717486622816 -->\n<g class=\"edge\" id=\"edge30\">\n<title>139717486890568-&gt;139717486622816</title>\n<path d=\"M172.5,-83.3799C172.5,-75.1745 172.5,-65.7679 172.5,-56.8786\" fill=\"none\" stroke=\"#000000\"/>\n<polygon fill=\"#000000\" points=\"176.0001,-56.784 172.5,-46.784 169.0001,-56.784 176.0001,-56.784\" stroke=\"#000000\"/>\n</g>\n</g>\n</svg>"
          },
          "metadata": {
            "tags": []
          },
          "execution_count": 6
        }
      ]
    },
    {
      "cell_type": "markdown",
      "metadata": {
        "id": "RCmP5NhAXNV6",
        "colab_type": "text"
      },
      "source": [
        "## 3. Train defined model\n",
        "- Note that the training history including loss and accuracy will be save in 'history' variable\n",
        "- In case your system runs out of memory (OOM), try to decrease batch size"
      ]
    },
    {
      "cell_type": "code",
      "metadata": {
        "id": "iRRPR39tXNV6",
        "colab_type": "code",
        "colab": {
          "base_uri": "https://localhost:8080/",
          "height": 1142
        },
        "outputId": "943420e7-9f58-4a21-85a7-4701681fd84a"
      },
      "source": [
        "# declare learning rate, loss function, and model metric\n",
        "loss = 'categorical_crossentropy'\n",
        "lr = 0.0001\n",
        "model.compile(loss=loss, optimizer=Adam(lr=lr), metrics=['accuracy'])\n",
        "\n",
        "# train the model\n",
        "batch_size = 128\n",
        "epochs = 30\n",
        "\n",
        "starting_time = time.time()\n",
        "history = model.fit(x_train, y_train,\n",
        "                    validation_data=(x_test, y_test),\n",
        "                    batch_size=batch_size,\n",
        "                    epochs=epochs)\n",
        "print('> training time is %.4f minutes' % ((time.time() - starting_time)/60))"
      ],
      "execution_count": 7,
      "outputs": [
        {
          "output_type": "stream",
          "text": [
            "WARNING:tensorflow:From /usr/local/lib/python3.6/dist-packages/tensorflow/python/ops/math_ops.py:3066: to_int32 (from tensorflow.python.ops.math_ops) is deprecated and will be removed in a future version.\n",
            "Instructions for updating:\n",
            "Use tf.cast instead.\n",
            "Train on 11938 samples, validate on 5968 samples\n",
            "Epoch 1/30\n",
            "11938/11938 [==============================] - 12s 975us/step - loss: 0.5568 - acc: 0.7833 - val_loss: 0.5511 - val_acc: 0.7885\n",
            "Epoch 2/30\n",
            "11938/11938 [==============================] - 4s 372us/step - loss: 0.5163 - acc: 0.7885 - val_loss: 0.5080 - val_acc: 0.7885\n",
            "Epoch 3/30\n",
            "11938/11938 [==============================] - 4s 370us/step - loss: 0.5066 - acc: 0.7885 - val_loss: 0.5075 - val_acc: 0.7885\n",
            "Epoch 4/30\n",
            "11938/11938 [==============================] - 4s 371us/step - loss: 0.4970 - acc: 0.7885 - val_loss: 0.4831 - val_acc: 0.7885\n",
            "Epoch 5/30\n",
            "11938/11938 [==============================] - 4s 372us/step - loss: 0.4762 - acc: 0.7914 - val_loss: 0.4721 - val_acc: 0.8056\n",
            "Epoch 6/30\n",
            "11938/11938 [==============================] - 4s 373us/step - loss: 0.4576 - acc: 0.8073 - val_loss: 0.4486 - val_acc: 0.8224\n",
            "Epoch 7/30\n",
            "11938/11938 [==============================] - 4s 374us/step - loss: 0.4375 - acc: 0.8173 - val_loss: 0.4487 - val_acc: 0.8080\n",
            "Epoch 8/30\n",
            "11938/11938 [==============================] - 5s 378us/step - loss: 0.4267 - acc: 0.8206 - val_loss: 0.4098 - val_acc: 0.8329\n",
            "Epoch 9/30\n",
            "11938/11938 [==============================] - 5s 378us/step - loss: 0.4189 - acc: 0.8290 - val_loss: 0.4003 - val_acc: 0.8378\n",
            "Epoch 10/30\n",
            "11938/11938 [==============================] - 5s 378us/step - loss: 0.4065 - acc: 0.8342 - val_loss: 0.4034 - val_acc: 0.8306\n",
            "Epoch 11/30\n",
            "11938/11938 [==============================] - 5s 379us/step - loss: 0.4029 - acc: 0.8360 - val_loss: 0.3903 - val_acc: 0.8401\n",
            "Epoch 12/30\n",
            "11938/11938 [==============================] - 5s 377us/step - loss: 0.3917 - acc: 0.8418 - val_loss: 0.3766 - val_acc: 0.8462\n",
            "Epoch 13/30\n",
            "11938/11938 [==============================] - 5s 377us/step - loss: 0.3817 - acc: 0.8470 - val_loss: 0.3764 - val_acc: 0.8472\n",
            "Epoch 14/30\n",
            "11938/11938 [==============================] - 4s 374us/step - loss: 0.3712 - acc: 0.8496 - val_loss: 0.3781 - val_acc: 0.8489\n",
            "Epoch 15/30\n",
            "11938/11938 [==============================] - 4s 375us/step - loss: 0.3650 - acc: 0.8567 - val_loss: 0.3662 - val_acc: 0.8532\n",
            "Epoch 16/30\n",
            "11938/11938 [==============================] - 4s 372us/step - loss: 0.3608 - acc: 0.8547 - val_loss: 0.3651 - val_acc: 0.8552\n",
            "Epoch 17/30\n",
            "11938/11938 [==============================] - 4s 373us/step - loss: 0.3493 - acc: 0.8594 - val_loss: 0.3581 - val_acc: 0.8603\n",
            "Epoch 18/30\n",
            "11938/11938 [==============================] - 4s 376us/step - loss: 0.3385 - acc: 0.8684 - val_loss: 0.3564 - val_acc: 0.8623\n",
            "Epoch 19/30\n",
            "11938/11938 [==============================] - 4s 373us/step - loss: 0.3355 - acc: 0.8664 - val_loss: 0.3570 - val_acc: 0.8603\n",
            "Epoch 20/30\n",
            "11938/11938 [==============================] - 4s 373us/step - loss: 0.3280 - acc: 0.8708 - val_loss: 0.3571 - val_acc: 0.8629\n",
            "Epoch 21/30\n",
            "11938/11938 [==============================] - 4s 372us/step - loss: 0.3208 - acc: 0.8744 - val_loss: 0.3542 - val_acc: 0.8701\n",
            "Epoch 22/30\n",
            "11938/11938 [==============================] - 4s 372us/step - loss: 0.3107 - acc: 0.8800 - val_loss: 0.3585 - val_acc: 0.8591\n",
            "Epoch 23/30\n",
            "11938/11938 [==============================] - 4s 374us/step - loss: 0.3088 - acc: 0.8804 - val_loss: 0.3546 - val_acc: 0.8579\n",
            "Epoch 24/30\n",
            "11938/11938 [==============================] - 4s 374us/step - loss: 0.2986 - acc: 0.8845 - val_loss: 0.3591 - val_acc: 0.8695\n",
            "Epoch 25/30\n",
            "11938/11938 [==============================] - 4s 373us/step - loss: 0.2988 - acc: 0.8843 - val_loss: 0.3483 - val_acc: 0.8634\n",
            "Epoch 26/30\n",
            "11938/11938 [==============================] - 4s 376us/step - loss: 0.2908 - acc: 0.8862 - val_loss: 0.3440 - val_acc: 0.8705\n",
            "Epoch 27/30\n",
            "11938/11938 [==============================] - 4s 375us/step - loss: 0.2822 - acc: 0.8935 - val_loss: 0.3494 - val_acc: 0.8665\n",
            "Epoch 28/30\n",
            "11938/11938 [==============================] - 4s 372us/step - loss: 0.2751 - acc: 0.8935 - val_loss: 0.3768 - val_acc: 0.8665\n",
            "Epoch 29/30\n",
            "11938/11938 [==============================] - 5s 377us/step - loss: 0.2658 - acc: 0.8994 - val_loss: 0.3515 - val_acc: 0.8676\n",
            "Epoch 30/30\n",
            "11938/11938 [==============================] - 5s 378us/step - loss: 0.2575 - acc: 0.9010 - val_loss: 0.3575 - val_acc: 0.8566\n",
            "> training time is 2.3792 minutes\n"
          ],
          "name": "stdout"
        }
      ]
    },
    {
      "cell_type": "markdown",
      "metadata": {
        "id": "brAK_mRsXNV-",
        "colab_type": "text"
      },
      "source": [
        "### Training time\n",
        "- Training time with GTX 1080 is about 2.3792 minutes for 30 epochs\n",
        "- Training time with Core i7 is around 109 minutes for 30 epochs"
      ]
    },
    {
      "cell_type": "markdown",
      "metadata": {
        "id": "ATl5G737XNV_",
        "colab_type": "text"
      },
      "source": [
        "## 4. Evaluate trained model"
      ]
    },
    {
      "cell_type": "code",
      "metadata": {
        "id": "mZP5j7kZXNWA",
        "colab_type": "code",
        "colab": {
          "base_uri": "https://localhost:8080/",
          "height": 68
        },
        "outputId": "eddcd958-2700-4edb-c9fb-e7d0b6714683"
      },
      "source": [
        "score = model.evaluate(x_test, y_test)\n",
        "print('Test loss:', score[0])\n",
        "print('Test accuracy:', score[1])"
      ],
      "execution_count": 8,
      "outputs": [
        {
          "output_type": "stream",
          "text": [
            "5968/5968 [==============================] - 1s 166us/step\n",
            "Test loss: 0.3575120971166097\n",
            "Test accuracy: 0.8565683646112601\n"
          ],
          "name": "stdout"
        }
      ]
    },
    {
      "cell_type": "code",
      "metadata": {
        "id": "5OuNjUNdXNWD",
        "colab_type": "code",
        "colab": {}
      },
      "source": [
        "def int2gender(num):\n",
        "    if num == 0:\n",
        "        return 'female'\n",
        "    else:\n",
        "        return 'male'"
      ],
      "execution_count": 0,
      "outputs": []
    },
    {
      "cell_type": "code",
      "metadata": {
        "id": "lcdDnu1eXNWG",
        "colab_type": "code",
        "colab": {
          "base_uri": "https://localhost:8080/",
          "height": 281
        },
        "outputId": "20e5eadb-39ec-4e4f-9019-856473c9b796"
      },
      "source": [
        "# select a test image randomly\n",
        "random_test_index = np.random.choice(x_test.shape[0], size=1)[0]\n",
        "test_img = x_test[random_test_index]\n",
        "test_label = np.argmax(y_test[random_test_index])\n",
        "\n",
        "# predict test image with trained model\n",
        "pred_label = model.predict(np.expand_dims(test_img, axis=0))\n",
        "pred_label = np.argmax(pred_label)\n",
        "\n",
        "plt.imshow(test_img[:, :, 0], cmap='gray')\n",
        "plt.title('true label = %s, predicted label = %s' % (int2gender(test_label), int2gender(pred_label)))\n",
        "plt.show()"
      ],
      "execution_count": 10,
      "outputs": [
        {
          "output_type": "display_data",
          "data": {
            "image/png": "[encoded data removed]",
            "text/plain": [
              "<Figure size 432x288 with 1 Axes>"
            ]
          },
          "metadata": {
            "tags": []
          }
        }
      ]
    }
  ]
}