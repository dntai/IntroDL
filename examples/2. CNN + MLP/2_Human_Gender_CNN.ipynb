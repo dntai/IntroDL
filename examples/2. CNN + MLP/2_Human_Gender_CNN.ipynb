{
  "nbformat": 4,
  "nbformat_minor": 0,
  "metadata": {
    "colab": {
      "name": "2_Human_Gender_CNN.ipynb",
      "version": "0.3.2",
      "provenance": [],
      "include_colab_link": true
    },
    "language_info": {
      "codemirror_mode": {
        "name": "ipython",
        "version": 3
      },
      "file_extension": ".py",
      "mimetype": "text/x-python",
      "name": "python",
      "nbconvert_exporter": "python",
      "pygments_lexer": "ipython3",
      "version": "3.7.3"
    },
    "kernelspec": {
      "name": "python3",
      "display_name": "Python 3"
    },
    "accelerator": "GPU"
  },
  "cells": [
    {
      "cell_type": "markdown",
      "metadata": {
        "id": "view-in-github",
        "colab_type": "text"
      },
      "source": [
        "<a href=\"https://colab.research.google.com/github/th2l-aipn/IntroDL/blob/master/examples/2.%20CNN%20%2B%20MLP/2_Human_Gender_CNN.ipynb\" target=\"_parent\"><img src=\"https://colab.research.google.com/assets/colab-badge.svg\" alt=\"Open In Colab\"/></a>"
      ]
    },
    {
      "cell_type": "markdown",
      "metadata": {
        "id": "lTE_kW4gXNVh",
        "colab_type": "text"
      },
      "source": [
        "---\n",
        "```\n",
        "> Nguyen Hai Duong\n",
        "> nhduong_3010@live.com\n",
        "> Modified: Huynh Van Thong\n",
        "> hvthong.298@gmail.com\n",
        "> Chonnam National University\n",
        "```\n",
        "---"
      ]
    },
    {
      "cell_type": "markdown",
      "metadata": {
        "id": "NkyGrERoXNVk",
        "colab_type": "text"
      },
      "source": [
        "# Overview\n",
        "- WIKI dataset (face images + gender + age + ...)\n",
        "  + Goal: classifying human gender\n",
        "  + Input: a 64x64 image\n",
        "  + Output: gender (female or male)\n",
        "- Defining an CNN+MLP for WIKI dataset\n",
        "- Training and evaluating an CNN+MLP"
      ]
    },
    {
      "cell_type": "markdown",
      "metadata": {
        "id": "-id5CbS9XNVl",
        "colab_type": "text"
      },
      "source": [
        "# Import libraries"
      ]
    },
    {
      "cell_type": "code",
      "metadata": {
        "id": "p8EMaV3AXNVm",
        "colab_type": "code",
        "colab": {
          "base_uri": "https://localhost:8080/",
          "height": 34
        },
        "outputId": "d8c56cff-9f5b-4547-da20-92391cc34fd4"
      },
      "source": [
        "import keras\n",
        "from keras.models import Model\n",
        "from keras.layers import Input, Conv2D, MaxPooling2D, Flatten, Dense, Dropout\n",
        "from keras.optimizers import Adam\n",
        "\n",
        "from IPython.display import SVG\n",
        "from keras.utils.vis_utils import model_to_dot\n",
        "\n",
        "import time\n",
        "import numpy as np\n",
        "import matplotlib.pyplot as plt"
      ],
      "execution_count": 1,
      "outputs": [
        {
          "output_type": "stream",
          "text": [
            "Using TensorFlow backend.\n"
          ],
          "name": "stderr"
        }
      ]
    },
    {
      "cell_type": "code",
      "metadata": {
        "id": "DeJgf1nOXNVr",
        "colab_type": "code",
        "colab": {}
      },
      "source": [
        "num_classes = 2   # male vs. female"
      ],
      "execution_count": 0,
      "outputs": []
    },
    {
      "cell_type": "markdown",
      "metadata": {
        "id": "QDCR4NDMXNVu",
        "colab_type": "text"
      },
      "source": [
        "## 1. Data"
      ]
    },
    {
      "cell_type": "markdown",
      "metadata": {
        "id": "PU250GHnXNVv",
        "colab_type": "text"
      },
      "source": [
        "### Download data at https://drive.google.com/open?id=0BxINLo5jshCRYW8xODhNSlkyLTQ\n",
        "This source code and npy files MUST be in the same location"
      ]
    },
    {
      "cell_type": "code",
      "metadata": {
        "id": "u5BYYYXhYtg4",
        "colab_type": "code",
        "colab": {
          "base_uri": "https://localhost:8080/",
          "height": 68
        },
        "outputId": "e328e394-62f1-4e90-f07f-c67dec656f4b"
      },
      "source": [
        "# Download dataset\n",
        "import requests\n",
        "url1 = 'https://www.dropbox.com/s/t7lddenrmwv7u1o/64_64_5968_4098_val_x_onehot.npy?dl=1'\n",
        "url2 = 'https://www.dropbox.com/s/qkqiuvbn8mwa4ej/64_64_5968_4098_val_y_onehot.npy?dl=1'\n",
        "url3 = 'https://www.dropbox.com/s/4yijlzpdikwq9fy/64_64_11938_4098_train_x_onehot.npy?dl=1'\n",
        "url4 = 'https://www.dropbox.com/s/cqwhr6nnzwsq31x/64_64_11938_4098_train_y_onehot.npy?dl=1'\n",
        "\n",
        "r1 = requests.get(url1, allow_redirects=True)\n",
        "open('64_64_5968_4098_val_x_onehot.npy', 'wb').write(r1.content)\n",
        "\n",
        "r2 = requests.get(url2, allow_redirects=True)\n",
        "open('64_64_5968_4098_val_y_onehot.npy', 'wb').write(r2.content)\n",
        "\n",
        "r3 = requests.get(url3, allow_redirects=True)\n",
        "open('64_64_11938_4098_train_x_onehot.npy', 'wb').write(r3.content)\n",
        "\n",
        "r4 = requests.get(url4, allow_redirects=True)\n",
        "open('64_64_11938_4098_train_y_onehot.npy', 'wb').write(r4.content)\n",
        "\n",
        "!ls"
      ],
      "execution_count": 3,
      "outputs": [
        {
          "output_type": "stream",
          "text": [
            "64_64_11938_4098_train_x_onehot.npy  64_64_5968_4098_val_y_onehot.npy\n",
            "64_64_11938_4098_train_y_onehot.npy  sample_data\n",
            "64_64_5968_4098_val_x_onehot.npy\n"
          ],
          "name": "stdout"
        }
      ]
    },
    {
      "cell_type": "code",
      "metadata": {
        "id": "WzaLuNabXNVv",
        "colab_type": "code",
        "colab": {}
      },
      "source": [
        "x_train = np.load('64_64_11938_4098_train_x_onehot.npy')\n",
        "y_train = np.load('64_64_11938_4098_train_y_onehot.npy')\n",
        "x_train = np.rot90(x_train, k=3, axes=(1, 2))\n",
        "\n",
        "x_test = np.load('64_64_5968_4098_val_x_onehot.npy')\n",
        "y_test = np.load('64_64_5968_4098_val_y_onehot.npy')\n",
        "x_test = np.rot90(x_test, k=3, axes=(1, 2))"
      ],
      "execution_count": 0,
      "outputs": []
    },
    {
      "cell_type": "markdown",
      "metadata": {
        "id": "VgqLBVgoXNVy",
        "colab_type": "text"
      },
      "source": [
        "## 2. Declare model"
      ]
    },
    {
      "cell_type": "code",
      "metadata": {
        "id": "co1DsxJGXNVy",
        "colab_type": "code",
        "colab": {
          "base_uri": "https://localhost:8080/",
          "height": 1312
        },
        "outputId": "0b9b6b0b-c7f0-4910-ec01-a8f5024aff2d"
      },
      "source": [
        "# 64x64 portray image\n",
        "input_image = Input(shape=(64, 64, 1), name='Input')\n",
        "\n",
        "# conv, pooling layers + dropout\n",
        "x = Conv2D(filters=16, kernel_size=(3, 3), padding='same', activation='relu', name='conv1_1')(input_image)\n",
        "x = Conv2D(filters=16, kernel_size=(3, 3), padding='same', activation='relu', name='conv1_2')(x)\n",
        "x = MaxPooling2D(pool_size=(2, 2), name='pool1')(x)\n",
        "x = Dropout(rate=0.2, name='conv_dropout1')(x)\n",
        "\n",
        "x = Conv2D(filters=32, kernel_size=(3, 3), padding='same', activation='relu', name='conv2_1')(x)\n",
        "x = Conv2D(filters=32, kernel_size=(3, 3), padding='same', activation='relu', name='conv2_2')(x)\n",
        "x = Conv2D(filters=32, kernel_size=(3, 3), padding='same', activation='relu', name='conv2_3')(x)\n",
        "x = MaxPooling2D(pool_size=(2, 2), name='pool2')(x)\n",
        "x = Dropout(rate=0.2, name='conv_dropout2')(x)\n",
        "\n",
        "x = Conv2D(filters=64, kernel_size=(3, 3), padding='same', activation='relu', name='conv3_1')(x)\n",
        "x = Conv2D(filters=64, kernel_size=(3, 3), padding='same', activation='relu', name='conv3_2')(x)\n",
        "x = Conv2D(filters=64, kernel_size=(3, 3), padding='same', activation='relu', name='conv3_3')(x)\n",
        "x = MaxPooling2D(pool_size=(2, 2), name='pool3')(x)\n",
        "x = Dropout(rate=0.2, name='conv_dropout3')(x)\n",
        "\n",
        "x = Conv2D(filters=128, kernel_size=(3, 3), padding='same', activation='relu', name='conv4_1')(x)\n",
        "x = Conv2D(filters=128, kernel_size=(3, 3), padding='same', activation='relu', name='conv4_2')(x)\n",
        "x = Conv2D(filters=128, kernel_size=(3, 3), padding='same', activation='relu', name='conv4_3')(x)\n",
        "x = MaxPooling2D(pool_size=(2, 2), name='pool4')(x)\n",
        "x = Dropout(rate=0.2, name='conv_dropout4')(x)\n",
        "\n",
        "x = Conv2D(filters=256, kernel_size=(3, 3), padding='same', activation='relu', name='conv5_1')(x)\n",
        "x = Conv2D(filters=256, kernel_size=(3, 3), padding='same', activation='relu', name='conv5_2')(x)\n",
        "x = Conv2D(filters=256, kernel_size=(3, 3), padding='same', activation='relu', name='conv5_3')(x)\n",
        "x = MaxPooling2D(pool_size=(2, 2), name='pool5')(x)\n",
        "x = Dropout(rate=0.2, name='conv_dropout5')(x)\n",
        "\n",
        "# similar to the MLP example!\n",
        "# matrix ---> vector\n",
        "x = Flatten(name='flatten')(x)\n",
        "\n",
        "# FC layers + dropout\n",
        "x = Dense(units=1024, activation='relu', name='fc1')(x)\n",
        "x = Dropout(rate=0.2, name='fc_dropout1')(x)\n",
        "\n",
        "x = Dense(units=1024, activation='relu', name='fc2')(x)\n",
        "x = Dropout(rate=0.2, name='fc_dropout2')(x)\n",
        "\n",
        "output_label = Dense(units=num_classes, activation='softmax', name='fc3_10ways_softmax')(x)\n",
        "\n",
        "# define model\n",
        "model = Model(inputs=input_image, outputs=output_label, name='mnist_mlp')\n",
        "\n",
        "# print model summary\n",
        "model.summary()"
      ],
      "execution_count": 5,
      "outputs": [
        {
          "output_type": "stream",
          "text": [
            "WARNING:tensorflow:From /usr/local/lib/python3.6/dist-packages/tensorflow/python/framework/op_def_library.py:263: colocate_with (from tensorflow.python.framework.ops) is deprecated and will be removed in a future version.\n",
            "Instructions for updating:\n",
            "Colocations handled automatically by placer.\n",
            "WARNING:tensorflow:From /usr/local/lib/python3.6/dist-packages/keras/backend/tensorflow_backend.py:3445: calling dropout (from tensorflow.python.ops.nn_ops) with keep_prob is deprecated and will be removed in a future version.\n",
            "Instructions for updating:\n",
            "Please use `rate` instead of `keep_prob`. Rate should be set to `rate = 1 - keep_prob`.\n",
            "_________________________________________________________________\n",
            "Layer (type)                 Output Shape              Param #   \n",
            "=================================================================\n",
            "Input (InputLayer)           (None, 64, 64, 1)         0         \n",
            "_________________________________________________________________\n",
            "conv1_1 (Conv2D)             (None, 64, 64, 16)        160       \n",
            "_________________________________________________________________\n",
            "conv1_2 (Conv2D)             (None, 64, 64, 16)        2320      \n",
            "_________________________________________________________________\n",
            "pool1 (MaxPooling2D)         (None, 32, 32, 16)        0         \n",
            "_________________________________________________________________\n",
            "conv_dropout1 (Dropout)      (None, 32, 32, 16)        0         \n",
            "_________________________________________________________________\n",
            "conv2_1 (Conv2D)             (None, 32, 32, 32)        4640      \n",
            "_________________________________________________________________\n",
            "conv2_2 (Conv2D)             (None, 32, 32, 32)        9248      \n",
            "_________________________________________________________________\n",
            "conv2_3 (Conv2D)             (None, 32, 32, 32)        9248      \n",
            "_________________________________________________________________\n",
            "pool2 (MaxPooling2D)         (None, 16, 16, 32)        0         \n",
            "_________________________________________________________________\n",
            "conv_dropout2 (Dropout)      (None, 16, 16, 32)        0         \n",
            "_________________________________________________________________\n",
            "conv3_1 (Conv2D)             (None, 16, 16, 64)        18496     \n",
            "_________________________________________________________________\n",
            "conv3_2 (Conv2D)             (None, 16, 16, 64)        36928     \n",
            "_________________________________________________________________\n",
            "conv3_3 (Conv2D)             (None, 16, 16, 64)        36928     \n",
            "_________________________________________________________________\n",
            "pool3 (MaxPooling2D)         (None, 8, 8, 64)          0         \n",
            "_________________________________________________________________\n",
            "conv_dropout3 (Dropout)      (None, 8, 8, 64)          0         \n",
            "_________________________________________________________________\n",
            "conv4_1 (Conv2D)             (None, 8, 8, 128)         73856     \n",
            "_________________________________________________________________\n",
            "conv4_2 (Conv2D)             (None, 8, 8, 128)         147584    \n",
            "_________________________________________________________________\n",
            "conv4_3 (Conv2D)             (None, 8, 8, 128)         147584    \n",
            "_________________________________________________________________\n",
            "pool4 (MaxPooling2D)         (None, 4, 4, 128)         0         \n",
            "_________________________________________________________________\n",
            "conv_dropout4 (Dropout)      (None, 4, 4, 128)         0         \n",
            "_________________________________________________________________\n",
            "conv5_1 (Conv2D)             (None, 4, 4, 256)         295168    \n",
            "_________________________________________________________________\n",
            "conv5_2 (Conv2D)             (None, 4, 4, 256)         590080    \n",
            "_________________________________________________________________\n",
            "conv5_3 (Conv2D)             (None, 4, 4, 256)         590080    \n",
            "_________________________________________________________________\n",
            "pool5 (MaxPooling2D)         (None, 2, 2, 256)         0         \n",
            "_________________________________________________________________\n",
            "conv_dropout5 (Dropout)      (None, 2, 2, 256)         0         \n",
            "_________________________________________________________________\n",
            "flatten (Flatten)            (None, 1024)              0         \n",
            "_________________________________________________________________\n",
            "fc1 (Dense)                  (None, 1024)              1049600   \n",
            "_________________________________________________________________\n",
            "fc_dropout1 (Dropout)        (None, 1024)              0         \n",
            "_________________________________________________________________\n",
            "fc2 (Dense)                  (None, 1024)              1049600   \n",
            "_________________________________________________________________\n",
            "fc_dropout2 (Dropout)        (None, 1024)              0         \n",
            "_________________________________________________________________\n",
            "fc3_10ways_softmax (Dense)   (None, 2)                 2050      \n",
            "=================================================================\n",
            "Total params: 4,063,570\n",
            "Trainable params: 4,063,570\n",
            "Non-trainable params: 0\n",
            "_________________________________________________________________\n"
          ],
          "name": "stdout"
        }
      ]
    },
    {
      "cell_type": "code",
      "metadata": {
        "id": "P_2SD2-jXNV2",
        "colab_type": "code",
        "colab": {
          "base_uri": "https://localhost:8080/",
          "height": 3414
        },
        "outputId": "a3d34605-1384-4629-8153-7249539ff9ba"
      },
      "source": [
        "SVG(model_to_dot(model, show_shapes=True).create(prog='dot', format='svg'))"
      ],
      "execution_count": 6,
      "outputs": [
        {
          "output_type": "execute_result",
          "data": {
            "text/plain": [
              "<IPython.core.display.SVG object>"
            ],
            "image/svg+xml": "<svg height=\"2545pt\" viewBox=\"0.00 0.00 353.00 2545.00\" width=\"353pt\" xmlns=\"http://www.w3.org/2000/svg\" xmlns:xlink=\"http://www.w3.org/1999/xlink\">\n<g class=\"graph\" id=\"graph0\" transform=\"scale(1 1) rotate(0) translate(4 2541)\">\n<title>G</title>\n<polygon fill=\"#ffffff\" points=\"-4,4 -4,-2541 349,-2541 349,4 -4,4\" stroke=\"transparent\"/>\n<!-- 139933006976392 -->\n<g class=\"node\" id=\"node1\">\n<title>139933006976392</title>\n<polygon fill=\"none\" points=\"25.5,-2490.5 25.5,-2536.5 319.5,-2536.5 319.5,-2490.5 25.5,-2490.5\" stroke=\"#000000\"/>\n<text fill=\"#000000\" font-family=\"Times,serif\" font-size=\"14.00\" text-anchor=\"middle\" x=\"85\" y=\"-2509.8\">Input: InputLayer</text>\n<polyline fill=\"none\" points=\"144.5,-2490.5 144.5,-2536.5 \" stroke=\"#000000\"/>\n<text fill=\"#000000\" font-family=\"Times,serif\" font-size=\"14.00\" text-anchor=\"middle\" x=\"173.5\" y=\"-2521.3\">input:</text>\n<polyline fill=\"none\" points=\"144.5,-2513.5 202.5,-2513.5 \" stroke=\"#000000\"/>\n<text fill=\"#000000\" font-family=\"Times,serif\" font-size=\"14.00\" text-anchor=\"middle\" x=\"173.5\" y=\"-2498.3\">output:</text>\n<polyline fill=\"none\" points=\"202.5,-2490.5 202.5,-2536.5 \" stroke=\"#000000\"/>\n<text fill=\"#000000\" font-family=\"Times,serif\" font-size=\"14.00\" text-anchor=\"middle\" x=\"261\" y=\"-2521.3\">(None, 64, 64, 1)</text>\n<polyline fill=\"none\" points=\"202.5,-2513.5 319.5,-2513.5 \" stroke=\"#000000\"/>\n<text fill=\"#000000\" font-family=\"Times,serif\" font-size=\"14.00\" text-anchor=\"middle\" x=\"261\" y=\"-2498.3\">(None, 64, 64, 1)</text>\n</g>\n<!-- 139933006976448 -->\n<g class=\"node\" id=\"node2\">\n<title>139933006976448</title>\n<polygon fill=\"none\" points=\"18.5,-2407.5 18.5,-2453.5 326.5,-2453.5 326.5,-2407.5 18.5,-2407.5\" stroke=\"#000000\"/>\n<text fill=\"#000000\" font-family=\"Times,serif\" font-size=\"14.00\" text-anchor=\"middle\" x=\"81\" y=\"-2426.8\">conv1_1: Conv2D</text>\n<polyline fill=\"none\" points=\"143.5,-2407.5 143.5,-2453.5 \" stroke=\"#000000\"/>\n<text fill=\"#000000\" font-family=\"Times,serif\" font-size=\"14.00\" text-anchor=\"middle\" x=\"172.5\" y=\"-2438.3\">input:</text>\n<polyline fill=\"none\" points=\"143.5,-2430.5 201.5,-2430.5 \" stroke=\"#000000\"/>\n<text fill=\"#000000\" font-family=\"Times,serif\" font-size=\"14.00\" text-anchor=\"middle\" x=\"172.5\" y=\"-2415.3\">output:</text>\n<polyline fill=\"none\" points=\"201.5,-2407.5 201.5,-2453.5 \" stroke=\"#000000\"/>\n<text fill=\"#000000\" font-family=\"Times,serif\" font-size=\"14.00\" text-anchor=\"middle\" x=\"264\" y=\"-2438.3\">(None, 64, 64, 1)</text>\n<polyline fill=\"none\" points=\"201.5,-2430.5 326.5,-2430.5 \" stroke=\"#000000\"/>\n<text fill=\"#000000\" font-family=\"Times,serif\" font-size=\"14.00\" text-anchor=\"middle\" x=\"264\" y=\"-2415.3\">(None, 64, 64, 16)</text>\n</g>\n<!-- 139933006976392&#45;&gt;139933006976448 -->\n<g class=\"edge\" id=\"edge1\">\n<title>139933006976392-&gt;139933006976448</title>\n<path d=\"M172.5,-2490.3799C172.5,-2482.1745 172.5,-2472.7679 172.5,-2463.8786\" fill=\"none\" stroke=\"#000000\"/>\n<polygon fill=\"#000000\" points=\"176.0001,-2463.784 172.5,-2453.784 169.0001,-2463.784 176.0001,-2463.784\" stroke=\"#000000\"/>\n</g>\n<!-- 139933006977792 -->\n<g class=\"node\" id=\"node3\">\n<title>139933006977792</title>\n<polygon fill=\"none\" points=\"18.5,-2324.5 18.5,-2370.5 326.5,-2370.5 326.5,-2324.5 18.5,-2324.5\" stroke=\"#000000\"/>\n<text fill=\"#000000\" font-family=\"Times,serif\" font-size=\"14.00\" text-anchor=\"middle\" x=\"81\" y=\"-2343.8\">conv1_2: Conv2D</text>\n<polyline fill=\"none\" points=\"143.5,-2324.5 143.5,-2370.5 \" stroke=\"#000000\"/>\n<text fill=\"#000000\" font-family=\"Times,serif\" font-size=\"14.00\" text-anchor=\"middle\" x=\"172.5\" y=\"-2355.3\">input:</text>\n<polyline fill=\"none\" points=\"143.5,-2347.5 201.5,-2347.5 \" stroke=\"#000000\"/>\n<text fill=\"#000000\" font-family=\"Times,serif\" font-size=\"14.00\" text-anchor=\"middle\" x=\"172.5\" y=\"-2332.3\">output:</text>\n<polyline fill=\"none\" points=\"201.5,-2324.5 201.5,-2370.5 \" stroke=\"#000000\"/>\n<text fill=\"#000000\" font-family=\"Times,serif\" font-size=\"14.00\" text-anchor=\"middle\" x=\"264\" y=\"-2355.3\">(None, 64, 64, 16)</text>\n<polyline fill=\"none\" points=\"201.5,-2347.5 326.5,-2347.5 \" stroke=\"#000000\"/>\n<text fill=\"#000000\" font-family=\"Times,serif\" font-size=\"14.00\" text-anchor=\"middle\" x=\"264\" y=\"-2332.3\">(None, 64, 64, 16)</text>\n</g>\n<!-- 139933006976448&#45;&gt;139933006977792 -->\n<g class=\"edge\" id=\"edge2\">\n<title>139933006976448-&gt;139933006977792</title>\n<path d=\"M172.5,-2407.3799C172.5,-2399.1745 172.5,-2389.7679 172.5,-2380.8786\" fill=\"none\" stroke=\"#000000\"/>\n<polygon fill=\"#000000\" points=\"176.0001,-2380.784 172.5,-2370.784 169.0001,-2380.784 176.0001,-2380.784\" stroke=\"#000000\"/>\n</g>\n<!-- 139933006977288 -->\n<g class=\"node\" id=\"node4\">\n<title>139933006977288</title>\n<polygon fill=\"none\" points=\"7,-2241.5 7,-2287.5 338,-2287.5 338,-2241.5 7,-2241.5\" stroke=\"#000000\"/>\n<text fill=\"#000000\" font-family=\"Times,serif\" font-size=\"14.00\" text-anchor=\"middle\" x=\"81\" y=\"-2260.8\">pool1: MaxPooling2D</text>\n<polyline fill=\"none\" points=\"155,-2241.5 155,-2287.5 \" stroke=\"#000000\"/>\n<text fill=\"#000000\" font-family=\"Times,serif\" font-size=\"14.00\" text-anchor=\"middle\" x=\"184\" y=\"-2272.3\">input:</text>\n<polyline fill=\"none\" points=\"155,-2264.5 213,-2264.5 \" stroke=\"#000000\"/>\n<text fill=\"#000000\" font-family=\"Times,serif\" font-size=\"14.00\" text-anchor=\"middle\" x=\"184\" y=\"-2249.3\">output:</text>\n<polyline fill=\"none\" points=\"213,-2241.5 213,-2287.5 \" stroke=\"#000000\"/>\n<text fill=\"#000000\" font-family=\"Times,serif\" font-size=\"14.00\" text-anchor=\"middle\" x=\"275.5\" y=\"-2272.3\">(None, 64, 64, 16)</text>\n<polyline fill=\"none\" points=\"213,-2264.5 338,-2264.5 \" stroke=\"#000000\"/>\n<text fill=\"#000000\" font-family=\"Times,serif\" font-size=\"14.00\" text-anchor=\"middle\" x=\"275.5\" y=\"-2249.3\">(None, 32, 32, 16)</text>\n</g>\n<!-- 139933006977792&#45;&gt;139933006977288 -->\n<g class=\"edge\" id=\"edge3\">\n<title>139933006977792-&gt;139933006977288</title>\n<path d=\"M172.5,-2324.3799C172.5,-2316.1745 172.5,-2306.7679 172.5,-2297.8786\" fill=\"none\" stroke=\"#000000\"/>\n<polygon fill=\"#000000\" points=\"176.0001,-2297.784 172.5,-2287.784 169.0001,-2297.784 176.0001,-2297.784\" stroke=\"#000000\"/>\n</g>\n<!-- 139932991676368 -->\n<g class=\"node\" id=\"node5\">\n<title>139932991676368</title>\n<polygon fill=\"none\" points=\"0,-2158.5 0,-2204.5 345,-2204.5 345,-2158.5 0,-2158.5\" stroke=\"#000000\"/>\n<text fill=\"#000000\" font-family=\"Times,serif\" font-size=\"14.00\" text-anchor=\"middle\" x=\"81\" y=\"-2177.8\">conv_dropout1: Dropout</text>\n<polyline fill=\"none\" points=\"162,-2158.5 162,-2204.5 \" stroke=\"#000000\"/>\n<text fill=\"#000000\" font-family=\"Times,serif\" font-size=\"14.00\" text-anchor=\"middle\" x=\"191\" y=\"-2189.3\">input:</text>\n<polyline fill=\"none\" points=\"162,-2181.5 220,-2181.5 \" stroke=\"#000000\"/>\n<text fill=\"#000000\" font-family=\"Times,serif\" font-size=\"14.00\" text-anchor=\"middle\" x=\"191\" y=\"-2166.3\">output:</text>\n<polyline fill=\"none\" points=\"220,-2158.5 220,-2204.5 \" stroke=\"#000000\"/>\n<text fill=\"#000000\" font-family=\"Times,serif\" font-size=\"14.00\" text-anchor=\"middle\" x=\"282.5\" y=\"-2189.3\">(None, 32, 32, 16)</text>\n<polyline fill=\"none\" points=\"220,-2181.5 345,-2181.5 \" stroke=\"#000000\"/>\n<text fill=\"#000000\" font-family=\"Times,serif\" font-size=\"14.00\" text-anchor=\"middle\" x=\"282.5\" y=\"-2166.3\">(None, 32, 32, 16)</text>\n</g>\n<!-- 139933006977288&#45;&gt;139932991676368 -->\n<g class=\"edge\" id=\"edge4\">\n<title>139933006977288-&gt;139932991676368</title>\n<path d=\"M172.5,-2241.3799C172.5,-2233.1745 172.5,-2223.7679 172.5,-2214.8786\" fill=\"none\" stroke=\"#000000\"/>\n<polygon fill=\"#000000\" points=\"176.0001,-2214.784 172.5,-2204.784 169.0001,-2214.784 176.0001,-2214.784\" stroke=\"#000000\"/>\n</g>\n<!-- 139932991675136 -->\n<g class=\"node\" id=\"node6\">\n<title>139932991675136</title>\n<polygon fill=\"none\" points=\"18.5,-2075.5 18.5,-2121.5 326.5,-2121.5 326.5,-2075.5 18.5,-2075.5\" stroke=\"#000000\"/>\n<text fill=\"#000000\" font-family=\"Times,serif\" font-size=\"14.00\" text-anchor=\"middle\" x=\"81\" y=\"-2094.8\">conv2_1: Conv2D</text>\n<polyline fill=\"none\" points=\"143.5,-2075.5 143.5,-2121.5 \" stroke=\"#000000\"/>\n<text fill=\"#000000\" font-family=\"Times,serif\" font-size=\"14.00\" text-anchor=\"middle\" x=\"172.5\" y=\"-2106.3\">input:</text>\n<polyline fill=\"none\" points=\"143.5,-2098.5 201.5,-2098.5 \" stroke=\"#000000\"/>\n<text fill=\"#000000\" font-family=\"Times,serif\" font-size=\"14.00\" text-anchor=\"middle\" x=\"172.5\" y=\"-2083.3\">output:</text>\n<polyline fill=\"none\" points=\"201.5,-2075.5 201.5,-2121.5 \" stroke=\"#000000\"/>\n<text fill=\"#000000\" font-family=\"Times,serif\" font-size=\"14.00\" text-anchor=\"middle\" x=\"264\" y=\"-2106.3\">(None, 32, 32, 16)</text>\n<polyline fill=\"none\" points=\"201.5,-2098.5 326.5,-2098.5 \" stroke=\"#000000\"/>\n<text fill=\"#000000\" font-family=\"Times,serif\" font-size=\"14.00\" text-anchor=\"middle\" x=\"264\" y=\"-2083.3\">(None, 32, 32, 32)</text>\n</g>\n<!-- 139932991676368&#45;&gt;139932991675136 -->\n<g class=\"edge\" id=\"edge5\">\n<title>139932991676368-&gt;139932991675136</title>\n<path d=\"M172.5,-2158.3799C172.5,-2150.1745 172.5,-2140.7679 172.5,-2131.8786\" fill=\"none\" stroke=\"#000000\"/>\n<polygon fill=\"#000000\" points=\"176.0001,-2131.784 172.5,-2121.784 169.0001,-2131.784 176.0001,-2131.784\" stroke=\"#000000\"/>\n</g>\n<!-- 139932991675920 -->\n<g class=\"node\" id=\"node7\">\n<title>139932991675920</title>\n<polygon fill=\"none\" points=\"18.5,-1992.5 18.5,-2038.5 326.5,-2038.5 326.5,-1992.5 18.5,-1992.5\" stroke=\"#000000\"/>\n<text fill=\"#000000\" font-family=\"Times,serif\" font-size=\"14.00\" text-anchor=\"middle\" x=\"81\" y=\"-2011.8\">conv2_2: Conv2D</text>\n<polyline fill=\"none\" points=\"143.5,-1992.5 143.5,-2038.5 \" stroke=\"#000000\"/>\n<text fill=\"#000000\" font-family=\"Times,serif\" font-size=\"14.00\" text-anchor=\"middle\" x=\"172.5\" y=\"-2023.3\">input:</text>\n<polyline fill=\"none\" points=\"143.5,-2015.5 201.5,-2015.5 \" stroke=\"#000000\"/>\n<text fill=\"#000000\" font-family=\"Times,serif\" font-size=\"14.00\" text-anchor=\"middle\" x=\"172.5\" y=\"-2000.3\">output:</text>\n<polyline fill=\"none\" points=\"201.5,-1992.5 201.5,-2038.5 \" stroke=\"#000000\"/>\n<text fill=\"#000000\" font-family=\"Times,serif\" font-size=\"14.00\" text-anchor=\"middle\" x=\"264\" y=\"-2023.3\">(None, 32, 32, 32)</text>\n<polyline fill=\"none\" points=\"201.5,-2015.5 326.5,-2015.5 \" stroke=\"#000000\"/>\n<text fill=\"#000000\" font-family=\"Times,serif\" font-size=\"14.00\" text-anchor=\"middle\" x=\"264\" y=\"-2000.3\">(None, 32, 32, 32)</text>\n</g>\n<!-- 139932991675136&#45;&gt;139932991675920 -->\n<g class=\"edge\" id=\"edge6\">\n<title>139932991675136-&gt;139932991675920</title>\n<path d=\"M172.5,-2075.3799C172.5,-2067.1745 172.5,-2057.7679 172.5,-2048.8786\" fill=\"none\" stroke=\"#000000\"/>\n<polygon fill=\"#000000\" points=\"176.0001,-2048.784 172.5,-2038.784 169.0001,-2048.784 176.0001,-2048.784\" stroke=\"#000000\"/>\n</g>\n<!-- 139934541260896 -->\n<g class=\"node\" id=\"node8\">\n<title>139934541260896</title>\n<polygon fill=\"none\" points=\"18.5,-1909.5 18.5,-1955.5 326.5,-1955.5 326.5,-1909.5 18.5,-1909.5\" stroke=\"#000000\"/>\n<text fill=\"#000000\" font-family=\"Times,serif\" font-size=\"14.00\" text-anchor=\"middle\" x=\"81\" y=\"-1928.8\">conv2_3: Conv2D</text>\n<polyline fill=\"none\" points=\"143.5,-1909.5 143.5,-1955.5 \" stroke=\"#000000\"/>\n<text fill=\"#000000\" font-family=\"Times,serif\" font-size=\"14.00\" text-anchor=\"middle\" x=\"172.5\" y=\"-1940.3\">input:</text>\n<polyline fill=\"none\" points=\"143.5,-1932.5 201.5,-1932.5 \" stroke=\"#000000\"/>\n<text fill=\"#000000\" font-family=\"Times,serif\" font-size=\"14.00\" text-anchor=\"middle\" x=\"172.5\" y=\"-1917.3\">output:</text>\n<polyline fill=\"none\" points=\"201.5,-1909.5 201.5,-1955.5 \" stroke=\"#000000\"/>\n<text fill=\"#000000\" font-family=\"Times,serif\" font-size=\"14.00\" text-anchor=\"middle\" x=\"264\" y=\"-1940.3\">(None, 32, 32, 32)</text>\n<polyline fill=\"none\" points=\"201.5,-1932.5 326.5,-1932.5 \" stroke=\"#000000\"/>\n<text fill=\"#000000\" font-family=\"Times,serif\" font-size=\"14.00\" text-anchor=\"middle\" x=\"264\" y=\"-1917.3\">(None, 32, 32, 32)</text>\n</g>\n<!-- 139932991675920&#45;&gt;139934541260896 -->\n<g class=\"edge\" id=\"edge7\">\n<title>139932991675920-&gt;139934541260896</title>\n<path d=\"M172.5,-1992.3799C172.5,-1984.1745 172.5,-1974.7679 172.5,-1965.8786\" fill=\"none\" stroke=\"#000000\"/>\n<polygon fill=\"#000000\" points=\"176.0001,-1965.784 172.5,-1955.784 169.0001,-1965.784 176.0001,-1965.784\" stroke=\"#000000\"/>\n</g>\n<!-- 139932991191976 -->\n<g class=\"node\" id=\"node9\">\n<title>139932991191976</title>\n<polygon fill=\"none\" points=\"7,-1826.5 7,-1872.5 338,-1872.5 338,-1826.5 7,-1826.5\" stroke=\"#000000\"/>\n<text fill=\"#000000\" font-family=\"Times,serif\" font-size=\"14.00\" text-anchor=\"middle\" x=\"81\" y=\"-1845.8\">pool2: MaxPooling2D</text>\n<polyline fill=\"none\" points=\"155,-1826.5 155,-1872.5 \" stroke=\"#000000\"/>\n<text fill=\"#000000\" font-family=\"Times,serif\" font-size=\"14.00\" text-anchor=\"middle\" x=\"184\" y=\"-1857.3\">input:</text>\n<polyline fill=\"none\" points=\"155,-1849.5 213,-1849.5 \" stroke=\"#000000\"/>\n<text fill=\"#000000\" font-family=\"Times,serif\" font-size=\"14.00\" text-anchor=\"middle\" x=\"184\" y=\"-1834.3\">output:</text>\n<polyline fill=\"none\" points=\"213,-1826.5 213,-1872.5 \" stroke=\"#000000\"/>\n<text fill=\"#000000\" font-family=\"Times,serif\" font-size=\"14.00\" text-anchor=\"middle\" x=\"275.5\" y=\"-1857.3\">(None, 32, 32, 32)</text>\n<polyline fill=\"none\" points=\"213,-1849.5 338,-1849.5 \" stroke=\"#000000\"/>\n<text fill=\"#000000\" font-family=\"Times,serif\" font-size=\"14.00\" text-anchor=\"middle\" x=\"275.5\" y=\"-1834.3\">(None, 16, 16, 32)</text>\n</g>\n<!-- 139934541260896&#45;&gt;139932991191976 -->\n<g class=\"edge\" id=\"edge8\">\n<title>139934541260896-&gt;139932991191976</title>\n<path d=\"M172.5,-1909.3799C172.5,-1901.1745 172.5,-1891.7679 172.5,-1882.8786\" fill=\"none\" stroke=\"#000000\"/>\n<polygon fill=\"#000000\" points=\"176.0001,-1882.784 172.5,-1872.784 169.0001,-1882.784 176.0001,-1882.784\" stroke=\"#000000\"/>\n</g>\n<!-- 139932990867664 -->\n<g class=\"node\" id=\"node10\">\n<title>139932990867664</title>\n<polygon fill=\"none\" points=\"0,-1743.5 0,-1789.5 345,-1789.5 345,-1743.5 0,-1743.5\" stroke=\"#000000\"/>\n<text fill=\"#000000\" font-family=\"Times,serif\" font-size=\"14.00\" text-anchor=\"middle\" x=\"81\" y=\"-1762.8\">conv_dropout2: Dropout</text>\n<polyline fill=\"none\" points=\"162,-1743.5 162,-1789.5 \" stroke=\"#000000\"/>\n<text fill=\"#000000\" font-family=\"Times,serif\" font-size=\"14.00\" text-anchor=\"middle\" x=\"191\" y=\"-1774.3\">input:</text>\n<polyline fill=\"none\" points=\"162,-1766.5 220,-1766.5 \" stroke=\"#000000\"/>\n<text fill=\"#000000\" font-family=\"Times,serif\" font-size=\"14.00\" text-anchor=\"middle\" x=\"191\" y=\"-1751.3\">output:</text>\n<polyline fill=\"none\" points=\"220,-1743.5 220,-1789.5 \" stroke=\"#000000\"/>\n<text fill=\"#000000\" font-family=\"Times,serif\" font-size=\"14.00\" text-anchor=\"middle\" x=\"282.5\" y=\"-1774.3\">(None, 16, 16, 32)</text>\n<polyline fill=\"none\" points=\"220,-1766.5 345,-1766.5 \" stroke=\"#000000\"/>\n<text fill=\"#000000\" font-family=\"Times,serif\" font-size=\"14.00\" text-anchor=\"middle\" x=\"282.5\" y=\"-1751.3\">(None, 16, 16, 32)</text>\n</g>\n<!-- 139932991191976&#45;&gt;139932990867664 -->\n<g class=\"edge\" id=\"edge9\">\n<title>139932991191976-&gt;139932990867664</title>\n<path d=\"M172.5,-1826.3799C172.5,-1818.1745 172.5,-1808.7679 172.5,-1799.8786\" fill=\"none\" stroke=\"#000000\"/>\n<polygon fill=\"#000000\" points=\"176.0001,-1799.784 172.5,-1789.784 169.0001,-1799.784 176.0001,-1799.784\" stroke=\"#000000\"/>\n</g>\n<!-- 139932990868000 -->\n<g class=\"node\" id=\"node11\">\n<title>139932990868000</title>\n<polygon fill=\"none\" points=\"18.5,-1660.5 18.5,-1706.5 326.5,-1706.5 326.5,-1660.5 18.5,-1660.5\" stroke=\"#000000\"/>\n<text fill=\"#000000\" font-family=\"Times,serif\" font-size=\"14.00\" text-anchor=\"middle\" x=\"81\" y=\"-1679.8\">conv3_1: Conv2D</text>\n<polyline fill=\"none\" points=\"143.5,-1660.5 143.5,-1706.5 \" stroke=\"#000000\"/>\n<text fill=\"#000000\" font-family=\"Times,serif\" font-size=\"14.00\" text-anchor=\"middle\" x=\"172.5\" y=\"-1691.3\">input:</text>\n<polyline fill=\"none\" points=\"143.5,-1683.5 201.5,-1683.5 \" stroke=\"#000000\"/>\n<text fill=\"#000000\" font-family=\"Times,serif\" font-size=\"14.00\" text-anchor=\"middle\" x=\"172.5\" y=\"-1668.3\">output:</text>\n<polyline fill=\"none\" points=\"201.5,-1660.5 201.5,-1706.5 \" stroke=\"#000000\"/>\n<text fill=\"#000000\" font-family=\"Times,serif\" font-size=\"14.00\" text-anchor=\"middle\" x=\"264\" y=\"-1691.3\">(None, 16, 16, 32)</text>\n<polyline fill=\"none\" points=\"201.5,-1683.5 326.5,-1683.5 \" stroke=\"#000000\"/>\n<text fill=\"#000000\" font-family=\"Times,serif\" font-size=\"14.00\" text-anchor=\"middle\" x=\"264\" y=\"-1668.3\">(None, 16, 16, 64)</text>\n</g>\n<!-- 139932990867664&#45;&gt;139932990868000 -->\n<g class=\"edge\" id=\"edge10\">\n<title>139932990867664-&gt;139932990868000</title>\n<path d=\"M172.5,-1743.3799C172.5,-1735.1745 172.5,-1725.7679 172.5,-1716.8786\" fill=\"none\" stroke=\"#000000\"/>\n<polygon fill=\"#000000\" points=\"176.0001,-1716.784 172.5,-1706.784 169.0001,-1716.784 176.0001,-1716.784\" stroke=\"#000000\"/>\n</g>\n<!-- 139932990866264 -->\n<g class=\"node\" id=\"node12\">\n<title>139932990866264</title>\n<polygon fill=\"none\" points=\"18.5,-1577.5 18.5,-1623.5 326.5,-1623.5 326.5,-1577.5 18.5,-1577.5\" stroke=\"#000000\"/>\n<text fill=\"#000000\" font-family=\"Times,serif\" font-size=\"14.00\" text-anchor=\"middle\" x=\"81\" y=\"-1596.8\">conv3_2: Conv2D</text>\n<polyline fill=\"none\" points=\"143.5,-1577.5 143.5,-1623.5 \" stroke=\"#000000\"/>\n<text fill=\"#000000\" font-family=\"Times,serif\" font-size=\"14.00\" text-anchor=\"middle\" x=\"172.5\" y=\"-1608.3\">input:</text>\n<polyline fill=\"none\" points=\"143.5,-1600.5 201.5,-1600.5 \" stroke=\"#000000\"/>\n<text fill=\"#000000\" font-family=\"Times,serif\" font-size=\"14.00\" text-anchor=\"middle\" x=\"172.5\" y=\"-1585.3\">output:</text>\n<polyline fill=\"none\" points=\"201.5,-1577.5 201.5,-1623.5 \" stroke=\"#000000\"/>\n<text fill=\"#000000\" font-family=\"Times,serif\" font-size=\"14.00\" text-anchor=\"middle\" x=\"264\" y=\"-1608.3\">(None, 16, 16, 64)</text>\n<polyline fill=\"none\" points=\"201.5,-1600.5 326.5,-1600.5 \" stroke=\"#000000\"/>\n<text fill=\"#000000\" font-family=\"Times,serif\" font-size=\"14.00\" text-anchor=\"middle\" x=\"264\" y=\"-1585.3\">(None, 16, 16, 64)</text>\n</g>\n<!-- 139932990868000&#45;&gt;139932990866264 -->\n<g class=\"edge\" id=\"edge11\">\n<title>139932990868000-&gt;139932990866264</title>\n<path d=\"M172.5,-1660.3799C172.5,-1652.1745 172.5,-1642.7679 172.5,-1633.8786\" fill=\"none\" stroke=\"#000000\"/>\n<polygon fill=\"#000000\" points=\"176.0001,-1633.784 172.5,-1623.784 169.0001,-1633.784 176.0001,-1633.784\" stroke=\"#000000\"/>\n</g>\n<!-- 139932991034872 -->\n<g class=\"node\" id=\"node13\">\n<title>139932991034872</title>\n<polygon fill=\"none\" points=\"18.5,-1494.5 18.5,-1540.5 326.5,-1540.5 326.5,-1494.5 18.5,-1494.5\" stroke=\"#000000\"/>\n<text fill=\"#000000\" font-family=\"Times,serif\" font-size=\"14.00\" text-anchor=\"middle\" x=\"81\" y=\"-1513.8\">conv3_3: Conv2D</text>\n<polyline fill=\"none\" points=\"143.5,-1494.5 143.5,-1540.5 \" stroke=\"#000000\"/>\n<text fill=\"#000000\" font-family=\"Times,serif\" font-size=\"14.00\" text-anchor=\"middle\" x=\"172.5\" y=\"-1525.3\">input:</text>\n<polyline fill=\"none\" points=\"143.5,-1517.5 201.5,-1517.5 \" stroke=\"#000000\"/>\n<text fill=\"#000000\" font-family=\"Times,serif\" font-size=\"14.00\" text-anchor=\"middle\" x=\"172.5\" y=\"-1502.3\">output:</text>\n<polyline fill=\"none\" points=\"201.5,-1494.5 201.5,-1540.5 \" stroke=\"#000000\"/>\n<text fill=\"#000000\" font-family=\"Times,serif\" font-size=\"14.00\" text-anchor=\"middle\" x=\"264\" y=\"-1525.3\">(None, 16, 16, 64)</text>\n<polyline fill=\"none\" points=\"201.5,-1517.5 326.5,-1517.5 \" stroke=\"#000000\"/>\n<text fill=\"#000000\" font-family=\"Times,serif\" font-size=\"14.00\" text-anchor=\"middle\" x=\"264\" y=\"-1502.3\">(None, 16, 16, 64)</text>\n</g>\n<!-- 139932990866264&#45;&gt;139932991034872 -->\n<g class=\"edge\" id=\"edge12\">\n<title>139932990866264-&gt;139932991034872</title>\n<path d=\"M172.5,-1577.3799C172.5,-1569.1745 172.5,-1559.7679 172.5,-1550.8786\" fill=\"none\" stroke=\"#000000\"/>\n<polygon fill=\"#000000\" points=\"176.0001,-1550.784 172.5,-1540.784 169.0001,-1550.784 176.0001,-1550.784\" stroke=\"#000000\"/>\n</g>\n<!-- 139932990326040 -->\n<g class=\"node\" id=\"node14\">\n<title>139932990326040</title>\n<polygon fill=\"none\" points=\"7,-1411.5 7,-1457.5 338,-1457.5 338,-1411.5 7,-1411.5\" stroke=\"#000000\"/>\n<text fill=\"#000000\" font-family=\"Times,serif\" font-size=\"14.00\" text-anchor=\"middle\" x=\"81\" y=\"-1430.8\">pool3: MaxPooling2D</text>\n<polyline fill=\"none\" points=\"155,-1411.5 155,-1457.5 \" stroke=\"#000000\"/>\n<text fill=\"#000000\" font-family=\"Times,serif\" font-size=\"14.00\" text-anchor=\"middle\" x=\"184\" y=\"-1442.3\">input:</text>\n<polyline fill=\"none\" points=\"155,-1434.5 213,-1434.5 \" stroke=\"#000000\"/>\n<text fill=\"#000000\" font-family=\"Times,serif\" font-size=\"14.00\" text-anchor=\"middle\" x=\"184\" y=\"-1419.3\">output:</text>\n<polyline fill=\"none\" points=\"213,-1411.5 213,-1457.5 \" stroke=\"#000000\"/>\n<text fill=\"#000000\" font-family=\"Times,serif\" font-size=\"14.00\" text-anchor=\"middle\" x=\"275.5\" y=\"-1442.3\">(None, 16, 16, 64)</text>\n<polyline fill=\"none\" points=\"213,-1434.5 338,-1434.5 \" stroke=\"#000000\"/>\n<text fill=\"#000000\" font-family=\"Times,serif\" font-size=\"14.00\" text-anchor=\"middle\" x=\"275.5\" y=\"-1419.3\">(None, 8, 8, 64)</text>\n</g>\n<!-- 139932991034872&#45;&gt;139932990326040 -->\n<g class=\"edge\" id=\"edge13\">\n<title>139932991034872-&gt;139932990326040</title>\n<path d=\"M172.5,-1494.3799C172.5,-1486.1745 172.5,-1476.7679 172.5,-1467.8786\" fill=\"none\" stroke=\"#000000\"/>\n<polygon fill=\"#000000\" points=\"176.0001,-1467.784 172.5,-1457.784 169.0001,-1467.784 176.0001,-1467.784\" stroke=\"#000000\"/>\n</g>\n<!-- 139932990440560 -->\n<g class=\"node\" id=\"node15\">\n<title>139932990440560</title>\n<polygon fill=\"none\" points=\"7.5,-1328.5 7.5,-1374.5 337.5,-1374.5 337.5,-1328.5 7.5,-1328.5\" stroke=\"#000000\"/>\n<text fill=\"#000000\" font-family=\"Times,serif\" font-size=\"14.00\" text-anchor=\"middle\" x=\"88.5\" y=\"-1347.8\">conv_dropout3: Dropout</text>\n<polyline fill=\"none\" points=\"169.5,-1328.5 169.5,-1374.5 \" stroke=\"#000000\"/>\n<text fill=\"#000000\" font-family=\"Times,serif\" font-size=\"14.00\" text-anchor=\"middle\" x=\"198.5\" y=\"-1359.3\">input:</text>\n<polyline fill=\"none\" points=\"169.5,-1351.5 227.5,-1351.5 \" stroke=\"#000000\"/>\n<text fill=\"#000000\" font-family=\"Times,serif\" font-size=\"14.00\" text-anchor=\"middle\" x=\"198.5\" y=\"-1336.3\">output:</text>\n<polyline fill=\"none\" points=\"227.5,-1328.5 227.5,-1374.5 \" stroke=\"#000000\"/>\n<text fill=\"#000000\" font-family=\"Times,serif\" font-size=\"14.00\" text-anchor=\"middle\" x=\"282.5\" y=\"-1359.3\">(None, 8, 8, 64)</text>\n<polyline fill=\"none\" points=\"227.5,-1351.5 337.5,-1351.5 \" stroke=\"#000000\"/>\n<text fill=\"#000000\" font-family=\"Times,serif\" font-size=\"14.00\" text-anchor=\"middle\" x=\"282.5\" y=\"-1336.3\">(None, 8, 8, 64)</text>\n</g>\n<!-- 139932990326040&#45;&gt;139932990440560 -->\n<g class=\"edge\" id=\"edge14\">\n<title>139932990326040-&gt;139932990440560</title>\n<path d=\"M172.5,-1411.3799C172.5,-1403.1745 172.5,-1393.7679 172.5,-1384.8786\" fill=\"none\" stroke=\"#000000\"/>\n<polygon fill=\"#000000\" points=\"176.0001,-1384.784 172.5,-1374.784 169.0001,-1384.784 176.0001,-1384.784\" stroke=\"#000000\"/>\n</g>\n<!-- 139932990443024 -->\n<g class=\"node\" id=\"node16\">\n<title>139932990443024</title>\n<polygon fill=\"none\" points=\"22.5,-1245.5 22.5,-1291.5 322.5,-1291.5 322.5,-1245.5 22.5,-1245.5\" stroke=\"#000000\"/>\n<text fill=\"#000000\" font-family=\"Times,serif\" font-size=\"14.00\" text-anchor=\"middle\" x=\"85\" y=\"-1264.8\">conv4_1: Conv2D</text>\n<polyline fill=\"none\" points=\"147.5,-1245.5 147.5,-1291.5 \" stroke=\"#000000\"/>\n<text fill=\"#000000\" font-family=\"Times,serif\" font-size=\"14.00\" text-anchor=\"middle\" x=\"176.5\" y=\"-1276.3\">input:</text>\n<polyline fill=\"none\" points=\"147.5,-1268.5 205.5,-1268.5 \" stroke=\"#000000\"/>\n<text fill=\"#000000\" font-family=\"Times,serif\" font-size=\"14.00\" text-anchor=\"middle\" x=\"176.5\" y=\"-1253.3\">output:</text>\n<polyline fill=\"none\" points=\"205.5,-1245.5 205.5,-1291.5 \" stroke=\"#000000\"/>\n<text fill=\"#000000\" font-family=\"Times,serif\" font-size=\"14.00\" text-anchor=\"middle\" x=\"264\" y=\"-1276.3\">(None, 8, 8, 64)</text>\n<polyline fill=\"none\" points=\"205.5,-1268.5 322.5,-1268.5 \" stroke=\"#000000\"/>\n<text fill=\"#000000\" font-family=\"Times,serif\" font-size=\"14.00\" text-anchor=\"middle\" x=\"264\" y=\"-1253.3\">(None, 8, 8, 128)</text>\n</g>\n<!-- 139932990440560&#45;&gt;139932990443024 -->\n<g class=\"edge\" id=\"edge15\">\n<title>139932990440560-&gt;139932990443024</title>\n<path d=\"M172.5,-1328.3799C172.5,-1320.1745 172.5,-1310.7679 172.5,-1301.8786\" fill=\"none\" stroke=\"#000000\"/>\n<polygon fill=\"#000000\" points=\"176.0001,-1301.784 172.5,-1291.784 169.0001,-1301.784 176.0001,-1301.784\" stroke=\"#000000\"/>\n</g>\n<!-- 139932990441120 -->\n<g class=\"node\" id=\"node17\">\n<title>139932990441120</title>\n<polygon fill=\"none\" points=\"22.5,-1162.5 22.5,-1208.5 322.5,-1208.5 322.5,-1162.5 22.5,-1162.5\" stroke=\"#000000\"/>\n<text fill=\"#000000\" font-family=\"Times,serif\" font-size=\"14.00\" text-anchor=\"middle\" x=\"85\" y=\"-1181.8\">conv4_2: Conv2D</text>\n<polyline fill=\"none\" points=\"147.5,-1162.5 147.5,-1208.5 \" stroke=\"#000000\"/>\n<text fill=\"#000000\" font-family=\"Times,serif\" font-size=\"14.00\" text-anchor=\"middle\" x=\"176.5\" y=\"-1193.3\">input:</text>\n<polyline fill=\"none\" points=\"147.5,-1185.5 205.5,-1185.5 \" stroke=\"#000000\"/>\n<text fill=\"#000000\" font-family=\"Times,serif\" font-size=\"14.00\" text-anchor=\"middle\" x=\"176.5\" y=\"-1170.3\">output:</text>\n<polyline fill=\"none\" points=\"205.5,-1162.5 205.5,-1208.5 \" stroke=\"#000000\"/>\n<text fill=\"#000000\" font-family=\"Times,serif\" font-size=\"14.00\" text-anchor=\"middle\" x=\"264\" y=\"-1193.3\">(None, 8, 8, 128)</text>\n<polyline fill=\"none\" points=\"205.5,-1185.5 322.5,-1185.5 \" stroke=\"#000000\"/>\n<text fill=\"#000000\" font-family=\"Times,serif\" font-size=\"14.00\" text-anchor=\"middle\" x=\"264\" y=\"-1170.3\">(None, 8, 8, 128)</text>\n</g>\n<!-- 139932990443024&#45;&gt;139932990441120 -->\n<g class=\"edge\" id=\"edge16\">\n<title>139932990443024-&gt;139932990441120</title>\n<path d=\"M172.5,-1245.3799C172.5,-1237.1745 172.5,-1227.7679 172.5,-1218.8786\" fill=\"none\" stroke=\"#000000\"/>\n<polygon fill=\"#000000\" points=\"176.0001,-1218.784 172.5,-1208.784 169.0001,-1218.784 176.0001,-1218.784\" stroke=\"#000000\"/>\n</g>\n<!-- 139932990087520 -->\n<g class=\"node\" id=\"node18\">\n<title>139932990087520</title>\n<polygon fill=\"none\" points=\"22.5,-1079.5 22.5,-1125.5 322.5,-1125.5 322.5,-1079.5 22.5,-1079.5\" stroke=\"#000000\"/>\n<text fill=\"#000000\" font-family=\"Times,serif\" font-size=\"14.00\" text-anchor=\"middle\" x=\"85\" y=\"-1098.8\">conv4_3: Conv2D</text>\n<polyline fill=\"none\" points=\"147.5,-1079.5 147.5,-1125.5 \" stroke=\"#000000\"/>\n<text fill=\"#000000\" font-family=\"Times,serif\" font-size=\"14.00\" text-anchor=\"middle\" x=\"176.5\" y=\"-1110.3\">input:</text>\n<polyline fill=\"none\" points=\"147.5,-1102.5 205.5,-1102.5 \" stroke=\"#000000\"/>\n<text fill=\"#000000\" font-family=\"Times,serif\" font-size=\"14.00\" text-anchor=\"middle\" x=\"176.5\" y=\"-1087.3\">output:</text>\n<polyline fill=\"none\" points=\"205.5,-1079.5 205.5,-1125.5 \" stroke=\"#000000\"/>\n<text fill=\"#000000\" font-family=\"Times,serif\" font-size=\"14.00\" text-anchor=\"middle\" x=\"264\" y=\"-1110.3\">(None, 8, 8, 128)</text>\n<polyline fill=\"none\" points=\"205.5,-1102.5 322.5,-1102.5 \" stroke=\"#000000\"/>\n<text fill=\"#000000\" font-family=\"Times,serif\" font-size=\"14.00\" text-anchor=\"middle\" x=\"264\" y=\"-1087.3\">(None, 8, 8, 128)</text>\n</g>\n<!-- 139932990441120&#45;&gt;139932990087520 -->\n<g class=\"edge\" id=\"edge17\">\n<title>139932990441120-&gt;139932990087520</title>\n<path d=\"M172.5,-1162.3799C172.5,-1154.1745 172.5,-1144.7679 172.5,-1135.8786\" fill=\"none\" stroke=\"#000000\"/>\n<polygon fill=\"#000000\" points=\"176.0001,-1135.784 172.5,-1125.784 169.0001,-1135.784 176.0001,-1135.784\" stroke=\"#000000\"/>\n</g>\n<!-- 139932989911560 -->\n<g class=\"node\" id=\"node19\">\n<title>139932989911560</title>\n<polygon fill=\"none\" points=\"11,-996.5 11,-1042.5 334,-1042.5 334,-996.5 11,-996.5\" stroke=\"#000000\"/>\n<text fill=\"#000000\" font-family=\"Times,serif\" font-size=\"14.00\" text-anchor=\"middle\" x=\"85\" y=\"-1015.8\">pool4: MaxPooling2D</text>\n<polyline fill=\"none\" points=\"159,-996.5 159,-1042.5 \" stroke=\"#000000\"/>\n<text fill=\"#000000\" font-family=\"Times,serif\" font-size=\"14.00\" text-anchor=\"middle\" x=\"188\" y=\"-1027.3\">input:</text>\n<polyline fill=\"none\" points=\"159,-1019.5 217,-1019.5 \" stroke=\"#000000\"/>\n<text fill=\"#000000\" font-family=\"Times,serif\" font-size=\"14.00\" text-anchor=\"middle\" x=\"188\" y=\"-1004.3\">output:</text>\n<polyline fill=\"none\" points=\"217,-996.5 217,-1042.5 \" stroke=\"#000000\"/>\n<text fill=\"#000000\" font-family=\"Times,serif\" font-size=\"14.00\" text-anchor=\"middle\" x=\"275.5\" y=\"-1027.3\">(None, 8, 8, 128)</text>\n<polyline fill=\"none\" points=\"217,-1019.5 334,-1019.5 \" stroke=\"#000000\"/>\n<text fill=\"#000000\" font-family=\"Times,serif\" font-size=\"14.00\" text-anchor=\"middle\" x=\"275.5\" y=\"-1004.3\">(None, 4, 4, 128)</text>\n</g>\n<!-- 139932990087520&#45;&gt;139932989911560 -->\n<g class=\"edge\" id=\"edge18\">\n<title>139932990087520-&gt;139932989911560</title>\n<path d=\"M172.5,-1079.3799C172.5,-1071.1745 172.5,-1061.7679 172.5,-1052.8786\" fill=\"none\" stroke=\"#000000\"/>\n<polygon fill=\"#000000\" points=\"176.0001,-1052.784 172.5,-1042.784 169.0001,-1052.784 176.0001,-1052.784\" stroke=\"#000000\"/>\n</g>\n<!-- 139932989487648 -->\n<g class=\"node\" id=\"node20\">\n<title>139932989487648</title>\n<polygon fill=\"none\" points=\"4,-913.5 4,-959.5 341,-959.5 341,-913.5 4,-913.5\" stroke=\"#000000\"/>\n<text fill=\"#000000\" font-family=\"Times,serif\" font-size=\"14.00\" text-anchor=\"middle\" x=\"85\" y=\"-932.8\">conv_dropout4: Dropout</text>\n<polyline fill=\"none\" points=\"166,-913.5 166,-959.5 \" stroke=\"#000000\"/>\n<text fill=\"#000000\" font-family=\"Times,serif\" font-size=\"14.00\" text-anchor=\"middle\" x=\"195\" y=\"-944.3\">input:</text>\n<polyline fill=\"none\" points=\"166,-936.5 224,-936.5 \" stroke=\"#000000\"/>\n<text fill=\"#000000\" font-family=\"Times,serif\" font-size=\"14.00\" text-anchor=\"middle\" x=\"195\" y=\"-921.3\">output:</text>\n<polyline fill=\"none\" points=\"224,-913.5 224,-959.5 \" stroke=\"#000000\"/>\n<text fill=\"#000000\" font-family=\"Times,serif\" font-size=\"14.00\" text-anchor=\"middle\" x=\"282.5\" y=\"-944.3\">(None, 4, 4, 128)</text>\n<polyline fill=\"none\" points=\"224,-936.5 341,-936.5 \" stroke=\"#000000\"/>\n<text fill=\"#000000\" font-family=\"Times,serif\" font-size=\"14.00\" text-anchor=\"middle\" x=\"282.5\" y=\"-921.3\">(None, 4, 4, 128)</text>\n</g>\n<!-- 139932989911560&#45;&gt;139932989487648 -->\n<g class=\"edge\" id=\"edge19\">\n<title>139932989911560-&gt;139932989487648</title>\n<path d=\"M172.5,-996.3799C172.5,-988.1745 172.5,-978.7679 172.5,-969.8786\" fill=\"none\" stroke=\"#000000\"/>\n<polygon fill=\"#000000\" points=\"176.0001,-969.784 172.5,-959.784 169.0001,-969.784 176.0001,-969.784\" stroke=\"#000000\"/>\n</g>\n<!-- 139932989487816 -->\n<g class=\"node\" id=\"node21\">\n<title>139932989487816</title>\n<polygon fill=\"none\" points=\"22.5,-830.5 22.5,-876.5 322.5,-876.5 322.5,-830.5 22.5,-830.5\" stroke=\"#000000\"/>\n<text fill=\"#000000\" font-family=\"Times,serif\" font-size=\"14.00\" text-anchor=\"middle\" x=\"85\" y=\"-849.8\">conv5_1: Conv2D</text>\n<polyline fill=\"none\" points=\"147.5,-830.5 147.5,-876.5 \" stroke=\"#000000\"/>\n<text fill=\"#000000\" font-family=\"Times,serif\" font-size=\"14.00\" text-anchor=\"middle\" x=\"176.5\" y=\"-861.3\">input:</text>\n<polyline fill=\"none\" points=\"147.5,-853.5 205.5,-853.5 \" stroke=\"#000000\"/>\n<text fill=\"#000000\" font-family=\"Times,serif\" font-size=\"14.00\" text-anchor=\"middle\" x=\"176.5\" y=\"-838.3\">output:</text>\n<polyline fill=\"none\" points=\"205.5,-830.5 205.5,-876.5 \" stroke=\"#000000\"/>\n<text fill=\"#000000\" font-family=\"Times,serif\" font-size=\"14.00\" text-anchor=\"middle\" x=\"264\" y=\"-861.3\">(None, 4, 4, 128)</text>\n<polyline fill=\"none\" points=\"205.5,-853.5 322.5,-853.5 \" stroke=\"#000000\"/>\n<text fill=\"#000000\" font-family=\"Times,serif\" font-size=\"14.00\" text-anchor=\"middle\" x=\"264\" y=\"-838.3\">(None, 4, 4, 256)</text>\n</g>\n<!-- 139932989487648&#45;&gt;139932989487816 -->\n<g class=\"edge\" id=\"edge20\">\n<title>139932989487648-&gt;139932989487816</title>\n<path d=\"M172.5,-913.3799C172.5,-905.1745 172.5,-895.7679 172.5,-886.8786\" fill=\"none\" stroke=\"#000000\"/>\n<polygon fill=\"#000000\" points=\"176.0001,-886.784 172.5,-876.784 169.0001,-886.784 176.0001,-886.784\" stroke=\"#000000\"/>\n</g>\n<!-- 139932989486248 -->\n<g class=\"node\" id=\"node22\">\n<title>139932989486248</title>\n<polygon fill=\"none\" points=\"22.5,-747.5 22.5,-793.5 322.5,-793.5 322.5,-747.5 22.5,-747.5\" stroke=\"#000000\"/>\n<text fill=\"#000000\" font-family=\"Times,serif\" font-size=\"14.00\" text-anchor=\"middle\" x=\"85\" y=\"-766.8\">conv5_2: Conv2D</text>\n<polyline fill=\"none\" points=\"147.5,-747.5 147.5,-793.5 \" stroke=\"#000000\"/>\n<text fill=\"#000000\" font-family=\"Times,serif\" font-size=\"14.00\" text-anchor=\"middle\" x=\"176.5\" y=\"-778.3\">input:</text>\n<polyline fill=\"none\" points=\"147.5,-770.5 205.5,-770.5 \" stroke=\"#000000\"/>\n<text fill=\"#000000\" font-family=\"Times,serif\" font-size=\"14.00\" text-anchor=\"middle\" x=\"176.5\" y=\"-755.3\">output:</text>\n<polyline fill=\"none\" points=\"205.5,-747.5 205.5,-793.5 \" stroke=\"#000000\"/>\n<text fill=\"#000000\" font-family=\"Times,serif\" font-size=\"14.00\" text-anchor=\"middle\" x=\"264\" y=\"-778.3\">(None, 4, 4, 256)</text>\n<polyline fill=\"none\" points=\"205.5,-770.5 322.5,-770.5 \" stroke=\"#000000\"/>\n<text fill=\"#000000\" font-family=\"Times,serif\" font-size=\"14.00\" text-anchor=\"middle\" x=\"264\" y=\"-755.3\">(None, 4, 4, 256)</text>\n</g>\n<!-- 139932989487816&#45;&gt;139932989486248 -->\n<g class=\"edge\" id=\"edge21\">\n<title>139932989487816-&gt;139932989486248</title>\n<path d=\"M172.5,-830.3799C172.5,-822.1745 172.5,-812.7679 172.5,-803.8786\" fill=\"none\" stroke=\"#000000\"/>\n<polygon fill=\"#000000\" points=\"176.0001,-803.784 172.5,-793.784 169.0001,-803.784 176.0001,-803.784\" stroke=\"#000000\"/>\n</g>\n<!-- 139932989235776 -->\n<g class=\"node\" id=\"node23\">\n<title>139932989235776</title>\n<polygon fill=\"none\" points=\"22.5,-664.5 22.5,-710.5 322.5,-710.5 322.5,-664.5 22.5,-664.5\" stroke=\"#000000\"/>\n<text fill=\"#000000\" font-family=\"Times,serif\" font-size=\"14.00\" text-anchor=\"middle\" x=\"85\" y=\"-683.8\">conv5_3: Conv2D</text>\n<polyline fill=\"none\" points=\"147.5,-664.5 147.5,-710.5 \" stroke=\"#000000\"/>\n<text fill=\"#000000\" font-family=\"Times,serif\" font-size=\"14.00\" text-anchor=\"middle\" x=\"176.5\" y=\"-695.3\">input:</text>\n<polyline fill=\"none\" points=\"147.5,-687.5 205.5,-687.5 \" stroke=\"#000000\"/>\n<text fill=\"#000000\" font-family=\"Times,serif\" font-size=\"14.00\" text-anchor=\"middle\" x=\"176.5\" y=\"-672.3\">output:</text>\n<polyline fill=\"none\" points=\"205.5,-664.5 205.5,-710.5 \" stroke=\"#000000\"/>\n<text fill=\"#000000\" font-family=\"Times,serif\" font-size=\"14.00\" text-anchor=\"middle\" x=\"264\" y=\"-695.3\">(None, 4, 4, 256)</text>\n<polyline fill=\"none\" points=\"205.5,-687.5 322.5,-687.5 \" stroke=\"#000000\"/>\n<text fill=\"#000000\" font-family=\"Times,serif\" font-size=\"14.00\" text-anchor=\"middle\" x=\"264\" y=\"-672.3\">(None, 4, 4, 256)</text>\n</g>\n<!-- 139932989486248&#45;&gt;139932989235776 -->\n<g class=\"edge\" id=\"edge22\">\n<title>139932989486248-&gt;139932989235776</title>\n<path d=\"M172.5,-747.3799C172.5,-739.1745 172.5,-729.7679 172.5,-720.8786\" fill=\"none\" stroke=\"#000000\"/>\n<polygon fill=\"#000000\" points=\"176.0001,-720.784 172.5,-710.784 169.0001,-720.784 176.0001,-720.784\" stroke=\"#000000\"/>\n</g>\n<!-- 139932988964088 -->\n<g class=\"node\" id=\"node24\">\n<title>139932988964088</title>\n<polygon fill=\"none\" points=\"11,-581.5 11,-627.5 334,-627.5 334,-581.5 11,-581.5\" stroke=\"#000000\"/>\n<text fill=\"#000000\" font-family=\"Times,serif\" font-size=\"14.00\" text-anchor=\"middle\" x=\"85\" y=\"-600.8\">pool5: MaxPooling2D</text>\n<polyline fill=\"none\" points=\"159,-581.5 159,-627.5 \" stroke=\"#000000\"/>\n<text fill=\"#000000\" font-family=\"Times,serif\" font-size=\"14.00\" text-anchor=\"middle\" x=\"188\" y=\"-612.3\">input:</text>\n<polyline fill=\"none\" points=\"159,-604.5 217,-604.5 \" stroke=\"#000000\"/>\n<text fill=\"#000000\" font-family=\"Times,serif\" font-size=\"14.00\" text-anchor=\"middle\" x=\"188\" y=\"-589.3\">output:</text>\n<polyline fill=\"none\" points=\"217,-581.5 217,-627.5 \" stroke=\"#000000\"/>\n<text fill=\"#000000\" font-family=\"Times,serif\" font-size=\"14.00\" text-anchor=\"middle\" x=\"275.5\" y=\"-612.3\">(None, 4, 4, 256)</text>\n<polyline fill=\"none\" points=\"217,-604.5 334,-604.5 \" stroke=\"#000000\"/>\n<text fill=\"#000000\" font-family=\"Times,serif\" font-size=\"14.00\" text-anchor=\"middle\" x=\"275.5\" y=\"-589.3\">(None, 2, 2, 256)</text>\n</g>\n<!-- 139932989235776&#45;&gt;139932988964088 -->\n<g class=\"edge\" id=\"edge23\">\n<title>139932989235776-&gt;139932988964088</title>\n<path d=\"M172.5,-664.3799C172.5,-656.1745 172.5,-646.7679 172.5,-637.8786\" fill=\"none\" stroke=\"#000000\"/>\n<polygon fill=\"#000000\" points=\"176.0001,-637.784 172.5,-627.784 169.0001,-637.784 176.0001,-637.784\" stroke=\"#000000\"/>\n</g>\n<!-- 139932989149984 -->\n<g class=\"node\" id=\"node25\">\n<title>139932989149984</title>\n<polygon fill=\"none\" points=\"4,-498.5 4,-544.5 341,-544.5 341,-498.5 4,-498.5\" stroke=\"#000000\"/>\n<text fill=\"#000000\" font-family=\"Times,serif\" font-size=\"14.00\" text-anchor=\"middle\" x=\"85\" y=\"-517.8\">conv_dropout5: Dropout</text>\n<polyline fill=\"none\" points=\"166,-498.5 166,-544.5 \" stroke=\"#000000\"/>\n<text fill=\"#000000\" font-family=\"Times,serif\" font-size=\"14.00\" text-anchor=\"middle\" x=\"195\" y=\"-529.3\">input:</text>\n<polyline fill=\"none\" points=\"166,-521.5 224,-521.5 \" stroke=\"#000000\"/>\n<text fill=\"#000000\" font-family=\"Times,serif\" font-size=\"14.00\" text-anchor=\"middle\" x=\"195\" y=\"-506.3\">output:</text>\n<polyline fill=\"none\" points=\"224,-498.5 224,-544.5 \" stroke=\"#000000\"/>\n<text fill=\"#000000\" font-family=\"Times,serif\" font-size=\"14.00\" text-anchor=\"middle\" x=\"282.5\" y=\"-529.3\">(None, 2, 2, 256)</text>\n<polyline fill=\"none\" points=\"224,-521.5 341,-521.5 \" stroke=\"#000000\"/>\n<text fill=\"#000000\" font-family=\"Times,serif\" font-size=\"14.00\" text-anchor=\"middle\" x=\"282.5\" y=\"-506.3\">(None, 2, 2, 256)</text>\n</g>\n<!-- 139932988964088&#45;&gt;139932989149984 -->\n<g class=\"edge\" id=\"edge24\">\n<title>139932988964088-&gt;139932989149984</title>\n<path d=\"M172.5,-581.3799C172.5,-573.1745 172.5,-563.7679 172.5,-554.8786\" fill=\"none\" stroke=\"#000000\"/>\n<polygon fill=\"#000000\" points=\"176.0001,-554.784 172.5,-544.784 169.0001,-554.784 176.0001,-554.784\" stroke=\"#000000\"/>\n</g>\n<!-- 139932989150488 -->\n<g class=\"node\" id=\"node26\">\n<title>139932989150488</title>\n<polygon fill=\"none\" points=\"36,-415.5 36,-461.5 309,-461.5 309,-415.5 36,-415.5\" stroke=\"#000000\"/>\n<text fill=\"#000000\" font-family=\"Times,serif\" font-size=\"14.00\" text-anchor=\"middle\" x=\"85\" y=\"-434.8\">flatten: Flatten</text>\n<polyline fill=\"none\" points=\"134,-415.5 134,-461.5 \" stroke=\"#000000\"/>\n<text fill=\"#000000\" font-family=\"Times,serif\" font-size=\"14.00\" text-anchor=\"middle\" x=\"163\" y=\"-446.3\">input:</text>\n<polyline fill=\"none\" points=\"134,-438.5 192,-438.5 \" stroke=\"#000000\"/>\n<text fill=\"#000000\" font-family=\"Times,serif\" font-size=\"14.00\" text-anchor=\"middle\" x=\"163\" y=\"-423.3\">output:</text>\n<polyline fill=\"none\" points=\"192,-415.5 192,-461.5 \" stroke=\"#000000\"/>\n<text fill=\"#000000\" font-family=\"Times,serif\" font-size=\"14.00\" text-anchor=\"middle\" x=\"250.5\" y=\"-446.3\">(None, 2, 2, 256)</text>\n<polyline fill=\"none\" points=\"192,-438.5 309,-438.5 \" stroke=\"#000000\"/>\n<text fill=\"#000000\" font-family=\"Times,serif\" font-size=\"14.00\" text-anchor=\"middle\" x=\"250.5\" y=\"-423.3\">(None, 1024)</text>\n</g>\n<!-- 139932989149984&#45;&gt;139932989150488 -->\n<g class=\"edge\" id=\"edge25\">\n<title>139932989149984-&gt;139932989150488</title>\n<path d=\"M172.5,-498.3799C172.5,-490.1745 172.5,-480.7679 172.5,-471.8786\" fill=\"none\" stroke=\"#000000\"/>\n<polygon fill=\"#000000\" points=\"176.0001,-471.784 172.5,-461.784 169.0001,-471.784 176.0001,-471.784\" stroke=\"#000000\"/>\n</g>\n<!-- 139932989058688 -->\n<g class=\"node\" id=\"node27\">\n<title>139932989058688</title>\n<polygon fill=\"none\" points=\"57.5,-332.5 57.5,-378.5 287.5,-378.5 287.5,-332.5 57.5,-332.5\" stroke=\"#000000\"/>\n<text fill=\"#000000\" font-family=\"Times,serif\" font-size=\"14.00\" text-anchor=\"middle\" x=\"96\" y=\"-351.8\">fc1: Dense</text>\n<polyline fill=\"none\" points=\"134.5,-332.5 134.5,-378.5 \" stroke=\"#000000\"/>\n<text fill=\"#000000\" font-family=\"Times,serif\" font-size=\"14.00\" text-anchor=\"middle\" x=\"163.5\" y=\"-363.3\">input:</text>\n<polyline fill=\"none\" points=\"134.5,-355.5 192.5,-355.5 \" stroke=\"#000000\"/>\n<text fill=\"#000000\" font-family=\"Times,serif\" font-size=\"14.00\" text-anchor=\"middle\" x=\"163.5\" y=\"-340.3\">output:</text>\n<polyline fill=\"none\" points=\"192.5,-332.5 192.5,-378.5 \" stroke=\"#000000\"/>\n<text fill=\"#000000\" font-family=\"Times,serif\" font-size=\"14.00\" text-anchor=\"middle\" x=\"240\" y=\"-363.3\">(None, 1024)</text>\n<polyline fill=\"none\" points=\"192.5,-355.5 287.5,-355.5 \" stroke=\"#000000\"/>\n<text fill=\"#000000\" font-family=\"Times,serif\" font-size=\"14.00\" text-anchor=\"middle\" x=\"240\" y=\"-340.3\">(None, 1024)</text>\n</g>\n<!-- 139932989150488&#45;&gt;139932989058688 -->\n<g class=\"edge\" id=\"edge26\">\n<title>139932989150488-&gt;139932989058688</title>\n<path d=\"M172.5,-415.3799C172.5,-407.1745 172.5,-397.7679 172.5,-388.8786\" fill=\"none\" stroke=\"#000000\"/>\n<polygon fill=\"#000000\" points=\"176.0001,-388.784 172.5,-378.784 169.0001,-388.784 176.0001,-388.784\" stroke=\"#000000\"/>\n</g>\n<!-- 139932988721360 -->\n<g class=\"node\" id=\"node28\">\n<title>139932988721360</title>\n<polygon fill=\"none\" points=\"24,-249.5 24,-295.5 321,-295.5 321,-249.5 24,-249.5\" stroke=\"#000000\"/>\n<text fill=\"#000000\" font-family=\"Times,serif\" font-size=\"14.00\" text-anchor=\"middle\" x=\"96\" y=\"-268.8\">fc_dropout1: Dropout</text>\n<polyline fill=\"none\" points=\"168,-249.5 168,-295.5 \" stroke=\"#000000\"/>\n<text fill=\"#000000\" font-family=\"Times,serif\" font-size=\"14.00\" text-anchor=\"middle\" x=\"197\" y=\"-280.3\">input:</text>\n<polyline fill=\"none\" points=\"168,-272.5 226,-272.5 \" stroke=\"#000000\"/>\n<text fill=\"#000000\" font-family=\"Times,serif\" font-size=\"14.00\" text-anchor=\"middle\" x=\"197\" y=\"-257.3\">output:</text>\n<polyline fill=\"none\" points=\"226,-249.5 226,-295.5 \" stroke=\"#000000\"/>\n<text fill=\"#000000\" font-family=\"Times,serif\" font-size=\"14.00\" text-anchor=\"middle\" x=\"273.5\" y=\"-280.3\">(None, 1024)</text>\n<polyline fill=\"none\" points=\"226,-272.5 321,-272.5 \" stroke=\"#000000\"/>\n<text fill=\"#000000\" font-family=\"Times,serif\" font-size=\"14.00\" text-anchor=\"middle\" x=\"273.5\" y=\"-257.3\">(None, 1024)</text>\n</g>\n<!-- 139932989058688&#45;&gt;139932988721360 -->\n<g class=\"edge\" id=\"edge27\">\n<title>139932989058688-&gt;139932988721360</title>\n<path d=\"M172.5,-332.3799C172.5,-324.1745 172.5,-314.7679 172.5,-305.8786\" fill=\"none\" stroke=\"#000000\"/>\n<polygon fill=\"#000000\" points=\"176.0001,-305.784 172.5,-295.784 169.0001,-305.784 176.0001,-305.784\" stroke=\"#000000\"/>\n</g>\n<!-- 139932988554040 -->\n<g class=\"node\" id=\"node29\">\n<title>139932988554040</title>\n<polygon fill=\"none\" points=\"57.5,-166.5 57.5,-212.5 287.5,-212.5 287.5,-166.5 57.5,-166.5\" stroke=\"#000000\"/>\n<text fill=\"#000000\" font-family=\"Times,serif\" font-size=\"14.00\" text-anchor=\"middle\" x=\"96\" y=\"-185.8\">fc2: Dense</text>\n<polyline fill=\"none\" points=\"134.5,-166.5 134.5,-212.5 \" stroke=\"#000000\"/>\n<text fill=\"#000000\" font-family=\"Times,serif\" font-size=\"14.00\" text-anchor=\"middle\" x=\"163.5\" y=\"-197.3\">input:</text>\n<polyline fill=\"none\" points=\"134.5,-189.5 192.5,-189.5 \" stroke=\"#000000\"/>\n<text fill=\"#000000\" font-family=\"Times,serif\" font-size=\"14.00\" text-anchor=\"middle\" x=\"163.5\" y=\"-174.3\">output:</text>\n<polyline fill=\"none\" points=\"192.5,-166.5 192.5,-212.5 \" stroke=\"#000000\"/>\n<text fill=\"#000000\" font-family=\"Times,serif\" font-size=\"14.00\" text-anchor=\"middle\" x=\"240\" y=\"-197.3\">(None, 1024)</text>\n<polyline fill=\"none\" points=\"192.5,-189.5 287.5,-189.5 \" stroke=\"#000000\"/>\n<text fill=\"#000000\" font-family=\"Times,serif\" font-size=\"14.00\" text-anchor=\"middle\" x=\"240\" y=\"-174.3\">(None, 1024)</text>\n</g>\n<!-- 139932988721360&#45;&gt;139932988554040 -->\n<g class=\"edge\" id=\"edge28\">\n<title>139932988721360-&gt;139932988554040</title>\n<path d=\"M172.5,-249.3799C172.5,-241.1745 172.5,-231.7679 172.5,-222.8786\" fill=\"none\" stroke=\"#000000\"/>\n<polygon fill=\"#000000\" points=\"176.0001,-222.784 172.5,-212.784 169.0001,-222.784 176.0001,-222.784\" stroke=\"#000000\"/>\n</g>\n<!-- 139932988915384 -->\n<g class=\"node\" id=\"node30\">\n<title>139932988915384</title>\n<polygon fill=\"none\" points=\"24,-83.5 24,-129.5 321,-129.5 321,-83.5 24,-83.5\" stroke=\"#000000\"/>\n<text fill=\"#000000\" font-family=\"Times,serif\" font-size=\"14.00\" text-anchor=\"middle\" x=\"96\" y=\"-102.8\">fc_dropout2: Dropout</text>\n<polyline fill=\"none\" points=\"168,-83.5 168,-129.5 \" stroke=\"#000000\"/>\n<text fill=\"#000000\" font-family=\"Times,serif\" font-size=\"14.00\" text-anchor=\"middle\" x=\"197\" y=\"-114.3\">input:</text>\n<polyline fill=\"none\" points=\"168,-106.5 226,-106.5 \" stroke=\"#000000\"/>\n<text fill=\"#000000\" font-family=\"Times,serif\" font-size=\"14.00\" text-anchor=\"middle\" x=\"197\" y=\"-91.3\">output:</text>\n<polyline fill=\"none\" points=\"226,-83.5 226,-129.5 \" stroke=\"#000000\"/>\n<text fill=\"#000000\" font-family=\"Times,serif\" font-size=\"14.00\" text-anchor=\"middle\" x=\"273.5\" y=\"-114.3\">(None, 1024)</text>\n<polyline fill=\"none\" points=\"226,-106.5 321,-106.5 \" stroke=\"#000000\"/>\n<text fill=\"#000000\" font-family=\"Times,serif\" font-size=\"14.00\" text-anchor=\"middle\" x=\"273.5\" y=\"-91.3\">(None, 1024)</text>\n</g>\n<!-- 139932988554040&#45;&gt;139932988915384 -->\n<g class=\"edge\" id=\"edge29\">\n<title>139932988554040-&gt;139932988915384</title>\n<path d=\"M172.5,-166.3799C172.5,-158.1745 172.5,-148.7679 172.5,-139.8786\" fill=\"none\" stroke=\"#000000\"/>\n<polygon fill=\"#000000\" points=\"176.0001,-139.784 172.5,-129.784 169.0001,-139.784 176.0001,-139.784\" stroke=\"#000000\"/>\n</g>\n<!-- 139932988651616 -->\n<g class=\"node\" id=\"node31\">\n<title>139932988651616</title>\n<polygon fill=\"none\" points=\"5,-.5 5,-46.5 340,-46.5 340,-.5 5,-.5\" stroke=\"#000000\"/>\n<text fill=\"#000000\" font-family=\"Times,serif\" font-size=\"14.00\" text-anchor=\"middle\" x=\"96\" y=\"-19.8\">fc3_10ways_softmax: Dense</text>\n<polyline fill=\"none\" points=\"187,-.5 187,-46.5 \" stroke=\"#000000\"/>\n<text fill=\"#000000\" font-family=\"Times,serif\" font-size=\"14.00\" text-anchor=\"middle\" x=\"216\" y=\"-31.3\">input:</text>\n<polyline fill=\"none\" points=\"187,-23.5 245,-23.5 \" stroke=\"#000000\"/>\n<text fill=\"#000000\" font-family=\"Times,serif\" font-size=\"14.00\" text-anchor=\"middle\" x=\"216\" y=\"-8.3\">output:</text>\n<polyline fill=\"none\" points=\"245,-.5 245,-46.5 \" stroke=\"#000000\"/>\n<text fill=\"#000000\" font-family=\"Times,serif\" font-size=\"14.00\" text-anchor=\"middle\" x=\"292.5\" y=\"-31.3\">(None, 1024)</text>\n<polyline fill=\"none\" points=\"245,-23.5 340,-23.5 \" stroke=\"#000000\"/>\n<text fill=\"#000000\" font-family=\"Times,serif\" font-size=\"14.00\" text-anchor=\"middle\" x=\"292.5\" y=\"-8.3\">(None, 2)</text>\n</g>\n<!-- 139932988915384&#45;&gt;139932988651616 -->\n<g class=\"edge\" id=\"edge30\">\n<title>139932988915384-&gt;139932988651616</title>\n<path d=\"M172.5,-83.3799C172.5,-75.1745 172.5,-65.7679 172.5,-56.8786\" fill=\"none\" stroke=\"#000000\"/>\n<polygon fill=\"#000000\" points=\"176.0001,-56.784 172.5,-46.784 169.0001,-56.784 176.0001,-56.784\" stroke=\"#000000\"/>\n</g>\n</g>\n</svg>"
          },
          "metadata": {
            "tags": []
          },
          "execution_count": 6
        }
      ]
    },
    {
      "cell_type": "markdown",
      "metadata": {
        "id": "RCmP5NhAXNV6",
        "colab_type": "text"
      },
      "source": [
        "## 3. Train defined model\n",
        "- Note that the training history including loss and accuracy will be save in 'history' variable\n",
        "- In case your system runs out of memory (OOM), try to decrease batch size"
      ]
    },
    {
      "cell_type": "code",
      "metadata": {
        "id": "iRRPR39tXNV6",
        "colab_type": "code",
        "colab": {
          "base_uri": "https://localhost:8080/",
          "height": 1142
        },
        "outputId": "b47752fd-ef56-4cd0-ea2b-ada635944324"
      },
      "source": [
        "# declare learning rate, loss function, and model metric\n",
        "loss = 'categorical_crossentropy'\n",
        "lr = 0.0001\n",
        "model.compile(loss=loss, optimizer=Adam(lr=lr), metrics=['accuracy'])\n",
        "\n",
        "# train the model\n",
        "batch_size = 128\n",
        "epochs = 30\n",
        "\n",
        "starting_time = time.time()\n",
        "history = model.fit(x_train, y_train,\n",
        "                    validation_data=(x_test, y_test),\n",
        "                    batch_size=batch_size,\n",
        "                    epochs=epochs)\n",
        "print('> training time is %.4f minutes' % ((time.time() - starting_time)/60))"
      ],
      "execution_count": 7,
      "outputs": [
        {
          "output_type": "stream",
          "text": [
            "WARNING:tensorflow:From /usr/local/lib/python3.6/dist-packages/tensorflow/python/ops/math_ops.py:3066: to_int32 (from tensorflow.python.ops.math_ops) is deprecated and will be removed in a future version.\n",
            "Instructions for updating:\n",
            "Use tf.cast instead.\n",
            "Train on 11938 samples, validate on 5968 samples\n",
            "Epoch 1/30\n",
            "11938/11938 [==============================] - 9s 731us/step - loss: 0.5446 - acc: 0.7867 - val_loss: 0.5285 - val_acc: 0.7885\n",
            "Epoch 2/30\n",
            "11938/11938 [==============================] - 4s 369us/step - loss: 0.5089 - acc: 0.7885 - val_loss: 0.4979 - val_acc: 0.7885\n",
            "Epoch 3/30\n",
            "11938/11938 [==============================] - 4s 368us/step - loss: 0.4928 - acc: 0.7885 - val_loss: 0.4756 - val_acc: 0.7885\n",
            "Epoch 4/30\n",
            "11938/11938 [==============================] - 4s 368us/step - loss: 0.4654 - acc: 0.8010 - val_loss: 0.4532 - val_acc: 0.8148\n",
            "Epoch 5/30\n",
            "11938/11938 [==============================] - 4s 368us/step - loss: 0.4505 - acc: 0.8136 - val_loss: 0.4486 - val_acc: 0.8103\n",
            "Epoch 6/30\n",
            "11938/11938 [==============================] - 4s 368us/step - loss: 0.4362 - acc: 0.8200 - val_loss: 0.4444 - val_acc: 0.8091\n",
            "Epoch 7/30\n",
            "11938/11938 [==============================] - 4s 370us/step - loss: 0.4302 - acc: 0.8234 - val_loss: 0.4203 - val_acc: 0.8306\n",
            "Epoch 8/30\n",
            "11938/11938 [==============================] - 4s 374us/step - loss: 0.4233 - acc: 0.8231 - val_loss: 0.4174 - val_acc: 0.8283\n",
            "Epoch 9/30\n",
            "11938/11938 [==============================] - 4s 374us/step - loss: 0.4149 - acc: 0.8321 - val_loss: 0.4154 - val_acc: 0.8283\n",
            "Epoch 10/30\n",
            "11938/11938 [==============================] - 4s 374us/step - loss: 0.4080 - acc: 0.8362 - val_loss: 0.4131 - val_acc: 0.8343\n",
            "Epoch 11/30\n",
            "11938/11938 [==============================] - 4s 376us/step - loss: 0.4055 - acc: 0.8352 - val_loss: 0.4038 - val_acc: 0.8375\n",
            "Epoch 12/30\n",
            "11938/11938 [==============================] - 5s 380us/step - loss: 0.4029 - acc: 0.8388 - val_loss: 0.4024 - val_acc: 0.8378\n",
            "Epoch 13/30\n",
            "11938/11938 [==============================] - 5s 377us/step - loss: 0.3936 - acc: 0.8437 - val_loss: 0.4070 - val_acc: 0.8401\n",
            "Epoch 14/30\n",
            "11938/11938 [==============================] - 5s 379us/step - loss: 0.3830 - acc: 0.8454 - val_loss: 0.4045 - val_acc: 0.8376\n",
            "Epoch 15/30\n",
            "11938/11938 [==============================] - 5s 381us/step - loss: 0.3780 - acc: 0.8509 - val_loss: 0.3947 - val_acc: 0.8396\n",
            "Epoch 16/30\n",
            "11938/11938 [==============================] - 5s 381us/step - loss: 0.3771 - acc: 0.8482 - val_loss: 0.4029 - val_acc: 0.8363\n",
            "Epoch 17/30\n",
            "11938/11938 [==============================] - 5s 377us/step - loss: 0.3717 - acc: 0.8510 - val_loss: 0.3959 - val_acc: 0.8425\n",
            "Epoch 18/30\n",
            "11938/11938 [==============================] - 4s 373us/step - loss: 0.3644 - acc: 0.8553 - val_loss: 0.3941 - val_acc: 0.8427\n",
            "Epoch 19/30\n",
            "11938/11938 [==============================] - 4s 373us/step - loss: 0.3579 - acc: 0.8564 - val_loss: 0.3898 - val_acc: 0.8437\n",
            "Epoch 20/30\n",
            "11938/11938 [==============================] - 4s 371us/step - loss: 0.3509 - acc: 0.8603 - val_loss: 0.4007 - val_acc: 0.8401\n",
            "Epoch 21/30\n",
            "11938/11938 [==============================] - 4s 371us/step - loss: 0.3501 - acc: 0.8600 - val_loss: 0.3992 - val_acc: 0.8415\n",
            "Epoch 22/30\n",
            "11938/11938 [==============================] - 4s 370us/step - loss: 0.3377 - acc: 0.8676 - val_loss: 0.3929 - val_acc: 0.8396\n",
            "Epoch 23/30\n",
            "11938/11938 [==============================] - 4s 371us/step - loss: 0.3306 - acc: 0.8688 - val_loss: 0.3897 - val_acc: 0.8468\n",
            "Epoch 24/30\n",
            "11938/11938 [==============================] - 4s 375us/step - loss: 0.3234 - acc: 0.8718 - val_loss: 0.3927 - val_acc: 0.8438\n",
            "Epoch 25/30\n",
            "11938/11938 [==============================] - 4s 373us/step - loss: 0.3123 - acc: 0.8766 - val_loss: 0.3925 - val_acc: 0.8455\n",
            "Epoch 26/30\n",
            "11938/11938 [==============================] - 4s 370us/step - loss: 0.3068 - acc: 0.8757 - val_loss: 0.3948 - val_acc: 0.8463\n",
            "Epoch 27/30\n",
            "11938/11938 [==============================] - 4s 373us/step - loss: 0.2961 - acc: 0.8785 - val_loss: 0.3912 - val_acc: 0.8497\n",
            "Epoch 28/30\n",
            "11938/11938 [==============================] - 4s 373us/step - loss: 0.2827 - acc: 0.8878 - val_loss: 0.3918 - val_acc: 0.8408\n",
            "Epoch 29/30\n",
            "11938/11938 [==============================] - 4s 374us/step - loss: 0.2755 - acc: 0.8898 - val_loss: 0.3967 - val_acc: 0.8495\n",
            "Epoch 30/30\n",
            "11938/11938 [==============================] - 4s 374us/step - loss: 0.2695 - acc: 0.8929 - val_loss: 0.3999 - val_acc: 0.8448\n",
            "> training time is 2.3240 minutes\n"
          ],
          "name": "stdout"
        }
      ]
    },
    {
      "cell_type": "code",
      "metadata": {
        "id": "dFp-ypIrdz2g",
        "colab_type": "code",
        "colab": {
          "base_uri": "https://localhost:8080/",
          "height": 289
        },
        "outputId": "1d6c3ab3-0952-4b44-9058-678619c9f2dc"
      },
      "source": [
        "!nvidia-smi"
      ],
      "execution_count": 8,
      "outputs": [
        {
          "output_type": "stream",
          "text": [
            "Mon Jun  3 08:34:41 2019       \n",
            "+-----------------------------------------------------------------------------+\n",
            "| NVIDIA-SMI 418.67       Driver Version: 410.79       CUDA Version: 10.0     |\n",
            "|-------------------------------+----------------------+----------------------+\n",
            "| GPU  Name        Persistence-M| Bus-Id        Disp.A | Volatile Uncorr. ECC |\n",
            "| Fan  Temp  Perf  Pwr:Usage/Cap|         Memory-Usage | GPU-Util  Compute M. |\n",
            "|===============================+======================+======================|\n",
            "|   0  Tesla T4            Off  | 00000000:00:04.0 Off |                    0 |\n",
            "| N/A   76C    P0    45W /  70W |   2339MiB / 15079MiB |      0%      Default |\n",
            "+-------------------------------+----------------------+----------------------+\n",
            "                                                                               \n",
            "+-----------------------------------------------------------------------------+\n",
            "| Processes:                                                       GPU Memory |\n",
            "|  GPU       PID   Type   Process name                             Usage      |\n",
            "|=============================================================================|\n",
            "+-----------------------------------------------------------------------------+\n"
          ],
          "name": "stdout"
        }
      ]
    },
    {
      "cell_type": "markdown",
      "metadata": {
        "id": "brAK_mRsXNV-",
        "colab_type": "text"
      },
      "source": [
        "### Training time\n",
        "- Training time withTesla T4 is about 2.3240 minutes for 30 epochs\n",
        "- Training time with Core i7 is around 109 minutes for 30 epochs"
      ]
    },
    {
      "cell_type": "markdown",
      "metadata": {
        "id": "ATl5G737XNV_",
        "colab_type": "text"
      },
      "source": [
        "## 4. Evaluate trained model"
      ]
    },
    {
      "cell_type": "code",
      "metadata": {
        "id": "mZP5j7kZXNWA",
        "colab_type": "code",
        "colab": {
          "base_uri": "https://localhost:8080/",
          "height": 68
        },
        "outputId": "61bb9e18-e651-4e3c-eb61-8adb39287d3c"
      },
      "source": [
        "score = model.evaluate(x_test, y_test)\n",
        "print('Test loss:', score[0])\n",
        "print('Test accuracy:', score[1])"
      ],
      "execution_count": 9,
      "outputs": [
        {
          "output_type": "stream",
          "text": [
            "5968/5968 [==============================] - 1s 178us/step\n",
            "Test loss: 0.39986197820217934\n",
            "Test accuracy: 0.8448391420911529\n"
          ],
          "name": "stdout"
        }
      ]
    },
    {
      "cell_type": "code",
      "metadata": {
        "id": "5OuNjUNdXNWD",
        "colab_type": "code",
        "colab": {}
      },
      "source": [
        "def int2gender(num):\n",
        "    if num == 0:\n",
        "        return 'female'\n",
        "    else:\n",
        "        return 'male'"
      ],
      "execution_count": 0,
      "outputs": []
    },
    {
      "cell_type": "code",
      "metadata": {
        "id": "lcdDnu1eXNWG",
        "colab_type": "code",
        "colab": {
          "base_uri": "https://localhost:8080/",
          "height": 281
        },
        "outputId": "9e7487ae-ffc7-470e-9334-5b70498371e9"
      },
      "source": [
        "# select a test image randomly\n",
        "random_test_index = np.random.choice(x_test.shape[0], size=1)[0]\n",
        "test_img = x_test[random_test_index]\n",
        "test_label = np.argmax(y_test[random_test_index])\n",
        "\n",
        "# predict test image with trained model\n",
        "pred_label = model.predict(np.expand_dims(test_img, axis=0))\n",
        "pred_label = np.argmax(pred_label)\n",
        "\n",
        "plt.imshow(test_img[:, :, 0], cmap='gray')\n",
        "plt.title('true label = %s, predicted label = %s' % (int2gender(test_label), int2gender(pred_label)))\n",
        "plt.show()"
      ],
      "execution_count": 11,
      "outputs": [
        {
          "output_type": "display_data",
          "data": {
            "image/png": "[encoded data removed]",
            "text/plain": [
              "<Figure size 432x288 with 1 Axes>"
            ]
          },
          "metadata": {
            "tags": []
          }
        }
      ]
    }
  ]
}