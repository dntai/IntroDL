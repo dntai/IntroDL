{
  "nbformat": 4,
  "nbformat_minor": 0,
  "metadata": {
    "colab": {
      "name": "Iris_Bayesian_decision_making.ipynb",
      "version": "0.3.2",
      "provenance": [],
      "include_colab_link": true
    },
    "language_info": {
      "codemirror_mode": {
        "name": "ipython",
        "version": 3
      },
      "file_extension": ".py",
      "mimetype": "text/x-python",
      "name": "python",
      "nbconvert_exporter": "python",
      "pygments_lexer": "ipython3",
      "version": "3.7.3"
    },
    "kernelspec": {
      "name": "python3",
      "display_name": "Python 3"
    },
    "accelerator": "GPU"
  },
  "cells": [
    {
      "cell_type": "markdown",
      "metadata": {
        "id": "view-in-github",
        "colab_type": "text"
      },
      "source": [
        "<a href=\"https://colab.research.google.com/github/th2l-aipn/IntroDL/blob/master/examples/0.%20Getting%20Started/Iris_Bayesian_decision_making.ipynb\" target=\"_parent\"><img src=\"https://colab.research.google.com/assets/colab-badge.svg\" alt=\"Open In Colab\"/></a>"
      ]
    },
    {
      "cell_type": "markdown",
      "metadata": {
        "id": "Dlw8edJQQw__",
        "colab_type": "text"
      },
      "source": [
        "## 1. Import libraries"
      ]
    },
    {
      "cell_type": "code",
      "metadata": {
        "id": "BgbbiUR5QxAA",
        "colab_type": "code",
        "colab": {}
      },
      "source": [
        "from sklearn import datasets\n",
        "from sklearn.naive_bayes import GaussianNB\n",
        "\n",
        "import numpy as np\n",
        "import time"
      ],
      "execution_count": 0,
      "outputs": []
    },
    {
      "cell_type": "markdown",
      "metadata": {
        "id": "f_nN3aAdQxAD",
        "colab_type": "text"
      },
      "source": [
        "## 2. Preparing iris dataset"
      ]
    },
    {
      "cell_type": "code",
      "metadata": {
        "id": "u2kltadoQxAE",
        "colab_type": "code",
        "colab": {
          "base_uri": "https://localhost:8080/",
          "height": 85
        },
        "outputId": "4c1d9237-3cfc-4853-a4e8-b8dd414e3a64"
      },
      "source": [
        "iris = datasets.load_iris()\n",
        "\n",
        "# get training and testing indexes randomly\n",
        "train_indx = np.random.choice(range(0, 150), int(iris.target.shape[0]/100*60), replace=False)\n",
        "test_indx = np.array([indx for indx in np.arange(0, 150, 1) if indx not in train_indx])\n",
        "\n",
        "x_train = iris.data[train_indx, :]\n",
        "y_train = iris.target[train_indx]\n",
        "\n",
        "x_test = iris.data[test_indx, :]\n",
        "y_test = iris.target[test_indx]\n",
        "\n",
        "print('X train shape: ', x_train.shape)\n",
        "print('y train shape: ', y_train.shape)\n",
        "print('X test shape: ', x_test.shape)\n",
        "print('y test shape: ', y_test.shape)"
      ],
      "execution_count": 2,
      "outputs": [
        {
          "output_type": "stream",
          "text": [
            "X train shape:  (90, 4)\n",
            "y train shape:  (90,)\n",
            "X test shape:  (60, 4)\n",
            "y test shape:  (60,)\n"
          ],
          "name": "stdout"
        }
      ]
    },
    {
      "cell_type": "markdown",
      "metadata": {
        "id": "gzqnZ4hHQxAI",
        "colab_type": "text"
      },
      "source": [
        "## 3. Parameters estimation"
      ]
    },
    {
      "cell_type": "code",
      "metadata": {
        "scrolled": false,
        "id": "rShMaGJrQxAJ",
        "colab_type": "code",
        "colab": {
          "base_uri": "https://localhost:8080/",
          "height": 408
        },
        "outputId": "9950db60-a910-44a0-cdeb-e7bddc070fd5"
      },
      "source": [
        "mu_0 = np.mean(x_train[y_train == 0], axis=0)\n",
        "sigma_0 = np.cov(x_train[y_train == 0], rowvar=0)\n",
        "\n",
        "print('Mean 0: \\n\\t', mu_0)\n",
        "print('Covariance 0: \\n\\t', sigma_0, '\\n')\n",
        "\n",
        "mu_1 = np.mean(x_train[y_train == 1], axis=0)\n",
        "sigma_1 = np.cov(x_train[y_train == 1], rowvar=0)\n",
        "print('Mean 1: \\n\\t', mu_1)\n",
        "print('Covariance 1: \\n\\t', sigma_1, '\\n')\n",
        "\n",
        "mu_2 = np.mean(x_train[y_train == 2], axis=0)\n",
        "sigma_2 = np.cov(x_train[y_train == 2], rowvar=0)\n",
        "print('Mean 2: \\n\\t', mu_2)\n",
        "print('Covariance 2: \\n\\t', sigma_2)"
      ],
      "execution_count": 3,
      "outputs": [
        {
          "output_type": "stream",
          "text": [
            "Mean 0: \n",
            "\t [4.959375 3.3375   1.490625 0.265625]\n",
            "Covariance 0: \n",
            "\t [[0.10829637 0.08576613 0.02767137 0.01275202]\n",
            " [0.08576613 0.11919355 0.02616935 0.01487903]\n",
            " [0.02767137 0.02616935 0.03378024 0.00740927]\n",
            " [0.01275202 0.01487903 0.00740927 0.01200605]] \n",
            "\n",
            "Mean 1: \n",
            "\t [6.04545455 2.84242424 4.4030303  1.36060606]\n",
            "Covariance 1: \n",
            "\t [[0.23505682 0.05488636 0.09204545 0.02434659]\n",
            " [0.05488636 0.06064394 0.03642992 0.01734848]\n",
            " [0.09204545 0.03642992 0.10467803 0.03512311]\n",
            " [0.02434659 0.01734848 0.03512311 0.02558712]] \n",
            "\n",
            "Mean 2: \n",
            "\t [6.664 2.864 5.624 1.912]\n",
            "Covariance 2: \n",
            "\t [[0.29906667 0.0424     0.27548333 0.04961667]\n",
            " [0.0424     0.06823333 0.03173333 0.03045   ]\n",
            " [0.27548333 0.03173333 0.3194     0.05386667]\n",
            " [0.04961667 0.03045    0.05386667 0.06776667]]\n"
          ],
          "name": "stdout"
        }
      ]
    },
    {
      "cell_type": "markdown",
      "metadata": {
        "id": "yuxfnrUkQxAM",
        "colab_type": "text"
      },
      "source": [
        "## 4. Bayesian decision making"
      ]
    },
    {
      "cell_type": "code",
      "metadata": {
        "id": "scTDnqJOQxAN",
        "colab_type": "code",
        "colab": {
          "base_uri": "https://localhost:8080/",
          "height": 34
        },
        "outputId": "42008efd-cd78-46c1-f299-7d13b6b4d029"
      },
      "source": [
        "gnb = GaussianNB()\n",
        "\n",
        "y_pred = gnb.fit(x_train, y_train).predict(x_test)\n",
        "print('Testing classification accuracy: %.4f' % ((y_test == y_pred).sum()/x_test.shape[0]))"
      ],
      "execution_count": 4,
      "outputs": [
        {
          "output_type": "stream",
          "text": [
            "Testing classification accuracy: 0.9667\n"
          ],
          "name": "stdout"
        }
      ]
    }
  ]
}