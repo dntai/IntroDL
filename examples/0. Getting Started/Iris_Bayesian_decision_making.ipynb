{
  "nbformat": 4,
  "nbformat_minor": 0,
  "metadata": {
    "colab": {
      "name": "Iris_Bayesian_decision_making.ipynb",
      "version": "0.3.2",
      "provenance": [],
      "include_colab_link": true
    },
    "language_info": {
      "codemirror_mode": {
        "name": "ipython",
        "version": 3
      },
      "file_extension": ".py",
      "mimetype": "text/x-python",
      "name": "python",
      "nbconvert_exporter": "python",
      "pygments_lexer": "ipython3",
      "version": "3.7.3"
    },
    "kernelspec": {
      "name": "python3",
      "display_name": "Python 3"
    },
    "accelerator": "GPU"
  },
  "cells": [
    {
      "cell_type": "markdown",
      "metadata": {
        "id": "view-in-github",
        "colab_type": "text"
      },
      "source": [
        "<a href=\"https://colab.research.google.com/github/th2l-aipn/IntroDL/blob/master/examples/0.%20Getting%20Started/Iris_Bayesian_decision_making.ipynb\" target=\"_parent\"><img src=\"https://colab.research.google.com/assets/colab-badge.svg\" alt=\"Open In Colab\"/></a>"
      ]
    },
    {
      "cell_type": "markdown",
      "metadata": {
        "id": "MiaF-TGIQHxN",
        "colab_type": "text"
      },
      "source": [
        "<a href=\"https://colab.research.google.com/github/th2l-aipn/IntroDL/blob/master/examples/0.%20Getting%20Started/Iris_Bayesian_decision_making.ipynb\" target=\"_parent\"><img src=\"https://colab.research.google.com/assets/colab-badge.svg\" alt=\"Open In Colab\"/></a>"
      ]
    },
    {
      "cell_type": "markdown",
      "metadata": {
        "id": "ZM7L0a0OQHxP",
        "colab_type": "text"
      },
      "source": [
        "## 1. Import libraries"
      ]
    },
    {
      "cell_type": "code",
      "metadata": {
        "id": "VJ4RNXQvQHxQ",
        "colab_type": "code",
        "colab": {}
      },
      "source": [
        "from sklearn import datasets\n",
        "from sklearn.naive_bayes import GaussianNB\n",
        "\n",
        "import numpy as np\n",
        "import time"
      ],
      "execution_count": 0,
      "outputs": []
    },
    {
      "cell_type": "markdown",
      "metadata": {
        "id": "mIbnKqALQHxT",
        "colab_type": "text"
      },
      "source": [
        "## 2. Preparing iris dataset"
      ]
    },
    {
      "cell_type": "code",
      "metadata": {
        "id": "VPisU-q2QHxU",
        "colab_type": "code",
        "colab": {
          "base_uri": "https://localhost:8080/",
          "height": 85
        },
        "outputId": "d61aa034-4c58-48b4-9b0d-4abe36f0821f"
      },
      "source": [
        "iris = datasets.load_iris()\n",
        "\n",
        "# get training and testing indexes randomly\n",
        "train_indx = np.random.choice(range(0, 150), int(iris.target.shape[0]/100*60), replace=False)\n",
        "test_indx = np.array([indx for indx in np.arange(0, 150, 1) if indx not in train_indx])\n",
        "\n",
        "x_train = iris.data[train_indx, :]\n",
        "y_train = iris.target[train_indx]\n",
        "\n",
        "x_test = iris.data[test_indx, :]\n",
        "y_test = iris.target[test_indx]\n",
        "\n",
        "print('X train shape: ', x_train.shape)\n",
        "print('y train shape: ', y_train.shape)\n",
        "print('X test shape: ', x_test.shape)\n",
        "print('y test shape: ', y_test.shape)"
      ],
      "execution_count": 2,
      "outputs": [
        {
          "output_type": "stream",
          "text": [
            "X train shape:  (90, 4)\n",
            "y train shape:  (90,)\n",
            "X test shape:  (60, 4)\n",
            "y test shape:  (60,)\n"
          ],
          "name": "stdout"
        }
      ]
    },
    {
      "cell_type": "markdown",
      "metadata": {
        "id": "6m7QajVhQHxZ",
        "colab_type": "text"
      },
      "source": [
        "## 3. Parameters estimation"
      ]
    },
    {
      "cell_type": "code",
      "metadata": {
        "scrolled": false,
        "id": "SlOHn9OMQHxZ",
        "colab_type": "code",
        "colab": {
          "base_uri": "https://localhost:8080/",
          "height": 408
        },
        "outputId": "862a4ee9-1ec2-43c7-ec47-33d5a3b36ed0"
      },
      "source": [
        "mu_0 = np.mean(x_train[y_train == 0], axis=0)\n",
        "sigma_0 = np.cov(x_train[y_train == 0], rowvar=0)\n",
        "\n",
        "print('Mean 0: \\n\\t', mu_0)\n",
        "print('Covariance 0: \\n\\t', sigma_0, '\\n')\n",
        "\n",
        "mu_1 = np.mean(x_train[y_train == 1], axis=0)\n",
        "sigma_1 = np.cov(x_train[y_train == 1], rowvar=0)\n",
        "print('Mean 1: \\n\\t', mu_1)\n",
        "print('Covariance 1: \\n\\t', sigma_1, '\\n')\n",
        "\n",
        "mu_2 = np.mean(x_train[y_train == 2], axis=0)\n",
        "sigma_2 = np.cov(x_train[y_train == 2], rowvar=0)\n",
        "print('Mean 2: \\n\\t', mu_2)\n",
        "print('Covariance 2: \\n\\t', sigma_2)"
      ],
      "execution_count": 3,
      "outputs": [
        {
          "output_type": "stream",
          "text": [
            "Mean 0: \n",
            "\t [5.00384615 3.43076923 1.48846154 0.24615385]\n",
            "Covariance 0: \n",
            "\t [[0.14838462 0.13627692 0.01284615 0.00741538]\n",
            " [0.13627692 0.19341538 0.01756923 0.00612308]\n",
            " [0.01284615 0.01756923 0.02426154 0.00295385]\n",
            " [0.00741538 0.00612308 0.00295385 0.01058462]] \n",
            "\n",
            "Mean 1: \n",
            "\t [5.98125  2.803125 4.303125 1.3625  ]\n",
            "Covariance 1: \n",
            "\t [[0.27447581 0.10360887 0.19006048 0.06056452]\n",
            " [0.10360887 0.11966734 0.1003125  0.04915323]\n",
            " [0.19006048 0.1003125  0.24353831 0.08205645]\n",
            " [0.06056452 0.04915323 0.08205645 0.04435484]] \n",
            "\n",
            "Mean 2: \n",
            "\t [6.721875 3.046875 5.659375 2.040625]\n",
            "Covariance 2: \n",
            "\t [[0.30757056 0.07603831 0.24672379 0.02779234]\n",
            " [0.07603831 0.11160282 0.04680444 0.04319556]\n",
            " [0.24672379 0.04680444 0.26958669 0.02234879]\n",
            " [0.02779234 0.04319556 0.02234879 0.07087702]]\n"
          ],
          "name": "stdout"
        }
      ]
    },
    {
      "cell_type": "markdown",
      "metadata": {
        "id": "8QRg8sv_QHxd",
        "colab_type": "text"
      },
      "source": [
        "## 4. Bayesian decision making"
      ]
    },
    {
      "cell_type": "code",
      "metadata": {
        "id": "Mmkl4PbyQHxe",
        "colab_type": "code",
        "colab": {
          "base_uri": "https://localhost:8080/",
          "height": 34
        },
        "outputId": "7b61ea3a-9a4b-4887-d6c6-7704324f7e8b"
      },
      "source": [
        "gnb = GaussianNB()\n",
        "\n",
        "y_pred = gnb.fit(x_train, y_train).predict(x_test)\n",
        "print('Testing classification accuracy: %.4f' % ((y_test == y_pred).sum()/x_test.shape[0]))"
      ],
      "execution_count": 4,
      "outputs": [
        {
          "output_type": "stream",
          "text": [
            "Testing classification accuracy: 0.9167\n"
          ],
          "name": "stdout"
        }
      ]
    }
  ]
}