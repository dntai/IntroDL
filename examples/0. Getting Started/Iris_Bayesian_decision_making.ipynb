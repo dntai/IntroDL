{
 "cells": [
  {
   "cell_type": "markdown",
   "metadata": {},
   "source": [
    "<a href=\"https://colab.research.google.com/assets/colab-badge.svg)](https://colab.research.google.com/github/th2l-aipn/IntroDL/blob/master/examples/0.%20Getting%20Started/Iris_Bayesian_decision_making.ipynb\" target=\"_parent\"><img src=\"https://colab.research.google.com/assets/colab-badge.svg\" alt=\"Open In Colab\"/></a>"
   ]
  },
  {
   "cell_type": "markdown",
   "metadata": {},
   "source": [
    "## 1. Import libraries"
   ]
  },
  {
   "cell_type": "code",
   "execution_count": 1,
   "metadata": {},
   "outputs": [],
   "source": [
    "from sklearn import datasets\n",
    "from sklearn.naive_bayes import GaussianNB\n",
    "\n",
    "import numpy as np\n",
    "import time"
   ]
  },
  {
   "cell_type": "markdown",
   "metadata": {},
   "source": [
    "## 2. Preparing iris dataset"
   ]
  },
  {
   "cell_type": "code",
   "execution_count": 2,
   "metadata": {},
   "outputs": [
    {
     "name": "stdout",
     "output_type": "stream",
     "text": [
      "X train shape:  (90, 4)\n",
      "y train shape:  (90,)\n",
      "X test shape:  (60, 4)\n",
      "y test shape:  (60,)\n"
     ]
    }
   ],
   "source": [
    "iris = datasets.load_iris()\n",
    "\n",
    "# get training and testing indexes randomly\n",
    "train_indx = np.random.choice(range(0, 150), int(iris.target.shape[0]/100*60), replace=False)\n",
    "test_indx = np.array([indx for indx in np.arange(0, 150, 1) if indx not in train_indx])\n",
    "\n",
    "x_train = iris.data[train_indx, :]\n",
    "y_train = iris.target[train_indx]\n",
    "\n",
    "x_test = iris.data[test_indx, :]\n",
    "y_test = iris.target[test_indx]\n",
    "\n",
    "print('X train shape: ', x_train.shape)\n",
    "print('y train shape: ', y_train.shape)\n",
    "print('X test shape: ', x_test.shape)\n",
    "print('y test shape: ', y_test.shape)"
   ]
  },
  {
   "cell_type": "markdown",
   "metadata": {},
   "source": [
    "## 3. Parameters estimation"
   ]
  },
  {
   "cell_type": "code",
   "execution_count": 3,
   "metadata": {
    "scrolled": false
   },
   "outputs": [
    {
     "name": "stdout",
     "output_type": "stream",
     "text": [
      "Mean 0: \n",
      "\t [4.96071429 3.37142857 1.45357143 0.23571429]\n",
      "Covariance 0: \n",
      "\t [[0.12395503 0.07994709 0.0277381  0.01108466]\n",
      " [0.07994709 0.12359788 0.02010582 0.00957672]\n",
      " [0.0277381  0.02010582 0.04183862 0.00542328]\n",
      " [0.01108466 0.00957672 0.00542328 0.00830688]] \n",
      "\n",
      "Mean 1: \n",
      "\t [5.96571429 2.76       4.27428571 1.32285714]\n",
      "Covariance 1: \n",
      "\t [[0.27114286 0.09152941 0.16968067 0.04786555]\n",
      " [0.09152941 0.11247059 0.08570588 0.04535294]\n",
      " [0.16968067 0.08570588 0.16431933 0.05560504]\n",
      " [0.04786555 0.04535294 0.05560504 0.03652101]] \n",
      "\n",
      "Mean 2: \n",
      "\t [6.58888889 2.96296296 5.60740741 2.0037037 ]\n",
      "Covariance 2: \n",
      "\t [[0.51410256 0.15764957 0.38970085 0.05735043]\n",
      " [0.15764957 0.14242165 0.10336182 0.0512963 ]\n",
      " [0.38970085 0.10336182 0.34763533 0.04689459]\n",
      " [0.05735043 0.0512963  0.04689459 0.07729345]]\n"
     ]
    }
   ],
   "source": [
    "mu_0 = np.mean(x_train[y_train == 0], axis=0)\n",
    "sigma_0 = np.cov(x_train[y_train == 0], rowvar=0)\n",
    "\n",
    "print('Mean 0: \\n\\t', mu_0)\n",
    "print('Covariance 0: \\n\\t', sigma_0, '\\n')\n",
    "\n",
    "mu_1 = np.mean(x_train[y_train == 1], axis=0)\n",
    "sigma_1 = np.cov(x_train[y_train == 1], rowvar=0)\n",
    "print('Mean 1: \\n\\t', mu_1)\n",
    "print('Covariance 1: \\n\\t', sigma_1, '\\n')\n",
    "\n",
    "mu_2 = np.mean(x_train[y_train == 2], axis=0)\n",
    "sigma_2 = np.cov(x_train[y_train == 2], rowvar=0)\n",
    "print('Mean 2: \\n\\t', mu_2)\n",
    "print('Covariance 2: \\n\\t', sigma_2)"
   ]
  },
  {
   "cell_type": "markdown",
   "metadata": {},
   "source": [
    "## 4. Bayesian decision making"
   ]
  },
  {
   "cell_type": "code",
   "execution_count": 4,
   "metadata": {},
   "outputs": [
    {
     "name": "stdout",
     "output_type": "stream",
     "text": [
      "Testing classification accuracy: 0.9833\n"
     ]
    }
   ],
   "source": [
    "gnb = GaussianNB()\n",
    "\n",
    "y_pred = gnb.fit(x_train, y_train).predict(x_test)\n",
    "print('Testing classification accuracy: %.4f' % ((y_test == y_pred).sum()/x_test.shape[0]))"
   ]
  }
 ],
 "metadata": {
  "anaconda-cloud": {},
  "kernelspec": {
   "display_name": "Python 3",
   "language": "python",
   "name": "python3"
  },
  "language_info": {
   "codemirror_mode": {
    "name": "ipython",
    "version": 3
   },
   "file_extension": ".py",
   "mimetype": "text/x-python",
   "name": "python",
   "nbconvert_exporter": "python",
   "pygments_lexer": "ipython3",
   "version": "3.7.3"
  }
 },
 "nbformat": 4,
 "nbformat_minor": 2
}
