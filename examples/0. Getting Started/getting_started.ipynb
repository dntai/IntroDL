{
  "nbformat": 4,
  "nbformat_minor": 0,
  "metadata": {
    "colab": {
      "name": "getting_started.ipynb",
      "version": "0.3.2",
      "provenance": [],
      "include_colab_link": true
    },
    "language_info": {
      "codemirror_mode": {
        "name": "ipython",
        "version": 3
      },
      "file_extension": ".py",
      "mimetype": "text/x-python",
      "name": "python",
      "nbconvert_exporter": "python",
      "pygments_lexer": "ipython3",
      "version": "3.7.3"
    },
    "kernelspec": {
      "name": "python3",
      "display_name": "Python 3"
    },
    "accelerator": "GPU"
  },
  "cells": [
    {
      "cell_type": "markdown",
      "metadata": {
        "id": "view-in-github",
        "colab_type": "text"
      },
      "source": [
        "<a href=\"https://colab.research.google.com/github/th2l-aipn/IntroDL/blob/master/examples/0.%20Getting%20Started/getting_started.ipynb\" target=\"_parent\"><img src=\"https://colab.research.google.com/assets/colab-badge.svg\" alt=\"Open In Colab\"/></a>"
      ]
    },
    {
      "cell_type": "markdown",
      "metadata": {
        "id": "z6FtarQQKjUO",
        "colab_type": "text"
      },
      "source": [
        "[![Open In Colab](https://colab.research.google.com/assets/colab-badge.svg)](https://colab.research.google.com/github/th2l-aipn/IntroDL/blob/master/examples/0.%20Getting%20Started/getting_started.ipynb)"
      ]
    },
    {
      "cell_type": "markdown",
      "metadata": {
        "id": "2L01Z3kdKjUR",
        "colab_type": "text"
      },
      "source": [
        "## Import Keras"
      ]
    },
    {
      "cell_type": "code",
      "metadata": {
        "id": "M254YOHPKjUS",
        "colab_type": "code",
        "colab": {
          "base_uri": "https://localhost:8080/",
          "height": 34
        },
        "outputId": "3e0ad275-7b17-43e6-f2b4-ea985adf722c"
      },
      "source": [
        "import keras"
      ],
      "execution_count": 1,
      "outputs": [
        {
          "output_type": "stream",
          "text": [
            "Using TensorFlow backend.\n"
          ],
          "name": "stderr"
        }
      ]
    },
    {
      "cell_type": "markdown",
      "metadata": {
        "id": "EUvP9eYWKjUZ",
        "colab_type": "text"
      },
      "source": [
        "## Keras was imported with TensorFlow backend\n",
        "## Let's check Keras version"
      ]
    },
    {
      "cell_type": "code",
      "metadata": {
        "id": "tdlS4JzoKjUa",
        "colab_type": "code",
        "colab": {
          "base_uri": "https://localhost:8080/",
          "height": 34
        },
        "outputId": "38adfd48-995e-4360-ddc1-9af4a62cbb1b"
      },
      "source": [
        "print(keras.__version__)"
      ],
      "execution_count": 2,
      "outputs": [
        {
          "output_type": "stream",
          "text": [
            "2.2.4\n"
          ],
          "name": "stdout"
        }
      ]
    },
    {
      "cell_type": "markdown",
      "metadata": {
        "id": "-l9OBzobKjUf",
        "colab_type": "text"
      },
      "source": [
        "## Check whether GPU can be used or not"
      ]
    },
    {
      "cell_type": "code",
      "metadata": {
        "id": "dwKK3GniKjUg",
        "colab_type": "code",
        "colab": {
          "base_uri": "https://localhost:8080/",
          "height": 34
        },
        "outputId": "60a826e0-d4eb-4677-f65a-d4018a218b3a"
      },
      "source": [
        "print(keras.backend.tensorflow_backend._get_available_gpus())"
      ],
      "execution_count": 3,
      "outputs": [
        {
          "output_type": "stream",
          "text": [
            "['/job:localhost/replica:0/task:0/device:GPU:0']\n"
          ],
          "name": "stdout"
        }
      ]
    },
    {
      "cell_type": "markdown",
      "metadata": {
        "id": "lw6CBpWJKjUk",
        "colab_type": "text"
      },
      "source": [
        "## One GPU has been detected!"
      ]
    }
  ]
}