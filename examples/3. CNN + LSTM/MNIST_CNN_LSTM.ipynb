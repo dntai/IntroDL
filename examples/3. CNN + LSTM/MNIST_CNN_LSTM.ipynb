{
  "nbformat": 4,
  "nbformat_minor": 0,
  "metadata": {
    "colab": {
      "name": "MNIST_CNN_LSTM.ipynb",
      "version": "0.3.2",
      "provenance": [],
      "toc_visible": true,
      "include_colab_link": true
    },
    "language_info": {
      "codemirror_mode": {
        "name": "ipython",
        "version": 3
      },
      "file_extension": ".py",
      "mimetype": "text/x-python",
      "name": "python",
      "nbconvert_exporter": "python",
      "pygments_lexer": "ipython3",
      "version": "3.7.3"
    },
    "kernelspec": {
      "name": "python3",
      "display_name": "Python 3"
    },
    "accelerator": "GPU"
  },
  "cells": [
    {
      "cell_type": "markdown",
      "metadata": {
        "id": "view-in-github",
        "colab_type": "text"
      },
      "source": [
        "<a href=\"https://colab.research.google.com/github/th2l-aipn/IntroDL/blob/master/examples/3.%20CNN%20%2B%20LSTM/MNIST_CNN_LSTM.ipynb\" target=\"_parent\"><img src=\"https://colab.research.google.com/assets/colab-badge.svg\" alt=\"Open In Colab\"/></a>"
      ]
    },
    {
      "cell_type": "markdown",
      "metadata": {
        "id": "a-qVIBAAmvDp",
        "colab_type": "text"
      },
      "source": [
        "---\n",
        "```\n",
        "> Nguyen Hai Duong\n",
        "> nhduong_3010@live.com\n",
        "> Modified: Huynh Van Thong\n",
        "> hvthong.298@gmail.com\n",
        "> Chonnam National University\n",
        "```\n",
        "---"
      ]
    },
    {
      "cell_type": "markdown",
      "metadata": {
        "id": "c92dn8OEmvDs",
        "colab_type": "text"
      },
      "source": [
        "## Overview\n",
        "- MNIST dataset\n",
        "  + Goal: estimating summation of handwritten digit images\n",
        "  + Input: a set of 28x28 images\n",
        "  + Output: summation of given handwritten digit images\n",
        "- Defining an CNN+LSTM for MNIST dataset\n",
        "- Training and evaluating an CNN+LSTM"
      ]
    },
    {
      "cell_type": "markdown",
      "metadata": {
        "id": "V6LgCa7AmvDt",
        "colab_type": "text"
      },
      "source": [
        "## Import libraries"
      ]
    },
    {
      "cell_type": "code",
      "metadata": {
        "id": "XAJ9yqBhmvDu",
        "colab_type": "code",
        "colab": {}
      },
      "source": [
        "import keras\n",
        "from keras.datasets import mnist\n",
        "from keras.models import Model\n",
        "from keras.layers import Input, TimeDistributed, Conv2D, MaxPooling2D, Flatten, Dense, Dropout, LSTM, CuDNNLSTM\n",
        "from keras.optimizers import SGD\n",
        "\n",
        "from IPython.display import SVG\n",
        "from keras.utils.vis_utils import model_to_dot\n",
        "\n",
        "import time\n",
        "import numpy as np\n",
        "import matplotlib.pyplot as plt"
      ],
      "execution_count": 0,
      "outputs": []
    },
    {
      "cell_type": "markdown",
      "metadata": {
        "id": "_p6L7_LAmvD0",
        "colab_type": "text"
      },
      "source": [
        "## 1. Data"
      ]
    },
    {
      "cell_type": "code",
      "metadata": {
        "id": "_91A_h9vmvD1",
        "colab_type": "code",
        "colab": {
          "base_uri": "https://localhost:8080/",
          "height": 68
        },
        "outputId": "c1097b23-56af-40f5-cc46-08d5efdeec31"
      },
      "source": [
        "# the data, shuffled and split between train and test sets\n",
        "(X_train_raw, y_train_temp), (X_test_raw, y_test_temp) = mnist.load_data()\n",
        "\n",
        "#basic image processing\n",
        "X_train_raw = X_train_raw.astype('float32')\n",
        "X_test_raw  = X_test_raw.astype('float32')\n",
        "X_train_raw /= 255\n",
        "X_test_raw  /= 255\n",
        "\n",
        "print('X_train_raw shape:', X_train_raw.shape)\n",
        "print(X_train_raw.shape[0], 'train samples')\n",
        "print(X_test_raw.shape[0], 'test samples')"
      ],
      "execution_count": 11,
      "outputs": [
        {
          "output_type": "stream",
          "text": [
            "X_train_raw shape: (60000, 28, 28)\n",
            "60000 train samples\n",
            "10000 test samples\n"
          ],
          "name": "stdout"
        }
      ]
    },
    {
      "cell_type": "markdown",
      "metadata": {
        "id": "-Mzk0hU4mvD4",
        "colab_type": "text"
      },
      "source": [
        "## Original data\n",
        "- Input: 48x48 image\n",
        "- Output: label (0, 1,..., 9)\n",
        "\n",
        "## Data preprocessing\n",
        "- Read images from MNIST\n",
        "- Compute their summation\n",
        "\n",
        "## New data\n",
        "- Input: eight 48x48 images\n",
        "- Output: summation of eight input images"
      ]
    },
    {
      "cell_type": "code",
      "metadata": {
        "id": "CdA14_sPmvD5",
        "colab_type": "code",
        "colab": {
          "base_uri": "https://localhost:8080/",
          "height": 85
        },
        "outputId": "bb6e207f-aca8-4e16-855a-055ac7856c78"
      },
      "source": [
        "n_train = X_train_raw.shape[0]\n",
        "x_train = []\n",
        "y_train = []\n",
        "\n",
        "n_test = X_test_raw.shape[0]\n",
        "x_test = []\n",
        "y_test = []\n",
        "\n",
        "np.random.seed(2018)\n",
        "maxToAdd = 8\n",
        "size = 28\n",
        "\n",
        "x_train = np.zeros((n_train, maxToAdd, size, size, 1))\n",
        "\n",
        "for i in range(0, n_train):\n",
        "    #initialize a training example of max_num_time_steps, im_size, im_size\n",
        "    output = np.zeros((maxToAdd, size, size, 1))\n",
        "    #decide how many MNIST images to put in that tensor\n",
        "    numToAdd = int(np.ceil(np.random.rand()*maxToAdd))\n",
        "    #sample that many images\n",
        "    indices = np.random.choice(X_train_raw.shape[0], size=numToAdd)\n",
        "    example = X_train_raw[indices]\n",
        "    #sum up the outputs for new output\n",
        "    exampleY = y_train_temp[indices]\n",
        "    output[0:numToAdd,:,:,0] = example\n",
        "    x_train[i, :, :, :, :] = output\n",
        "    y_train.append(np.sum(exampleY))\n",
        "\n",
        "y_train = np.array(y_train)\n",
        "\n",
        "print(\"x_train shape: \", x_train.shape)\n",
        "print(\"y_train shape: \", y_train.shape)\n",
        "\n",
        "# Test the model\n",
        "x_test = np.zeros((n_test, maxToAdd, size, size, 1))\n",
        "for i in range(0, n_test):\n",
        "    output = np.zeros((maxToAdd, size, size, 1))\n",
        "    numToAdd = int(np.ceil(np.random.rand()*maxToAdd))\n",
        "    indices = np.random.choice(X_test_raw.shape[0], size=numToAdd)\n",
        "    example = X_test_raw[indices]\n",
        "    exampleY = y_test_temp[indices]\n",
        "    output[0:numToAdd,:,:,0] = example\n",
        "    x_test[i, :, :, :, :] = output\n",
        "    y_test.append(np.sum(exampleY))\n",
        "\n",
        "x_test = np.array(x_test)\n",
        "y_test = np.array(y_test)\n",
        "\n",
        "print(\"x_test shape: \", x_test.shape)\n",
        "print(\"y_test shape: \", y_test.shape)"
      ],
      "execution_count": 12,
      "outputs": [
        {
          "output_type": "stream",
          "text": [
            "x_train shape:  (60000, 8, 28, 28, 1)\n",
            "y_train shape:  (60000,)\n",
            "x_test shape:  (10000, 8, 28, 28, 1)\n",
            "y_test shape:  (10000,)\n"
          ],
          "name": "stdout"
        }
      ]
    },
    {
      "cell_type": "markdown",
      "metadata": {
        "id": "jfIPRJ0pmvD9",
        "colab_type": "text"
      },
      "source": [
        "## 2. Declare model"
      ]
    },
    {
      "cell_type": "code",
      "metadata": {
        "id": "1FSW1uY4mvD9",
        "colab_type": "code",
        "colab": {
          "base_uri": "https://localhost:8080/",
          "height": 646
        },
        "outputId": "45ef4be8-ffbc-48bf-cd86-50a3bfb25f95"
      },
      "source": [
        "# 28x28 MNIST image\n",
        "input_image = Input(shape=(maxToAdd, 28, 28, 1), name='Input')\n",
        "\n",
        "# conv, pooling layers + dropout\n",
        "x = TimeDistributed(Conv2D(filters=64, kernel_size=(3, 3), padding='same', activation='relu'), name='conv1')(input_image)\n",
        "x = TimeDistributed(MaxPooling2D(pool_size=(2, 2)), name='pool1')(x)\n",
        "x = TimeDistributed(Dropout(rate=0.2), name='conv_dropout1')(x)\n",
        "\n",
        "x = TimeDistributed(Conv2D(filters=128, kernel_size=(3, 3), padding='same', activation='relu'), name='conv2')(x)\n",
        "x = TimeDistributed(MaxPooling2D(pool_size=(2, 2)), name='pool2')(x)\n",
        "x = TimeDistributed(Dropout(rate=0.2), name='conv_dropout2')(x)\n",
        "\n",
        "x = TimeDistributed(Conv2D(filters=256, kernel_size=(3, 3), padding='same', activation='relu'), name='conv3')(x)\n",
        "x = TimeDistributed(MaxPooling2D(pool_size=(2, 2)), name='pool3')(x)\n",
        "x = TimeDistributed(Dropout(rate=0.2), name='conv_dropout3')(x)\n",
        "\n",
        "# similar to the MLP example!\n",
        "# matrix ---> vector\n",
        "x = TimeDistributed(Flatten(), name='flatten')(x)\n",
        "\n",
        "# LSTM + dropout\n",
        "x = CuDNNLSTM(units=128, return_sequences=True, name='lstm1')(x)\n",
        "x = CuDNNLSTM(units=128, return_sequences=False, name='lstm2')(x)\n",
        "x = Dropout(rate=0.22, name='lstm_dropout')(x)\n",
        "\n",
        "output_label = Dense(units=1, name='fc3_10ways_softmax')(x)\n",
        "\n",
        "# define model\n",
        "model = Model(inputs=input_image, outputs=output_label, name='mnist_mlp')\n",
        "\n",
        "# print model summary\n",
        "model.summary()"
      ],
      "execution_count": 13,
      "outputs": [
        {
          "output_type": "stream",
          "text": [
            "_________________________________________________________________\n",
            "Layer (type)                 Output Shape              Param #   \n",
            "=================================================================\n",
            "Input (InputLayer)           (None, 8, 28, 28, 1)      0         \n",
            "_________________________________________________________________\n",
            "conv1 (TimeDistributed)      (None, 8, 28, 28, 64)     640       \n",
            "_________________________________________________________________\n",
            "pool1 (TimeDistributed)      (None, 8, 14, 14, 64)     0         \n",
            "_________________________________________________________________\n",
            "conv_dropout1 (TimeDistribut (None, 8, 14, 14, 64)     0         \n",
            "_________________________________________________________________\n",
            "conv2 (TimeDistributed)      (None, 8, 14, 14, 128)    73856     \n",
            "_________________________________________________________________\n",
            "pool2 (TimeDistributed)      (None, 8, 7, 7, 128)      0         \n",
            "_________________________________________________________________\n",
            "conv_dropout2 (TimeDistribut (None, 8, 7, 7, 128)      0         \n",
            "_________________________________________________________________\n",
            "conv3 (TimeDistributed)      (None, 8, 7, 7, 256)      295168    \n",
            "_________________________________________________________________\n",
            "pool3 (TimeDistributed)      (None, 8, 3, 3, 256)      0         \n",
            "_________________________________________________________________\n",
            "conv_dropout3 (TimeDistribut (None, 8, 3, 3, 256)      0         \n",
            "_________________________________________________________________\n",
            "flatten (TimeDistributed)    (None, 8, 2304)           0         \n",
            "_________________________________________________________________\n",
            "lstm1 (CuDNNLSTM)            (None, 8, 128)            1246208   \n",
            "_________________________________________________________________\n",
            "lstm2 (CuDNNLSTM)            (None, 128)               132096    \n",
            "_________________________________________________________________\n",
            "lstm_dropout (Dropout)       (None, 128)               0         \n",
            "_________________________________________________________________\n",
            "fc3_10ways_softmax (Dense)   (None, 1)                 129       \n",
            "=================================================================\n",
            "Total params: 1,748,097\n",
            "Trainable params: 1,748,097\n",
            "Non-trainable params: 0\n",
            "_________________________________________________________________\n"
          ],
          "name": "stdout"
        }
      ]
    },
    {
      "cell_type": "code",
      "metadata": {
        "id": "UUTqSh1rmvEC",
        "colab_type": "code",
        "colab": {
          "base_uri": "https://localhost:8080/",
          "height": 1644
        },
        "outputId": "2d6f32e0-366c-46a0-8143-38e2cefe5658"
      },
      "source": [
        "SVG(model_to_dot(model, show_shapes=True).create(prog='dot', format='svg'))"
      ],
      "execution_count": 14,
      "outputs": [
        {
          "output_type": "execute_result",
          "data": {
            "text/plain": [
              "<IPython.core.display.SVG object>"
            ],
            "image/svg+xml": "<svg height=\"1217pt\" viewBox=\"0.00 0.00 579.00 1217.00\" width=\"579pt\" xmlns=\"http://www.w3.org/2000/svg\" xmlns:xlink=\"http://www.w3.org/1999/xlink\">\n<g class=\"graph\" id=\"graph0\" transform=\"scale(1 1) rotate(0) translate(4 1213)\">\n<title>G</title>\n<polygon fill=\"#ffffff\" points=\"-4,4 -4,-1213 575,-1213 575,4 -4,4\" stroke=\"transparent\"/>\n<!-- 140198458240696 -->\n<g class=\"node\" id=\"node1\">\n<title>140198458240696</title>\n<polygon fill=\"none\" points=\"131,-1162.5 131,-1208.5 440,-1208.5 440,-1162.5 131,-1162.5\" stroke=\"#000000\"/>\n<text fill=\"#000000\" font-family=\"Times,serif\" font-size=\"14.00\" text-anchor=\"middle\" x=\"190.5\" y=\"-1181.8\">Input: InputLayer</text>\n<polyline fill=\"none\" points=\"250,-1162.5 250,-1208.5 \" stroke=\"#000000\"/>\n<text fill=\"#000000\" font-family=\"Times,serif\" font-size=\"14.00\" text-anchor=\"middle\" x=\"279\" y=\"-1193.3\">input:</text>\n<polyline fill=\"none\" points=\"250,-1185.5 308,-1185.5 \" stroke=\"#000000\"/>\n<text fill=\"#000000\" font-family=\"Times,serif\" font-size=\"14.00\" text-anchor=\"middle\" x=\"279\" y=\"-1170.3\">output:</text>\n<polyline fill=\"none\" points=\"308,-1162.5 308,-1208.5 \" stroke=\"#000000\"/>\n<text fill=\"#000000\" font-family=\"Times,serif\" font-size=\"14.00\" text-anchor=\"middle\" x=\"374\" y=\"-1193.3\">(None, 8, 28, 28, 1)</text>\n<polyline fill=\"none\" points=\"308,-1185.5 440,-1185.5 \" stroke=\"#000000\"/>\n<text fill=\"#000000\" font-family=\"Times,serif\" font-size=\"14.00\" text-anchor=\"middle\" x=\"374\" y=\"-1170.3\">(None, 8, 28, 28, 1)</text>\n</g>\n<!-- 140200566577976 -->\n<g class=\"node\" id=\"node2\">\n<title>140200566577976</title>\n<polygon fill=\"none\" points=\"46.5,-1079.5 46.5,-1125.5 524.5,-1125.5 524.5,-1079.5 46.5,-1079.5\" stroke=\"#000000\"/>\n<text fill=\"#000000\" font-family=\"Times,serif\" font-size=\"14.00\" text-anchor=\"middle\" x=\"186.5\" y=\"-1098.8\">conv1(conv2d_4): TimeDistributed(Conv2D)</text>\n<polyline fill=\"none\" points=\"326.5,-1079.5 326.5,-1125.5 \" stroke=\"#000000\"/>\n<text fill=\"#000000\" font-family=\"Times,serif\" font-size=\"14.00\" text-anchor=\"middle\" x=\"355.5\" y=\"-1110.3\">input:</text>\n<polyline fill=\"none\" points=\"326.5,-1102.5 384.5,-1102.5 \" stroke=\"#000000\"/>\n<text fill=\"#000000\" font-family=\"Times,serif\" font-size=\"14.00\" text-anchor=\"middle\" x=\"355.5\" y=\"-1087.3\">output:</text>\n<polyline fill=\"none\" points=\"384.5,-1079.5 384.5,-1125.5 \" stroke=\"#000000\"/>\n<text fill=\"#000000\" font-family=\"Times,serif\" font-size=\"14.00\" text-anchor=\"middle\" x=\"454.5\" y=\"-1110.3\">(None, 8, 28, 28, 1)</text>\n<polyline fill=\"none\" points=\"384.5,-1102.5 524.5,-1102.5 \" stroke=\"#000000\"/>\n<text fill=\"#000000\" font-family=\"Times,serif\" font-size=\"14.00\" text-anchor=\"middle\" x=\"454.5\" y=\"-1087.3\">(None, 8, 28, 28, 64)</text>\n</g>\n<!-- 140198458240696&#45;&gt;140200566577976 -->\n<g class=\"edge\" id=\"edge1\">\n<title>140198458240696-&gt;140200566577976</title>\n<path d=\"M285.5,-1162.3799C285.5,-1154.1745 285.5,-1144.7679 285.5,-1135.8786\" fill=\"none\" stroke=\"#000000\"/>\n<polygon fill=\"#000000\" points=\"289.0001,-1135.784 285.5,-1125.784 282.0001,-1135.784 289.0001,-1135.784\" stroke=\"#000000\"/>\n</g>\n<!-- 140200490969128 -->\n<g class=\"node\" id=\"node3\">\n<title>140200490969128</title>\n<polygon fill=\"none\" points=\"3.5,-996.5 3.5,-1042.5 567.5,-1042.5 567.5,-996.5 3.5,-996.5\" stroke=\"#000000\"/>\n<text fill=\"#000000\" font-family=\"Times,serif\" font-size=\"14.00\" text-anchor=\"middle\" x=\"186.5\" y=\"-1015.8\">pool1(max_pooling2d_4): TimeDistributed(MaxPooling2D)</text>\n<polyline fill=\"none\" points=\"369.5,-996.5 369.5,-1042.5 \" stroke=\"#000000\"/>\n<text fill=\"#000000\" font-family=\"Times,serif\" font-size=\"14.00\" text-anchor=\"middle\" x=\"398.5\" y=\"-1027.3\">input:</text>\n<polyline fill=\"none\" points=\"369.5,-1019.5 427.5,-1019.5 \" stroke=\"#000000\"/>\n<text fill=\"#000000\" font-family=\"Times,serif\" font-size=\"14.00\" text-anchor=\"middle\" x=\"398.5\" y=\"-1004.3\">output:</text>\n<polyline fill=\"none\" points=\"427.5,-996.5 427.5,-1042.5 \" stroke=\"#000000\"/>\n<text fill=\"#000000\" font-family=\"Times,serif\" font-size=\"14.00\" text-anchor=\"middle\" x=\"497.5\" y=\"-1027.3\">(None, 8, 28, 28, 64)</text>\n<polyline fill=\"none\" points=\"427.5,-1019.5 567.5,-1019.5 \" stroke=\"#000000\"/>\n<text fill=\"#000000\" font-family=\"Times,serif\" font-size=\"14.00\" text-anchor=\"middle\" x=\"497.5\" y=\"-1004.3\">(None, 8, 14, 14, 64)</text>\n</g>\n<!-- 140200566577976&#45;&gt;140200490969128 -->\n<g class=\"edge\" id=\"edge2\">\n<title>140200566577976-&gt;140200490969128</title>\n<path d=\"M285.5,-1079.3799C285.5,-1071.1745 285.5,-1061.7679 285.5,-1052.8786\" fill=\"none\" stroke=\"#000000\"/>\n<polygon fill=\"#000000\" points=\"289.0001,-1052.784 285.5,-1042.784 282.0001,-1052.784 289.0001,-1052.784\" stroke=\"#000000\"/>\n</g>\n<!-- 140198457809328 -->\n<g class=\"node\" id=\"node4\">\n<title>140198457809328</title>\n<polygon fill=\"none\" points=\"19.5,-913.5 19.5,-959.5 551.5,-959.5 551.5,-913.5 19.5,-913.5\" stroke=\"#000000\"/>\n<text fill=\"#000000\" font-family=\"Times,serif\" font-size=\"14.00\" text-anchor=\"middle\" x=\"186.5\" y=\"-932.8\">conv_dropout1(dropout_4): TimeDistributed(Dropout)</text>\n<polyline fill=\"none\" points=\"353.5,-913.5 353.5,-959.5 \" stroke=\"#000000\"/>\n<text fill=\"#000000\" font-family=\"Times,serif\" font-size=\"14.00\" text-anchor=\"middle\" x=\"382.5\" y=\"-944.3\">input:</text>\n<polyline fill=\"none\" points=\"353.5,-936.5 411.5,-936.5 \" stroke=\"#000000\"/>\n<text fill=\"#000000\" font-family=\"Times,serif\" font-size=\"14.00\" text-anchor=\"middle\" x=\"382.5\" y=\"-921.3\">output:</text>\n<polyline fill=\"none\" points=\"411.5,-913.5 411.5,-959.5 \" stroke=\"#000000\"/>\n<text fill=\"#000000\" font-family=\"Times,serif\" font-size=\"14.00\" text-anchor=\"middle\" x=\"481.5\" y=\"-944.3\">(None, 8, 14, 14, 64)</text>\n<polyline fill=\"none\" points=\"411.5,-936.5 551.5,-936.5 \" stroke=\"#000000\"/>\n<text fill=\"#000000\" font-family=\"Times,serif\" font-size=\"14.00\" text-anchor=\"middle\" x=\"481.5\" y=\"-921.3\">(None, 8, 14, 14, 64)</text>\n</g>\n<!-- 140200490969128&#45;&gt;140198457809328 -->\n<g class=\"edge\" id=\"edge3\">\n<title>140200490969128-&gt;140198457809328</title>\n<path d=\"M285.5,-996.3799C285.5,-988.1745 285.5,-978.7679 285.5,-969.8786\" fill=\"none\" stroke=\"#000000\"/>\n<polygon fill=\"#000000\" points=\"289.0001,-969.784 285.5,-959.784 282.0001,-969.784 289.0001,-969.784\" stroke=\"#000000\"/>\n</g>\n<!-- 140198743291048 -->\n<g class=\"node\" id=\"node5\">\n<title>140198743291048</title>\n<polygon fill=\"none\" points=\"43,-830.5 43,-876.5 528,-876.5 528,-830.5 43,-830.5\" stroke=\"#000000\"/>\n<text fill=\"#000000\" font-family=\"Times,serif\" font-size=\"14.00\" text-anchor=\"middle\" x=\"183\" y=\"-849.8\">conv2(conv2d_5): TimeDistributed(Conv2D)</text>\n<polyline fill=\"none\" points=\"323,-830.5 323,-876.5 \" stroke=\"#000000\"/>\n<text fill=\"#000000\" font-family=\"Times,serif\" font-size=\"14.00\" text-anchor=\"middle\" x=\"352\" y=\"-861.3\">input:</text>\n<polyline fill=\"none\" points=\"323,-853.5 381,-853.5 \" stroke=\"#000000\"/>\n<text fill=\"#000000\" font-family=\"Times,serif\" font-size=\"14.00\" text-anchor=\"middle\" x=\"352\" y=\"-838.3\">output:</text>\n<polyline fill=\"none\" points=\"381,-830.5 381,-876.5 \" stroke=\"#000000\"/>\n<text fill=\"#000000\" font-family=\"Times,serif\" font-size=\"14.00\" text-anchor=\"middle\" x=\"454.5\" y=\"-861.3\">(None, 8, 14, 14, 64)</text>\n<polyline fill=\"none\" points=\"381,-853.5 528,-853.5 \" stroke=\"#000000\"/>\n<text fill=\"#000000\" font-family=\"Times,serif\" font-size=\"14.00\" text-anchor=\"middle\" x=\"454.5\" y=\"-838.3\">(None, 8, 14, 14, 128)</text>\n</g>\n<!-- 140198457809328&#45;&gt;140198743291048 -->\n<g class=\"edge\" id=\"edge4\">\n<title>140198457809328-&gt;140198743291048</title>\n<path d=\"M285.5,-913.3799C285.5,-905.1745 285.5,-895.7679 285.5,-886.8786\" fill=\"none\" stroke=\"#000000\"/>\n<polygon fill=\"#000000\" points=\"289.0001,-886.784 285.5,-876.784 282.0001,-886.784 289.0001,-886.784\" stroke=\"#000000\"/>\n</g>\n<!-- 140198743101056 -->\n<g class=\"node\" id=\"node6\">\n<title>140198743101056</title>\n<polygon fill=\"none\" points=\"0,-747.5 0,-793.5 571,-793.5 571,-747.5 0,-747.5\" stroke=\"#000000\"/>\n<text fill=\"#000000\" font-family=\"Times,serif\" font-size=\"14.00\" text-anchor=\"middle\" x=\"183\" y=\"-766.8\">pool2(max_pooling2d_5): TimeDistributed(MaxPooling2D)</text>\n<polyline fill=\"none\" points=\"366,-747.5 366,-793.5 \" stroke=\"#000000\"/>\n<text fill=\"#000000\" font-family=\"Times,serif\" font-size=\"14.00\" text-anchor=\"middle\" x=\"395\" y=\"-778.3\">input:</text>\n<polyline fill=\"none\" points=\"366,-770.5 424,-770.5 \" stroke=\"#000000\"/>\n<text fill=\"#000000\" font-family=\"Times,serif\" font-size=\"14.00\" text-anchor=\"middle\" x=\"395\" y=\"-755.3\">output:</text>\n<polyline fill=\"none\" points=\"424,-747.5 424,-793.5 \" stroke=\"#000000\"/>\n<text fill=\"#000000\" font-family=\"Times,serif\" font-size=\"14.00\" text-anchor=\"middle\" x=\"497.5\" y=\"-778.3\">(None, 8, 14, 14, 128)</text>\n<polyline fill=\"none\" points=\"424,-770.5 571,-770.5 \" stroke=\"#000000\"/>\n<text fill=\"#000000\" font-family=\"Times,serif\" font-size=\"14.00\" text-anchor=\"middle\" x=\"497.5\" y=\"-755.3\">(None, 8, 7, 7, 128)</text>\n</g>\n<!-- 140198743291048&#45;&gt;140198743101056 -->\n<g class=\"edge\" id=\"edge5\">\n<title>140198743291048-&gt;140198743101056</title>\n<path d=\"M285.5,-830.3799C285.5,-822.1745 285.5,-812.7679 285.5,-803.8786\" fill=\"none\" stroke=\"#000000\"/>\n<polygon fill=\"#000000\" points=\"289.0001,-803.784 285.5,-793.784 282.0001,-803.784 289.0001,-803.784\" stroke=\"#000000\"/>\n</g>\n<!-- 140198743100720 -->\n<g class=\"node\" id=\"node7\">\n<title>140198743100720</title>\n<polygon fill=\"none\" points=\"23.5,-664.5 23.5,-710.5 547.5,-710.5 547.5,-664.5 23.5,-664.5\" stroke=\"#000000\"/>\n<text fill=\"#000000\" font-family=\"Times,serif\" font-size=\"14.00\" text-anchor=\"middle\" x=\"190.5\" y=\"-683.8\">conv_dropout2(dropout_5): TimeDistributed(Dropout)</text>\n<polyline fill=\"none\" points=\"357.5,-664.5 357.5,-710.5 \" stroke=\"#000000\"/>\n<text fill=\"#000000\" font-family=\"Times,serif\" font-size=\"14.00\" text-anchor=\"middle\" x=\"386.5\" y=\"-695.3\">input:</text>\n<polyline fill=\"none\" points=\"357.5,-687.5 415.5,-687.5 \" stroke=\"#000000\"/>\n<text fill=\"#000000\" font-family=\"Times,serif\" font-size=\"14.00\" text-anchor=\"middle\" x=\"386.5\" y=\"-672.3\">output:</text>\n<polyline fill=\"none\" points=\"415.5,-664.5 415.5,-710.5 \" stroke=\"#000000\"/>\n<text fill=\"#000000\" font-family=\"Times,serif\" font-size=\"14.00\" text-anchor=\"middle\" x=\"481.5\" y=\"-695.3\">(None, 8, 7, 7, 128)</text>\n<polyline fill=\"none\" points=\"415.5,-687.5 547.5,-687.5 \" stroke=\"#000000\"/>\n<text fill=\"#000000\" font-family=\"Times,serif\" font-size=\"14.00\" text-anchor=\"middle\" x=\"481.5\" y=\"-672.3\">(None, 8, 7, 7, 128)</text>\n</g>\n<!-- 140198743101056&#45;&gt;140198743100720 -->\n<g class=\"edge\" id=\"edge6\">\n<title>140198743101056-&gt;140198743100720</title>\n<path d=\"M285.5,-747.3799C285.5,-739.1745 285.5,-729.7679 285.5,-720.8786\" fill=\"none\" stroke=\"#000000\"/>\n<polygon fill=\"#000000\" points=\"289.0001,-720.784 285.5,-710.784 282.0001,-720.784 289.0001,-720.784\" stroke=\"#000000\"/>\n</g>\n<!-- 140198861924448 -->\n<g class=\"node\" id=\"node8\">\n<title>140198861924448</title>\n<polygon fill=\"none\" points=\"50.5,-581.5 50.5,-627.5 520.5,-627.5 520.5,-581.5 50.5,-581.5\" stroke=\"#000000\"/>\n<text fill=\"#000000\" font-family=\"Times,serif\" font-size=\"14.00\" text-anchor=\"middle\" x=\"190.5\" y=\"-600.8\">conv3(conv2d_6): TimeDistributed(Conv2D)</text>\n<polyline fill=\"none\" points=\"330.5,-581.5 330.5,-627.5 \" stroke=\"#000000\"/>\n<text fill=\"#000000\" font-family=\"Times,serif\" font-size=\"14.00\" text-anchor=\"middle\" x=\"359.5\" y=\"-612.3\">input:</text>\n<polyline fill=\"none\" points=\"330.5,-604.5 388.5,-604.5 \" stroke=\"#000000\"/>\n<text fill=\"#000000\" font-family=\"Times,serif\" font-size=\"14.00\" text-anchor=\"middle\" x=\"359.5\" y=\"-589.3\">output:</text>\n<polyline fill=\"none\" points=\"388.5,-581.5 388.5,-627.5 \" stroke=\"#000000\"/>\n<text fill=\"#000000\" font-family=\"Times,serif\" font-size=\"14.00\" text-anchor=\"middle\" x=\"454.5\" y=\"-612.3\">(None, 8, 7, 7, 128)</text>\n<polyline fill=\"none\" points=\"388.5,-604.5 520.5,-604.5 \" stroke=\"#000000\"/>\n<text fill=\"#000000\" font-family=\"Times,serif\" font-size=\"14.00\" text-anchor=\"middle\" x=\"454.5\" y=\"-589.3\">(None, 8, 7, 7, 256)</text>\n</g>\n<!-- 140198743100720&#45;&gt;140198861924448 -->\n<g class=\"edge\" id=\"edge7\">\n<title>140198743100720-&gt;140198861924448</title>\n<path d=\"M285.5,-664.3799C285.5,-656.1745 285.5,-646.7679 285.5,-637.8786\" fill=\"none\" stroke=\"#000000\"/>\n<polygon fill=\"#000000\" points=\"289.0001,-637.784 285.5,-627.784 282.0001,-637.784 289.0001,-637.784\" stroke=\"#000000\"/>\n</g>\n<!-- 140198457746656 -->\n<g class=\"node\" id=\"node9\">\n<title>140198457746656</title>\n<polygon fill=\"none\" points=\"7.5,-498.5 7.5,-544.5 563.5,-544.5 563.5,-498.5 7.5,-498.5\" stroke=\"#000000\"/>\n<text fill=\"#000000\" font-family=\"Times,serif\" font-size=\"14.00\" text-anchor=\"middle\" x=\"190.5\" y=\"-517.8\">pool3(max_pooling2d_6): TimeDistributed(MaxPooling2D)</text>\n<polyline fill=\"none\" points=\"373.5,-498.5 373.5,-544.5 \" stroke=\"#000000\"/>\n<text fill=\"#000000\" font-family=\"Times,serif\" font-size=\"14.00\" text-anchor=\"middle\" x=\"402.5\" y=\"-529.3\">input:</text>\n<polyline fill=\"none\" points=\"373.5,-521.5 431.5,-521.5 \" stroke=\"#000000\"/>\n<text fill=\"#000000\" font-family=\"Times,serif\" font-size=\"14.00\" text-anchor=\"middle\" x=\"402.5\" y=\"-506.3\">output:</text>\n<polyline fill=\"none\" points=\"431.5,-498.5 431.5,-544.5 \" stroke=\"#000000\"/>\n<text fill=\"#000000\" font-family=\"Times,serif\" font-size=\"14.00\" text-anchor=\"middle\" x=\"497.5\" y=\"-529.3\">(None, 8, 7, 7, 256)</text>\n<polyline fill=\"none\" points=\"431.5,-521.5 563.5,-521.5 \" stroke=\"#000000\"/>\n<text fill=\"#000000\" font-family=\"Times,serif\" font-size=\"14.00\" text-anchor=\"middle\" x=\"497.5\" y=\"-506.3\">(None, 8, 3, 3, 256)</text>\n</g>\n<!-- 140198861924448&#45;&gt;140198457746656 -->\n<g class=\"edge\" id=\"edge8\">\n<title>140198861924448-&gt;140198457746656</title>\n<path d=\"M285.5,-581.3799C285.5,-573.1745 285.5,-563.7679 285.5,-554.8786\" fill=\"none\" stroke=\"#000000\"/>\n<polygon fill=\"#000000\" points=\"289.0001,-554.784 285.5,-544.784 282.0001,-554.784 289.0001,-554.784\" stroke=\"#000000\"/>\n</g>\n<!-- 140198457746432 -->\n<g class=\"node\" id=\"node10\">\n<title>140198457746432</title>\n<polygon fill=\"none\" points=\"23.5,-415.5 23.5,-461.5 547.5,-461.5 547.5,-415.5 23.5,-415.5\" stroke=\"#000000\"/>\n<text fill=\"#000000\" font-family=\"Times,serif\" font-size=\"14.00\" text-anchor=\"middle\" x=\"190.5\" y=\"-434.8\">conv_dropout3(dropout_6): TimeDistributed(Dropout)</text>\n<polyline fill=\"none\" points=\"357.5,-415.5 357.5,-461.5 \" stroke=\"#000000\"/>\n<text fill=\"#000000\" font-family=\"Times,serif\" font-size=\"14.00\" text-anchor=\"middle\" x=\"386.5\" y=\"-446.3\">input:</text>\n<polyline fill=\"none\" points=\"357.5,-438.5 415.5,-438.5 \" stroke=\"#000000\"/>\n<text fill=\"#000000\" font-family=\"Times,serif\" font-size=\"14.00\" text-anchor=\"middle\" x=\"386.5\" y=\"-423.3\">output:</text>\n<polyline fill=\"none\" points=\"415.5,-415.5 415.5,-461.5 \" stroke=\"#000000\"/>\n<text fill=\"#000000\" font-family=\"Times,serif\" font-size=\"14.00\" text-anchor=\"middle\" x=\"481.5\" y=\"-446.3\">(None, 8, 3, 3, 256)</text>\n<polyline fill=\"none\" points=\"415.5,-438.5 547.5,-438.5 \" stroke=\"#000000\"/>\n<text fill=\"#000000\" font-family=\"Times,serif\" font-size=\"14.00\" text-anchor=\"middle\" x=\"481.5\" y=\"-423.3\">(None, 8, 3, 3, 256)</text>\n</g>\n<!-- 140198457746656&#45;&gt;140198457746432 -->\n<g class=\"edge\" id=\"edge9\">\n<title>140198457746656-&gt;140198457746432</title>\n<path d=\"M285.5,-498.3799C285.5,-490.1745 285.5,-480.7679 285.5,-471.8786\" fill=\"none\" stroke=\"#000000\"/>\n<polygon fill=\"#000000\" points=\"289.0001,-471.784 285.5,-461.784 282.0001,-471.784 289.0001,-471.784\" stroke=\"#000000\"/>\n</g>\n<!-- 140198458091112 -->\n<g class=\"node\" id=\"node11\">\n<title>140198458091112</title>\n<polygon fill=\"none\" points=\"60.5,-332.5 60.5,-378.5 510.5,-378.5 510.5,-332.5 60.5,-332.5\" stroke=\"#000000\"/>\n<text fill=\"#000000\" font-family=\"Times,serif\" font-size=\"14.00\" text-anchor=\"middle\" x=\"190.5\" y=\"-351.8\">flatten(flatten_2): TimeDistributed(Flatten)</text>\n<polyline fill=\"none\" points=\"320.5,-332.5 320.5,-378.5 \" stroke=\"#000000\"/>\n<text fill=\"#000000\" font-family=\"Times,serif\" font-size=\"14.00\" text-anchor=\"middle\" x=\"349.5\" y=\"-363.3\">input:</text>\n<polyline fill=\"none\" points=\"320.5,-355.5 378.5,-355.5 \" stroke=\"#000000\"/>\n<text fill=\"#000000\" font-family=\"Times,serif\" font-size=\"14.00\" text-anchor=\"middle\" x=\"349.5\" y=\"-340.3\">output:</text>\n<polyline fill=\"none\" points=\"378.5,-332.5 378.5,-378.5 \" stroke=\"#000000\"/>\n<text fill=\"#000000\" font-family=\"Times,serif\" font-size=\"14.00\" text-anchor=\"middle\" x=\"444.5\" y=\"-363.3\">(None, 8, 3, 3, 256)</text>\n<polyline fill=\"none\" points=\"378.5,-355.5 510.5,-355.5 \" stroke=\"#000000\"/>\n<text fill=\"#000000\" font-family=\"Times,serif\" font-size=\"14.00\" text-anchor=\"middle\" x=\"444.5\" y=\"-340.3\">(None, 8, 2304)</text>\n</g>\n<!-- 140198457746432&#45;&gt;140198458091112 -->\n<g class=\"edge\" id=\"edge10\">\n<title>140198457746432-&gt;140198458091112</title>\n<path d=\"M285.5,-415.3799C285.5,-407.1745 285.5,-397.7679 285.5,-388.8786\" fill=\"none\" stroke=\"#000000\"/>\n<polygon fill=\"#000000\" points=\"289.0001,-388.784 285.5,-378.784 282.0001,-388.784 289.0001,-388.784\" stroke=\"#000000\"/>\n</g>\n<!-- 140198458092680 -->\n<g class=\"node\" id=\"node12\">\n<title>140198458092680</title>\n<polygon fill=\"none\" points=\"130,-249.5 130,-295.5 441,-295.5 441,-249.5 130,-249.5\" stroke=\"#000000\"/>\n<text fill=\"#000000\" font-family=\"Times,serif\" font-size=\"14.00\" text-anchor=\"middle\" x=\"201.5\" y=\"-268.8\">lstm1: CuDNNLSTM</text>\n<polyline fill=\"none\" points=\"273,-249.5 273,-295.5 \" stroke=\"#000000\"/>\n<text fill=\"#000000\" font-family=\"Times,serif\" font-size=\"14.00\" text-anchor=\"middle\" x=\"302\" y=\"-280.3\">input:</text>\n<polyline fill=\"none\" points=\"273,-272.5 331,-272.5 \" stroke=\"#000000\"/>\n<text fill=\"#000000\" font-family=\"Times,serif\" font-size=\"14.00\" text-anchor=\"middle\" x=\"302\" y=\"-257.3\">output:</text>\n<polyline fill=\"none\" points=\"331,-249.5 331,-295.5 \" stroke=\"#000000\"/>\n<text fill=\"#000000\" font-family=\"Times,serif\" font-size=\"14.00\" text-anchor=\"middle\" x=\"386\" y=\"-280.3\">(None, 8, 2304)</text>\n<polyline fill=\"none\" points=\"331,-272.5 441,-272.5 \" stroke=\"#000000\"/>\n<text fill=\"#000000\" font-family=\"Times,serif\" font-size=\"14.00\" text-anchor=\"middle\" x=\"386\" y=\"-257.3\">(None, 8, 128)</text>\n</g>\n<!-- 140198458091112&#45;&gt;140198458092680 -->\n<g class=\"edge\" id=\"edge11\">\n<title>140198458091112-&gt;140198458092680</title>\n<path d=\"M285.5,-332.3799C285.5,-324.1745 285.5,-314.7679 285.5,-305.8786\" fill=\"none\" stroke=\"#000000\"/>\n<polygon fill=\"#000000\" points=\"289.0001,-305.784 285.5,-295.784 282.0001,-305.784 289.0001,-305.784\" stroke=\"#000000\"/>\n</g>\n<!-- 140198458092848 -->\n<g class=\"node\" id=\"node13\">\n<title>140198458092848</title>\n<polygon fill=\"none\" points=\"134,-166.5 134,-212.5 437,-212.5 437,-166.5 134,-166.5\" stroke=\"#000000\"/>\n<text fill=\"#000000\" font-family=\"Times,serif\" font-size=\"14.00\" text-anchor=\"middle\" x=\"205.5\" y=\"-185.8\">lstm2: CuDNNLSTM</text>\n<polyline fill=\"none\" points=\"277,-166.5 277,-212.5 \" stroke=\"#000000\"/>\n<text fill=\"#000000\" font-family=\"Times,serif\" font-size=\"14.00\" text-anchor=\"middle\" x=\"306\" y=\"-197.3\">input:</text>\n<polyline fill=\"none\" points=\"277,-189.5 335,-189.5 \" stroke=\"#000000\"/>\n<text fill=\"#000000\" font-family=\"Times,serif\" font-size=\"14.00\" text-anchor=\"middle\" x=\"306\" y=\"-174.3\">output:</text>\n<polyline fill=\"none\" points=\"335,-166.5 335,-212.5 \" stroke=\"#000000\"/>\n<text fill=\"#000000\" font-family=\"Times,serif\" font-size=\"14.00\" text-anchor=\"middle\" x=\"386\" y=\"-197.3\">(None, 8, 128)</text>\n<polyline fill=\"none\" points=\"335,-189.5 437,-189.5 \" stroke=\"#000000\"/>\n<text fill=\"#000000\" font-family=\"Times,serif\" font-size=\"14.00\" text-anchor=\"middle\" x=\"386\" y=\"-174.3\">(None, 128)</text>\n</g>\n<!-- 140198458092680&#45;&gt;140198458092848 -->\n<g class=\"edge\" id=\"edge12\">\n<title>140198458092680-&gt;140198458092848</title>\n<path d=\"M285.5,-249.3799C285.5,-241.1745 285.5,-231.7679 285.5,-222.8786\" fill=\"none\" stroke=\"#000000\"/>\n<polygon fill=\"#000000\" points=\"289.0001,-222.784 285.5,-212.784 282.0001,-222.784 289.0001,-222.784\" stroke=\"#000000\"/>\n</g>\n<!-- 140198458971024 -->\n<g class=\"node\" id=\"node14\">\n<title>140198458971024</title>\n<polygon fill=\"none\" points=\"138,-83.5 138,-129.5 433,-129.5 433,-83.5 138,-83.5\" stroke=\"#000000\"/>\n<text fill=\"#000000\" font-family=\"Times,serif\" font-size=\"14.00\" text-anchor=\"middle\" x=\"213\" y=\"-102.8\">lstm_dropout: Dropout</text>\n<polyline fill=\"none\" points=\"288,-83.5 288,-129.5 \" stroke=\"#000000\"/>\n<text fill=\"#000000\" font-family=\"Times,serif\" font-size=\"14.00\" text-anchor=\"middle\" x=\"317\" y=\"-114.3\">input:</text>\n<polyline fill=\"none\" points=\"288,-106.5 346,-106.5 \" stroke=\"#000000\"/>\n<text fill=\"#000000\" font-family=\"Times,serif\" font-size=\"14.00\" text-anchor=\"middle\" x=\"317\" y=\"-91.3\">output:</text>\n<polyline fill=\"none\" points=\"346,-83.5 346,-129.5 \" stroke=\"#000000\"/>\n<text fill=\"#000000\" font-family=\"Times,serif\" font-size=\"14.00\" text-anchor=\"middle\" x=\"389.5\" y=\"-114.3\">(None, 128)</text>\n<polyline fill=\"none\" points=\"346,-106.5 433,-106.5 \" stroke=\"#000000\"/>\n<text fill=\"#000000\" font-family=\"Times,serif\" font-size=\"14.00\" text-anchor=\"middle\" x=\"389.5\" y=\"-91.3\">(None, 128)</text>\n</g>\n<!-- 140198458092848&#45;&gt;140198458971024 -->\n<g class=\"edge\" id=\"edge13\">\n<title>140198458092848-&gt;140198458971024</title>\n<path d=\"M285.5,-166.3799C285.5,-158.1745 285.5,-148.7679 285.5,-139.8786\" fill=\"none\" stroke=\"#000000\"/>\n<polygon fill=\"#000000\" points=\"289.0001,-139.784 285.5,-129.784 282.0001,-139.784 289.0001,-139.784\" stroke=\"#000000\"/>\n</g>\n<!-- 140198185997704 -->\n<g class=\"node\" id=\"node15\">\n<title>140198185997704</title>\n<polygon fill=\"none\" points=\"122,-.5 122,-46.5 449,-46.5 449,-.5 122,-.5\" stroke=\"#000000\"/>\n<text fill=\"#000000\" font-family=\"Times,serif\" font-size=\"14.00\" text-anchor=\"middle\" x=\"213\" y=\"-19.8\">fc3_10ways_softmax: Dense</text>\n<polyline fill=\"none\" points=\"304,-.5 304,-46.5 \" stroke=\"#000000\"/>\n<text fill=\"#000000\" font-family=\"Times,serif\" font-size=\"14.00\" text-anchor=\"middle\" x=\"333\" y=\"-31.3\">input:</text>\n<polyline fill=\"none\" points=\"304,-23.5 362,-23.5 \" stroke=\"#000000\"/>\n<text fill=\"#000000\" font-family=\"Times,serif\" font-size=\"14.00\" text-anchor=\"middle\" x=\"333\" y=\"-8.3\">output:</text>\n<polyline fill=\"none\" points=\"362,-.5 362,-46.5 \" stroke=\"#000000\"/>\n<text fill=\"#000000\" font-family=\"Times,serif\" font-size=\"14.00\" text-anchor=\"middle\" x=\"405.5\" y=\"-31.3\">(None, 128)</text>\n<polyline fill=\"none\" points=\"362,-23.5 449,-23.5 \" stroke=\"#000000\"/>\n<text fill=\"#000000\" font-family=\"Times,serif\" font-size=\"14.00\" text-anchor=\"middle\" x=\"405.5\" y=\"-8.3\">(None, 1)</text>\n</g>\n<!-- 140198458971024&#45;&gt;140198185997704 -->\n<g class=\"edge\" id=\"edge14\">\n<title>140198458971024-&gt;140198185997704</title>\n<path d=\"M285.5,-83.3799C285.5,-75.1745 285.5,-65.7679 285.5,-56.8786\" fill=\"none\" stroke=\"#000000\"/>\n<polygon fill=\"#000000\" points=\"289.0001,-56.784 285.5,-46.784 282.0001,-56.784 289.0001,-56.784\" stroke=\"#000000\"/>\n</g>\n</g>\n</svg>"
          },
          "metadata": {
            "tags": []
          },
          "execution_count": 14
        }
      ]
    },
    {
      "cell_type": "markdown",
      "metadata": {
        "id": "Q86Znb-5mvEG",
        "colab_type": "text"
      },
      "source": [
        "## 3. Train defined model\n",
        "- Note that the training history including loss and accuracy will be save in 'history' variable\n",
        "- In case your system runs out of memory (OOM), try to decrease batch size"
      ]
    },
    {
      "cell_type": "code",
      "metadata": {
        "id": "GMvik3vsmvEH",
        "colab_type": "code",
        "colab": {
          "base_uri": "https://localhost:8080/",
          "height": 1071
        },
        "outputId": "274a6f8f-d897-4e0e-f46b-3c410e224ede"
      },
      "source": [
        "# declare learning rate, loss function, and model metric\n",
        "loss = 'mean_absolute_error'\n",
        "lr = 0.01\n",
        "model.compile(loss=loss, optimizer=SGD(lr=lr))\n",
        "\n",
        "# train the model\n",
        "batch_size = 128\n",
        "epochs = 30\n",
        "\n",
        "starting_time = time.time()\n",
        "history = model.fit(x_train, y_train,\n",
        "                    validation_data=(x_test, y_test),\n",
        "                    batch_size=batch_size,\n",
        "                    epochs=epochs)\n",
        "print('> training time is %.4f minutes' % ((time.time() - starting_time)/60))"
      ],
      "execution_count": 15,
      "outputs": [
        {
          "output_type": "stream",
          "text": [
            "Train on 60000 samples, validate on 10000 samples\n",
            "Epoch 1/30\n",
            "60000/60000 [==============================] - 75s 1ms/step - loss: 6.6069 - val_loss: 4.1333\n",
            "Epoch 2/30\n",
            "60000/60000 [==============================] - 74s 1ms/step - loss: 3.7737 - val_loss: 2.8315\n",
            "Epoch 3/30\n",
            "60000/60000 [==============================] - 74s 1ms/step - loss: 3.0092 - val_loss: 2.1286\n",
            "Epoch 4/30\n",
            "60000/60000 [==============================] - 74s 1ms/step - loss: 2.4818 - val_loss: 2.0425\n",
            "Epoch 5/30\n",
            "60000/60000 [==============================] - 74s 1ms/step - loss: 2.0976 - val_loss: 1.4493\n",
            "Epoch 6/30\n",
            "60000/60000 [==============================] - 74s 1ms/step - loss: 1.8367 - val_loss: 1.4019\n",
            "Epoch 7/30\n",
            "60000/60000 [==============================] - 74s 1ms/step - loss: 1.6954 - val_loss: 1.1267\n",
            "Epoch 8/30\n",
            "60000/60000 [==============================] - 74s 1ms/step - loss: 1.5882 - val_loss: 1.0498\n",
            "Epoch 9/30\n",
            "60000/60000 [==============================] - 74s 1ms/step - loss: 1.4712 - val_loss: 1.0282\n",
            "Epoch 10/30\n",
            "60000/60000 [==============================] - 74s 1ms/step - loss: 1.4197 - val_loss: 0.9094\n",
            "Epoch 11/30\n",
            "60000/60000 [==============================] - 74s 1ms/step - loss: 1.3604 - val_loss: 0.8619\n",
            "Epoch 12/30\n",
            "60000/60000 [==============================] - 74s 1ms/step - loss: 1.3084 - val_loss: 1.0512\n",
            "Epoch 13/30\n",
            "60000/60000 [==============================] - 74s 1ms/step - loss: 1.2729 - val_loss: 0.7962\n",
            "Epoch 14/30\n",
            "60000/60000 [==============================] - 75s 1ms/step - loss: 1.2339 - val_loss: 0.7557\n",
            "Epoch 15/30\n",
            "60000/60000 [==============================] - 75s 1ms/step - loss: 1.2023 - val_loss: 0.8176\n",
            "Epoch 16/30\n",
            "60000/60000 [==============================] - 74s 1ms/step - loss: 1.1678 - val_loss: 0.7869\n",
            "Epoch 17/30\n",
            "60000/60000 [==============================] - 75s 1ms/step - loss: 1.1556 - val_loss: 0.6850\n",
            "Epoch 18/30\n",
            "60000/60000 [==============================] - 74s 1ms/step - loss: 1.1193 - val_loss: 0.8324\n",
            "Epoch 19/30\n",
            "60000/60000 [==============================] - 74s 1ms/step - loss: 1.1183 - val_loss: 0.7071\n",
            "Epoch 20/30\n",
            "60000/60000 [==============================] - 74s 1ms/step - loss: 1.0861 - val_loss: 0.6497\n",
            "Epoch 21/30\n",
            "60000/60000 [==============================] - 74s 1ms/step - loss: 1.0676 - val_loss: 0.6562\n",
            "Epoch 22/30\n",
            "60000/60000 [==============================] - 74s 1ms/step - loss: 1.0562 - val_loss: 0.7261\n",
            "Epoch 23/30\n",
            "60000/60000 [==============================] - 74s 1ms/step - loss: 1.0322 - val_loss: 0.7892\n",
            "Epoch 24/30\n",
            "60000/60000 [==============================] - 74s 1ms/step - loss: 1.0173 - val_loss: 0.8945\n",
            "Epoch 25/30\n",
            "60000/60000 [==============================] - 74s 1ms/step - loss: 0.9998 - val_loss: 0.6453\n",
            "Epoch 26/30\n",
            "60000/60000 [==============================] - 74s 1ms/step - loss: 0.9921 - val_loss: 0.5712\n",
            "Epoch 27/30\n",
            "60000/60000 [==============================] - 74s 1ms/step - loss: 0.9792 - val_loss: 0.6920\n",
            "Epoch 28/30\n",
            "60000/60000 [==============================] - 74s 1ms/step - loss: 0.9644 - val_loss: 0.7297\n",
            "Epoch 29/30\n",
            "60000/60000 [==============================] - 74s 1ms/step - loss: 0.9487 - val_loss: 0.6953\n",
            "Epoch 30/30\n",
            "60000/60000 [==============================] - 74s 1ms/step - loss: 0.9407 - val_loss: 0.5346\n",
            "> training time is 37.1472 minutes\n"
          ],
          "name": "stdout"
        }
      ]
    },
    {
      "cell_type": "code",
      "metadata": {
        "id": "EupM60ogm9T0",
        "colab_type": "code",
        "colab": {
          "base_uri": "https://localhost:8080/",
          "height": 289
        },
        "outputId": "29496ace-6ddc-4c0f-d032-594b51e5207c"
      },
      "source": [
        "!nvidia-smi"
      ],
      "execution_count": 16,
      "outputs": [
        {
          "output_type": "stream",
          "text": [
            "Mon Jun  3 12:31:20 2019       \n",
            "+-----------------------------------------------------------------------------+\n",
            "| NVIDIA-SMI 418.67       Driver Version: 410.79       CUDA Version: 10.0     |\n",
            "|-------------------------------+----------------------+----------------------+\n",
            "| GPU  Name        Persistence-M| Bus-Id        Disp.A | Volatile Uncorr. ECC |\n",
            "| Fan  Temp  Perf  Pwr:Usage/Cap|         Memory-Usage | GPU-Util  Compute M. |\n",
            "|===============================+======================+======================|\n",
            "|   0  Tesla K80           Off  | 00000000:00:04.0 Off |                    0 |\n",
            "| N/A   48C    P0    81W / 149W |   3860MiB / 11441MiB |      0%      Default |\n",
            "+-------------------------------+----------------------+----------------------+\n",
            "                                                                               \n",
            "+-----------------------------------------------------------------------------+\n",
            "| Processes:                                                       GPU Memory |\n",
            "|  GPU       PID   Type   Process name                             Usage      |\n",
            "|=============================================================================|\n",
            "+-----------------------------------------------------------------------------+\n"
          ],
          "name": "stdout"
        }
      ]
    },
    {
      "cell_type": "markdown",
      "metadata": {
        "id": "OgJG2DRGmvEK",
        "colab_type": "text"
      },
      "source": [
        "### Training time\n",
        "- Training time with Tesla T4 is about 37.1472 minutes for 30 epochs\n",
        "- Training time with Core i7 is around 808 minutes (~13.5 hours) for 30 epochs"
      ]
    },
    {
      "cell_type": "markdown",
      "metadata": {
        "id": "o0lFm3avmvEL",
        "colab_type": "text"
      },
      "source": [
        "## 4. Evaluate trained model"
      ]
    },
    {
      "cell_type": "code",
      "metadata": {
        "id": "YbC9-XyZmvEM",
        "colab_type": "code",
        "colab": {
          "base_uri": "https://localhost:8080/",
          "height": 51
        },
        "outputId": "5ce92c61-2e51-4d43-a33f-c6de7f20358c"
      },
      "source": [
        "score = model.evaluate(x_test, y_test)\n",
        "print('Mean absolute error of testing set:', score)"
      ],
      "execution_count": 17,
      "outputs": [
        {
          "output_type": "stream",
          "text": [
            "10000/10000 [==============================] - 5s 511us/step\n",
            "Mean absolute error of testing set: 0.534618725681305\n"
          ],
          "name": "stdout"
        }
      ]
    },
    {
      "cell_type": "code",
      "metadata": {
        "id": "12vXRMvzmvEP",
        "colab_type": "code",
        "colab": {
          "base_uri": "https://localhost:8080/",
          "height": 144
        },
        "outputId": "c9972f70-ab0f-44ad-fea9-875f8fc58910"
      },
      "source": [
        "# select a test image randomly\n",
        "random_test_index = np.random.choice(x_test.shape[0], size=1)[0]\n",
        "\n",
        "plt.figure(figsize=(10, 5))\n",
        "for indx in range(maxToAdd):\n",
        "    plt.subplot(1, maxToAdd, indx + 1)\n",
        "    test_img = x_test[random_test_index, indx, :, :, 0]\n",
        "    plt.axis('off')\n",
        "    plt.imshow(test_img, cmap='gray')\n",
        "\n",
        "# estimate summation of testing images\n",
        "est_sum = model.predict(np.expand_dims(x_test[random_test_index], axis=0))[0][0]\n",
        "\n",
        "print('> actual summation = %d' % y_test[random_test_index])\n",
        "print('> estimated summation = %.3f' % est_sum)\n",
        "plt.show()"
      ],
      "execution_count": 18,
      "outputs": [
        {
          "output_type": "stream",
          "text": [
            "> actual summation = 21\n",
            "> estimated summation = 21.394\n"
          ],
          "name": "stdout"
        },
        {
          "output_type": "display_data",
          "data": {
            "image/png": "[encoded data removed]",
            "text/plain": [
              "<Figure size 720x360 with 8 Axes>"
            ]
          },
          "metadata": {
            "tags": []
          }
        }
      ]
    }
  ]
}